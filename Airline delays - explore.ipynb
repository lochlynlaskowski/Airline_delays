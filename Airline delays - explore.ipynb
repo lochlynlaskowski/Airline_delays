{
 "cells": [
  {
   "cell_type": "code",
   "execution_count": 1,
   "id": "e2137753",
   "metadata": {},
   "outputs": [],
   "source": [
    "# ignore warnings\n",
    "import warnings\n",
    "warnings.filterwarnings(\"ignore\")\n",
    "import pandas as pd\n",
    "import matplotlib.pyplot as plt\n",
    "import seaborn as sns\n",
    "import numpy as np\n",
    "import wrangle\n",
    "from sklearn.model_selection import train_test_split\n",
    "from scipy import stats\n",
    "\n",
    "plt.rcParams['figure.figsize'] = [12,8]\n",
    "alpha = .05\n",
    "\n",
    "from sklearn.tree import DecisionTreeClassifier, plot_tree\n",
    "from sklearn.metrics import classification_report\n",
    "from sklearn.metrics import confusion_matrix\n",
    "from sklearn.neighbors import KNeighborsClassifier\n",
    "from sklearn.linear_model import LogisticRegression\n",
    "from sklearn.ensemble import RandomForestClassifier\n",
    "from sklearn.cluster import KMeans\n",
    "import sklearn.preprocessing"
   ]
  },
  {
   "cell_type": "code",
   "execution_count": 2,
   "id": "099639f7",
   "metadata": {},
   "outputs": [
    {
     "data": {
      "text/html": [
       "<div>\n",
       "<style scoped>\n",
       "    .dataframe tbody tr th:only-of-type {\n",
       "        vertical-align: middle;\n",
       "    }\n",
       "\n",
       "    .dataframe tbody tr th {\n",
       "        vertical-align: top;\n",
       "    }\n",
       "\n",
       "    .dataframe thead th {\n",
       "        text-align: right;\n",
       "    }\n",
       "</style>\n",
       "<table border=\"1\" class=\"dataframe\">\n",
       "  <thead>\n",
       "    <tr style=\"text-align: right;\">\n",
       "      <th></th>\n",
       "      <th>Unnamed: 0</th>\n",
       "      <th>Year</th>\n",
       "      <th>Month</th>\n",
       "      <th>DayofMonth</th>\n",
       "      <th>DayOfWeek</th>\n",
       "      <th>DepTime</th>\n",
       "      <th>CRSDepTime</th>\n",
       "      <th>ArrTime</th>\n",
       "      <th>CRSArrTime</th>\n",
       "      <th>UniqueCarrier</th>\n",
       "      <th>...</th>\n",
       "      <th>TaxiIn</th>\n",
       "      <th>TaxiOut</th>\n",
       "      <th>Cancelled</th>\n",
       "      <th>CancellationCode</th>\n",
       "      <th>Diverted</th>\n",
       "      <th>CarrierDelay</th>\n",
       "      <th>WeatherDelay</th>\n",
       "      <th>NASDelay</th>\n",
       "      <th>SecurityDelay</th>\n",
       "      <th>LateAircraftDelay</th>\n",
       "    </tr>\n",
       "  </thead>\n",
       "  <tbody>\n",
       "    <tr>\n",
       "      <th>0</th>\n",
       "      <td>0</td>\n",
       "      <td>2008</td>\n",
       "      <td>1</td>\n",
       "      <td>3</td>\n",
       "      <td>4</td>\n",
       "      <td>2003.0</td>\n",
       "      <td>1955</td>\n",
       "      <td>2211.0</td>\n",
       "      <td>2225</td>\n",
       "      <td>WN</td>\n",
       "      <td>...</td>\n",
       "      <td>4.0</td>\n",
       "      <td>8.0</td>\n",
       "      <td>0</td>\n",
       "      <td>N</td>\n",
       "      <td>0</td>\n",
       "      <td>NaN</td>\n",
       "      <td>NaN</td>\n",
       "      <td>NaN</td>\n",
       "      <td>NaN</td>\n",
       "      <td>NaN</td>\n",
       "    </tr>\n",
       "    <tr>\n",
       "      <th>1</th>\n",
       "      <td>1</td>\n",
       "      <td>2008</td>\n",
       "      <td>1</td>\n",
       "      <td>3</td>\n",
       "      <td>4</td>\n",
       "      <td>754.0</td>\n",
       "      <td>735</td>\n",
       "      <td>1002.0</td>\n",
       "      <td>1000</td>\n",
       "      <td>WN</td>\n",
       "      <td>...</td>\n",
       "      <td>5.0</td>\n",
       "      <td>10.0</td>\n",
       "      <td>0</td>\n",
       "      <td>N</td>\n",
       "      <td>0</td>\n",
       "      <td>NaN</td>\n",
       "      <td>NaN</td>\n",
       "      <td>NaN</td>\n",
       "      <td>NaN</td>\n",
       "      <td>NaN</td>\n",
       "    </tr>\n",
       "    <tr>\n",
       "      <th>2</th>\n",
       "      <td>2</td>\n",
       "      <td>2008</td>\n",
       "      <td>1</td>\n",
       "      <td>3</td>\n",
       "      <td>4</td>\n",
       "      <td>628.0</td>\n",
       "      <td>620</td>\n",
       "      <td>804.0</td>\n",
       "      <td>750</td>\n",
       "      <td>WN</td>\n",
       "      <td>...</td>\n",
       "      <td>3.0</td>\n",
       "      <td>17.0</td>\n",
       "      <td>0</td>\n",
       "      <td>N</td>\n",
       "      <td>0</td>\n",
       "      <td>NaN</td>\n",
       "      <td>NaN</td>\n",
       "      <td>NaN</td>\n",
       "      <td>NaN</td>\n",
       "      <td>NaN</td>\n",
       "    </tr>\n",
       "    <tr>\n",
       "      <th>3</th>\n",
       "      <td>4</td>\n",
       "      <td>2008</td>\n",
       "      <td>1</td>\n",
       "      <td>3</td>\n",
       "      <td>4</td>\n",
       "      <td>1829.0</td>\n",
       "      <td>1755</td>\n",
       "      <td>1959.0</td>\n",
       "      <td>1925</td>\n",
       "      <td>WN</td>\n",
       "      <td>...</td>\n",
       "      <td>3.0</td>\n",
       "      <td>10.0</td>\n",
       "      <td>0</td>\n",
       "      <td>N</td>\n",
       "      <td>0</td>\n",
       "      <td>2.0</td>\n",
       "      <td>0.0</td>\n",
       "      <td>0.0</td>\n",
       "      <td>0.0</td>\n",
       "      <td>32.0</td>\n",
       "    </tr>\n",
       "    <tr>\n",
       "      <th>4</th>\n",
       "      <td>5</td>\n",
       "      <td>2008</td>\n",
       "      <td>1</td>\n",
       "      <td>3</td>\n",
       "      <td>4</td>\n",
       "      <td>1940.0</td>\n",
       "      <td>1915</td>\n",
       "      <td>2121.0</td>\n",
       "      <td>2110</td>\n",
       "      <td>WN</td>\n",
       "      <td>...</td>\n",
       "      <td>4.0</td>\n",
       "      <td>10.0</td>\n",
       "      <td>0</td>\n",
       "      <td>N</td>\n",
       "      <td>0</td>\n",
       "      <td>NaN</td>\n",
       "      <td>NaN</td>\n",
       "      <td>NaN</td>\n",
       "      <td>NaN</td>\n",
       "      <td>NaN</td>\n",
       "    </tr>\n",
       "  </tbody>\n",
       "</table>\n",
       "<p>5 rows × 30 columns</p>\n",
       "</div>"
      ],
      "text/plain": [
       "   Unnamed: 0  Year  Month  DayofMonth  DayOfWeek  DepTime  CRSDepTime  \\\n",
       "0           0  2008      1           3          4   2003.0        1955   \n",
       "1           1  2008      1           3          4    754.0         735   \n",
       "2           2  2008      1           3          4    628.0         620   \n",
       "3           4  2008      1           3          4   1829.0        1755   \n",
       "4           5  2008      1           3          4   1940.0        1915   \n",
       "\n",
       "   ArrTime  CRSArrTime UniqueCarrier  ...  TaxiIn TaxiOut  Cancelled  \\\n",
       "0   2211.0        2225            WN  ...     4.0     8.0          0   \n",
       "1   1002.0        1000            WN  ...     5.0    10.0          0   \n",
       "2    804.0         750            WN  ...     3.0    17.0          0   \n",
       "3   1959.0        1925            WN  ...     3.0    10.0          0   \n",
       "4   2121.0        2110            WN  ...     4.0    10.0          0   \n",
       "\n",
       "   CancellationCode  Diverted  CarrierDelay  WeatherDelay NASDelay  \\\n",
       "0                 N         0           NaN           NaN      NaN   \n",
       "1                 N         0           NaN           NaN      NaN   \n",
       "2                 N         0           NaN           NaN      NaN   \n",
       "3                 N         0           2.0           0.0      0.0   \n",
       "4                 N         0           NaN           NaN      NaN   \n",
       "\n",
       "  SecurityDelay  LateAircraftDelay  \n",
       "0           NaN                NaN  \n",
       "1           NaN                NaN  \n",
       "2           NaN                NaN  \n",
       "3           0.0               32.0  \n",
       "4           NaN                NaN  \n",
       "\n",
       "[5 rows x 30 columns]"
      ]
     },
     "execution_count": 2,
     "metadata": {},
     "output_type": "execute_result"
    }
   ],
   "source": [
    "df = wrangle.get_flight_data()\n",
    "df.head()"
   ]
  },
  {
   "cell_type": "code",
   "execution_count": 3,
   "id": "8e8ee97b",
   "metadata": {},
   "outputs": [
    {
     "name": "stdout",
     "output_type": "stream",
     "text": [
      "<class 'pandas.core.frame.DataFrame'>\n",
      "RangeIndex: 1936758 entries, 0 to 1936757\n",
      "Data columns (total 30 columns):\n",
      " #   Column             Dtype  \n",
      "---  ------             -----  \n",
      " 0   Unnamed: 0         int64  \n",
      " 1   Year               int64  \n",
      " 2   Month              int64  \n",
      " 3   DayofMonth         int64  \n",
      " 4   DayOfWeek          int64  \n",
      " 5   DepTime            float64\n",
      " 6   CRSDepTime         int64  \n",
      " 7   ArrTime            float64\n",
      " 8   CRSArrTime         int64  \n",
      " 9   UniqueCarrier      object \n",
      " 10  FlightNum          int64  \n",
      " 11  TailNum            object \n",
      " 12  ActualElapsedTime  float64\n",
      " 13  CRSElapsedTime     float64\n",
      " 14  AirTime            float64\n",
      " 15  ArrDelay           float64\n",
      " 16  DepDelay           float64\n",
      " 17  Origin             object \n",
      " 18  Dest               object \n",
      " 19  Distance           int64  \n",
      " 20  TaxiIn             float64\n",
      " 21  TaxiOut            float64\n",
      " 22  Cancelled          int64  \n",
      " 23  CancellationCode   object \n",
      " 24  Diverted           int64  \n",
      " 25  CarrierDelay       float64\n",
      " 26  WeatherDelay       float64\n",
      " 27  NASDelay           float64\n",
      " 28  SecurityDelay      float64\n",
      " 29  LateAircraftDelay  float64\n",
      "dtypes: float64(14), int64(11), object(5)\n",
      "memory usage: 443.3+ MB\n"
     ]
    }
   ],
   "source": [
    "df.info()"
   ]
  },
  {
   "cell_type": "code",
   "execution_count": 4,
   "id": "5d7bf422",
   "metadata": {},
   "outputs": [
    {
     "data": {
      "text/html": [
       "<div>\n",
       "<style scoped>\n",
       "    .dataframe tbody tr th:only-of-type {\n",
       "        vertical-align: middle;\n",
       "    }\n",
       "\n",
       "    .dataframe tbody tr th {\n",
       "        vertical-align: top;\n",
       "    }\n",
       "\n",
       "    .dataframe thead th {\n",
       "        text-align: right;\n",
       "    }\n",
       "</style>\n",
       "<table border=\"1\" class=\"dataframe\">\n",
       "  <thead>\n",
       "    <tr style=\"text-align: right;\">\n",
       "      <th></th>\n",
       "      <th>Year</th>\n",
       "      <th>Month</th>\n",
       "      <th>DayofMonth</th>\n",
       "      <th>DayOfWeek</th>\n",
       "      <th>CRSDepTime</th>\n",
       "      <th>CRSArrTime</th>\n",
       "      <th>UniqueCarrier</th>\n",
       "      <th>TailNum</th>\n",
       "      <th>CRSElapsedTime</th>\n",
       "      <th>AirTime</th>\n",
       "      <th>...</th>\n",
       "      <th>NASDelay</th>\n",
       "      <th>SecurityDelay</th>\n",
       "      <th>LateAircraftDelay</th>\n",
       "      <th>Delayed_Status</th>\n",
       "      <th>Delayed</th>\n",
       "      <th>UniqueCarrier_DL</th>\n",
       "      <th>UniqueCarrier_OO</th>\n",
       "      <th>UniqueCarrier_UA</th>\n",
       "      <th>UniqueCarrier_WN</th>\n",
       "      <th>departure_hour</th>\n",
       "    </tr>\n",
       "  </thead>\n",
       "  <tbody>\n",
       "    <tr>\n",
       "      <th>51640</th>\n",
       "      <td>2008</td>\n",
       "      <td>1</td>\n",
       "      <td>1</td>\n",
       "      <td>2</td>\n",
       "      <td>14:29:00</td>\n",
       "      <td>1922</td>\n",
       "      <td>OO</td>\n",
       "      <td>N772SK</td>\n",
       "      <td>173</td>\n",
       "      <td>153</td>\n",
       "      <td>...</td>\n",
       "      <td>0</td>\n",
       "      <td>0</td>\n",
       "      <td>0</td>\n",
       "      <td>0</td>\n",
       "      <td>0</td>\n",
       "      <td>0</td>\n",
       "      <td>1</td>\n",
       "      <td>0</td>\n",
       "      <td>0</td>\n",
       "      <td>14</td>\n",
       "    </tr>\n",
       "    <tr>\n",
       "      <th>53353</th>\n",
       "      <td>2008</td>\n",
       "      <td>1</td>\n",
       "      <td>4</td>\n",
       "      <td>5</td>\n",
       "      <td>20:20:00</td>\n",
       "      <td>2138</td>\n",
       "      <td>OO</td>\n",
       "      <td>N767SK</td>\n",
       "      <td>198</td>\n",
       "      <td>195</td>\n",
       "      <td>...</td>\n",
       "      <td>0</td>\n",
       "      <td>0</td>\n",
       "      <td>98</td>\n",
       "      <td>2</td>\n",
       "      <td>1</td>\n",
       "      <td>0</td>\n",
       "      <td>1</td>\n",
       "      <td>0</td>\n",
       "      <td>0</td>\n",
       "      <td>20</td>\n",
       "    </tr>\n",
       "    <tr>\n",
       "      <th>53354</th>\n",
       "      <td>2008</td>\n",
       "      <td>1</td>\n",
       "      <td>4</td>\n",
       "      <td>5</td>\n",
       "      <td>14:29:00</td>\n",
       "      <td>1922</td>\n",
       "      <td>OO</td>\n",
       "      <td>N767SK</td>\n",
       "      <td>173</td>\n",
       "      <td>146</td>\n",
       "      <td>...</td>\n",
       "      <td>0</td>\n",
       "      <td>0</td>\n",
       "      <td>0</td>\n",
       "      <td>1</td>\n",
       "      <td>1</td>\n",
       "      <td>0</td>\n",
       "      <td>1</td>\n",
       "      <td>0</td>\n",
       "      <td>0</td>\n",
       "      <td>14</td>\n",
       "    </tr>\n",
       "    <tr>\n",
       "      <th>54134</th>\n",
       "      <td>2008</td>\n",
       "      <td>1</td>\n",
       "      <td>5</td>\n",
       "      <td>6</td>\n",
       "      <td>14:29:00</td>\n",
       "      <td>1922</td>\n",
       "      <td>OO</td>\n",
       "      <td>N768SK</td>\n",
       "      <td>173</td>\n",
       "      <td>143</td>\n",
       "      <td>...</td>\n",
       "      <td>0</td>\n",
       "      <td>0</td>\n",
       "      <td>20</td>\n",
       "      <td>1</td>\n",
       "      <td>1</td>\n",
       "      <td>0</td>\n",
       "      <td>1</td>\n",
       "      <td>0</td>\n",
       "      <td>0</td>\n",
       "      <td>14</td>\n",
       "    </tr>\n",
       "    <tr>\n",
       "      <th>54135</th>\n",
       "      <td>2008</td>\n",
       "      <td>1</td>\n",
       "      <td>5</td>\n",
       "      <td>6</td>\n",
       "      <td>12:37:00</td>\n",
       "      <td>1355</td>\n",
       "      <td>OO</td>\n",
       "      <td>N768SK</td>\n",
       "      <td>198</td>\n",
       "      <td>177</td>\n",
       "      <td>...</td>\n",
       "      <td>0</td>\n",
       "      <td>0</td>\n",
       "      <td>0</td>\n",
       "      <td>1</td>\n",
       "      <td>1</td>\n",
       "      <td>0</td>\n",
       "      <td>1</td>\n",
       "      <td>0</td>\n",
       "      <td>0</td>\n",
       "      <td>12</td>\n",
       "    </tr>\n",
       "  </tbody>\n",
       "</table>\n",
       "<p>5 rows × 27 columns</p>\n",
       "</div>"
      ],
      "text/plain": [
       "       Year  Month  DayofMonth  DayOfWeek CRSDepTime  CRSArrTime  \\\n",
       "51640  2008      1           1          2   14:29:00        1922   \n",
       "53353  2008      1           4          5   20:20:00        2138   \n",
       "53354  2008      1           4          5   14:29:00        1922   \n",
       "54134  2008      1           5          6   14:29:00        1922   \n",
       "54135  2008      1           5          6   12:37:00        1355   \n",
       "\n",
       "      UniqueCarrier TailNum  CRSElapsedTime  AirTime  ...  NASDelay  \\\n",
       "51640            OO  N772SK             173      153  ...         0   \n",
       "53353            OO  N767SK             198      195  ...         0   \n",
       "53354            OO  N767SK             173      146  ...         0   \n",
       "54134            OO  N768SK             173      143  ...         0   \n",
       "54135            OO  N768SK             198      177  ...         0   \n",
       "\n",
       "       SecurityDelay LateAircraftDelay Delayed_Status  Delayed  \\\n",
       "51640              0                 0              0        0   \n",
       "53353              0                98              2        1   \n",
       "53354              0                 0              1        1   \n",
       "54134              0                20              1        1   \n",
       "54135              0                 0              1        1   \n",
       "\n",
       "       UniqueCarrier_DL  UniqueCarrier_OO  UniqueCarrier_UA  UniqueCarrier_WN  \\\n",
       "51640                 0                 1                 0                 0   \n",
       "53353                 0                 1                 0                 0   \n",
       "53354                 0                 1                 0                 0   \n",
       "54134                 0                 1                 0                 0   \n",
       "54135                 0                 1                 0                 0   \n",
       "\n",
       "       departure_hour  \n",
       "51640              14  \n",
       "53353              20  \n",
       "53354              14  \n",
       "54134              14  \n",
       "54135              12  \n",
       "\n",
       "[5 rows x 27 columns]"
      ]
     },
     "execution_count": 4,
     "metadata": {},
     "output_type": "execute_result"
    }
   ],
   "source": [
    "df = wrangle.prepare_flight_data(df)\n",
    "df.head()"
   ]
  },
  {
   "cell_type": "code",
   "execution_count": 5,
   "id": "1f01f5d9",
   "metadata": {},
   "outputs": [
    {
     "data": {
      "text/plain": [
       "AA    6162\n",
       "DL    3541\n",
       "UA    2403\n",
       "WN     510\n",
       "OO     230\n",
       "Name: UniqueCarrier, dtype: int64"
      ]
     },
     "execution_count": 5,
     "metadata": {},
     "output_type": "execute_result"
    }
   ],
   "source": [
    "df.UniqueCarrier.value_counts()"
   ]
  },
  {
   "cell_type": "code",
   "execution_count": 6,
   "id": "446157c9",
   "metadata": {},
   "outputs": [
    {
     "data": {
      "text/html": [
       "<div>\n",
       "<style scoped>\n",
       "    .dataframe tbody tr th:only-of-type {\n",
       "        vertical-align: middle;\n",
       "    }\n",
       "\n",
       "    .dataframe tbody tr th {\n",
       "        vertical-align: top;\n",
       "    }\n",
       "\n",
       "    .dataframe thead th {\n",
       "        text-align: right;\n",
       "    }\n",
       "</style>\n",
       "<table border=\"1\" class=\"dataframe\">\n",
       "  <thead>\n",
       "    <tr style=\"text-align: right;\">\n",
       "      <th></th>\n",
       "      <th>count</th>\n",
       "      <th>mean</th>\n",
       "      <th>std</th>\n",
       "      <th>min</th>\n",
       "      <th>25%</th>\n",
       "      <th>50%</th>\n",
       "      <th>75%</th>\n",
       "      <th>max</th>\n",
       "    </tr>\n",
       "  </thead>\n",
       "  <tbody>\n",
       "    <tr>\n",
       "      <th>Year</th>\n",
       "      <td>12846.0</td>\n",
       "      <td>2008.000000</td>\n",
       "      <td>0.000000</td>\n",
       "      <td>2008.0</td>\n",
       "      <td>2008.0</td>\n",
       "      <td>2008.0</td>\n",
       "      <td>2008.0</td>\n",
       "      <td>2008.0</td>\n",
       "    </tr>\n",
       "    <tr>\n",
       "      <th>Month</th>\n",
       "      <td>12846.0</td>\n",
       "      <td>6.093103</td>\n",
       "      <td>3.353317</td>\n",
       "      <td>1.0</td>\n",
       "      <td>3.0</td>\n",
       "      <td>6.0</td>\n",
       "      <td>8.0</td>\n",
       "      <td>12.0</td>\n",
       "    </tr>\n",
       "    <tr>\n",
       "      <th>DayofMonth</th>\n",
       "      <td>12846.0</td>\n",
       "      <td>15.761871</td>\n",
       "      <td>8.715228</td>\n",
       "      <td>1.0</td>\n",
       "      <td>8.0</td>\n",
       "      <td>16.0</td>\n",
       "      <td>23.0</td>\n",
       "      <td>31.0</td>\n",
       "    </tr>\n",
       "    <tr>\n",
       "      <th>DayOfWeek</th>\n",
       "      <td>12846.0</td>\n",
       "      <td>3.984275</td>\n",
       "      <td>1.997640</td>\n",
       "      <td>1.0</td>\n",
       "      <td>2.0</td>\n",
       "      <td>4.0</td>\n",
       "      <td>6.0</td>\n",
       "      <td>7.0</td>\n",
       "    </tr>\n",
       "    <tr>\n",
       "      <th>CRSArrTime</th>\n",
       "      <td>12846.0</td>\n",
       "      <td>1659.090067</td>\n",
       "      <td>465.738592</td>\n",
       "      <td>5.0</td>\n",
       "      <td>1344.0</td>\n",
       "      <td>1730.0</td>\n",
       "      <td>2022.0</td>\n",
       "      <td>2359.0</td>\n",
       "    </tr>\n",
       "    <tr>\n",
       "      <th>CRSElapsedTime</th>\n",
       "      <td>12846.0</td>\n",
       "      <td>164.664721</td>\n",
       "      <td>49.138792</td>\n",
       "      <td>105.0</td>\n",
       "      <td>127.0</td>\n",
       "      <td>145.0</td>\n",
       "      <td>190.0</td>\n",
       "      <td>317.0</td>\n",
       "    </tr>\n",
       "    <tr>\n",
       "      <th>AirTime</th>\n",
       "      <td>12846.0</td>\n",
       "      <td>138.423322</td>\n",
       "      <td>49.251560</td>\n",
       "      <td>63.0</td>\n",
       "      <td>102.0</td>\n",
       "      <td>120.0</td>\n",
       "      <td>163.0</td>\n",
       "      <td>316.0</td>\n",
       "    </tr>\n",
       "    <tr>\n",
       "      <th>ArrDelay</th>\n",
       "      <td>12846.0</td>\n",
       "      <td>56.954071</td>\n",
       "      <td>52.106563</td>\n",
       "      <td>15.0</td>\n",
       "      <td>24.0</td>\n",
       "      <td>39.0</td>\n",
       "      <td>70.0</td>\n",
       "      <td>1357.0</td>\n",
       "    </tr>\n",
       "    <tr>\n",
       "      <th>DepDelay</th>\n",
       "      <td>12846.0</td>\n",
       "      <td>53.583606</td>\n",
       "      <td>52.463383</td>\n",
       "      <td>6.0</td>\n",
       "      <td>21.0</td>\n",
       "      <td>37.0</td>\n",
       "      <td>68.0</td>\n",
       "      <td>1355.0</td>\n",
       "    </tr>\n",
       "    <tr>\n",
       "      <th>Distance</th>\n",
       "      <td>12846.0</td>\n",
       "      <td>1014.780087</td>\n",
       "      <td>400.230057</td>\n",
       "      <td>641.0</td>\n",
       "      <td>732.0</td>\n",
       "      <td>862.0</td>\n",
       "      <td>1235.0</td>\n",
       "      <td>1946.0</td>\n",
       "    </tr>\n",
       "    <tr>\n",
       "      <th>CarrierDelay</th>\n",
       "      <td>12846.0</td>\n",
       "      <td>21.081582</td>\n",
       "      <td>38.641358</td>\n",
       "      <td>0.0</td>\n",
       "      <td>0.0</td>\n",
       "      <td>9.0</td>\n",
       "      <td>24.0</td>\n",
       "      <td>859.0</td>\n",
       "    </tr>\n",
       "    <tr>\n",
       "      <th>WeatherDelay</th>\n",
       "      <td>12846.0</td>\n",
       "      <td>2.207847</td>\n",
       "      <td>13.420142</td>\n",
       "      <td>0.0</td>\n",
       "      <td>0.0</td>\n",
       "      <td>0.0</td>\n",
       "      <td>0.0</td>\n",
       "      <td>410.0</td>\n",
       "    </tr>\n",
       "    <tr>\n",
       "      <th>NASDelay</th>\n",
       "      <td>12846.0</td>\n",
       "      <td>9.874669</td>\n",
       "      <td>23.880799</td>\n",
       "      <td>0.0</td>\n",
       "      <td>0.0</td>\n",
       "      <td>2.0</td>\n",
       "      <td>12.0</td>\n",
       "      <td>1357.0</td>\n",
       "    </tr>\n",
       "    <tr>\n",
       "      <th>SecurityDelay</th>\n",
       "      <td>12846.0</td>\n",
       "      <td>0.045072</td>\n",
       "      <td>1.398350</td>\n",
       "      <td>0.0</td>\n",
       "      <td>0.0</td>\n",
       "      <td>0.0</td>\n",
       "      <td>0.0</td>\n",
       "      <td>74.0</td>\n",
       "    </tr>\n",
       "    <tr>\n",
       "      <th>LateAircraftDelay</th>\n",
       "      <td>12846.0</td>\n",
       "      <td>23.744901</td>\n",
       "      <td>38.619072</td>\n",
       "      <td>0.0</td>\n",
       "      <td>0.0</td>\n",
       "      <td>9.0</td>\n",
       "      <td>31.0</td>\n",
       "      <td>507.0</td>\n",
       "    </tr>\n",
       "    <tr>\n",
       "      <th>Delayed_Status</th>\n",
       "      <td>12846.0</td>\n",
       "      <td>1.411101</td>\n",
       "      <td>0.794687</td>\n",
       "      <td>0.0</td>\n",
       "      <td>1.0</td>\n",
       "      <td>1.0</td>\n",
       "      <td>2.0</td>\n",
       "      <td>4.0</td>\n",
       "    </tr>\n",
       "    <tr>\n",
       "      <th>Delayed</th>\n",
       "      <td>12846.0</td>\n",
       "      <td>0.967694</td>\n",
       "      <td>0.176818</td>\n",
       "      <td>0.0</td>\n",
       "      <td>1.0</td>\n",
       "      <td>1.0</td>\n",
       "      <td>1.0</td>\n",
       "      <td>1.0</td>\n",
       "    </tr>\n",
       "    <tr>\n",
       "      <th>UniqueCarrier_DL</th>\n",
       "      <td>12846.0</td>\n",
       "      <td>0.275650</td>\n",
       "      <td>0.446859</td>\n",
       "      <td>0.0</td>\n",
       "      <td>0.0</td>\n",
       "      <td>0.0</td>\n",
       "      <td>1.0</td>\n",
       "      <td>1.0</td>\n",
       "    </tr>\n",
       "    <tr>\n",
       "      <th>UniqueCarrier_OO</th>\n",
       "      <td>12846.0</td>\n",
       "      <td>0.017904</td>\n",
       "      <td>0.132609</td>\n",
       "      <td>0.0</td>\n",
       "      <td>0.0</td>\n",
       "      <td>0.0</td>\n",
       "      <td>0.0</td>\n",
       "      <td>1.0</td>\n",
       "    </tr>\n",
       "    <tr>\n",
       "      <th>UniqueCarrier_UA</th>\n",
       "      <td>12846.0</td>\n",
       "      <td>0.187062</td>\n",
       "      <td>0.389977</td>\n",
       "      <td>0.0</td>\n",
       "      <td>0.0</td>\n",
       "      <td>0.0</td>\n",
       "      <td>0.0</td>\n",
       "      <td>1.0</td>\n",
       "    </tr>\n",
       "    <tr>\n",
       "      <th>UniqueCarrier_WN</th>\n",
       "      <td>12846.0</td>\n",
       "      <td>0.039701</td>\n",
       "      <td>0.195264</td>\n",
       "      <td>0.0</td>\n",
       "      <td>0.0</td>\n",
       "      <td>0.0</td>\n",
       "      <td>0.0</td>\n",
       "      <td>1.0</td>\n",
       "    </tr>\n",
       "    <tr>\n",
       "      <th>departure_hour</th>\n",
       "      <td>12846.0</td>\n",
       "      <td>14.315273</td>\n",
       "      <td>4.321861</td>\n",
       "      <td>1.0</td>\n",
       "      <td>11.0</td>\n",
       "      <td>14.0</td>\n",
       "      <td>18.0</td>\n",
       "      <td>23.0</td>\n",
       "    </tr>\n",
       "  </tbody>\n",
       "</table>\n",
       "</div>"
      ],
      "text/plain": [
       "                     count         mean         std     min     25%     50%  \\\n",
       "Year               12846.0  2008.000000    0.000000  2008.0  2008.0  2008.0   \n",
       "Month              12846.0     6.093103    3.353317     1.0     3.0     6.0   \n",
       "DayofMonth         12846.0    15.761871    8.715228     1.0     8.0    16.0   \n",
       "DayOfWeek          12846.0     3.984275    1.997640     1.0     2.0     4.0   \n",
       "CRSArrTime         12846.0  1659.090067  465.738592     5.0  1344.0  1730.0   \n",
       "CRSElapsedTime     12846.0   164.664721   49.138792   105.0   127.0   145.0   \n",
       "AirTime            12846.0   138.423322   49.251560    63.0   102.0   120.0   \n",
       "ArrDelay           12846.0    56.954071   52.106563    15.0    24.0    39.0   \n",
       "DepDelay           12846.0    53.583606   52.463383     6.0    21.0    37.0   \n",
       "Distance           12846.0  1014.780087  400.230057   641.0   732.0   862.0   \n",
       "CarrierDelay       12846.0    21.081582   38.641358     0.0     0.0     9.0   \n",
       "WeatherDelay       12846.0     2.207847   13.420142     0.0     0.0     0.0   \n",
       "NASDelay           12846.0     9.874669   23.880799     0.0     0.0     2.0   \n",
       "SecurityDelay      12846.0     0.045072    1.398350     0.0     0.0     0.0   \n",
       "LateAircraftDelay  12846.0    23.744901   38.619072     0.0     0.0     9.0   \n",
       "Delayed_Status     12846.0     1.411101    0.794687     0.0     1.0     1.0   \n",
       "Delayed            12846.0     0.967694    0.176818     0.0     1.0     1.0   \n",
       "UniqueCarrier_DL   12846.0     0.275650    0.446859     0.0     0.0     0.0   \n",
       "UniqueCarrier_OO   12846.0     0.017904    0.132609     0.0     0.0     0.0   \n",
       "UniqueCarrier_UA   12846.0     0.187062    0.389977     0.0     0.0     0.0   \n",
       "UniqueCarrier_WN   12846.0     0.039701    0.195264     0.0     0.0     0.0   \n",
       "departure_hour     12846.0    14.315273    4.321861     1.0    11.0    14.0   \n",
       "\n",
       "                      75%     max  \n",
       "Year               2008.0  2008.0  \n",
       "Month                 8.0    12.0  \n",
       "DayofMonth           23.0    31.0  \n",
       "DayOfWeek             6.0     7.0  \n",
       "CRSArrTime         2022.0  2359.0  \n",
       "CRSElapsedTime      190.0   317.0  \n",
       "AirTime             163.0   316.0  \n",
       "ArrDelay             70.0  1357.0  \n",
       "DepDelay             68.0  1355.0  \n",
       "Distance           1235.0  1946.0  \n",
       "CarrierDelay         24.0   859.0  \n",
       "WeatherDelay          0.0   410.0  \n",
       "NASDelay             12.0  1357.0  \n",
       "SecurityDelay         0.0    74.0  \n",
       "LateAircraftDelay    31.0   507.0  \n",
       "Delayed_Status        2.0     4.0  \n",
       "Delayed               1.0     1.0  \n",
       "UniqueCarrier_DL      1.0     1.0  \n",
       "UniqueCarrier_OO      0.0     1.0  \n",
       "UniqueCarrier_UA      0.0     1.0  \n",
       "UniqueCarrier_WN      0.0     1.0  \n",
       "departure_hour       18.0    23.0  "
      ]
     },
     "execution_count": 6,
     "metadata": {},
     "output_type": "execute_result"
    }
   ],
   "source": [
    "df.describe().T"
   ]
  },
  {
   "cell_type": "markdown",
   "id": "0b6dc606",
   "metadata": {},
   "source": [
    "### Train, validate, test split"
   ]
  },
  {
   "cell_type": "code",
   "execution_count": 7,
   "id": "4c2a9459",
   "metadata": {},
   "outputs": [],
   "source": [
    "def split_flight_data(df):\n",
    "    ''' This function splits the cleaned dataframe into train, validate, and test \n",
    "    datasets.'''\n",
    "\n",
    "    train_validate, test = train_test_split(df, test_size=.2, \n",
    "                                        random_state=123)\n",
    "    train, validate = train_test_split(train_validate, test_size=.3, \n",
    "                                   random_state=123) \n",
    "    return train, validate, test"
   ]
  },
  {
   "cell_type": "code",
   "execution_count": 8,
   "id": "a0f3460c",
   "metadata": {},
   "outputs": [],
   "source": [
    "train, validate, test = split_flight_data(df)"
   ]
  },
  {
   "cell_type": "code",
   "execution_count": 9,
   "id": "9a305660",
   "metadata": {},
   "outputs": [
    {
     "data": {
      "text/plain": [
       "((7193, 27), (3083, 27), (2570, 27))"
      ]
     },
     "execution_count": 9,
     "metadata": {},
     "output_type": "execute_result"
    }
   ],
   "source": [
    "train.shape, validate.shape, test.shape"
   ]
  },
  {
   "cell_type": "markdown",
   "id": "24047c08",
   "metadata": {},
   "source": [
    "### Explore\n",
    "\n",
    "**Questions to ask**\n",
    "- Does the airline impact flight delays?\n",
    "- Does the airport impact flight delays?\n",
    "     - Departure and Arrival\n",
    "- Does the day of the week impact flight delays?\n",
    "- Does the month impact flight delays?\n",
    "- Are specific types of delays more likely to occur during a specified time?"
   ]
  },
  {
   "cell_type": "code",
   "execution_count": 10,
   "id": "b1ad9f93",
   "metadata": {},
   "outputs": [
    {
     "data": {
      "text/plain": [
       "1    4698\n",
       "2    1547\n",
       "3     464\n",
       "0     250\n",
       "4     234\n",
       "Name: Delayed_Status, dtype: int64"
      ]
     },
     "execution_count": 10,
     "metadata": {},
     "output_type": "execute_result"
    }
   ],
   "source": [
    "train.Delayed_Status.value_counts()"
   ]
  },
  {
   "cell_type": "code",
   "execution_count": 11,
   "id": "084a65bd",
   "metadata": {},
   "outputs": [
    {
     "data": {
      "text/plain": [
       "15      250\n",
       "19      192\n",
       "16      183\n",
       "18      179\n",
       "20      178\n",
       "       ... \n",
       "313       1\n",
       "318       1\n",
       "219       1\n",
       "1357      1\n",
       "236       1\n",
       "Name: ArrDelay, Length: 288, dtype: int64"
      ]
     },
     "execution_count": 11,
     "metadata": {},
     "output_type": "execute_result"
    }
   ],
   "source": [
    "train.ArrDelay.value_counts()"
   ]
  },
  {
   "cell_type": "code",
   "execution_count": 12,
   "id": "5adbcee2",
   "metadata": {},
   "outputs": [
    {
     "name": "stdout",
     "output_type": "stream",
     "text": [
      "2008    12846\n",
      "Name: Year, dtype: int64\n",
      "6     1450\n",
      "3     1326\n",
      "7     1323\n",
      "12    1261\n",
      "5     1217\n",
      "8     1183\n",
      "1     1132\n",
      "4     1091\n",
      "2     1064\n",
      "10     627\n",
      "11     605\n",
      "9      567\n",
      "Name: Month, dtype: int64\n",
      "8     494\n",
      "22    485\n",
      "16    476\n",
      "17    465\n",
      "4     456\n",
      "21    443\n",
      "14    440\n",
      "9     440\n",
      "10    439\n",
      "27    438\n",
      "19    437\n",
      "23    435\n",
      "15    435\n",
      "20    428\n",
      "7     428\n",
      "6     427\n",
      "5     411\n",
      "29    410\n",
      "18    410\n",
      "13    405\n",
      "3     395\n",
      "2     394\n",
      "24    390\n",
      "26    383\n",
      "11    373\n",
      "28    369\n",
      "1     366\n",
      "30    362\n",
      "12    360\n",
      "25    359\n",
      "31    293\n",
      "Name: DayofMonth, dtype: int64\n",
      "5    2105\n",
      "4    1957\n",
      "1    1952\n",
      "7    1880\n",
      "2    1714\n",
      "3    1713\n",
      "6    1525\n",
      "Name: DayOfWeek, dtype: int64\n",
      "15:05:00    192\n",
      "16:00:00    187\n",
      "16:10:00    169\n",
      "12:10:00    158\n",
      "14:40:00    157\n",
      "           ... \n",
      "19:42:00      1\n",
      "07:03:00      1\n",
      "14:14:00      1\n",
      "12:29:00      1\n",
      "14:04:00      1\n",
      "Name: CRSDepTime, Length: 516, dtype: int64\n",
      "2215    228\n",
      "1730    177\n",
      "1845    149\n",
      "1720    140\n",
      "1940    130\n",
      "       ... \n",
      "1134      1\n",
      "1308      1\n",
      "2009      1\n",
      "1909      1\n",
      "1107      1\n",
      "Name: CRSArrTime, Length: 746, dtype: int64\n",
      "AA    6162\n",
      "DL    3541\n",
      "UA    2403\n",
      "WN     510\n",
      "OO     230\n",
      "Name: UniqueCarrier, dtype: int64\n",
      "N1402A    54\n",
      "N143DA    45\n",
      "N131DN    43\n",
      "N144DA    38\n",
      "N573AA    34\n",
      "          ..\n",
      "N713SW     1\n",
      "N221UA     1\n",
      "N682SW     1\n",
      "N700GS     1\n",
      "N922WN     1\n",
      "Name: TailNum, Length: 1683, dtype: int64\n",
      "120    826\n",
      "115    686\n",
      "125    609\n",
      "140    605\n",
      "135    599\n",
      "      ... \n",
      "279      2\n",
      "278      2\n",
      "218      1\n",
      "307      1\n",
      "171      1\n",
      "Name: CRSElapsedTime, Length: 171, dtype: int64\n",
      "112    205\n",
      "100    204\n",
      "101    198\n",
      "99     195\n",
      "102    188\n",
      "      ... \n",
      "316      1\n",
      "309      1\n",
      "305      1\n",
      "63       1\n",
      "304      1\n",
      "Name: AirTime, Length: 238, dtype: int64\n",
      "15     415\n",
      "16     349\n",
      "18     341\n",
      "19     335\n",
      "20     330\n",
      "      ... \n",
      "292      1\n",
      "345      1\n",
      "432      1\n",
      "497      1\n",
      "402      1\n",
      "Name: ArrDelay, Length: 322, dtype: int64\n",
      "24     229\n",
      "20     229\n",
      "25     228\n",
      "26     216\n",
      "14     213\n",
      "      ... \n",
      "345      1\n",
      "286      1\n",
      "291      1\n",
      "511      1\n",
      "421      1\n",
      "Name: DepDelay, Length: 330, dtype: int64\n",
      "DFW    4369\n",
      "ATL    2891\n",
      "DEN    2815\n",
      "LAX    2771\n",
      "Name: Origin, dtype: int64\n",
      "DFW    3794\n",
      "LAX    3709\n",
      "DEN    2971\n",
      "ATL    2372\n",
      "Name: Dest, dtype: int64\n",
      "732     2883\n",
      "1235    2732\n",
      "641     2548\n",
      "862     2303\n",
      "1946    1445\n",
      "1199     935\n",
      "Name: Distance, dtype: int64\n",
      "0      4416\n",
      "6       380\n",
      "8       323\n",
      "9       318\n",
      "7       311\n",
      "       ... \n",
      "326       1\n",
      "233       1\n",
      "161       1\n",
      "345       1\n",
      "139       1\n",
      "Name: CarrierDelay, Length: 275, dtype: int64\n",
      "0      11898\n",
      "10        44\n",
      "15        41\n",
      "6         39\n",
      "13        36\n",
      "       ...  \n",
      "212        1\n",
      "131        1\n",
      "146        1\n",
      "263        1\n",
      "73         1\n",
      "Name: WeatherDelay, Length: 134, dtype: int64\n",
      "0      5960\n",
      "3       405\n",
      "1       393\n",
      "5       383\n",
      "4       366\n",
      "       ... \n",
      "281       1\n",
      "114       1\n",
      "169       1\n",
      "156       1\n",
      "138       1\n",
      "Name: NASDelay, Length: 176, dtype: int64\n",
      "0     12827\n",
      "15        3\n",
      "61        2\n",
      "44        2\n",
      "5         1\n",
      "22        1\n",
      "41        1\n",
      "19        1\n",
      "14        1\n",
      "12        1\n",
      "24        1\n",
      "16        1\n",
      "45        1\n",
      "74        1\n",
      "43        1\n",
      "9         1\n",
      "Name: SecurityDelay, dtype: int64\n",
      "0      5141\n",
      "15      240\n",
      "16      197\n",
      "18      192\n",
      "14      180\n",
      "       ... \n",
      "304       1\n",
      "246       1\n",
      "326       1\n",
      "216       1\n",
      "191       1\n",
      "Name: LateAircraftDelay, Length: 261, dtype: int64\n",
      "1    8405\n",
      "2    2772\n",
      "3     838\n",
      "4     416\n",
      "0     415\n",
      "Name: Delayed_Status, dtype: int64\n",
      "1    12431\n",
      "0      415\n",
      "Name: Delayed, dtype: int64\n",
      "0    9305\n",
      "1    3541\n",
      "Name: UniqueCarrier_DL, dtype: int64\n",
      "0    12616\n",
      "1      230\n",
      "Name: UniqueCarrier_OO, dtype: int64\n",
      "0    10443\n",
      "1     2403\n",
      "Name: UniqueCarrier_UA, dtype: int64\n",
      "0    12336\n",
      "1      510\n",
      "Name: UniqueCarrier_WN, dtype: int64\n",
      "16    1130\n",
      "13    1042\n",
      "14     946\n",
      "17     945\n",
      "10     912\n",
      "15     900\n",
      "12     889\n",
      "21     870\n",
      "19     858\n",
      "18     843\n",
      "11     839\n",
      "20     683\n",
      "8      632\n",
      "9      436\n",
      "7      322\n",
      "6      239\n",
      "22     136\n",
      "5       74\n",
      "1       53\n",
      "3       39\n",
      "23      32\n",
      "4       24\n",
      "2        2\n",
      "Name: departure_hour, dtype: int64\n"
     ]
    }
   ],
   "source": [
    "for col in df.columns:\n",
    "    print(df[col].value_counts())"
   ]
  },
  {
   "cell_type": "code",
   "execution_count": 13,
   "id": "c7bd6902",
   "metadata": {},
   "outputs": [],
   "source": [
    "# # for col in train.columns:\n",
    "#     plt.figure(figsize=(8,4))\n",
    "#     plt.hist(df[col])\n",
    "#     plt.title(col)\n",
    "#     plt.show()"
   ]
  },
  {
   "cell_type": "code",
   "execution_count": 14,
   "id": "443fe421",
   "metadata": {},
   "outputs": [
    {
     "data": {
      "text/plain": [
       "<AxesSubplot:>"
      ]
     },
     "execution_count": 14,
     "metadata": {},
     "output_type": "execute_result"
    },
    {
     "data": {
      "image/png": "[encoded data removed]",
      "text/plain": [
       "<Figure size 864x576 with 1 Axes>"
      ]
     },
     "metadata": {
      "needs_background": "light"
     },
     "output_type": "display_data"
    }
   ],
   "source": [
    "train.Delayed.hist()"
   ]
  },
  {
   "cell_type": "code",
   "execution_count": 15,
   "id": "e0b872ba",
   "metadata": {
    "scrolled": true
   },
   "outputs": [
    {
     "data": {
      "image/png": "[encoded data removed]",
      "text/plain": [
       "<Figure size 864x576 with 1 Axes>"
      ]
     },
     "metadata": {
      "needs_background": "light"
     },
     "output_type": "display_data"
    }
   ],
   "source": [
    "sns.countplot(train.Delayed_Status)\n",
    "plt.title('Delayed Status')\n",
    "plt.show()"
   ]
  },
  {
   "cell_type": "markdown",
   "id": "ce5aaa04",
   "metadata": {},
   "source": [
    "The majority of delays are greater than 15 minutes but less than 60."
   ]
  },
  {
   "cell_type": "markdown",
   "id": "8057d4b8",
   "metadata": {},
   "source": [
    "### Airline"
   ]
  },
  {
   "cell_type": "code",
   "execution_count": 16,
   "id": "13d425dd",
   "metadata": {},
   "outputs": [
    {
     "data": {
      "text/plain": [
       "<AxesSubplot:xlabel='UniqueCarrier', ylabel='Delayed'>"
      ]
     },
     "execution_count": 16,
     "metadata": {},
     "output_type": "execute_result"
    },
    {
     "data": {
      "image/png": "[encoded data removed]",
      "text/plain": [
       "<Figure size 864x576 with 1 Axes>"
      ]
     },
     "metadata": {
      "needs_background": "light"
     },
     "output_type": "display_data"
    }
   ],
   "source": [
    "sns.barplot(data=train, x = 'UniqueCarrier', y = 'Delayed')"
   ]
  },
  {
   "cell_type": "code",
   "execution_count": 17,
   "id": "5b36b038",
   "metadata": {
    "scrolled": true
   },
   "outputs": [
    {
     "data": {
      "text/plain": [
       "<AxesSubplot:xlabel='UniqueCarrier', ylabel='Delayed_Status'>"
      ]
     },
     "execution_count": 17,
     "metadata": {},
     "output_type": "execute_result"
    },
    {
     "data": {
      "image/png": "[encoded data removed]",
      "text/plain": [
       "<Figure size 864x576 with 1 Axes>"
      ]
     },
     "metadata": {
      "needs_background": "light"
     },
     "output_type": "display_data"
    }
   ],
   "source": [
    "sns.barplot(data=train, x = 'UniqueCarrier', y = 'Delayed_Status')"
   ]
  },
  {
   "cell_type": "code",
   "execution_count": 18,
   "id": "d622da9d",
   "metadata": {
    "scrolled": true
   },
   "outputs": [
    {
     "data": {
      "text/plain": [
       "<AxesSubplot:xlabel='UniqueCarrier', ylabel='count'>"
      ]
     },
     "execution_count": 18,
     "metadata": {},
     "output_type": "execute_result"
    },
    {
     "data": {
      "image/png": "[encoded data removed]",
      "text/plain": [
       "<Figure size 864x576 with 1 Axes>"
      ]
     },
     "metadata": {
      "needs_background": "light"
     },
     "output_type": "display_data"
    }
   ],
   "source": [
    "sns.countplot(data=train, x='UniqueCarrier', hue='Delayed_Status')"
   ]
  },
  {
   "cell_type": "code",
   "execution_count": 19,
   "id": "b0bb323a",
   "metadata": {},
   "outputs": [
    {
     "data": {
      "text/plain": [
       "<AxesSubplot:xlabel='Delayed_Status', ylabel='count'>"
      ]
     },
     "execution_count": 19,
     "metadata": {},
     "output_type": "execute_result"
    },
    {
     "data": {
      "image/png": "[encoded data removed]",
      "text/plain": [
       "<Figure size 864x576 with 1 Axes>"
      ]
     },
     "metadata": {
      "needs_background": "light"
     },
     "output_type": "display_data"
    }
   ],
   "source": [
    "sns.countplot(data=train, x=train.Delayed_Status, hue=train.UniqueCarrier)"
   ]
  },
  {
   "cell_type": "code",
   "execution_count": 20,
   "id": "acf0e5ba",
   "metadata": {},
   "outputs": [
    {
     "data": {
      "text/plain": [
       "<AxesSubplot:xlabel='Delayed_Status', ylabel='ArrDelay'>"
      ]
     },
     "execution_count": 20,
     "metadata": {},
     "output_type": "execute_result"
    },
    {
     "data": {
      "image/png": "[encoded data removed]",
      "text/plain": [
       "<Figure size 864x576 with 1 Axes>"
      ]
     },
     "metadata": {
      "needs_background": "light"
     },
     "output_type": "display_data"
    }
   ],
   "source": [
    "sns.barplot(data=train, y=train.ArrDelay, x=train.Delayed_Status, hue=train.UniqueCarrier)"
   ]
  },
  {
   "cell_type": "markdown",
   "id": "4b82f532",
   "metadata": {},
   "source": [
    "Notes: Boxplot isn't very helpful. Countplot shows the variability the best between delayed status and airline, however each airline is not equally represented in the data and this could be misleading. \n",
    "The barplot with airline as the hue shows similarities in delayed status in group 0-2 but shows some variability between the airlines in groups 3-4 with AA, DL, and UA being most likely to have a delay greater than 5 hours."
   ]
  },
  {
   "cell_type": "code",
   "execution_count": 21,
   "id": "57bbb3c6",
   "metadata": {},
   "outputs": [],
   "source": [
    "AA = train[train.UniqueCarrier =='AA']\n",
    "DL = train[train.UniqueCarrier =='DL']\n",
    "UA = train[train.UniqueCarrier =='UA']\n",
    "OO = train[train.UniqueCarrier =='OO']\n",
    "WN = train[train.UniqueCarrier =='WN']"
   ]
  },
  {
   "cell_type": "code",
   "execution_count": 22,
   "id": "aad36779",
   "metadata": {},
   "outputs": [
    {
     "data": {
      "text/plain": [
       "Text(0.5, 1.0, 'Southwest Airlines Delayed Status')"
      ]
     },
     "execution_count": 22,
     "metadata": {},
     "output_type": "execute_result"
    },
    {
     "data": {
      "image/png": "[encoded data removed]",
      "text/plain": [
       "<Figure size 1296x360 with 5 Axes>"
      ]
     },
     "metadata": {
      "needs_background": "light"
     },
     "output_type": "display_data"
    }
   ],
   "source": [
    "plt.figure(figsize=(18,5))\n",
    "plt.subplot(151)\n",
    "sns.countplot(data=AA, x='Delayed_Status')\n",
    "plt.title('American Airlines Delayed Status')\n",
    "\n",
    "plt.subplot(152)\n",
    "sns.countplot(data=DL, x='Delayed_Status')\n",
    "plt.title('Delta Airlines Delayed Status')\n",
    "\n",
    "plt.subplot(153)\n",
    "sns.countplot(data=UA, x='Delayed_Status')\n",
    "plt.title('United Airlines Delayed Status')\n",
    "\n",
    "plt.subplot(154)\n",
    "sns.countplot(data=OO, x='Delayed_Status')\n",
    "plt.title('SkyWest Airlines Delayed Status')\n",
    "\n",
    "plt.subplot(155)\n",
    "sns.countplot(data=WN, x='Delayed_Status')\n",
    "plt.title('Southwest Airlines Delayed Status')"
   ]
  },
  {
   "cell_type": "markdown",
   "id": "2542d37d",
   "metadata": {},
   "source": [
    "**Next Steps: perform chi squared testing**\n",
    "\n",
    "- Null Hypothesis: Delayed status and Airline are independent.\n",
    "- Alternative Hypothesis: Delayed status and Airline are dependent.\n"
   ]
  },
  {
   "cell_type": "code",
   "execution_count": 23,
   "id": "568b3a71",
   "metadata": {},
   "outputs": [],
   "source": [
    "observed = pd.crosstab(train.Delayed_Status, train.UniqueCarrier)"
   ]
  },
  {
   "cell_type": "code",
   "execution_count": 24,
   "id": "d4d84567",
   "metadata": {},
   "outputs": [
    {
     "data": {
      "text/plain": [
       "1.7969244654332686e-08"
      ]
     },
     "execution_count": 24,
     "metadata": {},
     "output_type": "execute_result"
    }
   ],
   "source": [
    "chi2, p, degf, expected = stats.chi2_contingency(observed)\n",
    "p"
   ]
  },
  {
   "cell_type": "code",
   "execution_count": 25,
   "id": "df626cc0",
   "metadata": {},
   "outputs": [
    {
     "name": "stdout",
     "output_type": "stream",
     "text": [
      "Reject the null\n"
     ]
    }
   ],
   "source": [
    "if p < alpha:\n",
    "    print(\"Reject the null\")\n",
    "else:\n",
    "    print('Fail to reject the null')"
   ]
  },
  {
   "cell_type": "markdown",
   "id": "f74efcf4",
   "metadata": {},
   "source": [
    "### Airport"
   ]
  },
  {
   "cell_type": "code",
   "execution_count": 26,
   "id": "e260832b",
   "metadata": {
    "scrolled": true
   },
   "outputs": [
    {
     "data": {
      "text/plain": [
       "<AxesSubplot:xlabel='Delayed_Status', ylabel='ArrDelay'>"
      ]
     },
     "execution_count": 26,
     "metadata": {},
     "output_type": "execute_result"
    },
    {
     "data": {
      "image/png": "[encoded data removed]",
      "text/plain": [
       "<Figure size 864x576 with 1 Axes>"
      ]
     },
     "metadata": {
      "needs_background": "light"
     },
     "output_type": "display_data"
    }
   ],
   "source": [
    "sns.barplot(data=train, x=train.Delayed_Status, y=train.ArrDelay, hue=train.Origin)"
   ]
  },
  {
   "cell_type": "code",
   "execution_count": 27,
   "id": "03dcaf4e",
   "metadata": {},
   "outputs": [],
   "source": [
    "DFW = train[train.Origin =='DFW']\n",
    "LAX = train[train.Origin =='LAX']\n",
    "ATL = train[train.Origin =='ATL']\n",
    "DEN = train[train.Origin =='DEN']"
   ]
  },
  {
   "cell_type": "code",
   "execution_count": 28,
   "id": "ef61d11b",
   "metadata": {},
   "outputs": [
    {
     "data": {
      "text/plain": [
       "Text(0.5, 1.0, 'DEN Departure Delayed Status')"
      ]
     },
     "execution_count": 28,
     "metadata": {},
     "output_type": "execute_result"
    },
    {
     "data": {
      "image/png": "[encoded data removed]",
      "text/plain": [
       "<Figure size 1296x360 with 4 Axes>"
      ]
     },
     "metadata": {
      "needs_background": "light"
     },
     "output_type": "display_data"
    }
   ],
   "source": [
    "plt.figure(figsize=(18,5))\n",
    "plt.subplot(141)\n",
    "sns.countplot(data=DFW, x='Delayed_Status')\n",
    "plt.title('DFW Departure Delayed Status')\n",
    "\n",
    "plt.subplot(142)\n",
    "sns.countplot(data=LAX, x='Delayed_Status')\n",
    "plt.title('LAX Departure Delayed Status')\n",
    "\n",
    "plt.subplot(143)\n",
    "sns.countplot(data=ATL, x='Delayed_Status')\n",
    "plt.title('ATL Departure Delayed Status')\n",
    "\n",
    "plt.subplot(144)\n",
    "sns.countplot(data=DEN, x='Delayed_Status')\n",
    "plt.title('DEN Departure Delayed Status')\n"
   ]
  },
  {
   "cell_type": "markdown",
   "id": "8fcaca84",
   "metadata": {},
   "source": [
    "The greatest variability between a flight's takeoff location is in delayed status 4 with Denver being the most likely to have a delay status of greater than 5 hours and Atlanta with the "
   ]
  },
  {
   "cell_type": "markdown",
   "id": "7222ebc4",
   "metadata": {},
   "source": [
    "**Next Steps: perform chi squared testing**\n",
    "\n",
    "- Null Hypothesis: Delayed status and takeoff location are independent.\n",
    "- Alternative Hypothesis: Delayed status and takeoff location are dependent.\n"
   ]
  },
  {
   "cell_type": "code",
   "execution_count": 29,
   "id": "92c521d0",
   "metadata": {},
   "outputs": [],
   "source": [
    "observed = pd.crosstab(train.Delayed_Status, train.Origin)"
   ]
  },
  {
   "cell_type": "code",
   "execution_count": 30,
   "id": "37608457",
   "metadata": {},
   "outputs": [
    {
     "data": {
      "text/plain": [
       "0.10732864876528733"
      ]
     },
     "execution_count": 30,
     "metadata": {},
     "output_type": "execute_result"
    }
   ],
   "source": [
    "chi2, p, degf, expected = stats.chi2_contingency(observed)\n",
    "p"
   ]
  },
  {
   "cell_type": "code",
   "execution_count": 31,
   "id": "08bbc67e",
   "metadata": {},
   "outputs": [
    {
     "name": "stdout",
     "output_type": "stream",
     "text": [
      "Fail to reject the null\n"
     ]
    }
   ],
   "source": [
    "if p < alpha:\n",
    "    print(\"Reject the null\")\n",
    "else:\n",
    "    print('Fail to reject the null')"
   ]
  },
  {
   "cell_type": "markdown",
   "id": "594af9b2",
   "metadata": {},
   "source": [
    "### Arival Airport"
   ]
  },
  {
   "cell_type": "code",
   "execution_count": 32,
   "id": "f014c664",
   "metadata": {},
   "outputs": [],
   "source": [
    "DFW_d = train[train.Dest =='DFW']\n",
    "LAX_d = train[train.Dest =='LAX']\n",
    "ATL_d = train[train.Dest =='ATL']\n",
    "DEN_d = train[train.Dest =='DEN']"
   ]
  },
  {
   "cell_type": "code",
   "execution_count": 33,
   "id": "7926ee50",
   "metadata": {},
   "outputs": [
    {
     "data": {
      "image/png": "[encoded data removed]",
      "text/plain": [
       "<Figure size 1296x360 with 4 Axes>"
      ]
     },
     "metadata": {
      "needs_background": "light"
     },
     "output_type": "display_data"
    }
   ],
   "source": [
    "plt.figure(figsize=(18,5))\n",
    "plt.subplot(141)\n",
    "sns.countplot(data=DFW_d, x='Delayed_Status')\n",
    "plt.title('DFW Arrival Delayed Status')\n",
    "\n",
    "plt.subplot(142)\n",
    "sns.countplot(data=LAX_d, x='Delayed_Status')\n",
    "plt.title('LAX Arrival Delayed Status')\n",
    "\n",
    "plt.subplot(143)\n",
    "sns.countplot(data=ATL_d, x='Delayed_Status')\n",
    "plt.title('ATL Arrival Delayed Status')\n",
    "\n",
    "plt.subplot(144)\n",
    "sns.countplot(data=DEN_d, x='Delayed_Status')\n",
    "plt.title('DEN Arrival Delayed Status')\n",
    "plt.show()"
   ]
  },
  {
   "cell_type": "markdown",
   "id": "9508d8be",
   "metadata": {},
   "source": [
    "**Next Steps: perform chi squared testing**\n",
    "\n",
    "- Null Hypothesis: Delayed status and arrival location are independent.\n",
    "- Alternative Hypothesis: Delayed status and arrival location are dependent."
   ]
  },
  {
   "cell_type": "code",
   "execution_count": 34,
   "id": "a5a84a7f",
   "metadata": {},
   "outputs": [],
   "source": [
    "observed = pd.crosstab(train.Delayed_Status, train.Dest)"
   ]
  },
  {
   "cell_type": "code",
   "execution_count": 35,
   "id": "1c4f6c3c",
   "metadata": {},
   "outputs": [
    {
     "data": {
      "text/plain": [
       "0.10829858413351334"
      ]
     },
     "execution_count": 35,
     "metadata": {},
     "output_type": "execute_result"
    }
   ],
   "source": [
    "chi2, p, degf, expected = stats.chi2_contingency(observed)\n",
    "p"
   ]
  },
  {
   "cell_type": "code",
   "execution_count": 36,
   "id": "96cfa323",
   "metadata": {},
   "outputs": [
    {
     "name": "stdout",
     "output_type": "stream",
     "text": [
      "Fail to reject the null\n"
     ]
    }
   ],
   "source": [
    "if p < alpha:\n",
    "    print(\"Reject the null\")\n",
    "else:\n",
    "    print('Fail to reject the null')"
   ]
  },
  {
   "cell_type": "markdown",
   "id": "16e0d46a",
   "metadata": {},
   "source": [
    "### Day of the week"
   ]
  },
  {
   "cell_type": "code",
   "execution_count": 37,
   "id": "f9026b1a",
   "metadata": {},
   "outputs": [
    {
     "data": {
      "text/plain": [
       "<AxesSubplot:xlabel='DayOfWeek', ylabel='Delayed_Status'>"
      ]
     },
     "execution_count": 37,
     "metadata": {},
     "output_type": "execute_result"
    },
    {
     "data": {
      "image/png": "[encoded data removed]",
      "text/plain": [
       "<Figure size 864x576 with 1 Axes>"
      ]
     },
     "metadata": {
      "needs_background": "light"
     },
     "output_type": "display_data"
    }
   ],
   "source": [
    "sns.barplot(data=train, x=train.DayOfWeek, y=train.Delayed_Status)"
   ]
  },
  {
   "cell_type": "markdown",
   "id": "4c1b1514",
   "metadata": {},
   "source": [
    "Tuesday and Sunday show the highest mean delayed status, with Monday and Wednesday being the lowest. Thursday, Friday, and Saturday seem to be in line with each other."
   ]
  },
  {
   "cell_type": "code",
   "execution_count": 38,
   "id": "df75bdf5",
   "metadata": {},
   "outputs": [],
   "source": [
    "mon=train[train.DayOfWeek==1]\n",
    "tue=train[train.DayOfWeek==2]\n",
    "wed=train[train.DayOfWeek==3]\n",
    "thur=train[train.DayOfWeek==4]\n",
    "fri=train[train.DayOfWeek==5]\n",
    "sat=train[train.DayOfWeek==6]\n",
    "sun=train[train.DayOfWeek==7]"
   ]
  },
  {
   "cell_type": "code",
   "execution_count": 39,
   "id": "70d51507",
   "metadata": {},
   "outputs": [
    {
     "data": {
      "image/png": "[encoded data removed]",
      "text/plain": [
       "<Figure size 1296x360 with 7 Axes>"
      ]
     },
     "metadata": {
      "needs_background": "light"
     },
     "output_type": "display_data"
    }
   ],
   "source": [
    "# plot delayed status per day of the week\n",
    "plt.figure(figsize=(18,5))\n",
    "plt.subplot(241)\n",
    "sns.countplot(data=mon, x='Delayed_Status')\n",
    "plt.title('Monday Delayed Status')\n",
    "\n",
    "plt.subplot(242)\n",
    "sns.countplot(data=tue, x='Delayed_Status')\n",
    "plt.title('Tuesday Delayed Status')\n",
    "\n",
    "plt.subplot(243)\n",
    "sns.countplot(data=wed, x='Delayed_Status')\n",
    "plt.title('Wednesday Delayed Status')\n",
    "\n",
    "plt.subplot(244)\n",
    "sns.countplot(data=thur, x='Delayed_Status')\n",
    "plt.title('Thursday Delayed Status')\n",
    "\n",
    "plt.subplot(245)\n",
    "sns.countplot(data=fri, x='Delayed_Status')\n",
    "plt.title('Friday Delayed Status')\n",
    "\n",
    "plt.subplot(246)\n",
    "sns.countplot(data=sat, x='Delayed_Status')\n",
    "plt.title('Saturday Delayed Status')\n",
    "\n",
    "plt.subplot(247)\n",
    "sns.countplot(data=sun, x='Delayed_Status')\n",
    "plt.title('Sunday Delayed Status')\n",
    "plt.show()\n",
    "\n"
   ]
  },
  {
   "cell_type": "markdown",
   "id": "89793c04",
   "metadata": {},
   "source": [
    "This visualization doesn't show too much variability other than Tuesday's Delay status 3. Saturday has less flights than the other days, as indicated by the axis.\n"
   ]
  },
  {
   "cell_type": "markdown",
   "id": "8000cf88",
   "metadata": {},
   "source": [
    "**Next Steps: perform chi squared testing**\n",
    "\n",
    "- Null Hypothesis: Delayed status and day of the week are independent.\n",
    "- Alternative Hypothesis: Delayed status and day of the week are dependent."
   ]
  },
  {
   "cell_type": "code",
   "execution_count": 40,
   "id": "0a881b9f",
   "metadata": {},
   "outputs": [],
   "source": [
    "observed = pd.crosstab(train.Delayed_Status, train.DayOfWeek)"
   ]
  },
  {
   "cell_type": "code",
   "execution_count": 41,
   "id": "86945401",
   "metadata": {},
   "outputs": [
    {
     "data": {
      "text/plain": [
       "0.02563956820010972"
      ]
     },
     "execution_count": 41,
     "metadata": {},
     "output_type": "execute_result"
    }
   ],
   "source": [
    "chi2, p, degf, expected = stats.chi2_contingency(observed)\n",
    "p"
   ]
  },
  {
   "cell_type": "code",
   "execution_count": 42,
   "id": "b81604ee",
   "metadata": {},
   "outputs": [
    {
     "name": "stdout",
     "output_type": "stream",
     "text": [
      "Reject the null\n"
     ]
    }
   ],
   "source": [
    "if p < alpha:\n",
    "    print(\"Reject the null\")\n",
    "else:\n",
    "    print('Fail to reject the null')"
   ]
  },
  {
   "cell_type": "markdown",
   "id": "455a7261",
   "metadata": {},
   "source": [
    "### Month of the year"
   ]
  },
  {
   "cell_type": "code",
   "execution_count": 43,
   "id": "b39627ea",
   "metadata": {},
   "outputs": [
    {
     "data": {
      "text/plain": [
       "<AxesSubplot:xlabel='Month', ylabel='Delayed_Status'>"
      ]
     },
     "execution_count": 43,
     "metadata": {},
     "output_type": "execute_result"
    },
    {
     "data": {
      "image/png": "[encoded data removed]",
      "text/plain": [
       "<Figure size 864x576 with 1 Axes>"
      ]
     },
     "metadata": {
      "needs_background": "light"
     },
     "output_type": "display_data"
    }
   ],
   "source": [
    "sns.barplot(data=train, x=train.Month, y=train.Delayed_Status)"
   ]
  },
  {
   "cell_type": "markdown",
   "id": "2a676d51",
   "metadata": {},
   "source": [
    "Visually, variabity between months and delayed status is evident with July having the highest average delayed status."
   ]
  },
  {
   "cell_type": "markdown",
   "id": "424664ed",
   "metadata": {},
   "source": [
    "**Next Steps: perform chi squared testing**\n",
    "\n",
    "- Null Hypothesis: Delayed status and month are independent.\n",
    "- Alternative Hypothesis: Delayed status and month are dependent."
   ]
  },
  {
   "cell_type": "code",
   "execution_count": 44,
   "id": "acad4346",
   "metadata": {},
   "outputs": [],
   "source": [
    "observed = pd.crosstab(train.Delayed_Status, train.Month)"
   ]
  },
  {
   "cell_type": "code",
   "execution_count": 45,
   "id": "b95e8ce0",
   "metadata": {},
   "outputs": [
    {
     "data": {
      "text/plain": [
       "8.145267866834006e-05"
      ]
     },
     "execution_count": 45,
     "metadata": {},
     "output_type": "execute_result"
    }
   ],
   "source": [
    "chi2, p, degf, expected = stats.chi2_contingency(observed)\n",
    "p"
   ]
  },
  {
   "cell_type": "code",
   "execution_count": 46,
   "id": "f4427da5",
   "metadata": {},
   "outputs": [
    {
     "name": "stdout",
     "output_type": "stream",
     "text": [
      "Reject the null\n"
     ]
    }
   ],
   "source": [
    "if p < alpha:\n",
    "    print(\"Reject the null\")\n",
    "else:\n",
    "    print('Fail to reject the null')"
   ]
  },
  {
   "cell_type": "markdown",
   "id": "e04dd0f1",
   "metadata": {},
   "source": [
    "### Day of the month"
   ]
  },
  {
   "cell_type": "code",
   "execution_count": 47,
   "id": "00f72c6a",
   "metadata": {},
   "outputs": [
    {
     "data": {
      "text/plain": [
       "<AxesSubplot:xlabel='DayofMonth', ylabel='Delayed_Status'>"
      ]
     },
     "execution_count": 47,
     "metadata": {},
     "output_type": "execute_result"
    },
    {
     "data": {
      "image/png": "[encoded data removed]",
      "text/plain": [
       "<Figure size 864x576 with 1 Axes>"
      ]
     },
     "metadata": {
      "needs_background": "light"
     },
     "output_type": "display_data"
    }
   ],
   "source": [
    "sns.barplot(data=train, x=train.DayofMonth, y=train.Delayed_Status)"
   ]
  },
  {
   "cell_type": "markdown",
   "id": "1d876a53",
   "metadata": {},
   "source": [
    "Visually, variability is evident over the days of the month."
   ]
  },
  {
   "cell_type": "markdown",
   "id": "cc89a46b",
   "metadata": {},
   "source": [
    "**Next Steps: perform chi squared testing**\n",
    "\n",
    "- Null Hypothesis: Delayed status and day of the month are independent.\n",
    "- Alternative Hypothesis: Delayed status and day of the month are dependent."
   ]
  },
  {
   "cell_type": "code",
   "execution_count": 48,
   "id": "e77fd235",
   "metadata": {},
   "outputs": [],
   "source": [
    "observed = pd.crosstab(train.Delayed_Status, train.DayofMonth)"
   ]
  },
  {
   "cell_type": "code",
   "execution_count": 49,
   "id": "6e29a01f",
   "metadata": {},
   "outputs": [
    {
     "data": {
      "text/plain": [
       "4.3358342374987734e-07"
      ]
     },
     "execution_count": 49,
     "metadata": {},
     "output_type": "execute_result"
    }
   ],
   "source": [
    "chi2, p, degf, expected = stats.chi2_contingency(observed)\n",
    "p"
   ]
  },
  {
   "cell_type": "code",
   "execution_count": 50,
   "id": "c1b7e4a6",
   "metadata": {},
   "outputs": [
    {
     "name": "stdout",
     "output_type": "stream",
     "text": [
      "Reject the null\n"
     ]
    }
   ],
   "source": [
    "if p < alpha:\n",
    "    print(\"Reject the null\")\n",
    "else:\n",
    "    print('Fail to reject the null')"
   ]
  },
  {
   "cell_type": "markdown",
   "id": "66ffbb80",
   "metadata": {},
   "source": [
    "### Scheduled Departure Hour"
   ]
  },
  {
   "cell_type": "code",
   "execution_count": 51,
   "id": "b41c2145",
   "metadata": {},
   "outputs": [],
   "source": [
    "# df.CRSDepTime = pd.to_datetime(df.CRSDepTime , format='%H%M').dt.time\n",
    "# df['departure_hour'] = pd.to_datetime(df['CRSDepTime'], format='%H:%M:%S').dt.hour\n",
    "# df.CRSArrTime = pd.to_datetime(df.CRSArrTime , format='%H%M').dt.time\n",
    "# df['arrival_hour'] = pd.to_datetime(df['CRSArrTime'], format='%H:%M:%S').dt.hour"
   ]
  },
  {
   "cell_type": "code",
   "execution_count": 52,
   "id": "8e0152e5",
   "metadata": {},
   "outputs": [
    {
     "data": {
      "text/plain": [
       "<AxesSubplot:xlabel='departure_hour', ylabel='Delayed_Status'>"
      ]
     },
     "execution_count": 52,
     "metadata": {},
     "output_type": "execute_result"
    },
    {
     "data": {
      "image/png": "[encoded data removed]",
      "text/plain": [
       "<Figure size 864x576 with 1 Axes>"
      ]
     },
     "metadata": {
      "needs_background": "light"
     },
     "output_type": "display_data"
    }
   ],
   "source": [
    "sns.barplot(data=train, y= 'Delayed_Status', x='departure_hour')"
   ]
  },
  {
   "cell_type": "markdown",
   "id": "6487a3a5",
   "metadata": {},
   "source": [
    "Visualization shows variability between the average delayed status and the scheduled hour of the departure. With 2AM being a problematic area."
   ]
  },
  {
   "cell_type": "markdown",
   "id": "a3b9dbe6",
   "metadata": {},
   "source": [
    "**Next Steps: perform chi squared testing**\n",
    "\n",
    "- Null Hypothesis: Delayed status and the scheduled departure hour are independent.\n",
    "- Alternative Hypothesis: Delayed status and the scheduled departure hour are dependent."
   ]
  },
  {
   "cell_type": "code",
   "execution_count": 53,
   "id": "9c09d129",
   "metadata": {},
   "outputs": [],
   "source": [
    "observed = pd.crosstab(train.Delayed_Status, train.departure_hour)"
   ]
  },
  {
   "cell_type": "code",
   "execution_count": 54,
   "id": "9b596b27",
   "metadata": {},
   "outputs": [
    {
     "data": {
      "text/plain": [
       "1.1750329775978126e-06"
      ]
     },
     "execution_count": 54,
     "metadata": {},
     "output_type": "execute_result"
    }
   ],
   "source": [
    "chi2, p, degf, expected = stats.chi2_contingency(observed)\n",
    "p"
   ]
  },
  {
   "cell_type": "code",
   "execution_count": 55,
   "id": "4d4e30e3",
   "metadata": {},
   "outputs": [
    {
     "name": "stdout",
     "output_type": "stream",
     "text": [
      "Reject the null\n"
     ]
    }
   ],
   "source": [
    "if p < alpha:\n",
    "    print(\"Reject the null\")\n",
    "else:\n",
    "    print('Fail to reject the null')"
   ]
  },
  {
   "cell_type": "markdown",
   "id": "cef73854",
   "metadata": {},
   "source": [
    "**Answers to questions**\n",
    "- Does the airline impact flight delays? **Yes, airlines and delayed status are dependent.**\n",
    "- Does the airport impact flight delays? **No, airport departure and arrival location are independent with delayed status.**\n",
    "     - Departure and Arrival\n",
    "- Does the day of the week impact flight delays? **Yes, the day of the week and delayed status are dependent.**\n",
    "- Does the month impact flight delays? **Yes, delayed status is dependent on the month in which a flight occurs.** \n",
    "- Are specific types of delays more likely to occur during a specified time?"
   ]
  },
  {
   "cell_type": "code",
   "execution_count": 56,
   "id": "1b84c736",
   "metadata": {},
   "outputs": [],
   "source": [
    "train_scaled, validate_scaled, test_scaled = wrangle.scale_data(train,test,validate)"
   ]
  },
  {
   "cell_type": "code",
   "execution_count": 57,
   "id": "775909e9",
   "metadata": {},
   "outputs": [],
   "source": [
    "X_train = train_scaled[['DayOfWeek', 'Month', 'UniqueCarrier_DL', 'UniqueCarrier_OO', \n",
    "                 'UniqueCarrier_UA', 'UniqueCarrier_WN']]\n",
    "y_train = train_scaled.Delayed_Status\n",
    "\n",
    "X_validate = validate_scaled[['DayOfWeek', 'Month', 'UniqueCarrier_DL', 'UniqueCarrier_OO', \n",
    "                 'UniqueCarrier_UA', 'UniqueCarrier_WN']]\n",
    "y_validate = validate_scaled.Delayed_Status\n",
    "\n",
    "X_test = test_scaled[['DayOfWeek', 'Month', 'UniqueCarrier_DL', 'UniqueCarrier_OO', \n",
    "                 'UniqueCarrier_UA', 'UniqueCarrier_WN']]\n",
    "y_test = test_scaled.Delayed_Status"
   ]
  },
  {
   "cell_type": "markdown",
   "id": "67baadca",
   "metadata": {},
   "source": [
    "### Modeling"
   ]
  },
  {
   "cell_type": "markdown",
   "id": "4b235923",
   "metadata": {},
   "source": [
    "Baseline Prediction"
   ]
  },
  {
   "cell_type": "code",
   "execution_count": 420,
   "id": "01e12111",
   "metadata": {},
   "outputs": [],
   "source": [
    "X_train = train_scaled.drop(columns=['CRSDepTime', 'CRSArrTime',\n",
    "       'UniqueCarrier', 'TailNum','ArrDelay',\n",
    "       'DepDelay', 'Origin', 'Dest', 'CarrierDelay',\n",
    "       'WeatherDelay', 'NASDelay', 'SecurityDelay', 'LateAircraftDelay',\n",
    "       'Delayed_Status','Delayed'])\n",
    "y_train = train_scaled.Delayed_Status\n",
    "\n",
    "X_validate = validate_scaled.drop(columns=['CRSDepTime', 'CRSArrTime',\n",
    "       'UniqueCarrier', 'TailNum','ArrDelay',\n",
    "       'DepDelay', 'Origin', 'Dest', 'CarrierDelay',\n",
    "       'WeatherDelay', 'NASDelay', 'SecurityDelay', 'LateAircraftDelay',\n",
    "       'Delayed_Status','Delayed'])\n",
    "y_validate = validate_scaled.Delayed_Status\n",
    "\n",
    "X_test = test_scaled.drop(columns=['CRSDepTime', 'CRSArrTime',\n",
    "       'UniqueCarrier', 'TailNum','ArrDelay',\n",
    "       'DepDelay', 'Origin', 'Dest', 'CarrierDelay',\n",
    "       'WeatherDelay', 'NASDelay', 'SecurityDelay', 'LateAircraftDelay',\n",
    "       'Delayed_Status','Delayed'])\n",
    "y_test = test_scaled.Delayed_Status"
   ]
  },
  {
   "cell_type": "code",
   "execution_count": 421,
   "id": "f496c8ad",
   "metadata": {},
   "outputs": [
    {
     "data": {
      "text/plain": [
       "0    1\n",
       "dtype: int64"
      ]
     },
     "execution_count": 421,
     "metadata": {},
     "output_type": "execute_result"
    }
   ],
   "source": [
    "train.Delayed_Status.mode()"
   ]
  },
  {
   "cell_type": "code",
   "execution_count": 422,
   "id": "f18c35cc",
   "metadata": {},
   "outputs": [
    {
     "data": {
      "text/plain": [
       "1    0.653135\n",
       "2    0.215070\n",
       "3    0.064507\n",
       "0    0.034756\n",
       "4    0.032532\n",
       "Name: Delayed_Status, dtype: float64"
      ]
     },
     "execution_count": 422,
     "metadata": {},
     "output_type": "execute_result"
    }
   ],
   "source": [
    "train.Delayed_Status.value_counts(normalize=True)"
   ]
  },
  {
   "cell_type": "code",
   "execution_count": 423,
   "id": "78ae75cd",
   "metadata": {},
   "outputs": [
    {
     "name": "stdout",
     "output_type": "stream",
     "text": [
      "Baseline accuracy: 0.65\n"
     ]
    }
   ],
   "source": [
    "baseline_prediction = (y_train == 1)\n",
    "\n",
    "baseline_accuracy = baseline_prediction.mean()\n",
    "print(f\"Baseline accuracy: {round(baseline_accuracy, 2)}\")"
   ]
  },
  {
   "cell_type": "markdown",
   "id": "0d4cd18e",
   "metadata": {},
   "source": [
    "### Decision Tree"
   ]
  },
  {
   "cell_type": "code",
   "execution_count": 324,
   "id": "4f5d9b04",
   "metadata": {},
   "outputs": [],
   "source": [
    "# create the model\n",
    "clf = DecisionTreeClassifier(max_depth=4, random_state=123)"
   ]
  },
  {
   "cell_type": "code",
   "execution_count": 380,
   "id": "454c2bfc",
   "metadata": {},
   "outputs": [],
   "source": [
    "# fit the model\n",
    "clf = clf.fit(X_train, y_train)"
   ]
  },
  {
   "cell_type": "code",
   "execution_count": 381,
   "id": "a83b45c4",
   "metadata": {},
   "outputs": [],
   "source": [
    "# make prediction on train obeservations\n",
    "y_pred = clf.predict(X_train)"
   ]
  },
  {
   "cell_type": "code",
   "execution_count": 382,
   "id": "9a27b59e",
   "metadata": {},
   "outputs": [],
   "source": [
    "# plot_tree(clf, feature_names=X_train.columns, class_names = clf.classes_.astype(str), rounded=True)"
   ]
  },
  {
   "cell_type": "code",
   "execution_count": 383,
   "id": "e287606a",
   "metadata": {},
   "outputs": [],
   "source": [
    "y_pred_proba = clf.predict_proba(X_train)"
   ]
  },
  {
   "cell_type": "code",
   "execution_count": 384,
   "id": "2e306280",
   "metadata": {},
   "outputs": [
    {
     "name": "stdout",
     "output_type": "stream",
     "text": [
      "Accuracy on training set: 0.65\n"
     ]
    }
   ],
   "source": [
    "print('Accuracy on training set: {:.2f}'\n",
    "      .format(clf.score(X_train, y_train)))"
   ]
  },
  {
   "cell_type": "code",
   "execution_count": 385,
   "id": "9d0c970d",
   "metadata": {},
   "outputs": [
    {
     "name": "stdout",
     "output_type": "stream",
     "text": [
      "              precision    recall  f1-score   support\n",
      "\n",
      "           0       0.00      0.00      0.00       250\n",
      "           1       0.65      1.00      0.79      4698\n",
      "           2       0.67      0.00      0.01      1547\n",
      "           3       1.00      0.00      0.00       464\n",
      "           4       0.00      0.00      0.00       234\n",
      "\n",
      "    accuracy                           0.65      7193\n",
      "   macro avg       0.46      0.20      0.16      7193\n",
      "weighted avg       0.63      0.65      0.52      7193\n",
      "\n"
     ]
    }
   ],
   "source": [
    "print(classification_report(y_train, y_pred))"
   ]
  },
  {
   "cell_type": "code",
   "execution_count": 387,
   "id": "e67e3257",
   "metadata": {},
   "outputs": [
    {
     "name": "stdout",
     "output_type": "stream",
     "text": [
      "Accuracy on training set: 0.66\n"
     ]
    }
   ],
   "source": [
    "print('Accuracy on training set: {:.2f}'\n",
    "      .format(clf.score(X_validate, y_validate)))"
   ]
  },
  {
   "cell_type": "code",
   "execution_count": 386,
   "id": "690ddbce",
   "metadata": {},
   "outputs": [
    {
     "name": "stdout",
     "output_type": "stream",
     "text": [
      "              precision    recall  f1-score   support\n",
      "\n",
      "           0       0.00      0.00      0.00        77\n",
      "           1       0.66      1.00      0.80      1701\n",
      "           2       0.00      0.00      0.00       556\n",
      "           3       0.00      0.00      0.00       155\n",
      "           4       0.00      0.00      0.00        81\n",
      "\n",
      "    accuracy                           0.66      2570\n",
      "   macro avg       0.13      0.20      0.16      2570\n",
      "weighted avg       0.44      0.66      0.53      2570\n",
      "\n"
     ]
    }
   ],
   "source": [
    "# Produce y_predictions that come from the X_validate\n",
    "y_pred = clf.predict(X_validate)\n",
    "\n",
    "# Compare actual y values (from validate) to predicted y_values from the model run on X_validate\n",
    "print(classification_report(y_validate, y_pred))"
   ]
  },
  {
   "cell_type": "code",
   "execution_count": 334,
   "id": "5c37e539",
   "metadata": {},
   "outputs": [
    {
     "data": {
      "text/html": [
       "<div>\n",
       "<style scoped>\n",
       "    .dataframe tbody tr th:only-of-type {\n",
       "        vertical-align: middle;\n",
       "    }\n",
       "\n",
       "    .dataframe tbody tr th {\n",
       "        vertical-align: top;\n",
       "    }\n",
       "\n",
       "    .dataframe thead th {\n",
       "        text-align: right;\n",
       "    }\n",
       "</style>\n",
       "<table border=\"1\" class=\"dataframe\">\n",
       "  <thead>\n",
       "    <tr style=\"text-align: right;\">\n",
       "      <th></th>\n",
       "      <th>max_depth</th>\n",
       "      <th>train_accuracy</th>\n",
       "      <th>validate_accuracy</th>\n",
       "      <th>difference</th>\n",
       "    </tr>\n",
       "  </thead>\n",
       "  <tbody>\n",
       "    <tr>\n",
       "      <th>0</th>\n",
       "      <td>2</td>\n",
       "      <td>0.653135</td>\n",
       "      <td>0.661868</td>\n",
       "      <td>-0.008733</td>\n",
       "    </tr>\n",
       "    <tr>\n",
       "      <th>1</th>\n",
       "      <td>3</td>\n",
       "      <td>0.653135</td>\n",
       "      <td>0.661868</td>\n",
       "      <td>-0.008733</td>\n",
       "    </tr>\n",
       "    <tr>\n",
       "      <th>2</th>\n",
       "      <td>4</td>\n",
       "      <td>0.653691</td>\n",
       "      <td>0.661868</td>\n",
       "      <td>-0.008177</td>\n",
       "    </tr>\n",
       "    <tr>\n",
       "      <th>3</th>\n",
       "      <td>5</td>\n",
       "      <td>0.658279</td>\n",
       "      <td>0.659922</td>\n",
       "      <td>-0.001643</td>\n",
       "    </tr>\n",
       "    <tr>\n",
       "      <th>4</th>\n",
       "      <td>6</td>\n",
       "      <td>0.663979</td>\n",
       "      <td>0.657198</td>\n",
       "      <td>0.006780</td>\n",
       "    </tr>\n",
       "    <tr>\n",
       "      <th>5</th>\n",
       "      <td>7</td>\n",
       "      <td>0.671069</td>\n",
       "      <td>0.651751</td>\n",
       "      <td>0.019318</td>\n",
       "    </tr>\n",
       "    <tr>\n",
       "      <th>6</th>\n",
       "      <td>8</td>\n",
       "      <td>0.681079</td>\n",
       "      <td>0.641245</td>\n",
       "      <td>0.039834</td>\n",
       "    </tr>\n",
       "    <tr>\n",
       "      <th>7</th>\n",
       "      <td>9</td>\n",
       "      <td>0.696093</td>\n",
       "      <td>0.635019</td>\n",
       "      <td>0.061074</td>\n",
       "    </tr>\n",
       "    <tr>\n",
       "      <th>8</th>\n",
       "      <td>10</td>\n",
       "      <td>0.711803</td>\n",
       "      <td>0.629961</td>\n",
       "      <td>0.081842</td>\n",
       "    </tr>\n",
       "    <tr>\n",
       "      <th>9</th>\n",
       "      <td>11</td>\n",
       "      <td>0.732796</td>\n",
       "      <td>0.613619</td>\n",
       "      <td>0.119177</td>\n",
       "    </tr>\n",
       "    <tr>\n",
       "      <th>10</th>\n",
       "      <td>12</td>\n",
       "      <td>0.757264</td>\n",
       "      <td>0.600000</td>\n",
       "      <td>0.157264</td>\n",
       "    </tr>\n",
       "    <tr>\n",
       "      <th>11</th>\n",
       "      <td>13</td>\n",
       "      <td>0.781454</td>\n",
       "      <td>0.593385</td>\n",
       "      <td>0.188069</td>\n",
       "    </tr>\n",
       "    <tr>\n",
       "      <th>12</th>\n",
       "      <td>14</td>\n",
       "      <td>0.809676</td>\n",
       "      <td>0.577432</td>\n",
       "      <td>0.232244</td>\n",
       "    </tr>\n",
       "    <tr>\n",
       "      <th>13</th>\n",
       "      <td>15</td>\n",
       "      <td>0.836369</td>\n",
       "      <td>0.565759</td>\n",
       "      <td>0.270610</td>\n",
       "    </tr>\n",
       "    <tr>\n",
       "      <th>14</th>\n",
       "      <td>16</td>\n",
       "      <td>0.864313</td>\n",
       "      <td>0.540856</td>\n",
       "      <td>0.323456</td>\n",
       "    </tr>\n",
       "    <tr>\n",
       "      <th>15</th>\n",
       "      <td>17</td>\n",
       "      <td>0.891561</td>\n",
       "      <td>0.544358</td>\n",
       "      <td>0.347203</td>\n",
       "    </tr>\n",
       "    <tr>\n",
       "      <th>16</th>\n",
       "      <td>18</td>\n",
       "      <td>0.915473</td>\n",
       "      <td>0.524903</td>\n",
       "      <td>0.390571</td>\n",
       "    </tr>\n",
       "    <tr>\n",
       "      <th>17</th>\n",
       "      <td>19</td>\n",
       "      <td>0.937300</td>\n",
       "      <td>0.524514</td>\n",
       "      <td>0.412787</td>\n",
       "    </tr>\n",
       "    <tr>\n",
       "      <th>18</th>\n",
       "      <td>20</td>\n",
       "      <td>0.955095</td>\n",
       "      <td>0.521790</td>\n",
       "      <td>0.433305</td>\n",
       "    </tr>\n",
       "    <tr>\n",
       "      <th>19</th>\n",
       "      <td>21</td>\n",
       "      <td>0.966773</td>\n",
       "      <td>0.508171</td>\n",
       "      <td>0.458602</td>\n",
       "    </tr>\n",
       "    <tr>\n",
       "      <th>20</th>\n",
       "      <td>22</td>\n",
       "      <td>0.979007</td>\n",
       "      <td>0.502335</td>\n",
       "      <td>0.476673</td>\n",
       "    </tr>\n",
       "    <tr>\n",
       "      <th>21</th>\n",
       "      <td>23</td>\n",
       "      <td>0.986237</td>\n",
       "      <td>0.506226</td>\n",
       "      <td>0.480011</td>\n",
       "    </tr>\n",
       "    <tr>\n",
       "      <th>22</th>\n",
       "      <td>24</td>\n",
       "      <td>0.992493</td>\n",
       "      <td>0.496109</td>\n",
       "      <td>0.496384</td>\n",
       "    </tr>\n",
       "  </tbody>\n",
       "</table>\n",
       "</div>"
      ],
      "text/plain": [
       "    max_depth  train_accuracy  validate_accuracy  difference\n",
       "0           2        0.653135           0.661868   -0.008733\n",
       "1           3        0.653135           0.661868   -0.008733\n",
       "2           4        0.653691           0.661868   -0.008177\n",
       "3           5        0.658279           0.659922   -0.001643\n",
       "4           6        0.663979           0.657198    0.006780\n",
       "5           7        0.671069           0.651751    0.019318\n",
       "6           8        0.681079           0.641245    0.039834\n",
       "7           9        0.696093           0.635019    0.061074\n",
       "8          10        0.711803           0.629961    0.081842\n",
       "9          11        0.732796           0.613619    0.119177\n",
       "10         12        0.757264           0.600000    0.157264\n",
       "11         13        0.781454           0.593385    0.188069\n",
       "12         14        0.809676           0.577432    0.232244\n",
       "13         15        0.836369           0.565759    0.270610\n",
       "14         16        0.864313           0.540856    0.323456\n",
       "15         17        0.891561           0.544358    0.347203\n",
       "16         18        0.915473           0.524903    0.390571\n",
       "17         19        0.937300           0.524514    0.412787\n",
       "18         20        0.955095           0.521790    0.433305\n",
       "19         21        0.966773           0.508171    0.458602\n",
       "20         22        0.979007           0.502335    0.476673\n",
       "21         23        0.986237           0.506226    0.480011\n",
       "22         24        0.992493           0.496109    0.496384"
      ]
     },
     "execution_count": 334,
     "metadata": {},
     "output_type": "execute_result"
    }
   ],
   "source": [
    "metrics = []\n",
    "\n",
    "for i in range(2, 25):\n",
    "    # Make the model\n",
    "    tree = DecisionTreeClassifier(max_depth=i, random_state=123)\n",
    "\n",
    "    # Fit the model (on train and only train)\n",
    "    tree = tree.fit(X_train, y_train)\n",
    "\n",
    "    # Use the model\n",
    "    # We'll evaluate the model's performance on train, first\n",
    "    in_sample_accuracy = tree.score(X_train, y_train)\n",
    "    \n",
    "    out_of_sample_accuracy = tree.score(X_validate, y_validate)\n",
    "\n",
    "    output = {\n",
    "        \"max_depth\": i,\n",
    "        \"train_accuracy\": in_sample_accuracy,\n",
    "        \"validate_accuracy\": out_of_sample_accuracy\n",
    "    }\n",
    "    \n",
    "    metrics.append(output)\n",
    "    \n",
    "df = pd.DataFrame(metrics)\n",
    "df[\"difference\"] = df.train_accuracy - df.validate_accuracy\n",
    "df"
   ]
  },
  {
   "cell_type": "markdown",
   "id": "77b99f7c",
   "metadata": {},
   "source": [
    "### Random Forrests"
   ]
  },
  {
   "cell_type": "code",
   "execution_count": 388,
   "id": "d3df58cd",
   "metadata": {},
   "outputs": [],
   "source": [
    "# create the model\n",
    "rf = RandomForestClassifier(max_depth=7, \n",
    "                            random_state=123)"
   ]
  },
  {
   "cell_type": "code",
   "execution_count": 389,
   "id": "f9d16a67",
   "metadata": {},
   "outputs": [
    {
     "data": {
      "text/plain": [
       "RandomForestClassifier(max_depth=7, random_state=123)"
      ]
     },
     "execution_count": 389,
     "metadata": {},
     "output_type": "execute_result"
    }
   ],
   "source": [
    "# fit the model\n",
    "rf.fit(X_train, y_train)"
   ]
  },
  {
   "cell_type": "code",
   "execution_count": 390,
   "id": "e63bdee3",
   "metadata": {},
   "outputs": [
    {
     "name": "stdout",
     "output_type": "stream",
     "text": [
      "[0.         0.10487808 0.16209666 0.09847543 0.16315224 0.21124923\n",
      " 0.04849411 0.01879671 0.00979121 0.03562806 0.01158097 0.13585731]\n"
     ]
    }
   ],
   "source": [
    "print(rf.feature_importances_)"
   ]
  },
  {
   "cell_type": "code",
   "execution_count": 391,
   "id": "69057957",
   "metadata": {},
   "outputs": [],
   "source": [
    "y_pred = rf.predict(X_train)"
   ]
  },
  {
   "cell_type": "code",
   "execution_count": 392,
   "id": "1330d9fc",
   "metadata": {},
   "outputs": [],
   "source": [
    "y_pred_proba = rf.predict_proba(X_train)"
   ]
  },
  {
   "cell_type": "code",
   "execution_count": 393,
   "id": "9a2df047",
   "metadata": {},
   "outputs": [
    {
     "name": "stdout",
     "output_type": "stream",
     "text": [
      "Accuracy of random forest classifier on training set: 0.65\n"
     ]
    }
   ],
   "source": [
    "print('Accuracy of random forest classifier on training set: {:.2f}'\n",
    "     .format(rf.score(X_train, y_train)))"
   ]
  },
  {
   "cell_type": "code",
   "execution_count": 394,
   "id": "79486765",
   "metadata": {},
   "outputs": [],
   "source": [
    "y_pred = rf.predict(X_validate)"
   ]
  },
  {
   "cell_type": "code",
   "execution_count": 395,
   "id": "d733283b",
   "metadata": {},
   "outputs": [],
   "source": [
    "y_pred_proba = rf.predict_proba(X_validate)"
   ]
  },
  {
   "cell_type": "code",
   "execution_count": 396,
   "id": "7d6e1687",
   "metadata": {},
   "outputs": [
    {
     "name": "stdout",
     "output_type": "stream",
     "text": [
      "              precision    recall  f1-score   support\n",
      "\n",
      "           0       0.00      0.00      0.00        77\n",
      "           1       0.66      1.00      0.80      1701\n",
      "           2       0.00      0.00      0.00       556\n",
      "           3       0.00      0.00      0.00       155\n",
      "           4       0.00      0.00      0.00        81\n",
      "\n",
      "    accuracy                           0.66      2570\n",
      "   macro avg       0.13      0.20      0.16      2570\n",
      "weighted avg       0.44      0.66      0.53      2570\n",
      "\n"
     ]
    }
   ],
   "source": [
    "print(classification_report(y_validate, y_pred))"
   ]
  },
  {
   "cell_type": "code",
   "execution_count": 397,
   "id": "898ec678",
   "metadata": {
    "scrolled": true
   },
   "outputs": [
    {
     "data": {
      "text/html": [
       "<div>\n",
       "<style scoped>\n",
       "    .dataframe tbody tr th:only-of-type {\n",
       "        vertical-align: middle;\n",
       "    }\n",
       "\n",
       "    .dataframe tbody tr th {\n",
       "        vertical-align: top;\n",
       "    }\n",
       "\n",
       "    .dataframe thead th {\n",
       "        text-align: right;\n",
       "    }\n",
       "</style>\n",
       "<table border=\"1\" class=\"dataframe\">\n",
       "  <thead>\n",
       "    <tr style=\"text-align: right;\">\n",
       "      <th></th>\n",
       "      <th>max_depth</th>\n",
       "      <th>train_accuracy</th>\n",
       "      <th>validate_accuracy</th>\n",
       "      <th>difference</th>\n",
       "    </tr>\n",
       "  </thead>\n",
       "  <tbody>\n",
       "    <tr>\n",
       "      <th>0</th>\n",
       "      <td>2</td>\n",
       "      <td>0.653135</td>\n",
       "      <td>0.661868</td>\n",
       "      <td>-0.008733</td>\n",
       "    </tr>\n",
       "    <tr>\n",
       "      <th>1</th>\n",
       "      <td>3</td>\n",
       "      <td>0.653135</td>\n",
       "      <td>0.661868</td>\n",
       "      <td>-0.008733</td>\n",
       "    </tr>\n",
       "    <tr>\n",
       "      <th>2</th>\n",
       "      <td>4</td>\n",
       "      <td>0.653135</td>\n",
       "      <td>0.661868</td>\n",
       "      <td>-0.008733</td>\n",
       "    </tr>\n",
       "    <tr>\n",
       "      <th>3</th>\n",
       "      <td>5</td>\n",
       "      <td>0.653135</td>\n",
       "      <td>0.661868</td>\n",
       "      <td>-0.008733</td>\n",
       "    </tr>\n",
       "    <tr>\n",
       "      <th>4</th>\n",
       "      <td>6</td>\n",
       "      <td>0.653135</td>\n",
       "      <td>0.661868</td>\n",
       "      <td>-0.008733</td>\n",
       "    </tr>\n",
       "    <tr>\n",
       "      <th>5</th>\n",
       "      <td>7</td>\n",
       "      <td>0.653969</td>\n",
       "      <td>0.661868</td>\n",
       "      <td>-0.007899</td>\n",
       "    </tr>\n",
       "    <tr>\n",
       "      <th>6</th>\n",
       "      <td>8</td>\n",
       "      <td>0.657862</td>\n",
       "      <td>0.662646</td>\n",
       "      <td>-0.004784</td>\n",
       "    </tr>\n",
       "    <tr>\n",
       "      <th>7</th>\n",
       "      <td>9</td>\n",
       "      <td>0.663423</td>\n",
       "      <td>0.663035</td>\n",
       "      <td>0.000388</td>\n",
       "    </tr>\n",
       "    <tr>\n",
       "      <th>8</th>\n",
       "      <td>10</td>\n",
       "      <td>0.673989</td>\n",
       "      <td>0.665370</td>\n",
       "      <td>0.008619</td>\n",
       "    </tr>\n",
       "    <tr>\n",
       "      <th>9</th>\n",
       "      <td>11</td>\n",
       "      <td>0.693591</td>\n",
       "      <td>0.664981</td>\n",
       "      <td>0.028610</td>\n",
       "    </tr>\n",
       "    <tr>\n",
       "      <th>10</th>\n",
       "      <td>12</td>\n",
       "      <td>0.722647</td>\n",
       "      <td>0.663813</td>\n",
       "      <td>0.058834</td>\n",
       "    </tr>\n",
       "    <tr>\n",
       "      <th>11</th>\n",
       "      <td>13</td>\n",
       "      <td>0.765605</td>\n",
       "      <td>0.664981</td>\n",
       "      <td>0.100625</td>\n",
       "    </tr>\n",
       "    <tr>\n",
       "      <th>12</th>\n",
       "      <td>14</td>\n",
       "      <td>0.813847</td>\n",
       "      <td>0.663813</td>\n",
       "      <td>0.150034</td>\n",
       "    </tr>\n",
       "    <tr>\n",
       "      <th>13</th>\n",
       "      <td>15</td>\n",
       "      <td>0.863895</td>\n",
       "      <td>0.663035</td>\n",
       "      <td>0.200860</td>\n",
       "    </tr>\n",
       "    <tr>\n",
       "      <th>14</th>\n",
       "      <td>16</td>\n",
       "      <td>0.912693</td>\n",
       "      <td>0.662646</td>\n",
       "      <td>0.250047</td>\n",
       "    </tr>\n",
       "    <tr>\n",
       "      <th>15</th>\n",
       "      <td>17</td>\n",
       "      <td>0.943695</td>\n",
       "      <td>0.657977</td>\n",
       "      <td>0.285719</td>\n",
       "    </tr>\n",
       "    <tr>\n",
       "      <th>16</th>\n",
       "      <td>18</td>\n",
       "      <td>0.971500</td>\n",
       "      <td>0.660700</td>\n",
       "      <td>0.310800</td>\n",
       "    </tr>\n",
       "    <tr>\n",
       "      <th>17</th>\n",
       "      <td>19</td>\n",
       "      <td>0.985402</td>\n",
       "      <td>0.654475</td>\n",
       "      <td>0.330928</td>\n",
       "    </tr>\n",
       "    <tr>\n",
       "      <th>18</th>\n",
       "      <td>20</td>\n",
       "      <td>0.994717</td>\n",
       "      <td>0.652140</td>\n",
       "      <td>0.342577</td>\n",
       "    </tr>\n",
       "    <tr>\n",
       "      <th>19</th>\n",
       "      <td>21</td>\n",
       "      <td>0.999027</td>\n",
       "      <td>0.657198</td>\n",
       "      <td>0.341828</td>\n",
       "    </tr>\n",
       "    <tr>\n",
       "      <th>20</th>\n",
       "      <td>22</td>\n",
       "      <td>0.999305</td>\n",
       "      <td>0.652140</td>\n",
       "      <td>0.347165</td>\n",
       "    </tr>\n",
       "    <tr>\n",
       "      <th>21</th>\n",
       "      <td>23</td>\n",
       "      <td>0.999722</td>\n",
       "      <td>0.648638</td>\n",
       "      <td>0.351084</td>\n",
       "    </tr>\n",
       "    <tr>\n",
       "      <th>22</th>\n",
       "      <td>24</td>\n",
       "      <td>1.000000</td>\n",
       "      <td>0.647471</td>\n",
       "      <td>0.352529</td>\n",
       "    </tr>\n",
       "  </tbody>\n",
       "</table>\n",
       "</div>"
      ],
      "text/plain": [
       "    max_depth  train_accuracy  validate_accuracy  difference\n",
       "0           2        0.653135           0.661868   -0.008733\n",
       "1           3        0.653135           0.661868   -0.008733\n",
       "2           4        0.653135           0.661868   -0.008733\n",
       "3           5        0.653135           0.661868   -0.008733\n",
       "4           6        0.653135           0.661868   -0.008733\n",
       "5           7        0.653969           0.661868   -0.007899\n",
       "6           8        0.657862           0.662646   -0.004784\n",
       "7           9        0.663423           0.663035    0.000388\n",
       "8          10        0.673989           0.665370    0.008619\n",
       "9          11        0.693591           0.664981    0.028610\n",
       "10         12        0.722647           0.663813    0.058834\n",
       "11         13        0.765605           0.664981    0.100625\n",
       "12         14        0.813847           0.663813    0.150034\n",
       "13         15        0.863895           0.663035    0.200860\n",
       "14         16        0.912693           0.662646    0.250047\n",
       "15         17        0.943695           0.657977    0.285719\n",
       "16         18        0.971500           0.660700    0.310800\n",
       "17         19        0.985402           0.654475    0.330928\n",
       "18         20        0.994717           0.652140    0.342577\n",
       "19         21        0.999027           0.657198    0.341828\n",
       "20         22        0.999305           0.652140    0.347165\n",
       "21         23        0.999722           0.648638    0.351084\n",
       "22         24        1.000000           0.647471    0.352529"
      ]
     },
     "execution_count": 397,
     "metadata": {},
     "output_type": "execute_result"
    }
   ],
   "source": [
    "metrics = []\n",
    "\n",
    "for i in range(2, 25):\n",
    "    # Make the model\n",
    "    forest = RandomForestClassifier(max_depth=i, random_state=123)\n",
    "\n",
    "    # Fit the model (on train and only train)\n",
    "    forest = forest.fit(X_train, y_train)\n",
    "\n",
    "    # Use the model\n",
    "    # We'll evaluate the model's performance on train, first\n",
    "    in_sample_accuracy = forest.score(X_train, y_train)\n",
    "    \n",
    "    out_of_sample_accuracy = forest.score(X_validate, y_validate)\n",
    "\n",
    "    output = {\n",
    "        \"max_depth\": i,\n",
    "        \"train_accuracy\": in_sample_accuracy,\n",
    "        \"validate_accuracy\": out_of_sample_accuracy\n",
    "    }\n",
    "    \n",
    "    metrics.append(output)\n",
    "    \n",
    "df = pd.DataFrame(metrics)\n",
    "df[\"difference\"] = df.train_accuracy - df.validate_accuracy\n",
    "df"
   ]
  },
  {
   "cell_type": "code",
   "execution_count": 398,
   "id": "008cbd7a",
   "metadata": {},
   "outputs": [
    {
     "name": "stdout",
     "output_type": "stream",
     "text": [
      "              precision    recall  f1-score   support\n",
      "\n",
      "           0       0.00      0.00      0.00        88\n",
      "           1       0.65      1.00      0.79      2006\n",
      "           2       0.00      0.00      0.00       669\n",
      "           3       0.00      0.00      0.00       219\n",
      "           4       0.00      0.00      0.00       101\n",
      "\n",
      "    accuracy                           0.65      3083\n",
      "   macro avg       0.13      0.20      0.16      3083\n",
      "weighted avg       0.42      0.65      0.51      3083\n",
      "\n"
     ]
    }
   ],
   "source": [
    "y_pred = rf.predict(X_test)\n",
    "\n",
    "# Compare actual y values (from validate) to predicted y_values from the model run on X_validate\n",
    "print(classification_report(y_test, y_pred))"
   ]
  },
  {
   "cell_type": "markdown",
   "id": "b23f326b",
   "metadata": {},
   "source": [
    "### KNN"
   ]
  },
  {
   "cell_type": "code",
   "execution_count": 399,
   "id": "31fa80a1",
   "metadata": {},
   "outputs": [],
   "source": [
    "knn = KNeighborsClassifier(n_neighbors=22)"
   ]
  },
  {
   "cell_type": "code",
   "execution_count": 400,
   "id": "f362be43",
   "metadata": {},
   "outputs": [
    {
     "data": {
      "text/plain": [
       "KNeighborsClassifier(n_neighbors=22)"
      ]
     },
     "execution_count": 400,
     "metadata": {},
     "output_type": "execute_result"
    }
   ],
   "source": [
    "knn.fit(X_train, y_train)"
   ]
  },
  {
   "cell_type": "code",
   "execution_count": 401,
   "id": "e79b5ed7",
   "metadata": {},
   "outputs": [],
   "source": [
    "y_pred = knn.predict(X_train)"
   ]
  },
  {
   "cell_type": "code",
   "execution_count": 402,
   "id": "69090fb3",
   "metadata": {},
   "outputs": [],
   "source": [
    "y_pred_proba = knn.predict_proba(X_train)"
   ]
  },
  {
   "cell_type": "code",
   "execution_count": 403,
   "id": "7553b180",
   "metadata": {},
   "outputs": [
    {
     "name": "stdout",
     "output_type": "stream",
     "text": [
      "Accuracy of KNN classifier on training set: 0.65\n"
     ]
    }
   ],
   "source": [
    "print('Accuracy of KNN classifier on training set: {:.2f}'\n",
    "     .format(knn.score(X_train, y_train)))"
   ]
  },
  {
   "cell_type": "code",
   "execution_count": 404,
   "id": "6d447629",
   "metadata": {},
   "outputs": [
    {
     "name": "stdout",
     "output_type": "stream",
     "text": [
      "              precision    recall  f1-score   support\n",
      "\n",
      "           0       0.00      0.00      0.00       250\n",
      "           1       0.66      1.00      0.79      4698\n",
      "           2       0.39      0.01      0.03      1547\n",
      "           3       0.00      0.00      0.00       464\n",
      "           4       0.00      0.00      0.00       234\n",
      "\n",
      "    accuracy                           0.65      7193\n",
      "   macro avg       0.21      0.20      0.16      7193\n",
      "weighted avg       0.51      0.65      0.52      7193\n",
      "\n"
     ]
    }
   ],
   "source": [
    "print(classification_report(y_train, y_pred))"
   ]
  },
  {
   "cell_type": "code",
   "execution_count": 405,
   "id": "4cef3fa5",
   "metadata": {},
   "outputs": [],
   "source": [
    "y_pred = knn.predict(X_validate)"
   ]
  },
  {
   "cell_type": "code",
   "execution_count": 406,
   "id": "35550756",
   "metadata": {},
   "outputs": [],
   "source": [
    "y_pred_proba = knn.predict_proba(X_validate)"
   ]
  },
  {
   "cell_type": "code",
   "execution_count": 407,
   "id": "54fa937c",
   "metadata": {},
   "outputs": [
    {
     "name": "stdout",
     "output_type": "stream",
     "text": [
      "Accuracy of KNN classifier on validate set: 0.66\n"
     ]
    }
   ],
   "source": [
    "print('Accuracy of KNN classifier on validate set: {:.2f}'\n",
    "     .format(knn.score(X_validate, y_validate)))"
   ]
  },
  {
   "cell_type": "code",
   "execution_count": 408,
   "id": "6e66db89",
   "metadata": {},
   "outputs": [
    {
     "name": "stdout",
     "output_type": "stream",
     "text": [
      "              precision    recall  f1-score   support\n",
      "\n",
      "           0       0.00      0.00      0.00        77\n",
      "           1       0.66      0.99      0.80      1701\n",
      "           2       0.40      0.02      0.03       556\n",
      "           3       0.00      0.00      0.00       155\n",
      "           4       0.00      0.00      0.00        81\n",
      "\n",
      "    accuracy                           0.66      2570\n",
      "   macro avg       0.21      0.20      0.17      2570\n",
      "weighted avg       0.53      0.66      0.53      2570\n",
      "\n"
     ]
    }
   ],
   "source": [
    "print(classification_report(y_validate, y_pred))"
   ]
  },
  {
   "cell_type": "code",
   "execution_count": 424,
   "id": "333752eb",
   "metadata": {},
   "outputs": [
    {
     "data": {
      "image/png": "[encoded data removed]",
      "text/plain": [
       "<Figure size 1152x648 with 1 Axes>"
      ]
     },
     "metadata": {
      "needs_background": "light"
     },
     "output_type": "display_data"
    }
   ],
   "source": [
    "metrics = []\n",
    "\n",
    "# loop through different values of k\n",
    "for k in range(1, 21):\n",
    "            \n",
    "    # define the thing\n",
    "    knn = KNeighborsClassifier(n_neighbors=k)\n",
    "    \n",
    "    # fit the thing (remmeber only fit on training data)\n",
    "    knn.fit(X_train, y_train)\n",
    "    \n",
    "    # use the thing (calculate accuracy)\n",
    "    train_accuracy = knn.score(X_train, y_train)\n",
    "    validate_accuracy = knn.score(X_validate, y_validate)\n",
    "    \n",
    "    output = {\n",
    "        \"k\": k,\n",
    "        \"train_accuracy\": train_accuracy,\n",
    "        \"validate_accuracy\": validate_accuracy\n",
    "    }\n",
    "    \n",
    "    metrics.append(output)\n",
    "\n",
    "# make a dataframe\n",
    "results = pd.DataFrame(metrics)\n",
    "\n",
    "# plot the data\n",
    "results.set_index('k').plot(figsize = (16,9))\n",
    "plt.ylabel('Accuracy')\n",
    "plt.xticks(np.arange(0,21,1))\n",
    "plt.grid()"
   ]
  },
  {
   "cell_type": "markdown",
   "id": "c4be5373",
   "metadata": {},
   "source": [
    "### Regression"
   ]
  },
  {
   "cell_type": "code",
   "execution_count": 410,
   "id": "627ece62",
   "metadata": {},
   "outputs": [],
   "source": [
    "logit = LogisticRegression(C=.1)"
   ]
  },
  {
   "cell_type": "code",
   "execution_count": 411,
   "id": "ea47374a",
   "metadata": {},
   "outputs": [
    {
     "data": {
      "text/plain": [
       "LogisticRegression(C=0.1)"
      ]
     },
     "execution_count": 411,
     "metadata": {},
     "output_type": "execute_result"
    }
   ],
   "source": [
    "logit.fit(X_train, y_train)"
   ]
  },
  {
   "cell_type": "code",
   "execution_count": 412,
   "id": "041f4f18",
   "metadata": {},
   "outputs": [],
   "source": [
    "y_pred = logit.predict(X_train)"
   ]
  },
  {
   "cell_type": "code",
   "execution_count": 413,
   "id": "fb9a6a17",
   "metadata": {},
   "outputs": [],
   "source": [
    "y_pred_proba = logit.predict_proba(X_train)"
   ]
  },
  {
   "cell_type": "code",
   "execution_count": 414,
   "id": "b2c93d21",
   "metadata": {},
   "outputs": [
    {
     "name": "stdout",
     "output_type": "stream",
     "text": [
      "Accuracy of Logistic Regression classifier on training set: 0.65\n"
     ]
    }
   ],
   "source": [
    "print('Accuracy of Logistic Regression classifier on training set: {:.2f}'\n",
    "     .format(logit.score(X_train, y_train)))"
   ]
  },
  {
   "cell_type": "code",
   "execution_count": 415,
   "id": "72c7b880",
   "metadata": {},
   "outputs": [
    {
     "name": "stdout",
     "output_type": "stream",
     "text": [
      "              precision    recall  f1-score   support\n",
      "\n",
      "           0       0.00      0.00      0.00       250\n",
      "           1       0.65      1.00      0.79      4698\n",
      "           2       0.00      0.00      0.00      1547\n",
      "           3       0.00      0.00      0.00       464\n",
      "           4       0.00      0.00      0.00       234\n",
      "\n",
      "    accuracy                           0.65      7193\n",
      "   macro avg       0.13      0.20      0.16      7193\n",
      "weighted avg       0.43      0.65      0.52      7193\n",
      "\n"
     ]
    }
   ],
   "source": [
    "print(classification_report(y_train, y_pred))"
   ]
  },
  {
   "cell_type": "code",
   "execution_count": 416,
   "id": "bb06626b",
   "metadata": {},
   "outputs": [],
   "source": [
    "y_pred = logit.predict(X_validate)"
   ]
  },
  {
   "cell_type": "code",
   "execution_count": 417,
   "id": "2379d1a8",
   "metadata": {},
   "outputs": [],
   "source": [
    "y_pred_proba = logit.predict_proba(X_validate)"
   ]
  },
  {
   "cell_type": "code",
   "execution_count": 418,
   "id": "4d5ca0c4",
   "metadata": {},
   "outputs": [
    {
     "name": "stdout",
     "output_type": "stream",
     "text": [
      "              precision    recall  f1-score   support\n",
      "\n",
      "           0       0.00      0.00      0.00        77\n",
      "           1       0.66      1.00      0.80      1701\n",
      "           2       0.00      0.00      0.00       556\n",
      "           3       0.00      0.00      0.00       155\n",
      "           4       0.00      0.00      0.00        81\n",
      "\n",
      "    accuracy                           0.66      2570\n",
      "   macro avg       0.13      0.20      0.16      2570\n",
      "weighted avg       0.44      0.66      0.53      2570\n",
      "\n"
     ]
    }
   ],
   "source": [
    "print(classification_report(y_validate, y_pred))"
   ]
  },
  {
   "cell_type": "markdown",
   "id": "b582deb1",
   "metadata": {},
   "source": [
    "### Choosing KNN as the best model, all other models are within the same accuracy of 65%-66%, however, KNN makes predictions other than only choosing delayed status 1."
   ]
  },
  {
   "cell_type": "code",
   "execution_count": 409,
   "id": "07715429",
   "metadata": {},
   "outputs": [
    {
     "name": "stdout",
     "output_type": "stream",
     "text": [
      "              precision    recall  f1-score   support\n",
      "\n",
      "           0       0.00      0.00      0.00        88\n",
      "           1       0.65      0.99      0.79      2006\n",
      "           2       0.27      0.01      0.03       669\n",
      "           3       0.00      0.00      0.00       219\n",
      "           4       0.00      0.00      0.00       101\n",
      "\n",
      "    accuracy                           0.65      3083\n",
      "   macro avg       0.19      0.20      0.16      3083\n",
      "weighted avg       0.48      0.65      0.52      3083\n",
      "\n"
     ]
    }
   ],
   "source": [
    "y_pred = knn.predict(X_test)\n",
    "\n",
    "# Compare actual y values (from validate) to predicted y_values from the model run on X_validate\n",
    "print(classification_report(y_test, y_pred))"
   ]
  },
  {
   "cell_type": "markdown",
   "id": "b903aba9",
   "metadata": {},
   "source": [
    "- Outcomes: Classification modeling does not beat the baseline of 65% accuracy.\n",
    "    - I also attempted to model on Delayed to determine if a flight would be delayed, not just the time frame it would be delayed for. \n",
    "        - Both the baseline and models performed at 97%. There was no added benefit from modeling on this dataset.\n",
    "- Things to do differently:\n",
    "    - I significantly reduced the dataset to limit the flights that were flown by specific airlines and only departed or arrived at 5 airports.\n",
    "        - In retrospect, I would maintain the majority of the data and then look into clustering and then attempt calssification models on the clusters.\n",
    "\n",
    "Based of the 2008 flight data, consumers can expect to be delayed 15-59 minutes on 65% on their flights.\n",
    "       "
   ]
  },
  {
   "cell_type": "code",
   "execution_count": null,
   "id": "6102de3f",
   "metadata": {},
   "outputs": [],
   "source": []
  }
 ],
 "metadata": {
  "kernelspec": {
   "display_name": "Python 3 (ipykernel)",
   "language": "python",
   "name": "python3"
  },
  "language_info": {
   "codemirror_mode": {
    "name": "ipython",
    "version": 3
   },
   "file_extension": ".py",
   "mimetype": "text/x-python",
   "name": "python",
   "nbconvert_exporter": "python",
   "pygments_lexer": "ipython3",
   "version": "3.9.7"
  }
 },
 "nbformat": 4,
 "nbformat_minor": 5
}
