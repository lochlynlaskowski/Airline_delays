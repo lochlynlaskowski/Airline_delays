{
 "cells": [
  {
   "cell_type": "code",
   "execution_count": 1,
   "id": "f78b7a4c",
   "metadata": {},
   "outputs": [],
   "source": [
    "# ignore warnings\n",
    "import warnings\n",
    "warnings.filterwarnings(\"ignore\")\n",
    "import pandas as pd\n",
    "import matplotlib.pyplot as plt\n",
    "import seaborn as sns\n",
    "import numpy as np\n",
    "import wrangle\n",
    "from sklearn.model_selection import train_test_split\n",
    "from scipy import stats\n",
    "\n",
    "plt.rcParams['figure.figsize'] = [12,8]\n",
    "alpha = .05\n",
    "\n",
    "from sklearn.tree import DecisionTreeClassifier, plot_tree\n",
    "from sklearn.metrics import classification_report\n",
    "from sklearn.metrics import confusion_matrix\n",
    "from sklearn.neighbors import KNeighborsClassifier\n",
    "from sklearn.linear_model import LogisticRegression\n",
    "from sklearn.ensemble import RandomForestClassifier\n",
    "from sklearn.cluster import KMeans\n",
    "import sklearn.preprocessing"
   ]
  },
  {
   "cell_type": "code",
   "execution_count": 2,
   "id": "2ce8b660",
   "metadata": {},
   "outputs": [
    {
     "data": {
      "text/html": [
       "<div>\n",
       "<style scoped>\n",
       "    .dataframe tbody tr th:only-of-type {\n",
       "        vertical-align: middle;\n",
       "    }\n",
       "\n",
       "    .dataframe tbody tr th {\n",
       "        vertical-align: top;\n",
       "    }\n",
       "\n",
       "    .dataframe thead th {\n",
       "        text-align: right;\n",
       "    }\n",
       "</style>\n",
       "<table border=\"1\" class=\"dataframe\">\n",
       "  <thead>\n",
       "    <tr style=\"text-align: right;\">\n",
       "      <th></th>\n",
       "      <th>Unnamed: 0</th>\n",
       "      <th>Year</th>\n",
       "      <th>Month</th>\n",
       "      <th>DayofMonth</th>\n",
       "      <th>DayOfWeek</th>\n",
       "      <th>DepTime</th>\n",
       "      <th>CRSDepTime</th>\n",
       "      <th>ArrTime</th>\n",
       "      <th>CRSArrTime</th>\n",
       "      <th>UniqueCarrier</th>\n",
       "      <th>...</th>\n",
       "      <th>TaxiIn</th>\n",
       "      <th>TaxiOut</th>\n",
       "      <th>Cancelled</th>\n",
       "      <th>CancellationCode</th>\n",
       "      <th>Diverted</th>\n",
       "      <th>CarrierDelay</th>\n",
       "      <th>WeatherDelay</th>\n",
       "      <th>NASDelay</th>\n",
       "      <th>SecurityDelay</th>\n",
       "      <th>LateAircraftDelay</th>\n",
       "    </tr>\n",
       "  </thead>\n",
       "  <tbody>\n",
       "    <tr>\n",
       "      <th>0</th>\n",
       "      <td>0</td>\n",
       "      <td>2008</td>\n",
       "      <td>1</td>\n",
       "      <td>3</td>\n",
       "      <td>4</td>\n",
       "      <td>2003.0</td>\n",
       "      <td>1955</td>\n",
       "      <td>2211.0</td>\n",
       "      <td>2225</td>\n",
       "      <td>WN</td>\n",
       "      <td>...</td>\n",
       "      <td>4.0</td>\n",
       "      <td>8.0</td>\n",
       "      <td>0</td>\n",
       "      <td>N</td>\n",
       "      <td>0</td>\n",
       "      <td>NaN</td>\n",
       "      <td>NaN</td>\n",
       "      <td>NaN</td>\n",
       "      <td>NaN</td>\n",
       "      <td>NaN</td>\n",
       "    </tr>\n",
       "    <tr>\n",
       "      <th>1</th>\n",
       "      <td>1</td>\n",
       "      <td>2008</td>\n",
       "      <td>1</td>\n",
       "      <td>3</td>\n",
       "      <td>4</td>\n",
       "      <td>754.0</td>\n",
       "      <td>735</td>\n",
       "      <td>1002.0</td>\n",
       "      <td>1000</td>\n",
       "      <td>WN</td>\n",
       "      <td>...</td>\n",
       "      <td>5.0</td>\n",
       "      <td>10.0</td>\n",
       "      <td>0</td>\n",
       "      <td>N</td>\n",
       "      <td>0</td>\n",
       "      <td>NaN</td>\n",
       "      <td>NaN</td>\n",
       "      <td>NaN</td>\n",
       "      <td>NaN</td>\n",
       "      <td>NaN</td>\n",
       "    </tr>\n",
       "    <tr>\n",
       "      <th>2</th>\n",
       "      <td>2</td>\n",
       "      <td>2008</td>\n",
       "      <td>1</td>\n",
       "      <td>3</td>\n",
       "      <td>4</td>\n",
       "      <td>628.0</td>\n",
       "      <td>620</td>\n",
       "      <td>804.0</td>\n",
       "      <td>750</td>\n",
       "      <td>WN</td>\n",
       "      <td>...</td>\n",
       "      <td>3.0</td>\n",
       "      <td>17.0</td>\n",
       "      <td>0</td>\n",
       "      <td>N</td>\n",
       "      <td>0</td>\n",
       "      <td>NaN</td>\n",
       "      <td>NaN</td>\n",
       "      <td>NaN</td>\n",
       "      <td>NaN</td>\n",
       "      <td>NaN</td>\n",
       "    </tr>\n",
       "    <tr>\n",
       "      <th>3</th>\n",
       "      <td>4</td>\n",
       "      <td>2008</td>\n",
       "      <td>1</td>\n",
       "      <td>3</td>\n",
       "      <td>4</td>\n",
       "      <td>1829.0</td>\n",
       "      <td>1755</td>\n",
       "      <td>1959.0</td>\n",
       "      <td>1925</td>\n",
       "      <td>WN</td>\n",
       "      <td>...</td>\n",
       "      <td>3.0</td>\n",
       "      <td>10.0</td>\n",
       "      <td>0</td>\n",
       "      <td>N</td>\n",
       "      <td>0</td>\n",
       "      <td>2.0</td>\n",
       "      <td>0.0</td>\n",
       "      <td>0.0</td>\n",
       "      <td>0.0</td>\n",
       "      <td>32.0</td>\n",
       "    </tr>\n",
       "    <tr>\n",
       "      <th>4</th>\n",
       "      <td>5</td>\n",
       "      <td>2008</td>\n",
       "      <td>1</td>\n",
       "      <td>3</td>\n",
       "      <td>4</td>\n",
       "      <td>1940.0</td>\n",
       "      <td>1915</td>\n",
       "      <td>2121.0</td>\n",
       "      <td>2110</td>\n",
       "      <td>WN</td>\n",
       "      <td>...</td>\n",
       "      <td>4.0</td>\n",
       "      <td>10.0</td>\n",
       "      <td>0</td>\n",
       "      <td>N</td>\n",
       "      <td>0</td>\n",
       "      <td>NaN</td>\n",
       "      <td>NaN</td>\n",
       "      <td>NaN</td>\n",
       "      <td>NaN</td>\n",
       "      <td>NaN</td>\n",
       "    </tr>\n",
       "  </tbody>\n",
       "</table>\n",
       "<p>5 rows × 30 columns</p>\n",
       "</div>"
      ],
      "text/plain": [
       "   Unnamed: 0  Year  Month  DayofMonth  DayOfWeek  DepTime  CRSDepTime  \\\n",
       "0           0  2008      1           3          4   2003.0        1955   \n",
       "1           1  2008      1           3          4    754.0         735   \n",
       "2           2  2008      1           3          4    628.0         620   \n",
       "3           4  2008      1           3          4   1829.0        1755   \n",
       "4           5  2008      1           3          4   1940.0        1915   \n",
       "\n",
       "   ArrTime  CRSArrTime UniqueCarrier  ...  TaxiIn TaxiOut  Cancelled  \\\n",
       "0   2211.0        2225            WN  ...     4.0     8.0          0   \n",
       "1   1002.0        1000            WN  ...     5.0    10.0          0   \n",
       "2    804.0         750            WN  ...     3.0    17.0          0   \n",
       "3   1959.0        1925            WN  ...     3.0    10.0          0   \n",
       "4   2121.0        2110            WN  ...     4.0    10.0          0   \n",
       "\n",
       "   CancellationCode  Diverted  CarrierDelay  WeatherDelay NASDelay  \\\n",
       "0                 N         0           NaN           NaN      NaN   \n",
       "1                 N         0           NaN           NaN      NaN   \n",
       "2                 N         0           NaN           NaN      NaN   \n",
       "3                 N         0           2.0           0.0      0.0   \n",
       "4                 N         0           NaN           NaN      NaN   \n",
       "\n",
       "  SecurityDelay  LateAircraftDelay  \n",
       "0           NaN                NaN  \n",
       "1           NaN                NaN  \n",
       "2           NaN                NaN  \n",
       "3           0.0               32.0  \n",
       "4           NaN                NaN  \n",
       "\n",
       "[5 rows x 30 columns]"
      ]
     },
     "execution_count": 2,
     "metadata": {},
     "output_type": "execute_result"
    }
   ],
   "source": [
    "df = wrangle.get_flight_data()\n",
    "df.head()"
   ]
  },
  {
   "cell_type": "code",
   "execution_count": 3,
   "id": "851bc6a3",
   "metadata": {},
   "outputs": [
    {
     "name": "stdout",
     "output_type": "stream",
     "text": [
      "<class 'pandas.core.frame.DataFrame'>\n",
      "RangeIndex: 1936758 entries, 0 to 1936757\n",
      "Data columns (total 30 columns):\n",
      " #   Column             Dtype  \n",
      "---  ------             -----  \n",
      " 0   Unnamed: 0         int64  \n",
      " 1   Year               int64  \n",
      " 2   Month              int64  \n",
      " 3   DayofMonth         int64  \n",
      " 4   DayOfWeek          int64  \n",
      " 5   DepTime            float64\n",
      " 6   CRSDepTime         int64  \n",
      " 7   ArrTime            float64\n",
      " 8   CRSArrTime         int64  \n",
      " 9   UniqueCarrier      object \n",
      " 10  FlightNum          int64  \n",
      " 11  TailNum            object \n",
      " 12  ActualElapsedTime  float64\n",
      " 13  CRSElapsedTime     float64\n",
      " 14  AirTime            float64\n",
      " 15  ArrDelay           float64\n",
      " 16  DepDelay           float64\n",
      " 17  Origin             object \n",
      " 18  Dest               object \n",
      " 19  Distance           int64  \n",
      " 20  TaxiIn             float64\n",
      " 21  TaxiOut            float64\n",
      " 22  Cancelled          int64  \n",
      " 23  CancellationCode   object \n",
      " 24  Diverted           int64  \n",
      " 25  CarrierDelay       float64\n",
      " 26  WeatherDelay       float64\n",
      " 27  NASDelay           float64\n",
      " 28  SecurityDelay      float64\n",
      " 29  LateAircraftDelay  float64\n",
      "dtypes: float64(14), int64(11), object(5)\n",
      "memory usage: 443.3+ MB\n"
     ]
    }
   ],
   "source": [
    "df.info()"
   ]
  },
  {
   "cell_type": "code",
   "execution_count": 4,
   "id": "83811024",
   "metadata": {},
   "outputs": [
    {
     "data": {
      "text/html": [
       "<div>\n",
       "<style scoped>\n",
       "    .dataframe tbody tr th:only-of-type {\n",
       "        vertical-align: middle;\n",
       "    }\n",
       "\n",
       "    .dataframe tbody tr th {\n",
       "        vertical-align: top;\n",
       "    }\n",
       "\n",
       "    .dataframe thead th {\n",
       "        text-align: right;\n",
       "    }\n",
       "</style>\n",
       "<table border=\"1\" class=\"dataframe\">\n",
       "  <thead>\n",
       "    <tr style=\"text-align: right;\">\n",
       "      <th></th>\n",
       "      <th>Year</th>\n",
       "      <th>Month</th>\n",
       "      <th>DayofMonth</th>\n",
       "      <th>DayOfWeek</th>\n",
       "      <th>CRSDepTime</th>\n",
       "      <th>CRSArrTime</th>\n",
       "      <th>UniqueCarrier</th>\n",
       "      <th>TailNum</th>\n",
       "      <th>CRSElapsedTime</th>\n",
       "      <th>AirTime</th>\n",
       "      <th>...</th>\n",
       "      <th>NASDelay</th>\n",
       "      <th>SecurityDelay</th>\n",
       "      <th>LateAircraftDelay</th>\n",
       "      <th>Delayed_Status</th>\n",
       "      <th>Delayed</th>\n",
       "      <th>UniqueCarrier_DL</th>\n",
       "      <th>UniqueCarrier_OO</th>\n",
       "      <th>UniqueCarrier_UA</th>\n",
       "      <th>UniqueCarrier_WN</th>\n",
       "      <th>departure_hour</th>\n",
       "    </tr>\n",
       "  </thead>\n",
       "  <tbody>\n",
       "    <tr>\n",
       "      <th>51640</th>\n",
       "      <td>2008</td>\n",
       "      <td>1</td>\n",
       "      <td>1</td>\n",
       "      <td>2</td>\n",
       "      <td>14:29:00</td>\n",
       "      <td>1922</td>\n",
       "      <td>OO</td>\n",
       "      <td>N772SK</td>\n",
       "      <td>173</td>\n",
       "      <td>153</td>\n",
       "      <td>...</td>\n",
       "      <td>0</td>\n",
       "      <td>0</td>\n",
       "      <td>0</td>\n",
       "      <td>0</td>\n",
       "      <td>0</td>\n",
       "      <td>0</td>\n",
       "      <td>1</td>\n",
       "      <td>0</td>\n",
       "      <td>0</td>\n",
       "      <td>14</td>\n",
       "    </tr>\n",
       "    <tr>\n",
       "      <th>53353</th>\n",
       "      <td>2008</td>\n",
       "      <td>1</td>\n",
       "      <td>4</td>\n",
       "      <td>5</td>\n",
       "      <td>20:20:00</td>\n",
       "      <td>2138</td>\n",
       "      <td>OO</td>\n",
       "      <td>N767SK</td>\n",
       "      <td>198</td>\n",
       "      <td>195</td>\n",
       "      <td>...</td>\n",
       "      <td>0</td>\n",
       "      <td>0</td>\n",
       "      <td>98</td>\n",
       "      <td>2</td>\n",
       "      <td>1</td>\n",
       "      <td>0</td>\n",
       "      <td>1</td>\n",
       "      <td>0</td>\n",
       "      <td>0</td>\n",
       "      <td>20</td>\n",
       "    </tr>\n",
       "    <tr>\n",
       "      <th>53354</th>\n",
       "      <td>2008</td>\n",
       "      <td>1</td>\n",
       "      <td>4</td>\n",
       "      <td>5</td>\n",
       "      <td>14:29:00</td>\n",
       "      <td>1922</td>\n",
       "      <td>OO</td>\n",
       "      <td>N767SK</td>\n",
       "      <td>173</td>\n",
       "      <td>146</td>\n",
       "      <td>...</td>\n",
       "      <td>0</td>\n",
       "      <td>0</td>\n",
       "      <td>0</td>\n",
       "      <td>1</td>\n",
       "      <td>1</td>\n",
       "      <td>0</td>\n",
       "      <td>1</td>\n",
       "      <td>0</td>\n",
       "      <td>0</td>\n",
       "      <td>14</td>\n",
       "    </tr>\n",
       "    <tr>\n",
       "      <th>54134</th>\n",
       "      <td>2008</td>\n",
       "      <td>1</td>\n",
       "      <td>5</td>\n",
       "      <td>6</td>\n",
       "      <td>14:29:00</td>\n",
       "      <td>1922</td>\n",
       "      <td>OO</td>\n",
       "      <td>N768SK</td>\n",
       "      <td>173</td>\n",
       "      <td>143</td>\n",
       "      <td>...</td>\n",
       "      <td>0</td>\n",
       "      <td>0</td>\n",
       "      <td>20</td>\n",
       "      <td>1</td>\n",
       "      <td>1</td>\n",
       "      <td>0</td>\n",
       "      <td>1</td>\n",
       "      <td>0</td>\n",
       "      <td>0</td>\n",
       "      <td>14</td>\n",
       "    </tr>\n",
       "    <tr>\n",
       "      <th>54135</th>\n",
       "      <td>2008</td>\n",
       "      <td>1</td>\n",
       "      <td>5</td>\n",
       "      <td>6</td>\n",
       "      <td>12:37:00</td>\n",
       "      <td>1355</td>\n",
       "      <td>OO</td>\n",
       "      <td>N768SK</td>\n",
       "      <td>198</td>\n",
       "      <td>177</td>\n",
       "      <td>...</td>\n",
       "      <td>0</td>\n",
       "      <td>0</td>\n",
       "      <td>0</td>\n",
       "      <td>1</td>\n",
       "      <td>1</td>\n",
       "      <td>0</td>\n",
       "      <td>1</td>\n",
       "      <td>0</td>\n",
       "      <td>0</td>\n",
       "      <td>12</td>\n",
       "    </tr>\n",
       "  </tbody>\n",
       "</table>\n",
       "<p>5 rows × 27 columns</p>\n",
       "</div>"
      ],
      "text/plain": [
       "       Year  Month  DayofMonth  DayOfWeek CRSDepTime  CRSArrTime  \\\n",
       "51640  2008      1           1          2   14:29:00        1922   \n",
       "53353  2008      1           4          5   20:20:00        2138   \n",
       "53354  2008      1           4          5   14:29:00        1922   \n",
       "54134  2008      1           5          6   14:29:00        1922   \n",
       "54135  2008      1           5          6   12:37:00        1355   \n",
       "\n",
       "      UniqueCarrier TailNum  CRSElapsedTime  AirTime  ...  NASDelay  \\\n",
       "51640            OO  N772SK             173      153  ...         0   \n",
       "53353            OO  N767SK             198      195  ...         0   \n",
       "53354            OO  N767SK             173      146  ...         0   \n",
       "54134            OO  N768SK             173      143  ...         0   \n",
       "54135            OO  N768SK             198      177  ...         0   \n",
       "\n",
       "       SecurityDelay LateAircraftDelay Delayed_Status  Delayed  \\\n",
       "51640              0                 0              0        0   \n",
       "53353              0                98              2        1   \n",
       "53354              0                 0              1        1   \n",
       "54134              0                20              1        1   \n",
       "54135              0                 0              1        1   \n",
       "\n",
       "       UniqueCarrier_DL  UniqueCarrier_OO  UniqueCarrier_UA  UniqueCarrier_WN  \\\n",
       "51640                 0                 1                 0                 0   \n",
       "53353                 0                 1                 0                 0   \n",
       "53354                 0                 1                 0                 0   \n",
       "54134                 0                 1                 0                 0   \n",
       "54135                 0                 1                 0                 0   \n",
       "\n",
       "       departure_hour  \n",
       "51640              14  \n",
       "53353              20  \n",
       "53354              14  \n",
       "54134              14  \n",
       "54135              12  \n",
       "\n",
       "[5 rows x 27 columns]"
      ]
     },
     "execution_count": 4,
     "metadata": {},
     "output_type": "execute_result"
    }
   ],
   "source": [
    "df = wrangle.prepare_flight_data(df)\n",
    "df.head()"
   ]
  },
  {
   "cell_type": "code",
   "execution_count": 5,
   "id": "f6d249b7",
   "metadata": {},
   "outputs": [
    {
     "data": {
      "text/plain": [
       "AA    6162\n",
       "DL    3541\n",
       "UA    2403\n",
       "WN     510\n",
       "OO     230\n",
       "Name: UniqueCarrier, dtype: int64"
      ]
     },
     "execution_count": 5,
     "metadata": {},
     "output_type": "execute_result"
    }
   ],
   "source": [
    "df.UniqueCarrier.value_counts()"
   ]
  },
  {
   "cell_type": "code",
   "execution_count": 6,
   "id": "634b36fe",
   "metadata": {},
   "outputs": [
    {
     "data": {
      "text/html": [
       "<div>\n",
       "<style scoped>\n",
       "    .dataframe tbody tr th:only-of-type {\n",
       "        vertical-align: middle;\n",
       "    }\n",
       "\n",
       "    .dataframe tbody tr th {\n",
       "        vertical-align: top;\n",
       "    }\n",
       "\n",
       "    .dataframe thead th {\n",
       "        text-align: right;\n",
       "    }\n",
       "</style>\n",
       "<table border=\"1\" class=\"dataframe\">\n",
       "  <thead>\n",
       "    <tr style=\"text-align: right;\">\n",
       "      <th></th>\n",
       "      <th>count</th>\n",
       "      <th>mean</th>\n",
       "      <th>std</th>\n",
       "      <th>min</th>\n",
       "      <th>25%</th>\n",
       "      <th>50%</th>\n",
       "      <th>75%</th>\n",
       "      <th>max</th>\n",
       "    </tr>\n",
       "  </thead>\n",
       "  <tbody>\n",
       "    <tr>\n",
       "      <th>Year</th>\n",
       "      <td>12846.0</td>\n",
       "      <td>2008.000000</td>\n",
       "      <td>0.000000</td>\n",
       "      <td>2008.0</td>\n",
       "      <td>2008.0</td>\n",
       "      <td>2008.0</td>\n",
       "      <td>2008.0</td>\n",
       "      <td>2008.0</td>\n",
       "    </tr>\n",
       "    <tr>\n",
       "      <th>Month</th>\n",
       "      <td>12846.0</td>\n",
       "      <td>6.093103</td>\n",
       "      <td>3.353317</td>\n",
       "      <td>1.0</td>\n",
       "      <td>3.0</td>\n",
       "      <td>6.0</td>\n",
       "      <td>8.0</td>\n",
       "      <td>12.0</td>\n",
       "    </tr>\n",
       "    <tr>\n",
       "      <th>DayofMonth</th>\n",
       "      <td>12846.0</td>\n",
       "      <td>15.761871</td>\n",
       "      <td>8.715228</td>\n",
       "      <td>1.0</td>\n",
       "      <td>8.0</td>\n",
       "      <td>16.0</td>\n",
       "      <td>23.0</td>\n",
       "      <td>31.0</td>\n",
       "    </tr>\n",
       "    <tr>\n",
       "      <th>DayOfWeek</th>\n",
       "      <td>12846.0</td>\n",
       "      <td>3.984275</td>\n",
       "      <td>1.997640</td>\n",
       "      <td>1.0</td>\n",
       "      <td>2.0</td>\n",
       "      <td>4.0</td>\n",
       "      <td>6.0</td>\n",
       "      <td>7.0</td>\n",
       "    </tr>\n",
       "    <tr>\n",
       "      <th>CRSArrTime</th>\n",
       "      <td>12846.0</td>\n",
       "      <td>1659.090067</td>\n",
       "      <td>465.738592</td>\n",
       "      <td>5.0</td>\n",
       "      <td>1344.0</td>\n",
       "      <td>1730.0</td>\n",
       "      <td>2022.0</td>\n",
       "      <td>2359.0</td>\n",
       "    </tr>\n",
       "    <tr>\n",
       "      <th>CRSElapsedTime</th>\n",
       "      <td>12846.0</td>\n",
       "      <td>164.664721</td>\n",
       "      <td>49.138792</td>\n",
       "      <td>105.0</td>\n",
       "      <td>127.0</td>\n",
       "      <td>145.0</td>\n",
       "      <td>190.0</td>\n",
       "      <td>317.0</td>\n",
       "    </tr>\n",
       "    <tr>\n",
       "      <th>AirTime</th>\n",
       "      <td>12846.0</td>\n",
       "      <td>138.423322</td>\n",
       "      <td>49.251560</td>\n",
       "      <td>63.0</td>\n",
       "      <td>102.0</td>\n",
       "      <td>120.0</td>\n",
       "      <td>163.0</td>\n",
       "      <td>316.0</td>\n",
       "    </tr>\n",
       "    <tr>\n",
       "      <th>ArrDelay</th>\n",
       "      <td>12846.0</td>\n",
       "      <td>56.954071</td>\n",
       "      <td>52.106563</td>\n",
       "      <td>15.0</td>\n",
       "      <td>24.0</td>\n",
       "      <td>39.0</td>\n",
       "      <td>70.0</td>\n",
       "      <td>1357.0</td>\n",
       "    </tr>\n",
       "    <tr>\n",
       "      <th>DepDelay</th>\n",
       "      <td>12846.0</td>\n",
       "      <td>53.583606</td>\n",
       "      <td>52.463383</td>\n",
       "      <td>6.0</td>\n",
       "      <td>21.0</td>\n",
       "      <td>37.0</td>\n",
       "      <td>68.0</td>\n",
       "      <td>1355.0</td>\n",
       "    </tr>\n",
       "    <tr>\n",
       "      <th>Distance</th>\n",
       "      <td>12846.0</td>\n",
       "      <td>1014.780087</td>\n",
       "      <td>400.230057</td>\n",
       "      <td>641.0</td>\n",
       "      <td>732.0</td>\n",
       "      <td>862.0</td>\n",
       "      <td>1235.0</td>\n",
       "      <td>1946.0</td>\n",
       "    </tr>\n",
       "    <tr>\n",
       "      <th>CarrierDelay</th>\n",
       "      <td>12846.0</td>\n",
       "      <td>21.081582</td>\n",
       "      <td>38.641358</td>\n",
       "      <td>0.0</td>\n",
       "      <td>0.0</td>\n",
       "      <td>9.0</td>\n",
       "      <td>24.0</td>\n",
       "      <td>859.0</td>\n",
       "    </tr>\n",
       "    <tr>\n",
       "      <th>WeatherDelay</th>\n",
       "      <td>12846.0</td>\n",
       "      <td>2.207847</td>\n",
       "      <td>13.420142</td>\n",
       "      <td>0.0</td>\n",
       "      <td>0.0</td>\n",
       "      <td>0.0</td>\n",
       "      <td>0.0</td>\n",
       "      <td>410.0</td>\n",
       "    </tr>\n",
       "    <tr>\n",
       "      <th>NASDelay</th>\n",
       "      <td>12846.0</td>\n",
       "      <td>9.874669</td>\n",
       "      <td>23.880799</td>\n",
       "      <td>0.0</td>\n",
       "      <td>0.0</td>\n",
       "      <td>2.0</td>\n",
       "      <td>12.0</td>\n",
       "      <td>1357.0</td>\n",
       "    </tr>\n",
       "    <tr>\n",
       "      <th>SecurityDelay</th>\n",
       "      <td>12846.0</td>\n",
       "      <td>0.045072</td>\n",
       "      <td>1.398350</td>\n",
       "      <td>0.0</td>\n",
       "      <td>0.0</td>\n",
       "      <td>0.0</td>\n",
       "      <td>0.0</td>\n",
       "      <td>74.0</td>\n",
       "    </tr>\n",
       "    <tr>\n",
       "      <th>LateAircraftDelay</th>\n",
       "      <td>12846.0</td>\n",
       "      <td>23.744901</td>\n",
       "      <td>38.619072</td>\n",
       "      <td>0.0</td>\n",
       "      <td>0.0</td>\n",
       "      <td>9.0</td>\n",
       "      <td>31.0</td>\n",
       "      <td>507.0</td>\n",
       "    </tr>\n",
       "    <tr>\n",
       "      <th>Delayed_Status</th>\n",
       "      <td>12846.0</td>\n",
       "      <td>1.411101</td>\n",
       "      <td>0.794687</td>\n",
       "      <td>0.0</td>\n",
       "      <td>1.0</td>\n",
       "      <td>1.0</td>\n",
       "      <td>2.0</td>\n",
       "      <td>4.0</td>\n",
       "    </tr>\n",
       "    <tr>\n",
       "      <th>Delayed</th>\n",
       "      <td>12846.0</td>\n",
       "      <td>0.967694</td>\n",
       "      <td>0.176818</td>\n",
       "      <td>0.0</td>\n",
       "      <td>1.0</td>\n",
       "      <td>1.0</td>\n",
       "      <td>1.0</td>\n",
       "      <td>1.0</td>\n",
       "    </tr>\n",
       "    <tr>\n",
       "      <th>UniqueCarrier_DL</th>\n",
       "      <td>12846.0</td>\n",
       "      <td>0.275650</td>\n",
       "      <td>0.446859</td>\n",
       "      <td>0.0</td>\n",
       "      <td>0.0</td>\n",
       "      <td>0.0</td>\n",
       "      <td>1.0</td>\n",
       "      <td>1.0</td>\n",
       "    </tr>\n",
       "    <tr>\n",
       "      <th>UniqueCarrier_OO</th>\n",
       "      <td>12846.0</td>\n",
       "      <td>0.017904</td>\n",
       "      <td>0.132609</td>\n",
       "      <td>0.0</td>\n",
       "      <td>0.0</td>\n",
       "      <td>0.0</td>\n",
       "      <td>0.0</td>\n",
       "      <td>1.0</td>\n",
       "    </tr>\n",
       "    <tr>\n",
       "      <th>UniqueCarrier_UA</th>\n",
       "      <td>12846.0</td>\n",
       "      <td>0.187062</td>\n",
       "      <td>0.389977</td>\n",
       "      <td>0.0</td>\n",
       "      <td>0.0</td>\n",
       "      <td>0.0</td>\n",
       "      <td>0.0</td>\n",
       "      <td>1.0</td>\n",
       "    </tr>\n",
       "    <tr>\n",
       "      <th>UniqueCarrier_WN</th>\n",
       "      <td>12846.0</td>\n",
       "      <td>0.039701</td>\n",
       "      <td>0.195264</td>\n",
       "      <td>0.0</td>\n",
       "      <td>0.0</td>\n",
       "      <td>0.0</td>\n",
       "      <td>0.0</td>\n",
       "      <td>1.0</td>\n",
       "    </tr>\n",
       "    <tr>\n",
       "      <th>departure_hour</th>\n",
       "      <td>12846.0</td>\n",
       "      <td>14.315273</td>\n",
       "      <td>4.321861</td>\n",
       "      <td>1.0</td>\n",
       "      <td>11.0</td>\n",
       "      <td>14.0</td>\n",
       "      <td>18.0</td>\n",
       "      <td>23.0</td>\n",
       "    </tr>\n",
       "  </tbody>\n",
       "</table>\n",
       "</div>"
      ],
      "text/plain": [
       "                     count         mean         std     min     25%     50%  \\\n",
       "Year               12846.0  2008.000000    0.000000  2008.0  2008.0  2008.0   \n",
       "Month              12846.0     6.093103    3.353317     1.0     3.0     6.0   \n",
       "DayofMonth         12846.0    15.761871    8.715228     1.0     8.0    16.0   \n",
       "DayOfWeek          12846.0     3.984275    1.997640     1.0     2.0     4.0   \n",
       "CRSArrTime         12846.0  1659.090067  465.738592     5.0  1344.0  1730.0   \n",
       "CRSElapsedTime     12846.0   164.664721   49.138792   105.0   127.0   145.0   \n",
       "AirTime            12846.0   138.423322   49.251560    63.0   102.0   120.0   \n",
       "ArrDelay           12846.0    56.954071   52.106563    15.0    24.0    39.0   \n",
       "DepDelay           12846.0    53.583606   52.463383     6.0    21.0    37.0   \n",
       "Distance           12846.0  1014.780087  400.230057   641.0   732.0   862.0   \n",
       "CarrierDelay       12846.0    21.081582   38.641358     0.0     0.0     9.0   \n",
       "WeatherDelay       12846.0     2.207847   13.420142     0.0     0.0     0.0   \n",
       "NASDelay           12846.0     9.874669   23.880799     0.0     0.0     2.0   \n",
       "SecurityDelay      12846.0     0.045072    1.398350     0.0     0.0     0.0   \n",
       "LateAircraftDelay  12846.0    23.744901   38.619072     0.0     0.0     9.0   \n",
       "Delayed_Status     12846.0     1.411101    0.794687     0.0     1.0     1.0   \n",
       "Delayed            12846.0     0.967694    0.176818     0.0     1.0     1.0   \n",
       "UniqueCarrier_DL   12846.0     0.275650    0.446859     0.0     0.0     0.0   \n",
       "UniqueCarrier_OO   12846.0     0.017904    0.132609     0.0     0.0     0.0   \n",
       "UniqueCarrier_UA   12846.0     0.187062    0.389977     0.0     0.0     0.0   \n",
       "UniqueCarrier_WN   12846.0     0.039701    0.195264     0.0     0.0     0.0   \n",
       "departure_hour     12846.0    14.315273    4.321861     1.0    11.0    14.0   \n",
       "\n",
       "                      75%     max  \n",
       "Year               2008.0  2008.0  \n",
       "Month                 8.0    12.0  \n",
       "DayofMonth           23.0    31.0  \n",
       "DayOfWeek             6.0     7.0  \n",
       "CRSArrTime         2022.0  2359.0  \n",
       "CRSElapsedTime      190.0   317.0  \n",
       "AirTime             163.0   316.0  \n",
       "ArrDelay             70.0  1357.0  \n",
       "DepDelay             68.0  1355.0  \n",
       "Distance           1235.0  1946.0  \n",
       "CarrierDelay         24.0   859.0  \n",
       "WeatherDelay          0.0   410.0  \n",
       "NASDelay             12.0  1357.0  \n",
       "SecurityDelay         0.0    74.0  \n",
       "LateAircraftDelay    31.0   507.0  \n",
       "Delayed_Status        2.0     4.0  \n",
       "Delayed               1.0     1.0  \n",
       "UniqueCarrier_DL      1.0     1.0  \n",
       "UniqueCarrier_OO      0.0     1.0  \n",
       "UniqueCarrier_UA      0.0     1.0  \n",
       "UniqueCarrier_WN      0.0     1.0  \n",
       "departure_hour       18.0    23.0  "
      ]
     },
     "execution_count": 6,
     "metadata": {},
     "output_type": "execute_result"
    }
   ],
   "source": [
    "df.describe().T"
   ]
  },
  {
   "cell_type": "markdown",
   "id": "3d42203b",
   "metadata": {},
   "source": [
    "### Train, validate, test split"
   ]
  },
  {
   "cell_type": "code",
   "execution_count": 7,
   "id": "af041541",
   "metadata": {},
   "outputs": [],
   "source": [
    "def split_flight_data(df):\n",
    "    ''' This function splits the cleaned dataframe into train, validate, and test \n",
    "    datasets.'''\n",
    "\n",
    "    train_validate, test = train_test_split(df, test_size=.2, \n",
    "                                        random_state=123)\n",
    "    train, validate = train_test_split(train_validate, test_size=.3, \n",
    "                                   random_state=123) \n",
    "    return train, validate, test"
   ]
  },
  {
   "cell_type": "code",
   "execution_count": 8,
   "id": "06432858",
   "metadata": {},
   "outputs": [],
   "source": [
    "train, validate, test = split_flight_data(df)"
   ]
  },
  {
   "cell_type": "code",
   "execution_count": 9,
   "id": "2ef986c5",
   "metadata": {},
   "outputs": [
    {
     "data": {
      "text/plain": [
       "((7193, 27), (3083, 27), (2570, 27))"
      ]
     },
     "execution_count": 9,
     "metadata": {},
     "output_type": "execute_result"
    }
   ],
   "source": [
    "train.shape, validate.shape, test.shape"
   ]
  },
  {
   "cell_type": "markdown",
   "id": "6d3bb65f",
   "metadata": {},
   "source": [
    "### Explore\n",
    "\n",
    "**Questions to ask**\n",
    "- Does the airline impact flight delays?\n",
    "- Does the airport impact flight delays?\n",
    "     - Departure and Arrival\n",
    "- Does the day of the week impact flight delays?\n",
    "- Does the month impact flight delays?\n",
    "- Are specific types of delays more likely to occur during a specified time?"
   ]
  },
  {
   "cell_type": "code",
   "execution_count": 10,
   "id": "367a049f",
   "metadata": {},
   "outputs": [
    {
     "data": {
      "text/plain": [
       "1    4698\n",
       "2    1547\n",
       "3     464\n",
       "0     250\n",
       "4     234\n",
       "Name: Delayed_Status, dtype: int64"
      ]
     },
     "execution_count": 10,
     "metadata": {},
     "output_type": "execute_result"
    }
   ],
   "source": [
    "train.Delayed_Status.value_counts()"
   ]
  },
  {
   "cell_type": "code",
   "execution_count": 11,
   "id": "bf78b7af",
   "metadata": {},
   "outputs": [
    {
     "data": {
      "text/plain": [
       "15      250\n",
       "19      192\n",
       "16      183\n",
       "18      179\n",
       "20      178\n",
       "       ... \n",
       "313       1\n",
       "318       1\n",
       "219       1\n",
       "1357      1\n",
       "236       1\n",
       "Name: ArrDelay, Length: 288, dtype: int64"
      ]
     },
     "execution_count": 11,
     "metadata": {},
     "output_type": "execute_result"
    }
   ],
   "source": [
    "train.ArrDelay.value_counts()"
   ]
  },
  {
   "cell_type": "code",
   "execution_count": 12,
   "id": "5406c8e6",
   "metadata": {},
   "outputs": [
    {
     "name": "stdout",
     "output_type": "stream",
     "text": [
      "2008    12846\n",
      "Name: Year, dtype: int64\n",
      "6     1450\n",
      "3     1326\n",
      "7     1323\n",
      "12    1261\n",
      "5     1217\n",
      "8     1183\n",
      "1     1132\n",
      "4     1091\n",
      "2     1064\n",
      "10     627\n",
      "11     605\n",
      "9      567\n",
      "Name: Month, dtype: int64\n",
      "8     494\n",
      "22    485\n",
      "16    476\n",
      "17    465\n",
      "4     456\n",
      "21    443\n",
      "14    440\n",
      "9     440\n",
      "10    439\n",
      "27    438\n",
      "19    437\n",
      "23    435\n",
      "15    435\n",
      "20    428\n",
      "7     428\n",
      "6     427\n",
      "5     411\n",
      "29    410\n",
      "18    410\n",
      "13    405\n",
      "3     395\n",
      "2     394\n",
      "24    390\n",
      "26    383\n",
      "11    373\n",
      "28    369\n",
      "1     366\n",
      "30    362\n",
      "12    360\n",
      "25    359\n",
      "31    293\n",
      "Name: DayofMonth, dtype: int64\n",
      "5    2105\n",
      "4    1957\n",
      "1    1952\n",
      "7    1880\n",
      "2    1714\n",
      "3    1713\n",
      "6    1525\n",
      "Name: DayOfWeek, dtype: int64\n",
      "15:05:00    192\n",
      "16:00:00    187\n",
      "16:10:00    169\n",
      "12:10:00    158\n",
      "14:40:00    157\n",
      "           ... \n",
      "19:42:00      1\n",
      "07:03:00      1\n",
      "14:14:00      1\n",
      "12:29:00      1\n",
      "14:04:00      1\n",
      "Name: CRSDepTime, Length: 516, dtype: int64\n",
      "2215    228\n",
      "1730    177\n",
      "1845    149\n",
      "1720    140\n",
      "1940    130\n",
      "       ... \n",
      "1134      1\n",
      "1308      1\n",
      "2009      1\n",
      "1909      1\n",
      "1107      1\n",
      "Name: CRSArrTime, Length: 746, dtype: int64\n",
      "AA    6162\n",
      "DL    3541\n",
      "UA    2403\n",
      "WN     510\n",
      "OO     230\n",
      "Name: UniqueCarrier, dtype: int64\n",
      "N1402A    54\n",
      "N143DA    45\n",
      "N131DN    43\n",
      "N144DA    38\n",
      "N573AA    34\n",
      "          ..\n",
      "N713SW     1\n",
      "N221UA     1\n",
      "N682SW     1\n",
      "N700GS     1\n",
      "N922WN     1\n",
      "Name: TailNum, Length: 1683, dtype: int64\n",
      "120    826\n",
      "115    686\n",
      "125    609\n",
      "140    605\n",
      "135    599\n",
      "      ... \n",
      "279      2\n",
      "278      2\n",
      "218      1\n",
      "307      1\n",
      "171      1\n",
      "Name: CRSElapsedTime, Length: 171, dtype: int64\n",
      "112    205\n",
      "100    204\n",
      "101    198\n",
      "99     195\n",
      "102    188\n",
      "      ... \n",
      "316      1\n",
      "309      1\n",
      "305      1\n",
      "63       1\n",
      "304      1\n",
      "Name: AirTime, Length: 238, dtype: int64\n",
      "15     415\n",
      "16     349\n",
      "18     341\n",
      "19     335\n",
      "20     330\n",
      "      ... \n",
      "292      1\n",
      "345      1\n",
      "432      1\n",
      "497      1\n",
      "402      1\n",
      "Name: ArrDelay, Length: 322, dtype: int64\n",
      "24     229\n",
      "20     229\n",
      "25     228\n",
      "26     216\n",
      "14     213\n",
      "      ... \n",
      "345      1\n",
      "286      1\n",
      "291      1\n",
      "511      1\n",
      "421      1\n",
      "Name: DepDelay, Length: 330, dtype: int64\n",
      "DFW    4369\n",
      "ATL    2891\n",
      "DEN    2815\n",
      "LAX    2771\n",
      "Name: Origin, dtype: int64\n",
      "DFW    3794\n",
      "LAX    3709\n",
      "DEN    2971\n",
      "ATL    2372\n",
      "Name: Dest, dtype: int64\n",
      "732     2883\n",
      "1235    2732\n",
      "641     2548\n",
      "862     2303\n",
      "1946    1445\n",
      "1199     935\n",
      "Name: Distance, dtype: int64\n",
      "0      4416\n",
      "6       380\n",
      "8       323\n",
      "9       318\n",
      "7       311\n",
      "       ... \n",
      "326       1\n",
      "233       1\n",
      "161       1\n",
      "345       1\n",
      "139       1\n",
      "Name: CarrierDelay, Length: 275, dtype: int64\n",
      "0      11898\n",
      "10        44\n",
      "15        41\n",
      "6         39\n",
      "13        36\n",
      "       ...  \n",
      "212        1\n",
      "131        1\n",
      "146        1\n",
      "263        1\n",
      "73         1\n",
      "Name: WeatherDelay, Length: 134, dtype: int64\n",
      "0      5960\n",
      "3       405\n",
      "1       393\n",
      "5       383\n",
      "4       366\n",
      "       ... \n",
      "281       1\n",
      "114       1\n",
      "169       1\n",
      "156       1\n",
      "138       1\n",
      "Name: NASDelay, Length: 176, dtype: int64\n",
      "0     12827\n",
      "15        3\n",
      "61        2\n",
      "44        2\n",
      "5         1\n",
      "22        1\n",
      "41        1\n",
      "19        1\n",
      "14        1\n",
      "12        1\n",
      "24        1\n",
      "16        1\n",
      "45        1\n",
      "74        1\n",
      "43        1\n",
      "9         1\n",
      "Name: SecurityDelay, dtype: int64\n",
      "0      5141\n",
      "15      240\n",
      "16      197\n",
      "18      192\n",
      "14      180\n",
      "       ... \n",
      "304       1\n",
      "246       1\n",
      "326       1\n",
      "216       1\n",
      "191       1\n",
      "Name: LateAircraftDelay, Length: 261, dtype: int64\n",
      "1    8405\n",
      "2    2772\n",
      "3     838\n",
      "4     416\n",
      "0     415\n",
      "Name: Delayed_Status, dtype: int64\n",
      "1    12431\n",
      "0      415\n",
      "Name: Delayed, dtype: int64\n",
      "0    9305\n",
      "1    3541\n",
      "Name: UniqueCarrier_DL, dtype: int64\n",
      "0    12616\n",
      "1      230\n",
      "Name: UniqueCarrier_OO, dtype: int64\n",
      "0    10443\n",
      "1     2403\n",
      "Name: UniqueCarrier_UA, dtype: int64\n",
      "0    12336\n",
      "1      510\n",
      "Name: UniqueCarrier_WN, dtype: int64\n",
      "16    1130\n",
      "13    1042\n",
      "14     946\n",
      "17     945\n",
      "10     912\n",
      "15     900\n",
      "12     889\n",
      "21     870\n",
      "19     858\n",
      "18     843\n",
      "11     839\n",
      "20     683\n",
      "8      632\n",
      "9      436\n",
      "7      322\n",
      "6      239\n",
      "22     136\n",
      "5       74\n",
      "1       53\n",
      "3       39\n",
      "23      32\n",
      "4       24\n",
      "2        2\n",
      "Name: departure_hour, dtype: int64\n"
     ]
    }
   ],
   "source": [
    "for col in df.columns:\n",
    "    print(df[col].value_counts())"
   ]
  },
  {
   "cell_type": "code",
   "execution_count": 13,
   "id": "2d27faba",
   "metadata": {},
   "outputs": [],
   "source": [
    "# # for col in train.columns:\n",
    "#     plt.figure(figsize=(8,4))\n",
    "#     plt.hist(df[col])\n",
    "#     plt.title(col)\n",
    "#     plt.show()"
   ]
  },
  {
   "cell_type": "code",
   "execution_count": 14,
   "id": "61f01d8e",
   "metadata": {},
   "outputs": [
    {
     "data": {
      "text/plain": [
       "<AxesSubplot:>"
      ]
     },
     "execution_count": 14,
     "metadata": {},
     "output_type": "execute_result"
    },
    {
     "data": {
      "image/png": "[encoded data removed]",
      "text/plain": [
       "<Figure size 864x576 with 1 Axes>"
      ]
     },
     "metadata": {
      "needs_background": "light"
     },
     "output_type": "display_data"
    }
   ],
   "source": [
    "train.Delayed.hist()"
   ]
  },
  {
   "cell_type": "code",
   "execution_count": 15,
   "id": "a4cadaf0",
   "metadata": {
    "scrolled": true
   },
   "outputs": [
    {
     "data": {
      "image/png": "[encoded data removed]",
      "text/plain": [
       "<Figure size 864x576 with 1 Axes>"
      ]
     },
     "metadata": {
      "needs_background": "light"
     },
     "output_type": "display_data"
    }
   ],
   "source": [
    "sns.countplot(train.Delayed_Status)\n",
    "plt.title('Delayed Status')\n",
    "plt.show()"
   ]
  },
  {
   "cell_type": "markdown",
   "id": "96d83698",
   "metadata": {},
   "source": [
    "The majority of delays are greater than 15 minutes but less than 60."
   ]
  },
  {
   "cell_type": "markdown",
   "id": "bebd5114",
   "metadata": {},
   "source": [
    "### Airline"
   ]
  },
  {
   "cell_type": "code",
   "execution_count": 16,
   "id": "ed608255",
   "metadata": {},
   "outputs": [
    {
     "data": {
      "text/plain": [
       "<AxesSubplot:xlabel='UniqueCarrier', ylabel='Delayed'>"
      ]
     },
     "execution_count": 16,
     "metadata": {},
     "output_type": "execute_result"
    },
    {
     "data": {
      "image/png": "[encoded data removed]",
      "text/plain": [
       "<Figure size 864x576 with 1 Axes>"
      ]
     },
     "metadata": {
      "needs_background": "light"
     },
     "output_type": "display_data"
    }
   ],
   "source": [
    "sns.barplot(data=train, x = 'UniqueCarrier', y = 'Delayed')"
   ]
  },
  {
   "cell_type": "code",
   "execution_count": 17,
   "id": "0b168e9d",
   "metadata": {
    "scrolled": true
   },
   "outputs": [
    {
     "data": {
      "text/plain": [
       "<AxesSubplot:xlabel='UniqueCarrier', ylabel='Delayed_Status'>"
      ]
     },
     "execution_count": 17,
     "metadata": {},
     "output_type": "execute_result"
    },
    {
     "data": {
      "image/png": "[encoded data removed]",
      "text/plain": [
       "<Figure size 864x576 with 1 Axes>"
      ]
     },
     "metadata": {
      "needs_background": "light"
     },
     "output_type": "display_data"
    }
   ],
   "source": [
    "sns.barplot(data=train, x = 'UniqueCarrier', y = 'Delayed_Status')"
   ]
  },
  {
   "cell_type": "code",
   "execution_count": 18,
   "id": "5c7950b3",
   "metadata": {
    "scrolled": true
   },
   "outputs": [
    {
     "data": {
      "text/plain": [
       "<AxesSubplot:xlabel='UniqueCarrier', ylabel='count'>"
      ]
     },
     "execution_count": 18,
     "metadata": {},
     "output_type": "execute_result"
    },
    {
     "data": {
      "image/png": "[encoded data removed]",
      "text/plain": [
       "<Figure size 864x576 with 1 Axes>"
      ]
     },
     "metadata": {
      "needs_background": "light"
     },
     "output_type": "display_data"
    }
   ],
   "source": [
    "sns.countplot(data=train, x='UniqueCarrier', hue='Delayed_Status')"
   ]
  },
  {
   "cell_type": "code",
   "execution_count": 19,
   "id": "d9d2a978",
   "metadata": {},
   "outputs": [
    {
     "data": {
      "text/plain": [
       "<AxesSubplot:xlabel='Delayed_Status', ylabel='count'>"
      ]
     },
     "execution_count": 19,
     "metadata": {},
     "output_type": "execute_result"
    },
    {
     "data": {
      "image/png": "[encoded data removed]",
      "text/plain": [
       "<Figure size 864x576 with 1 Axes>"
      ]
     },
     "metadata": {
      "needs_background": "light"
     },
     "output_type": "display_data"
    }
   ],
   "source": [
    "sns.countplot(data=train, x=train.Delayed_Status, hue=train.UniqueCarrier)"
   ]
  },
  {
   "cell_type": "code",
   "execution_count": 20,
   "id": "bbfee032",
   "metadata": {},
   "outputs": [
    {
     "data": {
      "text/plain": [
       "<AxesSubplot:xlabel='Delayed_Status', ylabel='ArrDelay'>"
      ]
     },
     "execution_count": 20,
     "metadata": {},
     "output_type": "execute_result"
    },
    {
     "data": {
      "image/png": "[encoded data removed]",
      "text/plain": [
       "<Figure size 864x576 with 1 Axes>"
      ]
     },
     "metadata": {
      "needs_background": "light"
     },
     "output_type": "display_data"
    }
   ],
   "source": [
    "sns.barplot(data=train, y=train.ArrDelay, x=train.Delayed_Status, hue=train.UniqueCarrier)"
   ]
  },
  {
   "cell_type": "markdown",
   "id": "27b9a2ce",
   "metadata": {},
   "source": [
    "Notes: Boxplot isn't very helpful. Countplot shows the variability the best between delayed status and airline, however each airline is not equally represented in the data and this could be misleading. \n",
    "The barplot with airline as the hue shows similarities in delayed status in group 0-2 but shows some variability between the airlines in groups 3-4 with AA, DL, and UA being most likely to have a delay greater than 5 hours."
   ]
  },
  {
   "cell_type": "code",
   "execution_count": 21,
   "id": "6d746c79",
   "metadata": {},
   "outputs": [],
   "source": [
    "AA = train[train.UniqueCarrier =='AA']\n",
    "DL = train[train.UniqueCarrier =='DL']\n",
    "UA = train[train.UniqueCarrier =='UA']\n",
    "OO = train[train.UniqueCarrier =='OO']\n",
    "WN = train[train.UniqueCarrier =='WN']"
   ]
  },
  {
   "cell_type": "code",
   "execution_count": 22,
   "id": "9335fcd3",
   "metadata": {},
   "outputs": [
    {
     "data": {
      "text/plain": [
       "Text(0.5, 1.0, 'Southwest Airlines Delayed Status')"
      ]
     },
     "execution_count": 22,
     "metadata": {},
     "output_type": "execute_result"
    },
    {
     "data": {
      "image/png": "[encoded data removed]",
      "text/plain": [
       "<Figure size 1296x360 with 5 Axes>"
      ]
     },
     "metadata": {
      "needs_background": "light"
     },
     "output_type": "display_data"
    }
   ],
   "source": [
    "plt.figure(figsize=(18,5))\n",
    "plt.subplot(151)\n",
    "sns.countplot(data=AA, x='Delayed_Status')\n",
    "plt.title('American Airlines Delayed Status')\n",
    "\n",
    "plt.subplot(152)\n",
    "sns.countplot(data=DL, x='Delayed_Status')\n",
    "plt.title('Delta Airlines Delayed Status')\n",
    "\n",
    "plt.subplot(153)\n",
    "sns.countplot(data=UA, x='Delayed_Status')\n",
    "plt.title('United Airlines Delayed Status')\n",
    "\n",
    "plt.subplot(154)\n",
    "sns.countplot(data=OO, x='Delayed_Status')\n",
    "plt.title('SkyWest Airlines Delayed Status')\n",
    "\n",
    "plt.subplot(155)\n",
    "sns.countplot(data=WN, x='Delayed_Status')\n",
    "plt.title('Southwest Airlines Delayed Status')"
   ]
  },
  {
   "cell_type": "markdown",
   "id": "ea4885e6",
   "metadata": {},
   "source": [
    "**Next Steps: perform chi squared testing**\n",
    "\n",
    "- Null Hypothesis: Delayed status and Airline are independent.\n",
    "- Alternative Hypothesis: Delayed status and Airline are dependent.\n"
   ]
  },
  {
   "cell_type": "code",
   "execution_count": 23,
   "id": "b39f079f",
   "metadata": {},
   "outputs": [],
   "source": [
    "observed = pd.crosstab(train.Delayed_Status, train.UniqueCarrier)"
   ]
  },
  {
   "cell_type": "code",
   "execution_count": 24,
   "id": "5f73eea1",
   "metadata": {},
   "outputs": [
    {
     "data": {
      "text/plain": [
       "1.7969244654332686e-08"
      ]
     },
     "execution_count": 24,
     "metadata": {},
     "output_type": "execute_result"
    }
   ],
   "source": [
    "chi2, p, degf, expected = stats.chi2_contingency(observed)\n",
    "p"
   ]
  },
  {
   "cell_type": "code",
   "execution_count": 25,
   "id": "3ca31955",
   "metadata": {},
   "outputs": [
    {
     "name": "stdout",
     "output_type": "stream",
     "text": [
      "Reject the null\n"
     ]
    }
   ],
   "source": [
    "if p < alpha:\n",
    "    print(\"Reject the null\")\n",
    "else:\n",
    "    print('Fail to reject the null')"
   ]
  },
  {
   "cell_type": "markdown",
   "id": "c90d6f2b",
   "metadata": {},
   "source": [
    "### Airport"
   ]
  },
  {
   "cell_type": "code",
   "execution_count": 26,
   "id": "616022be",
   "metadata": {
    "scrolled": true
   },
   "outputs": [
    {
     "data": {
      "text/plain": [
       "<AxesSubplot:xlabel='Delayed_Status', ylabel='ArrDelay'>"
      ]
     },
     "execution_count": 26,
     "metadata": {},
     "output_type": "execute_result"
    },
    {
     "data": {
      "image/png": "[encoded data removed]",
      "text/plain": [
       "<Figure size 864x576 with 1 Axes>"
      ]
     },
     "metadata": {
      "needs_background": "light"
     },
     "output_type": "display_data"
    }
   ],
   "source": [
    "sns.barplot(data=train, x=train.Delayed_Status, y=train.ArrDelay, hue=train.Origin)"
   ]
  },
  {
   "cell_type": "code",
   "execution_count": 27,
   "id": "e97c7edb",
   "metadata": {},
   "outputs": [],
   "source": [
    "DFW = train[train.Origin =='DFW']\n",
    "LAX = train[train.Origin =='LAX']\n",
    "ATL = train[train.Origin =='ATL']\n",
    "DEN = train[train.Origin =='DEN']"
   ]
  },
  {
   "cell_type": "code",
   "execution_count": 28,
   "id": "be907d21",
   "metadata": {},
   "outputs": [
    {
     "data": {
      "text/plain": [
       "Text(0.5, 1.0, 'DEN Departure Delayed Status')"
      ]
     },
     "execution_count": 28,
     "metadata": {},
     "output_type": "execute_result"
    },
    {
     "data": {
      "image/png": "[encoded data removed]",
      "text/plain": [
       "<Figure size 1296x360 with 4 Axes>"
      ]
     },
     "metadata": {
      "needs_background": "light"
     },
     "output_type": "display_data"
    }
   ],
   "source": [
    "plt.figure(figsize=(18,5))\n",
    "plt.subplot(141)\n",
    "sns.countplot(data=DFW, x='Delayed_Status')\n",
    "plt.title('DFW Departure Delayed Status')\n",
    "\n",
    "plt.subplot(142)\n",
    "sns.countplot(data=LAX, x='Delayed_Status')\n",
    "plt.title('LAX Departure Delayed Status')\n",
    "\n",
    "plt.subplot(143)\n",
    "sns.countplot(data=ATL, x='Delayed_Status')\n",
    "plt.title('ATL Departure Delayed Status')\n",
    "\n",
    "plt.subplot(144)\n",
    "sns.countplot(data=DEN, x='Delayed_Status')\n",
    "plt.title('DEN Departure Delayed Status')\n"
   ]
  },
  {
   "cell_type": "markdown",
   "id": "a51bc053",
   "metadata": {},
   "source": [
    "The greatest variability between a flight's takeoff location is in delayed status 4 with Denver being the most likely to have a delay status of greater than 5 hours and Atlanta with the "
   ]
  },
  {
   "cell_type": "markdown",
   "id": "54d27183",
   "metadata": {},
   "source": [
    "**Next Steps: perform chi squared testing**\n",
    "\n",
    "- Null Hypothesis: Delayed status and takeoff location are independent.\n",
    "- Alternative Hypothesis: Delayed status and takeoff location are dependent.\n"
   ]
  },
  {
   "cell_type": "code",
   "execution_count": 29,
   "id": "fe622ec5",
   "metadata": {},
   "outputs": [],
   "source": [
    "observed = pd.crosstab(train.Delayed_Status, train.Origin)"
   ]
  },
  {
   "cell_type": "code",
   "execution_count": 30,
   "id": "ac724101",
   "metadata": {},
   "outputs": [
    {
     "data": {
      "text/plain": [
       "0.10732864876528733"
      ]
     },
     "execution_count": 30,
     "metadata": {},
     "output_type": "execute_result"
    }
   ],
   "source": [
    "chi2, p, degf, expected = stats.chi2_contingency(observed)\n",
    "p"
   ]
  },
  {
   "cell_type": "code",
   "execution_count": 31,
   "id": "5be2363b",
   "metadata": {},
   "outputs": [
    {
     "name": "stdout",
     "output_type": "stream",
     "text": [
      "Fail to reject the null\n"
     ]
    }
   ],
   "source": [
    "if p < alpha:\n",
    "    print(\"Reject the null\")\n",
    "else:\n",
    "    print('Fail to reject the null')"
   ]
  },
  {
   "cell_type": "markdown",
   "id": "87b362c1",
   "metadata": {},
   "source": [
    "### Arival Airport"
   ]
  },
  {
   "cell_type": "code",
   "execution_count": 32,
   "id": "eff7665a",
   "metadata": {},
   "outputs": [],
   "source": [
    "DFW_d = train[train.Dest =='DFW']\n",
    "LAX_d = train[train.Dest =='LAX']\n",
    "ATL_d = train[train.Dest =='ATL']\n",
    "DEN_d = train[train.Dest =='DEN']"
   ]
  },
  {
   "cell_type": "code",
   "execution_count": 33,
   "id": "42173a0e",
   "metadata": {},
   "outputs": [
    {
     "data": {
      "image/png": "[encoded data removed]",
      "text/plain": [
       "<Figure size 1296x360 with 4 Axes>"
      ]
     },
     "metadata": {
      "needs_background": "light"
     },
     "output_type": "display_data"
    }
   ],
   "source": [
    "plt.figure(figsize=(18,5))\n",
    "plt.subplot(141)\n",
    "sns.countplot(data=DFW_d, x='Delayed_Status')\n",
    "plt.title('DFW Arrival Delayed Status')\n",
    "\n",
    "plt.subplot(142)\n",
    "sns.countplot(data=LAX_d, x='Delayed_Status')\n",
    "plt.title('LAX Arrival Delayed Status')\n",
    "\n",
    "plt.subplot(143)\n",
    "sns.countplot(data=ATL_d, x='Delayed_Status')\n",
    "plt.title('ATL Arrival Delayed Status')\n",
    "\n",
    "plt.subplot(144)\n",
    "sns.countplot(data=DEN_d, x='Delayed_Status')\n",
    "plt.title('DEN Arrival Delayed Status')\n",
    "plt.show()"
   ]
  },
  {
   "cell_type": "markdown",
   "id": "40efd5f2",
   "metadata": {},
   "source": [
    "**Next Steps: perform chi squared testing**\n",
    "\n",
    "- Null Hypothesis: Delayed status and arrival location are independent.\n",
    "- Alternative Hypothesis: Delayed status and arrival location are dependent."
   ]
  },
  {
   "cell_type": "code",
   "execution_count": 34,
   "id": "d7d3d848",
   "metadata": {},
   "outputs": [],
   "source": [
    "observed = pd.crosstab(train.Delayed_Status, train.Dest)"
   ]
  },
  {
   "cell_type": "code",
   "execution_count": 35,
   "id": "b4fee8c7",
   "metadata": {},
   "outputs": [
    {
     "data": {
      "text/plain": [
       "0.10829858413351334"
      ]
     },
     "execution_count": 35,
     "metadata": {},
     "output_type": "execute_result"
    }
   ],
   "source": [
    "chi2, p, degf, expected = stats.chi2_contingency(observed)\n",
    "p"
   ]
  },
  {
   "cell_type": "code",
   "execution_count": 36,
   "id": "042a9f0d",
   "metadata": {},
   "outputs": [
    {
     "name": "stdout",
     "output_type": "stream",
     "text": [
      "Fail to reject the null\n"
     ]
    }
   ],
   "source": [
    "if p < alpha:\n",
    "    print(\"Reject the null\")\n",
    "else:\n",
    "    print('Fail to reject the null')"
   ]
  },
  {
   "cell_type": "markdown",
   "id": "36760172",
   "metadata": {},
   "source": [
    "### Day of the week"
   ]
  },
  {
   "cell_type": "code",
   "execution_count": 37,
   "id": "8967de60",
   "metadata": {},
   "outputs": [
    {
     "data": {
      "text/plain": [
       "<AxesSubplot:xlabel='DayOfWeek', ylabel='Delayed_Status'>"
      ]
     },
     "execution_count": 37,
     "metadata": {},
     "output_type": "execute_result"
    },
    {
     "data": {
      "image/png": "[encoded data removed]",
      "text/plain": [
       "<Figure size 864x576 with 1 Axes>"
      ]
     },
     "metadata": {
      "needs_background": "light"
     },
     "output_type": "display_data"
    }
   ],
   "source": [
    "sns.barplot(data=train, x=train.DayOfWeek, y=train.Delayed_Status)"
   ]
  },
  {
   "cell_type": "markdown",
   "id": "a3c50955",
   "metadata": {},
   "source": [
    "Tuesday and Sunday show the highest mean delayed status, with Monday and Wednesday being the lowest. Thursday, Friday, and Saturday seem to be in line with each other."
   ]
  },
  {
   "cell_type": "code",
   "execution_count": 38,
   "id": "7bcc0e06",
   "metadata": {},
   "outputs": [],
   "source": [
    "mon=train[train.DayOfWeek==1]\n",
    "tue=train[train.DayOfWeek==2]\n",
    "wed=train[train.DayOfWeek==3]\n",
    "thur=train[train.DayOfWeek==4]\n",
    "fri=train[train.DayOfWeek==5]\n",
    "sat=train[train.DayOfWeek==6]\n",
    "sun=train[train.DayOfWeek==7]"
   ]
  },
  {
   "cell_type": "code",
   "execution_count": 39,
   "id": "55591122",
   "metadata": {},
   "outputs": [
    {
     "data": {
      "image/png": "[encoded data removed]",
      "text/plain": [
       "<Figure size 1296x360 with 7 Axes>"
      ]
     },
     "metadata": {
      "needs_background": "light"
     },
     "output_type": "display_data"
    }
   ],
   "source": [
    "# plot delayed status per day of the week\n",
    "plt.figure(figsize=(18,5))\n",
    "plt.subplot(241)\n",
    "sns.countplot(data=mon, x='Delayed_Status')\n",
    "plt.title('Monday Delayed Status')\n",
    "\n",
    "plt.subplot(242)\n",
    "sns.countplot(data=tue, x='Delayed_Status')\n",
    "plt.title('Tuesday Delayed Status')\n",
    "\n",
    "plt.subplot(243)\n",
    "sns.countplot(data=wed, x='Delayed_Status')\n",
    "plt.title('Wednesday Delayed Status')\n",
    "\n",
    "plt.subplot(244)\n",
    "sns.countplot(data=thur, x='Delayed_Status')\n",
    "plt.title('Thursday Delayed Status')\n",
    "\n",
    "plt.subplot(245)\n",
    "sns.countplot(data=fri, x='Delayed_Status')\n",
    "plt.title('Friday Delayed Status')\n",
    "\n",
    "plt.subplot(246)\n",
    "sns.countplot(data=sat, x='Delayed_Status')\n",
    "plt.title('Saturday Delayed Status')\n",
    "\n",
    "plt.subplot(247)\n",
    "sns.countplot(data=sun, x='Delayed_Status')\n",
    "plt.title('Sunday Delayed Status')\n",
    "plt.show()\n",
    "\n"
   ]
  },
  {
   "cell_type": "markdown",
   "id": "f92cb8a2",
   "metadata": {},
   "source": [
    "This visualization doesn't show too much variability other than Tuesday's Delay status 3. Saturday has less flights than the other days, as indicated by the axis.\n"
   ]
  },
  {
   "cell_type": "markdown",
   "id": "2656de72",
   "metadata": {},
   "source": [
    "**Next Steps: perform chi squared testing**\n",
    "\n",
    "- Null Hypothesis: Delayed status and day of the week are independent.\n",
    "- Alternative Hypothesis: Delayed status and day of the week are dependent."
   ]
  },
  {
   "cell_type": "code",
   "execution_count": 40,
   "id": "78ea7d50",
   "metadata": {},
   "outputs": [],
   "source": [
    "observed = pd.crosstab(train.Delayed_Status, train.DayOfWeek)"
   ]
  },
  {
   "cell_type": "code",
   "execution_count": 41,
   "id": "26af30a5",
   "metadata": {},
   "outputs": [
    {
     "data": {
      "text/plain": [
       "0.02563956820010972"
      ]
     },
     "execution_count": 41,
     "metadata": {},
     "output_type": "execute_result"
    }
   ],
   "source": [
    "chi2, p, degf, expected = stats.chi2_contingency(observed)\n",
    "p"
   ]
  },
  {
   "cell_type": "code",
   "execution_count": 42,
   "id": "0a0ad151",
   "metadata": {},
   "outputs": [
    {
     "name": "stdout",
     "output_type": "stream",
     "text": [
      "Reject the null\n"
     ]
    }
   ],
   "source": [
    "if p < alpha:\n",
    "    print(\"Reject the null\")\n",
    "else:\n",
    "    print('Fail to reject the null')"
   ]
  },
  {
   "cell_type": "markdown",
   "id": "18eee870",
   "metadata": {},
   "source": [
    "### Month of the year"
   ]
  },
  {
   "cell_type": "code",
   "execution_count": 43,
   "id": "b66a3b6b",
   "metadata": {},
   "outputs": [
    {
     "data": {
      "text/plain": [
       "<AxesSubplot:xlabel='Month', ylabel='Delayed_Status'>"
      ]
     },
     "execution_count": 43,
     "metadata": {},
     "output_type": "execute_result"
    },
    {
     "data": {
      "image/png": "[encoded data removed]",
      "text/plain": [
       "<Figure size 864x576 with 1 Axes>"
      ]
     },
     "metadata": {
      "needs_background": "light"
     },
     "output_type": "display_data"
    }
   ],
   "source": [
    "sns.barplot(data=train, x=train.Month, y=train.Delayed_Status)"
   ]
  },
  {
   "cell_type": "markdown",
   "id": "0bac47ac",
   "metadata": {},
   "source": [
    "Visually, variabity between months and delayed status is evident with July having the highest average delayed status."
   ]
  },
  {
   "cell_type": "markdown",
   "id": "19f44449",
   "metadata": {},
   "source": [
    "**Next Steps: perform chi squared testing**\n",
    "\n",
    "- Null Hypothesis: Delayed status and month are independent.\n",
    "- Alternative Hypothesis: Delayed status and month are dependent."
   ]
  },
  {
   "cell_type": "code",
   "execution_count": 44,
   "id": "c70dce8b",
   "metadata": {},
   "outputs": [],
   "source": [
    "observed = pd.crosstab(train.Delayed_Status, train.Month)"
   ]
  },
  {
   "cell_type": "code",
   "execution_count": 45,
   "id": "9bcad3f7",
   "metadata": {},
   "outputs": [
    {
     "data": {
      "text/plain": [
       "8.145267866834006e-05"
      ]
     },
     "execution_count": 45,
     "metadata": {},
     "output_type": "execute_result"
    }
   ],
   "source": [
    "chi2, p, degf, expected = stats.chi2_contingency(observed)\n",
    "p"
   ]
  },
  {
   "cell_type": "code",
   "execution_count": 46,
   "id": "d0b4d40b",
   "metadata": {},
   "outputs": [
    {
     "name": "stdout",
     "output_type": "stream",
     "text": [
      "Reject the null\n"
     ]
    }
   ],
   "source": [
    "if p < alpha:\n",
    "    print(\"Reject the null\")\n",
    "else:\n",
    "    print('Fail to reject the null')"
   ]
  },
  {
   "cell_type": "markdown",
   "id": "f6e58eae",
   "metadata": {},
   "source": [
    "### Day of the month"
   ]
  },
  {
   "cell_type": "code",
   "execution_count": 47,
   "id": "c5262a8f",
   "metadata": {},
   "outputs": [
    {
     "data": {
      "text/plain": [
       "<AxesSubplot:xlabel='DayofMonth', ylabel='Delayed_Status'>"
      ]
     },
     "execution_count": 47,
     "metadata": {},
     "output_type": "execute_result"
    },
    {
     "data": {
      "image/png": "[encoded data removed]",
      "text/plain": [
       "<Figure size 864x576 with 1 Axes>"
      ]
     },
     "metadata": {
      "needs_background": "light"
     },
     "output_type": "display_data"
    }
   ],
   "source": [
    "sns.barplot(data=train, x=train.DayofMonth, y=train.Delayed_Status)"
   ]
  },
  {
   "cell_type": "markdown",
   "id": "80326024",
   "metadata": {},
   "source": [
    "Visually, variability is evident over the days of the month."
   ]
  },
  {
   "cell_type": "markdown",
   "id": "4dc62a8e",
   "metadata": {},
   "source": [
    "**Next Steps: perform chi squared testing**\n",
    "\n",
    "- Null Hypothesis: Delayed status and day of the month are independent.\n",
    "- Alternative Hypothesis: Delayed status and day of the month are dependent."
   ]
  },
  {
   "cell_type": "code",
   "execution_count": 48,
   "id": "812ef4ef",
   "metadata": {},
   "outputs": [],
   "source": [
    "observed = pd.crosstab(train.Delayed_Status, train.DayofMonth)"
   ]
  },
  {
   "cell_type": "code",
   "execution_count": 49,
   "id": "fd2f14c9",
   "metadata": {},
   "outputs": [
    {
     "data": {
      "text/plain": [
       "4.3358342374987734e-07"
      ]
     },
     "execution_count": 49,
     "metadata": {},
     "output_type": "execute_result"
    }
   ],
   "source": [
    "chi2, p, degf, expected = stats.chi2_contingency(observed)\n",
    "p"
   ]
  },
  {
   "cell_type": "code",
   "execution_count": 50,
   "id": "58f09e27",
   "metadata": {},
   "outputs": [
    {
     "name": "stdout",
     "output_type": "stream",
     "text": [
      "Reject the null\n"
     ]
    }
   ],
   "source": [
    "if p < alpha:\n",
    "    print(\"Reject the null\")\n",
    "else:\n",
    "    print('Fail to reject the null')"
   ]
  },
  {
   "cell_type": "markdown",
   "id": "a798153c",
   "metadata": {},
   "source": [
    "### Scheduled Departure Hour"
   ]
  },
  {
   "cell_type": "code",
   "execution_count": 51,
   "id": "b18eaea0",
   "metadata": {},
   "outputs": [],
   "source": [
    "# df.CRSDepTime = pd.to_datetime(df.CRSDepTime , format='%H%M').dt.time\n",
    "# df['departure_hour'] = pd.to_datetime(df['CRSDepTime'], format='%H:%M:%S').dt.hour\n",
    "# df.CRSArrTime = pd.to_datetime(df.CRSArrTime , format='%H%M').dt.time\n",
    "# df['arrival_hour'] = pd.to_datetime(df['CRSArrTime'], format='%H:%M:%S').dt.hour"
   ]
  },
  {
   "cell_type": "code",
   "execution_count": 52,
   "id": "8dba934a",
   "metadata": {},
   "outputs": [
    {
     "data": {
      "text/plain": [
       "<AxesSubplot:xlabel='departure_hour', ylabel='Delayed_Status'>"
      ]
     },
     "execution_count": 52,
     "metadata": {},
     "output_type": "execute_result"
    },
    {
     "data": {
      "image/png": "[encoded data removed]",
      "text/plain": [
       "<Figure size 864x576 with 1 Axes>"
      ]
     },
     "metadata": {
      "needs_background": "light"
     },
     "output_type": "display_data"
    }
   ],
   "source": [
    "sns.barplot(data=train, y= 'Delayed_Status', x='departure_hour')"
   ]
  },
  {
   "cell_type": "markdown",
   "id": "7bfdbb1d",
   "metadata": {},
   "source": [
    "Visualization shows variability between the average delayed status and the scheduled hour of the departure. With 2AM being a problematic area."
   ]
  },
  {
   "cell_type": "markdown",
   "id": "4f78d8bb",
   "metadata": {},
   "source": [
    "**Next Steps: perform chi squared testing**\n",
    "\n",
    "- Null Hypothesis: Delayed status and the scheduled departure hour are independent.\n",
    "- Alternative Hypothesis: Delayed status and the scheduled departure hour are dependent."
   ]
  },
  {
   "cell_type": "code",
   "execution_count": 53,
   "id": "65121697",
   "metadata": {},
   "outputs": [],
   "source": [
    "observed = pd.crosstab(train.Delayed_Status, train.departure_hour)"
   ]
  },
  {
   "cell_type": "code",
   "execution_count": 54,
   "id": "63703391",
   "metadata": {},
   "outputs": [
    {
     "data": {
      "text/plain": [
       "1.1750329775978126e-06"
      ]
     },
     "execution_count": 54,
     "metadata": {},
     "output_type": "execute_result"
    }
   ],
   "source": [
    "chi2, p, degf, expected = stats.chi2_contingency(observed)\n",
    "p"
   ]
  },
  {
   "cell_type": "code",
   "execution_count": 55,
   "id": "d3c71c24",
   "metadata": {},
   "outputs": [
    {
     "name": "stdout",
     "output_type": "stream",
     "text": [
      "Reject the null\n"
     ]
    }
   ],
   "source": [
    "if p < alpha:\n",
    "    print(\"Reject the null\")\n",
    "else:\n",
    "    print('Fail to reject the null')"
   ]
  },
  {
   "cell_type": "markdown",
   "id": "c8435abc",
   "metadata": {},
   "source": [
    "**Answers to questions**\n",
    "- Does the airline impact flight delays? **Yes, airlines and delayed status are dependent.**\n",
    "- Does the airport impact flight delays? **No, airport departure and arrival location are independent with delayed status.**\n",
    "     - Departure and Arrival\n",
    "- Does the day of the week impact flight delays? **Yes, the day of the week and delayed status are dependent.**\n",
    "- Does the month impact flight delays? **Yes, delayed status is dependent on the month in which a flight occurs.** \n",
    "- Are specific types of delays more likely to occur during a specified time?"
   ]
  },
  {
   "cell_type": "code",
   "execution_count": 56,
   "id": "49edebdf",
   "metadata": {},
   "outputs": [],
   "source": [
    "train_scaled, validate_scaled, test_scaled = wrangle.scale_data(train,test,validate)"
   ]
  },
  {
   "cell_type": "code",
   "execution_count": 57,
   "id": "5cba7c41",
   "metadata": {},
   "outputs": [],
   "source": [
    "X_train = train_scaled[['DayOfWeek', 'Month', 'UniqueCarrier_DL', 'UniqueCarrier_OO', \n",
    "                 'UniqueCarrier_UA', 'UniqueCarrier_WN']]\n",
    "y_train = train_scaled.Delayed_Status\n",
    "\n",
    "X_validate = validate_scaled[['DayOfWeek', 'Month', 'UniqueCarrier_DL', 'UniqueCarrier_OO', \n",
    "                 'UniqueCarrier_UA', 'UniqueCarrier_WN']]\n",
    "y_validate = validate_scaled.Delayed_Status\n",
    "\n",
    "X_test = test_scaled[['DayOfWeek', 'Month', 'UniqueCarrier_DL', 'UniqueCarrier_OO', \n",
    "                 'UniqueCarrier_UA', 'UniqueCarrier_WN']]\n",
    "y_test = test_scaled.Delayed_Status"
   ]
  },
  {
   "cell_type": "markdown",
   "id": "dc313242",
   "metadata": {},
   "source": [
    "### Modeling"
   ]
  },
  {
   "cell_type": "code",
   "execution_count": 187,
   "id": "12fd78d0",
   "metadata": {},
   "outputs": [],
   "source": [
    "X_train = train_scaled.drop(columns=['CRSDepTime', 'CRSArrTime',\n",
    "       'UniqueCarrier', 'TailNum','ArrDelay',\n",
    "       'DepDelay', 'Origin', 'Dest', 'CarrierDelay',\n",
    "       'WeatherDelay', 'NASDelay', 'SecurityDelay', 'LateAircraftDelay',\n",
    "       'Delayed_Status','Delayed'])\n",
    "y_train = train_scaled.Delayed_Status\n",
    "\n",
    "X_validate = validate_scaled.drop(columns=['CRSDepTime', 'CRSArrTime',\n",
    "       'UniqueCarrier', 'TailNum','ArrDelay',\n",
    "       'DepDelay', 'Origin', 'Dest', 'CarrierDelay',\n",
    "       'WeatherDelay', 'NASDelay', 'SecurityDelay', 'LateAircraftDelay',\n",
    "       'Delayed_Status','Delayed'])\n",
    "y_validate = validate_scaled.Delayed_Status\n",
    "\n",
    "X_test = test_scaled.drop(columns=['CRSDepTime', 'CRSArrTime',\n",
    "       'UniqueCarrier', 'TailNum','ArrDelay',\n",
    "       'DepDelay', 'Origin', 'Dest', 'CarrierDelay',\n",
    "       'WeatherDelay', 'NASDelay', 'SecurityDelay', 'LateAircraftDelay',\n",
    "       'Delayed_Status','Delayed'])\n",
    "y_test = test_scaled.Delayed_Status"
   ]
  },
  {
   "cell_type": "code",
   "execution_count": 188,
   "id": "a6b81e99",
   "metadata": {},
   "outputs": [
    {
     "data": {
      "text/plain": [
       "Index(['Year', 'Month', 'DayofMonth', 'DayOfWeek', 'CRSElapsedTime', 'AirTime',\n",
       "       'Distance', 'UniqueCarrier_DL', 'UniqueCarrier_OO', 'UniqueCarrier_UA',\n",
       "       'UniqueCarrier_WN', 'departure_hour'],\n",
       "      dtype='object')"
      ]
     },
     "execution_count": 188,
     "metadata": {},
     "output_type": "execute_result"
    }
   ],
   "source": [
    "X_train.columns"
   ]
  },
  {
   "cell_type": "markdown",
   "id": "d1d9115d",
   "metadata": {},
   "source": [
    "Baseline Prediction"
   ]
  },
  {
   "cell_type": "code",
   "execution_count": 59,
   "id": "1def5a25",
   "metadata": {},
   "outputs": [
    {
     "data": {
      "text/plain": [
       "0    1\n",
       "dtype: int64"
      ]
     },
     "execution_count": 59,
     "metadata": {},
     "output_type": "execute_result"
    }
   ],
   "source": [
    "train.Delayed_Status.mode()"
   ]
  },
  {
   "cell_type": "code",
   "execution_count": 60,
   "id": "a1df8498",
   "metadata": {},
   "outputs": [
    {
     "data": {
      "text/plain": [
       "1    0.653135\n",
       "2    0.215070\n",
       "3    0.064507\n",
       "0    0.034756\n",
       "4    0.032532\n",
       "Name: Delayed_Status, dtype: float64"
      ]
     },
     "execution_count": 60,
     "metadata": {},
     "output_type": "execute_result"
    }
   ],
   "source": [
    "train.Delayed_Status.value_counts(normalize=True)"
   ]
  },
  {
   "cell_type": "code",
   "execution_count": 61,
   "id": "2d2badc0",
   "metadata": {},
   "outputs": [
    {
     "name": "stdout",
     "output_type": "stream",
     "text": [
      "Baseline accuracy: 0.65\n"
     ]
    }
   ],
   "source": [
    "baseline_prediction = (y_train == 1)\n",
    "\n",
    "baseline_accuracy = baseline_prediction.mean()\n",
    "print(f\"Baseline accuracy: {round(baseline_accuracy, 2)}\")"
   ]
  },
  {
   "cell_type": "markdown",
   "id": "2c216a54",
   "metadata": {},
   "source": [
    "### Decision Tree"
   ]
  },
  {
   "cell_type": "code",
   "execution_count": 62,
   "id": "291502be",
   "metadata": {},
   "outputs": [],
   "source": [
    "# create the model\n",
    "clf = DecisionTreeClassifier(max_depth=4, random_state=123)"
   ]
  },
  {
   "cell_type": "code",
   "execution_count": 63,
   "id": "e977c48c",
   "metadata": {},
   "outputs": [],
   "source": [
    "# fit the model\n",
    "clf = clf.fit(X_train, y_train)"
   ]
  },
  {
   "cell_type": "code",
   "execution_count": 64,
   "id": "0aaab2fc",
   "metadata": {},
   "outputs": [],
   "source": [
    "# make prediction on train obeservations\n",
    "y_pred = clf.predict(X_train)"
   ]
  },
  {
   "cell_type": "code",
   "execution_count": 65,
   "id": "7a1819cb",
   "metadata": {},
   "outputs": [],
   "source": [
    "# plot_tree(clf, feature_names=X_train.columns, class_names = clf.classes_.astype(str), rounded=True)"
   ]
  },
  {
   "cell_type": "code",
   "execution_count": 66,
   "id": "03ecab5a",
   "metadata": {},
   "outputs": [],
   "source": [
    "y_pred_proba = clf.predict_proba(X_train)"
   ]
  },
  {
   "cell_type": "code",
   "execution_count": 67,
   "id": "67337e0a",
   "metadata": {},
   "outputs": [
    {
     "name": "stdout",
     "output_type": "stream",
     "text": [
      "Accuracy on training set: 0.65\n"
     ]
    }
   ],
   "source": [
    "print('Accuracy on training set: {:.2f}'\n",
    "      .format(clf.score(X_train, y_train)))"
   ]
  },
  {
   "cell_type": "code",
   "execution_count": 68,
   "id": "d23b7499",
   "metadata": {},
   "outputs": [
    {
     "name": "stdout",
     "output_type": "stream",
     "text": [
      "              precision    recall  f1-score   support\n",
      "\n",
      "           0       0.00      0.00      0.00       250\n",
      "           1       0.65      1.00      0.79      4698\n",
      "           2       0.67      0.00      0.01      1547\n",
      "           3       1.00      0.00      0.00       464\n",
      "           4       0.00      0.00      0.00       234\n",
      "\n",
      "    accuracy                           0.65      7193\n",
      "   macro avg       0.46      0.20      0.16      7193\n",
      "weighted avg       0.63      0.65      0.52      7193\n",
      "\n"
     ]
    }
   ],
   "source": [
    "print(classification_report(y_train, y_pred))"
   ]
  },
  {
   "cell_type": "code",
   "execution_count": 69,
   "id": "7ad9f2f6",
   "metadata": {},
   "outputs": [
    {
     "name": "stdout",
     "output_type": "stream",
     "text": [
      "Accuracy on training set: 0.66\n"
     ]
    }
   ],
   "source": [
    "print('Accuracy on training set: {:.2f}'\n",
    "      .format(clf.score(X_validate, y_validate)))"
   ]
  },
  {
   "cell_type": "code",
   "execution_count": 70,
   "id": "f5675170",
   "metadata": {},
   "outputs": [
    {
     "name": "stdout",
     "output_type": "stream",
     "text": [
      "              precision    recall  f1-score   support\n",
      "\n",
      "           0       0.00      0.00      0.00        77\n",
      "           1       0.66      1.00      0.80      1701\n",
      "           2       0.00      0.00      0.00       556\n",
      "           3       0.00      0.00      0.00       155\n",
      "           4       0.00      0.00      0.00        81\n",
      "\n",
      "    accuracy                           0.66      2570\n",
      "   macro avg       0.13      0.20      0.16      2570\n",
      "weighted avg       0.44      0.66      0.53      2570\n",
      "\n"
     ]
    }
   ],
   "source": [
    "# Produce y_predictions that come from the X_validate\n",
    "y_pred = clf.predict(X_validate)\n",
    "\n",
    "# Compare actual y values (from validate) to predicted y_values from the model run on X_validate\n",
    "print(classification_report(y_validate, y_pred))"
   ]
  },
  {
   "cell_type": "code",
   "execution_count": 71,
   "id": "8943b9b8",
   "metadata": {},
   "outputs": [
    {
     "data": {
      "text/html": [
       "<div>\n",
       "<style scoped>\n",
       "    .dataframe tbody tr th:only-of-type {\n",
       "        vertical-align: middle;\n",
       "    }\n",
       "\n",
       "    .dataframe tbody tr th {\n",
       "        vertical-align: top;\n",
       "    }\n",
       "\n",
       "    .dataframe thead th {\n",
       "        text-align: right;\n",
       "    }\n",
       "</style>\n",
       "<table border=\"1\" class=\"dataframe\">\n",
       "  <thead>\n",
       "    <tr style=\"text-align: right;\">\n",
       "      <th></th>\n",
       "      <th>max_depth</th>\n",
       "      <th>train_accuracy</th>\n",
       "      <th>validate_accuracy</th>\n",
       "      <th>difference</th>\n",
       "    </tr>\n",
       "  </thead>\n",
       "  <tbody>\n",
       "    <tr>\n",
       "      <th>0</th>\n",
       "      <td>2</td>\n",
       "      <td>0.653135</td>\n",
       "      <td>0.661868</td>\n",
       "      <td>-0.008733</td>\n",
       "    </tr>\n",
       "    <tr>\n",
       "      <th>1</th>\n",
       "      <td>3</td>\n",
       "      <td>0.653135</td>\n",
       "      <td>0.661868</td>\n",
       "      <td>-0.008733</td>\n",
       "    </tr>\n",
       "    <tr>\n",
       "      <th>2</th>\n",
       "      <td>4</td>\n",
       "      <td>0.653691</td>\n",
       "      <td>0.661868</td>\n",
       "      <td>-0.008177</td>\n",
       "    </tr>\n",
       "    <tr>\n",
       "      <th>3</th>\n",
       "      <td>5</td>\n",
       "      <td>0.658279</td>\n",
       "      <td>0.659922</td>\n",
       "      <td>-0.001643</td>\n",
       "    </tr>\n",
       "    <tr>\n",
       "      <th>4</th>\n",
       "      <td>6</td>\n",
       "      <td>0.663979</td>\n",
       "      <td>0.657198</td>\n",
       "      <td>0.006780</td>\n",
       "    </tr>\n",
       "    <tr>\n",
       "      <th>5</th>\n",
       "      <td>7</td>\n",
       "      <td>0.671069</td>\n",
       "      <td>0.651751</td>\n",
       "      <td>0.019318</td>\n",
       "    </tr>\n",
       "    <tr>\n",
       "      <th>6</th>\n",
       "      <td>8</td>\n",
       "      <td>0.681079</td>\n",
       "      <td>0.641245</td>\n",
       "      <td>0.039834</td>\n",
       "    </tr>\n",
       "    <tr>\n",
       "      <th>7</th>\n",
       "      <td>9</td>\n",
       "      <td>0.696093</td>\n",
       "      <td>0.635019</td>\n",
       "      <td>0.061074</td>\n",
       "    </tr>\n",
       "    <tr>\n",
       "      <th>8</th>\n",
       "      <td>10</td>\n",
       "      <td>0.711803</td>\n",
       "      <td>0.629961</td>\n",
       "      <td>0.081842</td>\n",
       "    </tr>\n",
       "    <tr>\n",
       "      <th>9</th>\n",
       "      <td>11</td>\n",
       "      <td>0.732796</td>\n",
       "      <td>0.613619</td>\n",
       "      <td>0.119177</td>\n",
       "    </tr>\n",
       "    <tr>\n",
       "      <th>10</th>\n",
       "      <td>12</td>\n",
       "      <td>0.757264</td>\n",
       "      <td>0.600000</td>\n",
       "      <td>0.157264</td>\n",
       "    </tr>\n",
       "    <tr>\n",
       "      <th>11</th>\n",
       "      <td>13</td>\n",
       "      <td>0.781454</td>\n",
       "      <td>0.593385</td>\n",
       "      <td>0.188069</td>\n",
       "    </tr>\n",
       "    <tr>\n",
       "      <th>12</th>\n",
       "      <td>14</td>\n",
       "      <td>0.809676</td>\n",
       "      <td>0.577432</td>\n",
       "      <td>0.232244</td>\n",
       "    </tr>\n",
       "    <tr>\n",
       "      <th>13</th>\n",
       "      <td>15</td>\n",
       "      <td>0.836369</td>\n",
       "      <td>0.565759</td>\n",
       "      <td>0.270610</td>\n",
       "    </tr>\n",
       "    <tr>\n",
       "      <th>14</th>\n",
       "      <td>16</td>\n",
       "      <td>0.864313</td>\n",
       "      <td>0.540856</td>\n",
       "      <td>0.323456</td>\n",
       "    </tr>\n",
       "    <tr>\n",
       "      <th>15</th>\n",
       "      <td>17</td>\n",
       "      <td>0.891561</td>\n",
       "      <td>0.544358</td>\n",
       "      <td>0.347203</td>\n",
       "    </tr>\n",
       "    <tr>\n",
       "      <th>16</th>\n",
       "      <td>18</td>\n",
       "      <td>0.915473</td>\n",
       "      <td>0.524903</td>\n",
       "      <td>0.390571</td>\n",
       "    </tr>\n",
       "    <tr>\n",
       "      <th>17</th>\n",
       "      <td>19</td>\n",
       "      <td>0.937300</td>\n",
       "      <td>0.524514</td>\n",
       "      <td>0.412787</td>\n",
       "    </tr>\n",
       "    <tr>\n",
       "      <th>18</th>\n",
       "      <td>20</td>\n",
       "      <td>0.955095</td>\n",
       "      <td>0.521790</td>\n",
       "      <td>0.433305</td>\n",
       "    </tr>\n",
       "    <tr>\n",
       "      <th>19</th>\n",
       "      <td>21</td>\n",
       "      <td>0.966773</td>\n",
       "      <td>0.508171</td>\n",
       "      <td>0.458602</td>\n",
       "    </tr>\n",
       "    <tr>\n",
       "      <th>20</th>\n",
       "      <td>22</td>\n",
       "      <td>0.979007</td>\n",
       "      <td>0.502335</td>\n",
       "      <td>0.476673</td>\n",
       "    </tr>\n",
       "    <tr>\n",
       "      <th>21</th>\n",
       "      <td>23</td>\n",
       "      <td>0.986237</td>\n",
       "      <td>0.506226</td>\n",
       "      <td>0.480011</td>\n",
       "    </tr>\n",
       "    <tr>\n",
       "      <th>22</th>\n",
       "      <td>24</td>\n",
       "      <td>0.992493</td>\n",
       "      <td>0.496109</td>\n",
       "      <td>0.496384</td>\n",
       "    </tr>\n",
       "  </tbody>\n",
       "</table>\n",
       "</div>"
      ],
      "text/plain": [
       "    max_depth  train_accuracy  validate_accuracy  difference\n",
       "0           2        0.653135           0.661868   -0.008733\n",
       "1           3        0.653135           0.661868   -0.008733\n",
       "2           4        0.653691           0.661868   -0.008177\n",
       "3           5        0.658279           0.659922   -0.001643\n",
       "4           6        0.663979           0.657198    0.006780\n",
       "5           7        0.671069           0.651751    0.019318\n",
       "6           8        0.681079           0.641245    0.039834\n",
       "7           9        0.696093           0.635019    0.061074\n",
       "8          10        0.711803           0.629961    0.081842\n",
       "9          11        0.732796           0.613619    0.119177\n",
       "10         12        0.757264           0.600000    0.157264\n",
       "11         13        0.781454           0.593385    0.188069\n",
       "12         14        0.809676           0.577432    0.232244\n",
       "13         15        0.836369           0.565759    0.270610\n",
       "14         16        0.864313           0.540856    0.323456\n",
       "15         17        0.891561           0.544358    0.347203\n",
       "16         18        0.915473           0.524903    0.390571\n",
       "17         19        0.937300           0.524514    0.412787\n",
       "18         20        0.955095           0.521790    0.433305\n",
       "19         21        0.966773           0.508171    0.458602\n",
       "20         22        0.979007           0.502335    0.476673\n",
       "21         23        0.986237           0.506226    0.480011\n",
       "22         24        0.992493           0.496109    0.496384"
      ]
     },
     "execution_count": 71,
     "metadata": {},
     "output_type": "execute_result"
    }
   ],
   "source": [
    "metrics = []\n",
    "\n",
    "for i in range(2, 25):\n",
    "    # Make the model\n",
    "    tree = DecisionTreeClassifier(max_depth=i, random_state=123)\n",
    "\n",
    "    # Fit the model (on train and only train)\n",
    "    tree = tree.fit(X_train, y_train)\n",
    "\n",
    "    # Use the model\n",
    "    # We'll evaluate the model's performance on train, first\n",
    "    in_sample_accuracy = tree.score(X_train, y_train)\n",
    "    \n",
    "    out_of_sample_accuracy = tree.score(X_validate, y_validate)\n",
    "\n",
    "    output = {\n",
    "        \"max_depth\": i,\n",
    "        \"train_accuracy\": in_sample_accuracy,\n",
    "        \"validate_accuracy\": out_of_sample_accuracy\n",
    "    }\n",
    "    \n",
    "    metrics.append(output)\n",
    "    \n",
    "df = pd.DataFrame(metrics)\n",
    "df[\"difference\"] = df.train_accuracy - df.validate_accuracy\n",
    "df"
   ]
  },
  {
   "cell_type": "markdown",
   "id": "aa140c0a",
   "metadata": {},
   "source": [
    "### Random Forrests"
   ]
  },
  {
   "cell_type": "code",
   "execution_count": 127,
   "id": "24689eed",
   "metadata": {},
   "outputs": [],
   "source": [
    "# create the model\n",
    "rf = RandomForestClassifier(max_depth=7, \n",
    "                            random_state=123)"
   ]
  },
  {
   "cell_type": "code",
   "execution_count": 128,
   "id": "30c31af9",
   "metadata": {},
   "outputs": [
    {
     "data": {
      "text/plain": [
       "RandomForestClassifier(max_depth=7, random_state=123)"
      ]
     },
     "execution_count": 128,
     "metadata": {},
     "output_type": "execute_result"
    }
   ],
   "source": [
    "# fit the model\n",
    "rf.fit(X_train, y_train)"
   ]
  },
  {
   "cell_type": "code",
   "execution_count": 129,
   "id": "c66e1585",
   "metadata": {},
   "outputs": [],
   "source": [
    "y_pred = rf.predict(X_train)"
   ]
  },
  {
   "cell_type": "code",
   "execution_count": 130,
   "id": "a5007620",
   "metadata": {},
   "outputs": [],
   "source": [
    "y_pred_proba = rf.predict_proba(X_train)"
   ]
  },
  {
   "cell_type": "code",
   "execution_count": 131,
   "id": "0e2df94a",
   "metadata": {},
   "outputs": [
    {
     "name": "stdout",
     "output_type": "stream",
     "text": [
      "Accuracy of random forest classifier on training set: 0.66\n"
     ]
    }
   ],
   "source": [
    "print('Accuracy of random forest classifier on training set: {:.2f}'\n",
    "     .format(rf.score(X_train, y_train)))"
   ]
  },
  {
   "cell_type": "code",
   "execution_count": 132,
   "id": "1c04877c",
   "metadata": {},
   "outputs": [],
   "source": [
    "y_pred = rf.predict(X_validate)"
   ]
  },
  {
   "cell_type": "code",
   "execution_count": 133,
   "id": "f0f52c85",
   "metadata": {},
   "outputs": [],
   "source": [
    "y_pred_proba = rf.predict_proba(X_validate)"
   ]
  },
  {
   "cell_type": "code",
   "execution_count": 134,
   "id": "856ed3ba",
   "metadata": {},
   "outputs": [
    {
     "name": "stdout",
     "output_type": "stream",
     "text": [
      "              precision    recall  f1-score   support\n",
      "\n",
      "           0       0.00      0.00      0.00        77\n",
      "           1       0.66      1.00      0.80      1701\n",
      "           2       1.00      0.00      0.00       556\n",
      "           3       0.00      0.00      0.00       155\n",
      "           4       0.00      0.00      0.00        81\n",
      "\n",
      "    accuracy                           0.66      2570\n",
      "   macro avg       0.33      0.20      0.16      2570\n",
      "weighted avg       0.65      0.66      0.53      2570\n",
      "\n"
     ]
    }
   ],
   "source": [
    "print(classification_report(y_validate, y_pred))"
   ]
  },
  {
   "cell_type": "code",
   "execution_count": 135,
   "id": "d63de1d4",
   "metadata": {
    "scrolled": true
   },
   "outputs": [
    {
     "name": "stdout",
     "output_type": "stream",
     "text": [
      "[0.22669151 0.26556324 0.31559479 0.19215046]\n"
     ]
    }
   ],
   "source": [
    "print(rf.feature_importances_)"
   ]
  },
  {
   "cell_type": "code",
   "execution_count": 81,
   "id": "3f4b15a9",
   "metadata": {},
   "outputs": [
    {
     "data": {
      "text/plain": [
       "Index(['Year', 'Month', 'DayofMonth', 'DayOfWeek', 'CRSElapsedTime', 'AirTime',\n",
       "       'Distance', 'UniqueCarrier_DL', 'UniqueCarrier_OO', 'UniqueCarrier_UA',\n",
       "       'UniqueCarrier_WN', 'departure_hour'],\n",
       "      dtype='object')"
      ]
     },
     "execution_count": 81,
     "metadata": {},
     "output_type": "execute_result"
    }
   ],
   "source": [
    "X_train.columns"
   ]
  },
  {
   "cell_type": "markdown",
   "id": "1cef421f",
   "metadata": {},
   "source": [
    "Based off of feature importance, I am going to drop Year, UniqueCarrier and Distance"
   ]
  },
  {
   "cell_type": "code",
   "execution_count": 82,
   "id": "1aeac054",
   "metadata": {},
   "outputs": [],
   "source": [
    "X_train = train_scaled.drop(columns=['Year','UniqueCarrier_DL', 'UniqueCarrier_OO', 'UniqueCarrier_UA',\n",
    "       'UniqueCarrier_WN','CRSDepTime', 'CRSArrTime','Distance',\n",
    "       'UniqueCarrier', 'TailNum','ArrDelay',\n",
    "       'DepDelay', 'Origin', 'Dest', 'CarrierDelay',\n",
    "       'WeatherDelay', 'NASDelay', 'SecurityDelay', 'LateAircraftDelay',\n",
    "       'Delayed_Status','Delayed'])\n",
    "y_train = train_scaled.Delayed_Status\n",
    "\n",
    "X_validate = validate_scaled.drop(columns=['Year','UniqueCarrier_DL', 'UniqueCarrier_OO', 'UniqueCarrier_UA',\n",
    "       'UniqueCarrier_WN','CRSDepTime', 'CRSArrTime','Distance',\n",
    "       'UniqueCarrier', 'TailNum','ArrDelay',\n",
    "       'DepDelay', 'Origin', 'Dest', 'CarrierDelay',\n",
    "       'WeatherDelay', 'NASDelay', 'SecurityDelay', 'LateAircraftDelay',\n",
    "       'Delayed_Status','Delayed'])\n",
    "y_validate = validate_scaled.Delayed_Status\n",
    "\n",
    "X_test = test_scaled.drop(columns=['Year','UniqueCarrier_DL', 'UniqueCarrier_OO', 'UniqueCarrier_UA',\n",
    "       'UniqueCarrier_WN','CRSDepTime', 'CRSArrTime','Distance',\n",
    "       'UniqueCarrier', 'TailNum','ArrDelay',\n",
    "       'DepDelay', 'Origin', 'Dest', 'CarrierDelay',\n",
    "       'WeatherDelay', 'NASDelay', 'SecurityDelay', 'LateAircraftDelay',\n",
    "       'Delayed_Status','Delayed'])\n",
    "y_test = test_scaled.Delayed_Status"
   ]
  },
  {
   "cell_type": "code",
   "execution_count": 136,
   "id": "35cd5d46",
   "metadata": {
    "scrolled": true
   },
   "outputs": [
    {
     "data": {
      "text/html": [
       "<div>\n",
       "<style scoped>\n",
       "    .dataframe tbody tr th:only-of-type {\n",
       "        vertical-align: middle;\n",
       "    }\n",
       "\n",
       "    .dataframe tbody tr th {\n",
       "        vertical-align: top;\n",
       "    }\n",
       "\n",
       "    .dataframe thead th {\n",
       "        text-align: right;\n",
       "    }\n",
       "</style>\n",
       "<table border=\"1\" class=\"dataframe\">\n",
       "  <thead>\n",
       "    <tr style=\"text-align: right;\">\n",
       "      <th></th>\n",
       "      <th>max_depth</th>\n",
       "      <th>train_accuracy</th>\n",
       "      <th>validate_accuracy</th>\n",
       "      <th>difference</th>\n",
       "    </tr>\n",
       "  </thead>\n",
       "  <tbody>\n",
       "    <tr>\n",
       "      <th>0</th>\n",
       "      <td>2</td>\n",
       "      <td>0.653135</td>\n",
       "      <td>0.661868</td>\n",
       "      <td>-0.008733</td>\n",
       "    </tr>\n",
       "    <tr>\n",
       "      <th>1</th>\n",
       "      <td>3</td>\n",
       "      <td>0.653135</td>\n",
       "      <td>0.661868</td>\n",
       "      <td>-0.008733</td>\n",
       "    </tr>\n",
       "    <tr>\n",
       "      <th>2</th>\n",
       "      <td>4</td>\n",
       "      <td>0.653135</td>\n",
       "      <td>0.661868</td>\n",
       "      <td>-0.008733</td>\n",
       "    </tr>\n",
       "    <tr>\n",
       "      <th>3</th>\n",
       "      <td>5</td>\n",
       "      <td>0.653413</td>\n",
       "      <td>0.662257</td>\n",
       "      <td>-0.008844</td>\n",
       "    </tr>\n",
       "    <tr>\n",
       "      <th>4</th>\n",
       "      <td>6</td>\n",
       "      <td>0.654386</td>\n",
       "      <td>0.662257</td>\n",
       "      <td>-0.007871</td>\n",
       "    </tr>\n",
       "    <tr>\n",
       "      <th>5</th>\n",
       "      <td>7</td>\n",
       "      <td>0.656054</td>\n",
       "      <td>0.662257</td>\n",
       "      <td>-0.006202</td>\n",
       "    </tr>\n",
       "    <tr>\n",
       "      <th>6</th>\n",
       "      <td>8</td>\n",
       "      <td>0.658835</td>\n",
       "      <td>0.661868</td>\n",
       "      <td>-0.003033</td>\n",
       "    </tr>\n",
       "    <tr>\n",
       "      <th>7</th>\n",
       "      <td>9</td>\n",
       "      <td>0.663840</td>\n",
       "      <td>0.661479</td>\n",
       "      <td>0.002361</td>\n",
       "    </tr>\n",
       "    <tr>\n",
       "      <th>8</th>\n",
       "      <td>10</td>\n",
       "      <td>0.674406</td>\n",
       "      <td>0.660311</td>\n",
       "      <td>0.014094</td>\n",
       "    </tr>\n",
       "    <tr>\n",
       "      <th>9</th>\n",
       "      <td>11</td>\n",
       "      <td>0.689142</td>\n",
       "      <td>0.663035</td>\n",
       "      <td>0.026107</td>\n",
       "    </tr>\n",
       "    <tr>\n",
       "      <th>10</th>\n",
       "      <td>12</td>\n",
       "      <td>0.714445</td>\n",
       "      <td>0.661868</td>\n",
       "      <td>0.052577</td>\n",
       "    </tr>\n",
       "    <tr>\n",
       "      <th>11</th>\n",
       "      <td>13</td>\n",
       "      <td>0.747393</td>\n",
       "      <td>0.663035</td>\n",
       "      <td>0.084358</td>\n",
       "    </tr>\n",
       "    <tr>\n",
       "      <th>12</th>\n",
       "      <td>14</td>\n",
       "      <td>0.782288</td>\n",
       "      <td>0.656809</td>\n",
       "      <td>0.125479</td>\n",
       "    </tr>\n",
       "    <tr>\n",
       "      <th>13</th>\n",
       "      <td>15</td>\n",
       "      <td>0.833032</td>\n",
       "      <td>0.649027</td>\n",
       "      <td>0.184005</td>\n",
       "    </tr>\n",
       "    <tr>\n",
       "      <th>14</th>\n",
       "      <td>16</td>\n",
       "      <td>0.868205</td>\n",
       "      <td>0.655253</td>\n",
       "      <td>0.212952</td>\n",
       "    </tr>\n",
       "    <tr>\n",
       "      <th>15</th>\n",
       "      <td>17</td>\n",
       "      <td>0.906159</td>\n",
       "      <td>0.642412</td>\n",
       "      <td>0.263746</td>\n",
       "    </tr>\n",
       "    <tr>\n",
       "      <th>16</th>\n",
       "      <td>18</td>\n",
       "      <td>0.938690</td>\n",
       "      <td>0.640078</td>\n",
       "      <td>0.298613</td>\n",
       "    </tr>\n",
       "    <tr>\n",
       "      <th>17</th>\n",
       "      <td>19</td>\n",
       "      <td>0.967468</td>\n",
       "      <td>0.635798</td>\n",
       "      <td>0.331671</td>\n",
       "    </tr>\n",
       "    <tr>\n",
       "      <th>18</th>\n",
       "      <td>20</td>\n",
       "      <td>0.978312</td>\n",
       "      <td>0.632685</td>\n",
       "      <td>0.345627</td>\n",
       "    </tr>\n",
       "    <tr>\n",
       "      <th>19</th>\n",
       "      <td>21</td>\n",
       "      <td>0.989851</td>\n",
       "      <td>0.631907</td>\n",
       "      <td>0.357945</td>\n",
       "    </tr>\n",
       "    <tr>\n",
       "      <th>20</th>\n",
       "      <td>22</td>\n",
       "      <td>0.993744</td>\n",
       "      <td>0.628016</td>\n",
       "      <td>0.365728</td>\n",
       "    </tr>\n",
       "    <tr>\n",
       "      <th>21</th>\n",
       "      <td>23</td>\n",
       "      <td>0.994161</td>\n",
       "      <td>0.624514</td>\n",
       "      <td>0.369647</td>\n",
       "    </tr>\n",
       "    <tr>\n",
       "      <th>22</th>\n",
       "      <td>24</td>\n",
       "      <td>0.994717</td>\n",
       "      <td>0.628016</td>\n",
       "      <td>0.366702</td>\n",
       "    </tr>\n",
       "  </tbody>\n",
       "</table>\n",
       "</div>"
      ],
      "text/plain": [
       "    max_depth  train_accuracy  validate_accuracy  difference\n",
       "0           2        0.653135           0.661868   -0.008733\n",
       "1           3        0.653135           0.661868   -0.008733\n",
       "2           4        0.653135           0.661868   -0.008733\n",
       "3           5        0.653413           0.662257   -0.008844\n",
       "4           6        0.654386           0.662257   -0.007871\n",
       "5           7        0.656054           0.662257   -0.006202\n",
       "6           8        0.658835           0.661868   -0.003033\n",
       "7           9        0.663840           0.661479    0.002361\n",
       "8          10        0.674406           0.660311    0.014094\n",
       "9          11        0.689142           0.663035    0.026107\n",
       "10         12        0.714445           0.661868    0.052577\n",
       "11         13        0.747393           0.663035    0.084358\n",
       "12         14        0.782288           0.656809    0.125479\n",
       "13         15        0.833032           0.649027    0.184005\n",
       "14         16        0.868205           0.655253    0.212952\n",
       "15         17        0.906159           0.642412    0.263746\n",
       "16         18        0.938690           0.640078    0.298613\n",
       "17         19        0.967468           0.635798    0.331671\n",
       "18         20        0.978312           0.632685    0.345627\n",
       "19         21        0.989851           0.631907    0.357945\n",
       "20         22        0.993744           0.628016    0.365728\n",
       "21         23        0.994161           0.624514    0.369647\n",
       "22         24        0.994717           0.628016    0.366702"
      ]
     },
     "execution_count": 136,
     "metadata": {},
     "output_type": "execute_result"
    }
   ],
   "source": [
    "metrics = []\n",
    "\n",
    "for i in range(2, 25):\n",
    "    # Make the model\n",
    "    forest = RandomForestClassifier(max_depth=i, random_state=123)\n",
    "\n",
    "    # Fit the model (on train and only train)\n",
    "    forest = forest.fit(X_train, y_train)\n",
    "\n",
    "    # Use the model\n",
    "    # We'll evaluate the model's performance on train, first\n",
    "    in_sample_accuracy = forest.score(X_train, y_train)\n",
    "    \n",
    "    out_of_sample_accuracy = forest.score(X_validate, y_validate)\n",
    "\n",
    "    output = {\n",
    "        \"max_depth\": i,\n",
    "        \"train_accuracy\": in_sample_accuracy,\n",
    "        \"validate_accuracy\": out_of_sample_accuracy\n",
    "    }\n",
    "    \n",
    "    metrics.append(output)\n",
    "    \n",
    "df = pd.DataFrame(metrics)\n",
    "df[\"difference\"] = df.train_accuracy - df.validate_accuracy\n",
    "df"
   ]
  },
  {
   "cell_type": "markdown",
   "id": "0f8ac447",
   "metadata": {},
   "source": [
    "### KNN"
   ]
  },
  {
   "cell_type": "code",
   "execution_count": 177,
   "id": "70f648ae",
   "metadata": {},
   "outputs": [],
   "source": [
    "knn = KNeighborsClassifier(n_neighbors=18)"
   ]
  },
  {
   "cell_type": "code",
   "execution_count": 178,
   "id": "113e2698",
   "metadata": {},
   "outputs": [
    {
     "data": {
      "text/plain": [
       "KNeighborsClassifier(n_neighbors=18)"
      ]
     },
     "execution_count": 178,
     "metadata": {},
     "output_type": "execute_result"
    }
   ],
   "source": [
    "knn.fit(X_train, y_train)"
   ]
  },
  {
   "cell_type": "code",
   "execution_count": 179,
   "id": "6de15bf9",
   "metadata": {},
   "outputs": [],
   "source": [
    "y_pred = knn.predict(X_train)"
   ]
  },
  {
   "cell_type": "code",
   "execution_count": 180,
   "id": "9dda7400",
   "metadata": {},
   "outputs": [],
   "source": [
    "y_pred_proba = knn.predict_proba(X_train)"
   ]
  },
  {
   "cell_type": "code",
   "execution_count": 181,
   "id": "8ee588db",
   "metadata": {},
   "outputs": [
    {
     "name": "stdout",
     "output_type": "stream",
     "text": [
      "Accuracy of KNN classifier on training set: 0.66\n"
     ]
    }
   ],
   "source": [
    "print('Accuracy of KNN classifier on training set: {:.2f}'\n",
    "     .format(knn.score(X_train, y_train)))"
   ]
  },
  {
   "cell_type": "code",
   "execution_count": 182,
   "id": "327cf5af",
   "metadata": {},
   "outputs": [
    {
     "name": "stdout",
     "output_type": "stream",
     "text": [
      "              precision    recall  f1-score   support\n",
      "\n",
      "           0       0.00      0.00      0.00       250\n",
      "           1       0.66      0.99      0.79      4698\n",
      "           2       0.49      0.03      0.05      1547\n",
      "           3       0.00      0.00      0.00       464\n",
      "           4       0.00      0.00      0.00       234\n",
      "\n",
      "    accuracy                           0.66      7193\n",
      "   macro avg       0.23      0.20      0.17      7193\n",
      "weighted avg       0.53      0.66      0.53      7193\n",
      "\n"
     ]
    }
   ],
   "source": [
    "print(classification_report(y_train, y_pred))"
   ]
  },
  {
   "cell_type": "code",
   "execution_count": 183,
   "id": "527864fa",
   "metadata": {},
   "outputs": [],
   "source": [
    "y_pred = knn.predict(X_validate)"
   ]
  },
  {
   "cell_type": "code",
   "execution_count": 184,
   "id": "18a5e332",
   "metadata": {},
   "outputs": [],
   "source": [
    "y_pred_proba = knn.predict_proba(X_validate)"
   ]
  },
  {
   "cell_type": "code",
   "execution_count": 185,
   "id": "403b75ae",
   "metadata": {},
   "outputs": [
    {
     "name": "stdout",
     "output_type": "stream",
     "text": [
      "Accuracy of KNN classifier on validate set: 0.66\n"
     ]
    }
   ],
   "source": [
    "print('Accuracy of KNN classifier on validate set: {:.2f}'\n",
    "     .format(knn.score(X_validate, y_validate)))"
   ]
  },
  {
   "cell_type": "code",
   "execution_count": 186,
   "id": "ef381dfb",
   "metadata": {},
   "outputs": [
    {
     "name": "stdout",
     "output_type": "stream",
     "text": [
      "              precision    recall  f1-score   support\n",
      "\n",
      "           0       0.00      0.00      0.00        77\n",
      "           1       0.66      0.99      0.80      1701\n",
      "           2       0.40      0.02      0.04       556\n",
      "           3       0.00      0.00      0.00       155\n",
      "           4       0.00      0.00      0.00        81\n",
      "\n",
      "    accuracy                           0.66      2570\n",
      "   macro avg       0.21      0.20      0.17      2570\n",
      "weighted avg       0.53      0.66      0.54      2570\n",
      "\n"
     ]
    }
   ],
   "source": [
    "print(classification_report(y_validate, y_pred))"
   ]
  },
  {
   "cell_type": "code",
   "execution_count": 176,
   "id": "9a903de0",
   "metadata": {},
   "outputs": [
    {
     "data": {
      "image/png": "[encoded data removed]",
      "text/plain": [
       "<Figure size 1152x648 with 1 Axes>"
      ]
     },
     "metadata": {
      "needs_background": "light"
     },
     "output_type": "display_data"
    }
   ],
   "source": [
    "metrics = []\n",
    "\n",
    "# loop through different values of k\n",
    "for k in range(1, 30):\n",
    "            \n",
    "    # define the thing\n",
    "    knn = KNeighborsClassifier(n_neighbors=k)\n",
    "    \n",
    "    # fit the thing (remmeber only fit on training data)\n",
    "    knn.fit(X_train, y_train)\n",
    "    \n",
    "    # use the thing (calculate accuracy)\n",
    "    train_accuracy = knn.score(X_train, y_train)\n",
    "    validate_accuracy = knn.score(X_validate, y_validate)\n",
    "    \n",
    "    output = {\n",
    "        \"k\": k,\n",
    "        \"train_accuracy\": train_accuracy,\n",
    "        \"validate_accuracy\": validate_accuracy\n",
    "    }\n",
    "    \n",
    "    metrics.append(output)\n",
    "\n",
    "# make a dataframe\n",
    "results = pd.DataFrame(metrics)\n",
    "\n",
    "# plot the data\n",
    "results.set_index('k').plot(figsize = (16,9))\n",
    "plt.ylabel('Accuracy')\n",
    "plt.xticks(np.arange(0,30,1))\n",
    "plt.grid()"
   ]
  },
  {
   "cell_type": "markdown",
   "id": "bc77bfce",
   "metadata": {},
   "source": [
    "### Regression"
   ]
  },
  {
   "cell_type": "code",
   "execution_count": 148,
   "id": "3441f0e5",
   "metadata": {},
   "outputs": [],
   "source": [
    "logit = LogisticRegression(C=.1)"
   ]
  },
  {
   "cell_type": "code",
   "execution_count": 149,
   "id": "ed0bd85e",
   "metadata": {},
   "outputs": [
    {
     "data": {
      "text/plain": [
       "LogisticRegression(C=0.1)"
      ]
     },
     "execution_count": 149,
     "metadata": {},
     "output_type": "execute_result"
    }
   ],
   "source": [
    "logit.fit(X_train, y_train)"
   ]
  },
  {
   "cell_type": "code",
   "execution_count": 150,
   "id": "9905d9fe",
   "metadata": {},
   "outputs": [],
   "source": [
    "y_pred = logit.predict(X_train)"
   ]
  },
  {
   "cell_type": "code",
   "execution_count": 151,
   "id": "4a9e964f",
   "metadata": {},
   "outputs": [],
   "source": [
    "y_pred_proba = logit.predict_proba(X_train)"
   ]
  },
  {
   "cell_type": "code",
   "execution_count": 152,
   "id": "e04fa29d",
   "metadata": {},
   "outputs": [
    {
     "name": "stdout",
     "output_type": "stream",
     "text": [
      "Accuracy of Logistic Regression classifier on training set: 0.65\n"
     ]
    }
   ],
   "source": [
    "print('Accuracy of Logistic Regression classifier on training set: {:.2f}'\n",
    "     .format(logit.score(X_train, y_train)))"
   ]
  },
  {
   "cell_type": "code",
   "execution_count": 153,
   "id": "cf2d42b4",
   "metadata": {},
   "outputs": [
    {
     "name": "stdout",
     "output_type": "stream",
     "text": [
      "              precision    recall  f1-score   support\n",
      "\n",
      "           0       0.00      0.00      0.00       250\n",
      "           1       0.65      1.00      0.79      4698\n",
      "           2       0.00      0.00      0.00      1547\n",
      "           3       0.00      0.00      0.00       464\n",
      "           4       0.00      0.00      0.00       234\n",
      "\n",
      "    accuracy                           0.65      7193\n",
      "   macro avg       0.13      0.20      0.16      7193\n",
      "weighted avg       0.43      0.65      0.52      7193\n",
      "\n"
     ]
    }
   ],
   "source": [
    "print(classification_report(y_train, y_pred))"
   ]
  },
  {
   "cell_type": "code",
   "execution_count": 154,
   "id": "405b3811",
   "metadata": {},
   "outputs": [],
   "source": [
    "y_pred = logit.predict(X_validate)"
   ]
  },
  {
   "cell_type": "code",
   "execution_count": 155,
   "id": "35675767",
   "metadata": {},
   "outputs": [],
   "source": [
    "y_pred_proba = logit.predict_proba(X_validate)"
   ]
  },
  {
   "cell_type": "code",
   "execution_count": 156,
   "id": "87b58570",
   "metadata": {},
   "outputs": [
    {
     "name": "stdout",
     "output_type": "stream",
     "text": [
      "              precision    recall  f1-score   support\n",
      "\n",
      "           0       0.00      0.00      0.00        77\n",
      "           1       0.66      1.00      0.80      1701\n",
      "           2       0.00      0.00      0.00       556\n",
      "           3       0.00      0.00      0.00       155\n",
      "           4       0.00      0.00      0.00        81\n",
      "\n",
      "    accuracy                           0.66      2570\n",
      "   macro avg       0.13      0.20      0.16      2570\n",
      "weighted avg       0.44      0.66      0.53      2570\n",
      "\n"
     ]
    }
   ],
   "source": [
    "print(classification_report(y_validate, y_pred))"
   ]
  },
  {
   "cell_type": "markdown",
   "id": "8931525d",
   "metadata": {},
   "source": [
    "### Choosing KNN as the best model, all other models are within the same accuracy of 65%-66%, however, KNN makes predictions other than only choosing delayed status 1."
   ]
  },
  {
   "cell_type": "code",
   "execution_count": 157,
   "id": "f4091ae4",
   "metadata": {},
   "outputs": [
    {
     "name": "stdout",
     "output_type": "stream",
     "text": [
      "              precision    recall  f1-score   support\n",
      "\n",
      "           0       0.00      0.00      0.00        88\n",
      "           1       0.65      0.99      0.79      2006\n",
      "           2       0.30      0.01      0.03       669\n",
      "           3       0.00      0.00      0.00       219\n",
      "           4       0.00      0.00      0.00       101\n",
      "\n",
      "    accuracy                           0.65      3083\n",
      "   macro avg       0.19      0.20      0.16      3083\n",
      "weighted avg       0.49      0.65      0.52      3083\n",
      "\n"
     ]
    }
   ],
   "source": [
    "y_pred = knn.predict(X_test)\n",
    "\n",
    "# Compare actual y values (from validate) to predicted y_values from the model run on X_validate\n",
    "print(classification_report(y_test, y_pred))"
   ]
  },
  {
   "cell_type": "markdown",
   "id": "59f48f6b",
   "metadata": {},
   "source": [
    "- Outcomes: Classification modeling does not beat the baseline of 65% accuracy.\n",
    "    - I also attempted to model on Delayed to determine if a flight would be delayed, not just the time frame it would be delayed for. \n",
    "        - Both the baseline and models performed at 97%. There was no added benefit from modeling on this dataset.\n",
    "- Things to do differently:\n",
    "    - I significantly reduced the dataset to limit the flights that were flown by specific airlines and only departed or arrived at 5 airports.\n",
    "        - In retrospect, I would maintain the majority of the data and then look into clustering and then attempt calssification models on the clusters.\n",
    "\n",
    "Based of the 2008 flight data, consumers can expect to be delayed 15-59 minutes on 65% on their flights.\n",
    "       "
   ]
  },
  {
   "cell_type": "markdown",
   "id": "7c094198",
   "metadata": {},
   "source": [
    "### Naive Bayes"
   ]
  },
  {
   "cell_type": "code",
   "execution_count": 158,
   "id": "b8e60e7a",
   "metadata": {},
   "outputs": [],
   "source": [
    "from sklearn.naive_bayes import MultinomialNB"
   ]
  },
  {
   "cell_type": "code",
   "execution_count": 159,
   "id": "4c8d484c",
   "metadata": {},
   "outputs": [
    {
     "data": {
      "text/plain": [
       "MultinomialNB()"
      ]
     },
     "execution_count": 159,
     "metadata": {},
     "output_type": "execute_result"
    }
   ],
   "source": [
    "# Creating and training the Multinomial Naive Bayes model.\n",
    "multi_nb = MultinomialNB()\n",
    "multi_nb.fit(X_train, y_train)"
   ]
  },
  {
   "cell_type": "code",
   "execution_count": 160,
   "id": "cdf6150a",
   "metadata": {},
   "outputs": [
    {
     "name": "stdout",
     "output_type": "stream",
     "text": [
      "Accuracy of Multinomial Naive Bayes classifier on training set: 0.6531349923536772\n",
      "Accuracy of Multinomial Naive Bayes classifier on validate set: 0.6618677042801556\n"
     ]
    }
   ],
   "source": [
    "# Scoring the Multinomial model with standard hyperparameters on the train dataset\n",
    "print(f'Accuracy of Multinomial Naive Bayes classifier on training set: {multi_nb.score(X_train, y_train)}')\n",
    "print(f'Accuracy of Multinomial Naive Bayes classifier on validate set: {multi_nb.score(X_validate, y_validate)}')"
   ]
  },
  {
   "cell_type": "code",
   "execution_count": 161,
   "id": "8a355bf4",
   "metadata": {},
   "outputs": [],
   "source": [
    "y_pred = multi_nb.predict(X_validate)"
   ]
  },
  {
   "cell_type": "code",
   "execution_count": 162,
   "id": "c49121c7",
   "metadata": {},
   "outputs": [
    {
     "name": "stdout",
     "output_type": "stream",
     "text": [
      "              precision    recall  f1-score   support\n",
      "\n",
      "           0       0.00      0.00      0.00        77\n",
      "           1       0.66      1.00      0.80      1701\n",
      "           2       0.00      0.00      0.00       556\n",
      "           3       0.00      0.00      0.00       155\n",
      "           4       0.00      0.00      0.00        81\n",
      "\n",
      "    accuracy                           0.66      2570\n",
      "   macro avg       0.13      0.20      0.16      2570\n",
      "weighted avg       0.44      0.66      0.53      2570\n",
      "\n"
     ]
    }
   ],
   "source": [
    "print(classification_report(y_validate, y_pred))"
   ]
  },
  {
   "cell_type": "markdown",
   "id": "0d19996c",
   "metadata": {},
   "source": [
    "### SVC"
   ]
  },
  {
   "cell_type": "code",
   "execution_count": 163,
   "id": "6be1888a",
   "metadata": {},
   "outputs": [],
   "source": [
    "from sklearn.svm import SVC"
   ]
  },
  {
   "cell_type": "code",
   "execution_count": 164,
   "id": "43db5043",
   "metadata": {},
   "outputs": [],
   "source": [
    "# # Creating and training the linear SVM model.\n",
    "# linear_svm = SVC(kernel = 'linear')\n",
    "# linear_svm.fit(X_train, y_train)\n"
   ]
  },
  {
   "cell_type": "code",
   "execution_count": 165,
   "id": "90fbb0a8",
   "metadata": {},
   "outputs": [],
   "source": [
    "# # Scoring the linear SVM model with standard hyperparameters on the train dataset\n",
    "# print(f'Accuracy of linear SVM classifier on training set: {linear_svm.score(X_train, y_train)}')\n",
    "# print(f'Accuracy of linear SVM classifier on validate set: {linear_svm.score(X_validate, y_validate)}')\n"
   ]
  },
  {
   "cell_type": "code",
   "execution_count": 166,
   "id": "01939c3a",
   "metadata": {},
   "outputs": [
    {
     "name": "stdout",
     "output_type": "stream",
     "text": [
      "              precision    recall  f1-score   support\n",
      "\n",
      "           0       0.00      0.00      0.00        77\n",
      "           1       0.66      1.00      0.80      1701\n",
      "           2       0.00      0.00      0.00       556\n",
      "           3       0.00      0.00      0.00       155\n",
      "           4       0.00      0.00      0.00        81\n",
      "\n",
      "    accuracy                           0.66      2570\n",
      "   macro avg       0.13      0.20      0.16      2570\n",
      "weighted avg       0.44      0.66      0.53      2570\n",
      "\n"
     ]
    }
   ],
   "source": [
    "print(classification_report(y_validate, y_pred))"
   ]
  },
  {
   "cell_type": "markdown",
   "id": "6b585258",
   "metadata": {},
   "source": [
    "### Gradient Boosting"
   ]
  },
  {
   "cell_type": "code",
   "execution_count": 167,
   "id": "db2382e5",
   "metadata": {},
   "outputs": [],
   "source": [
    "from sklearn.ensemble import GradientBoostingClassifier"
   ]
  },
  {
   "cell_type": "code",
   "execution_count": 168,
   "id": "ab0f6075",
   "metadata": {},
   "outputs": [
    {
     "data": {
      "text/plain": [
       "GradientBoostingClassifier()"
      ]
     },
     "execution_count": 168,
     "metadata": {},
     "output_type": "execute_result"
    }
   ],
   "source": [
    "gbc=GradientBoostingClassifier()\n",
    "gbc.fit(X_train, y_train)"
   ]
  },
  {
   "cell_type": "code",
   "execution_count": 169,
   "id": "75a929f2",
   "metadata": {},
   "outputs": [],
   "source": [
    "y_pred = gbc.predict(X_train)"
   ]
  },
  {
   "cell_type": "code",
   "execution_count": 170,
   "id": "08dfc188",
   "metadata": {},
   "outputs": [
    {
     "name": "stdout",
     "output_type": "stream",
     "text": [
      "Accuracy of Gradient Boosting classifier on training set: 0.6671764215209232\n",
      "Accuracy of Gradient Boosting classifier on validate set: 0.6603112840466926\n"
     ]
    }
   ],
   "source": [
    "# Scoring the Gradient Boosting classifier with standard hyperparameters on the train dataset\n",
    "print(f'Accuracy of Gradient Boosting classifier on training set: {gbc.score(X_train, y_train)}')\n",
    "print(f'Accuracy of Gradient Boosting classifier on validate set: {gbc.score(X_validate, y_validate)}')"
   ]
  },
  {
   "cell_type": "code",
   "execution_count": 171,
   "id": "0f4a7e4a",
   "metadata": {},
   "outputs": [
    {
     "name": "stdout",
     "output_type": "stream",
     "text": [
      "              precision    recall  f1-score   support\n",
      "\n",
      "           0       1.00      0.03      0.06       250\n",
      "           1       0.66      1.00      0.80      4698\n",
      "           2       0.89      0.05      0.09      1547\n",
      "           3       0.94      0.04      0.07       464\n",
      "           4       1.00      0.03      0.07       234\n",
      "\n",
      "    accuracy                           0.67      7193\n",
      "   macro avg       0.90      0.23      0.22      7193\n",
      "weighted avg       0.75      0.67      0.55      7193\n",
      "\n"
     ]
    }
   ],
   "source": [
    "print(classification_report(y_train, y_pred))"
   ]
  },
  {
   "cell_type": "code",
   "execution_count": 172,
   "id": "0e608408",
   "metadata": {},
   "outputs": [],
   "source": [
    "y_pred = gbc.predict(X_validate)"
   ]
  },
  {
   "cell_type": "code",
   "execution_count": 173,
   "id": "c857a65f",
   "metadata": {},
   "outputs": [
    {
     "name": "stdout",
     "output_type": "stream",
     "text": [
      "              precision    recall  f1-score   support\n",
      "\n",
      "           0       0.00      0.00      0.00        77\n",
      "           1       0.66      0.99      0.80      1701\n",
      "           2       0.41      0.02      0.04       556\n",
      "           3       0.17      0.01      0.01       155\n",
      "           4       0.00      0.00      0.00        81\n",
      "\n",
      "    accuracy                           0.66      2570\n",
      "   macro avg       0.25      0.20      0.17      2570\n",
      "weighted avg       0.54      0.66      0.54      2570\n",
      "\n"
     ]
    }
   ],
   "source": [
    "print(classification_report(y_validate, y_pred))"
   ]
  },
  {
   "cell_type": "code",
   "execution_count": 174,
   "id": "a44ff425",
   "metadata": {},
   "outputs": [],
   "source": [
    "X_train = train_scaled[['DayofMonth', 'CRSElapsedTime', 'AirTime', 'departure_hour']]\n",
    "y_train = train_scaled.Delayed_Status\n",
    "\n",
    "X_validate = validate_scaled[['DayofMonth', 'CRSElapsedTime', 'AirTime', 'departure_hour']]\n",
    "y_validate = validate_scaled.Delayed_Status\n",
    "\n",
    "X_test = test_scaled[['DayofMonth', 'CRSElapsedTime', 'AirTime', 'departure_hour']]\n",
    "y_test = test_scaled.Delayed_Status"
   ]
  },
  {
   "cell_type": "code",
   "execution_count": null,
   "id": "4b7313cf",
   "metadata": {},
   "outputs": [],
   "source": []
  }
 ],
 "metadata": {
  "kernelspec": {
   "display_name": "Python 3 (ipykernel)",
   "language": "python",
   "name": "python3"
  },
  "language_info": {
   "codemirror_mode": {
    "name": "ipython",
    "version": 3
   },
   "file_extension": ".py",
   "mimetype": "text/x-python",
   "name": "python",
   "nbconvert_exporter": "python",
   "pygments_lexer": "ipython3",
   "version": "3.9.7"
  }
 },
 "nbformat": 4,
 "nbformat_minor": 5
}
