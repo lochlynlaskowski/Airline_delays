{
 "cells": [
  {
   "cell_type": "code",
   "execution_count": 1,
   "id": "8dc0a21c",
   "metadata": {},
   "outputs": [],
   "source": [
    "# ignore warnings\n",
    "import warnings\n",
    "warnings.filterwarnings(\"ignore\")\n",
    "import pandas as pd\n",
    "import matplotlib.pyplot as plt\n",
    "import seaborn as sns\n",
    "import numpy as np\n",
    "import wrangle\n",
    "from sklearn.model_selection import train_test_split\n",
    "from scipy import stats\n",
    "\n",
    "plt.rcParams['figure.figsize'] = [12,8]\n",
    "alpha = .05\n",
    "\n",
    "from sklearn.tree import DecisionTreeClassifier, plot_tree\n",
    "from sklearn.metrics import classification_report\n",
    "from sklearn.metrics import confusion_matrix\n",
    "from sklearn.neighbors import KNeighborsClassifier\n",
    "from sklearn.linear_model import LogisticRegression\n",
    "from sklearn.ensemble import RandomForestClassifier\n",
    "from sklearn.cluster import KMeans\n",
    "import sklearn.preprocessing"
   ]
  },
  {
   "cell_type": "code",
   "execution_count": 2,
   "id": "504f83b6",
   "metadata": {},
   "outputs": [
    {
     "data": {
      "text/html": [
       "<div>\n",
       "<style scoped>\n",
       "    .dataframe tbody tr th:only-of-type {\n",
       "        vertical-align: middle;\n",
       "    }\n",
       "\n",
       "    .dataframe tbody tr th {\n",
       "        vertical-align: top;\n",
       "    }\n",
       "\n",
       "    .dataframe thead th {\n",
       "        text-align: right;\n",
       "    }\n",
       "</style>\n",
       "<table border=\"1\" class=\"dataframe\">\n",
       "  <thead>\n",
       "    <tr style=\"text-align: right;\">\n",
       "      <th></th>\n",
       "      <th>Unnamed: 0</th>\n",
       "      <th>Year</th>\n",
       "      <th>Month</th>\n",
       "      <th>DayofMonth</th>\n",
       "      <th>DayOfWeek</th>\n",
       "      <th>DepTime</th>\n",
       "      <th>CRSDepTime</th>\n",
       "      <th>ArrTime</th>\n",
       "      <th>CRSArrTime</th>\n",
       "      <th>UniqueCarrier</th>\n",
       "      <th>...</th>\n",
       "      <th>TaxiIn</th>\n",
       "      <th>TaxiOut</th>\n",
       "      <th>Cancelled</th>\n",
       "      <th>CancellationCode</th>\n",
       "      <th>Diverted</th>\n",
       "      <th>CarrierDelay</th>\n",
       "      <th>WeatherDelay</th>\n",
       "      <th>NASDelay</th>\n",
       "      <th>SecurityDelay</th>\n",
       "      <th>LateAircraftDelay</th>\n",
       "    </tr>\n",
       "  </thead>\n",
       "  <tbody>\n",
       "    <tr>\n",
       "      <th>0</th>\n",
       "      <td>0</td>\n",
       "      <td>2008</td>\n",
       "      <td>1</td>\n",
       "      <td>3</td>\n",
       "      <td>4</td>\n",
       "      <td>2003.0</td>\n",
       "      <td>1955</td>\n",
       "      <td>2211.0</td>\n",
       "      <td>2225</td>\n",
       "      <td>WN</td>\n",
       "      <td>...</td>\n",
       "      <td>4.0</td>\n",
       "      <td>8.0</td>\n",
       "      <td>0</td>\n",
       "      <td>N</td>\n",
       "      <td>0</td>\n",
       "      <td>NaN</td>\n",
       "      <td>NaN</td>\n",
       "      <td>NaN</td>\n",
       "      <td>NaN</td>\n",
       "      <td>NaN</td>\n",
       "    </tr>\n",
       "    <tr>\n",
       "      <th>1</th>\n",
       "      <td>1</td>\n",
       "      <td>2008</td>\n",
       "      <td>1</td>\n",
       "      <td>3</td>\n",
       "      <td>4</td>\n",
       "      <td>754.0</td>\n",
       "      <td>735</td>\n",
       "      <td>1002.0</td>\n",
       "      <td>1000</td>\n",
       "      <td>WN</td>\n",
       "      <td>...</td>\n",
       "      <td>5.0</td>\n",
       "      <td>10.0</td>\n",
       "      <td>0</td>\n",
       "      <td>N</td>\n",
       "      <td>0</td>\n",
       "      <td>NaN</td>\n",
       "      <td>NaN</td>\n",
       "      <td>NaN</td>\n",
       "      <td>NaN</td>\n",
       "      <td>NaN</td>\n",
       "    </tr>\n",
       "    <tr>\n",
       "      <th>2</th>\n",
       "      <td>2</td>\n",
       "      <td>2008</td>\n",
       "      <td>1</td>\n",
       "      <td>3</td>\n",
       "      <td>4</td>\n",
       "      <td>628.0</td>\n",
       "      <td>620</td>\n",
       "      <td>804.0</td>\n",
       "      <td>750</td>\n",
       "      <td>WN</td>\n",
       "      <td>...</td>\n",
       "      <td>3.0</td>\n",
       "      <td>17.0</td>\n",
       "      <td>0</td>\n",
       "      <td>N</td>\n",
       "      <td>0</td>\n",
       "      <td>NaN</td>\n",
       "      <td>NaN</td>\n",
       "      <td>NaN</td>\n",
       "      <td>NaN</td>\n",
       "      <td>NaN</td>\n",
       "    </tr>\n",
       "    <tr>\n",
       "      <th>3</th>\n",
       "      <td>4</td>\n",
       "      <td>2008</td>\n",
       "      <td>1</td>\n",
       "      <td>3</td>\n",
       "      <td>4</td>\n",
       "      <td>1829.0</td>\n",
       "      <td>1755</td>\n",
       "      <td>1959.0</td>\n",
       "      <td>1925</td>\n",
       "      <td>WN</td>\n",
       "      <td>...</td>\n",
       "      <td>3.0</td>\n",
       "      <td>10.0</td>\n",
       "      <td>0</td>\n",
       "      <td>N</td>\n",
       "      <td>0</td>\n",
       "      <td>2.0</td>\n",
       "      <td>0.0</td>\n",
       "      <td>0.0</td>\n",
       "      <td>0.0</td>\n",
       "      <td>32.0</td>\n",
       "    </tr>\n",
       "    <tr>\n",
       "      <th>4</th>\n",
       "      <td>5</td>\n",
       "      <td>2008</td>\n",
       "      <td>1</td>\n",
       "      <td>3</td>\n",
       "      <td>4</td>\n",
       "      <td>1940.0</td>\n",
       "      <td>1915</td>\n",
       "      <td>2121.0</td>\n",
       "      <td>2110</td>\n",
       "      <td>WN</td>\n",
       "      <td>...</td>\n",
       "      <td>4.0</td>\n",
       "      <td>10.0</td>\n",
       "      <td>0</td>\n",
       "      <td>N</td>\n",
       "      <td>0</td>\n",
       "      <td>NaN</td>\n",
       "      <td>NaN</td>\n",
       "      <td>NaN</td>\n",
       "      <td>NaN</td>\n",
       "      <td>NaN</td>\n",
       "    </tr>\n",
       "  </tbody>\n",
       "</table>\n",
       "<p>5 rows × 30 columns</p>\n",
       "</div>"
      ],
      "text/plain": [
       "   Unnamed: 0  Year  Month  DayofMonth  DayOfWeek  DepTime  CRSDepTime  \\\n",
       "0           0  2008      1           3          4   2003.0        1955   \n",
       "1           1  2008      1           3          4    754.0         735   \n",
       "2           2  2008      1           3          4    628.0         620   \n",
       "3           4  2008      1           3          4   1829.0        1755   \n",
       "4           5  2008      1           3          4   1940.0        1915   \n",
       "\n",
       "   ArrTime  CRSArrTime UniqueCarrier  ...  TaxiIn TaxiOut  Cancelled  \\\n",
       "0   2211.0        2225            WN  ...     4.0     8.0          0   \n",
       "1   1002.0        1000            WN  ...     5.0    10.0          0   \n",
       "2    804.0         750            WN  ...     3.0    17.0          0   \n",
       "3   1959.0        1925            WN  ...     3.0    10.0          0   \n",
       "4   2121.0        2110            WN  ...     4.0    10.0          0   \n",
       "\n",
       "   CancellationCode  Diverted  CarrierDelay  WeatherDelay NASDelay  \\\n",
       "0                 N         0           NaN           NaN      NaN   \n",
       "1                 N         0           NaN           NaN      NaN   \n",
       "2                 N         0           NaN           NaN      NaN   \n",
       "3                 N         0           2.0           0.0      0.0   \n",
       "4                 N         0           NaN           NaN      NaN   \n",
       "\n",
       "  SecurityDelay  LateAircraftDelay  \n",
       "0           NaN                NaN  \n",
       "1           NaN                NaN  \n",
       "2           NaN                NaN  \n",
       "3           0.0               32.0  \n",
       "4           NaN                NaN  \n",
       "\n",
       "[5 rows x 30 columns]"
      ]
     },
     "execution_count": 2,
     "metadata": {},
     "output_type": "execute_result"
    }
   ],
   "source": [
    "df = wrangle.get_flight_data()\n",
    "df.head()"
   ]
  },
  {
   "cell_type": "code",
   "execution_count": 3,
   "id": "49669d72",
   "metadata": {},
   "outputs": [
    {
     "data": {
      "text/html": [
       "<div>\n",
       "<style scoped>\n",
       "    .dataframe tbody tr th:only-of-type {\n",
       "        vertical-align: middle;\n",
       "    }\n",
       "\n",
       "    .dataframe tbody tr th {\n",
       "        vertical-align: top;\n",
       "    }\n",
       "\n",
       "    .dataframe thead th {\n",
       "        text-align: right;\n",
       "    }\n",
       "</style>\n",
       "<table border=\"1\" class=\"dataframe\">\n",
       "  <thead>\n",
       "    <tr style=\"text-align: right;\">\n",
       "      <th></th>\n",
       "      <th>Year</th>\n",
       "      <th>Month</th>\n",
       "      <th>DayofMonth</th>\n",
       "      <th>DayOfWeek</th>\n",
       "      <th>CRSDepTime</th>\n",
       "      <th>CRSArrTime</th>\n",
       "      <th>UniqueCarrier</th>\n",
       "      <th>TailNum</th>\n",
       "      <th>CRSElapsedTime</th>\n",
       "      <th>AirTime</th>\n",
       "      <th>...</th>\n",
       "      <th>WeatherDelay</th>\n",
       "      <th>NASDelay</th>\n",
       "      <th>SecurityDelay</th>\n",
       "      <th>LateAircraftDelay</th>\n",
       "      <th>Delayed_Status</th>\n",
       "      <th>Delayed</th>\n",
       "      <th>UniqueCarrier_DL</th>\n",
       "      <th>UniqueCarrier_OO</th>\n",
       "      <th>UniqueCarrier_UA</th>\n",
       "      <th>UniqueCarrier_WN</th>\n",
       "    </tr>\n",
       "  </thead>\n",
       "  <tbody>\n",
       "    <tr>\n",
       "      <th>51640</th>\n",
       "      <td>2008</td>\n",
       "      <td>1</td>\n",
       "      <td>1</td>\n",
       "      <td>2</td>\n",
       "      <td>1429</td>\n",
       "      <td>1922</td>\n",
       "      <td>OO</td>\n",
       "      <td>N772SK</td>\n",
       "      <td>173</td>\n",
       "      <td>153</td>\n",
       "      <td>...</td>\n",
       "      <td>0</td>\n",
       "      <td>0</td>\n",
       "      <td>0</td>\n",
       "      <td>0</td>\n",
       "      <td>0</td>\n",
       "      <td>0</td>\n",
       "      <td>0</td>\n",
       "      <td>1</td>\n",
       "      <td>0</td>\n",
       "      <td>0</td>\n",
       "    </tr>\n",
       "    <tr>\n",
       "      <th>53353</th>\n",
       "      <td>2008</td>\n",
       "      <td>1</td>\n",
       "      <td>4</td>\n",
       "      <td>5</td>\n",
       "      <td>2020</td>\n",
       "      <td>2138</td>\n",
       "      <td>OO</td>\n",
       "      <td>N767SK</td>\n",
       "      <td>198</td>\n",
       "      <td>195</td>\n",
       "      <td>...</td>\n",
       "      <td>0</td>\n",
       "      <td>0</td>\n",
       "      <td>0</td>\n",
       "      <td>98</td>\n",
       "      <td>2</td>\n",
       "      <td>1</td>\n",
       "      <td>0</td>\n",
       "      <td>1</td>\n",
       "      <td>0</td>\n",
       "      <td>0</td>\n",
       "    </tr>\n",
       "    <tr>\n",
       "      <th>53354</th>\n",
       "      <td>2008</td>\n",
       "      <td>1</td>\n",
       "      <td>4</td>\n",
       "      <td>5</td>\n",
       "      <td>1429</td>\n",
       "      <td>1922</td>\n",
       "      <td>OO</td>\n",
       "      <td>N767SK</td>\n",
       "      <td>173</td>\n",
       "      <td>146</td>\n",
       "      <td>...</td>\n",
       "      <td>0</td>\n",
       "      <td>0</td>\n",
       "      <td>0</td>\n",
       "      <td>0</td>\n",
       "      <td>1</td>\n",
       "      <td>1</td>\n",
       "      <td>0</td>\n",
       "      <td>1</td>\n",
       "      <td>0</td>\n",
       "      <td>0</td>\n",
       "    </tr>\n",
       "    <tr>\n",
       "      <th>54134</th>\n",
       "      <td>2008</td>\n",
       "      <td>1</td>\n",
       "      <td>5</td>\n",
       "      <td>6</td>\n",
       "      <td>1429</td>\n",
       "      <td>1922</td>\n",
       "      <td>OO</td>\n",
       "      <td>N768SK</td>\n",
       "      <td>173</td>\n",
       "      <td>143</td>\n",
       "      <td>...</td>\n",
       "      <td>0</td>\n",
       "      <td>0</td>\n",
       "      <td>0</td>\n",
       "      <td>20</td>\n",
       "      <td>1</td>\n",
       "      <td>1</td>\n",
       "      <td>0</td>\n",
       "      <td>1</td>\n",
       "      <td>0</td>\n",
       "      <td>0</td>\n",
       "    </tr>\n",
       "    <tr>\n",
       "      <th>54135</th>\n",
       "      <td>2008</td>\n",
       "      <td>1</td>\n",
       "      <td>5</td>\n",
       "      <td>6</td>\n",
       "      <td>1237</td>\n",
       "      <td>1355</td>\n",
       "      <td>OO</td>\n",
       "      <td>N768SK</td>\n",
       "      <td>198</td>\n",
       "      <td>177</td>\n",
       "      <td>...</td>\n",
       "      <td>0</td>\n",
       "      <td>0</td>\n",
       "      <td>0</td>\n",
       "      <td>0</td>\n",
       "      <td>1</td>\n",
       "      <td>1</td>\n",
       "      <td>0</td>\n",
       "      <td>1</td>\n",
       "      <td>0</td>\n",
       "      <td>0</td>\n",
       "    </tr>\n",
       "  </tbody>\n",
       "</table>\n",
       "<p>5 rows × 26 columns</p>\n",
       "</div>"
      ],
      "text/plain": [
       "       Year  Month  DayofMonth  DayOfWeek  CRSDepTime  CRSArrTime  \\\n",
       "51640  2008      1           1          2        1429        1922   \n",
       "53353  2008      1           4          5        2020        2138   \n",
       "53354  2008      1           4          5        1429        1922   \n",
       "54134  2008      1           5          6        1429        1922   \n",
       "54135  2008      1           5          6        1237        1355   \n",
       "\n",
       "      UniqueCarrier TailNum  CRSElapsedTime  AirTime  ...  WeatherDelay  \\\n",
       "51640            OO  N772SK             173      153  ...             0   \n",
       "53353            OO  N767SK             198      195  ...             0   \n",
       "53354            OO  N767SK             173      146  ...             0   \n",
       "54134            OO  N768SK             173      143  ...             0   \n",
       "54135            OO  N768SK             198      177  ...             0   \n",
       "\n",
       "       NASDelay SecurityDelay LateAircraftDelay  Delayed_Status  Delayed  \\\n",
       "51640         0             0                 0               0        0   \n",
       "53353         0             0                98               2        1   \n",
       "53354         0             0                 0               1        1   \n",
       "54134         0             0                20               1        1   \n",
       "54135         0             0                 0               1        1   \n",
       "\n",
       "       UniqueCarrier_DL  UniqueCarrier_OO  UniqueCarrier_UA  UniqueCarrier_WN  \n",
       "51640                 0                 1                 0                 0  \n",
       "53353                 0                 1                 0                 0  \n",
       "53354                 0                 1                 0                 0  \n",
       "54134                 0                 1                 0                 0  \n",
       "54135                 0                 1                 0                 0  \n",
       "\n",
       "[5 rows x 26 columns]"
      ]
     },
     "execution_count": 3,
     "metadata": {},
     "output_type": "execute_result"
    }
   ],
   "source": [
    "df = wrangle.prepare_flight_data(df)\n",
    "df.head()"
   ]
  },
  {
   "cell_type": "code",
   "execution_count": 4,
   "id": "648c7c35",
   "metadata": {},
   "outputs": [
    {
     "data": {
      "text/plain": [
       "AA    6162\n",
       "DL    3541\n",
       "UA    2403\n",
       "WN     510\n",
       "OO     230\n",
       "Name: UniqueCarrier, dtype: int64"
      ]
     },
     "execution_count": 4,
     "metadata": {},
     "output_type": "execute_result"
    }
   ],
   "source": [
    "df.UniqueCarrier.value_counts()"
   ]
  },
  {
   "cell_type": "code",
   "execution_count": 5,
   "id": "2994276e",
   "metadata": {},
   "outputs": [
    {
     "data": {
      "text/html": [
       "<div>\n",
       "<style scoped>\n",
       "    .dataframe tbody tr th:only-of-type {\n",
       "        vertical-align: middle;\n",
       "    }\n",
       "\n",
       "    .dataframe tbody tr th {\n",
       "        vertical-align: top;\n",
       "    }\n",
       "\n",
       "    .dataframe thead th {\n",
       "        text-align: right;\n",
       "    }\n",
       "</style>\n",
       "<table border=\"1\" class=\"dataframe\">\n",
       "  <thead>\n",
       "    <tr style=\"text-align: right;\">\n",
       "      <th></th>\n",
       "      <th>count</th>\n",
       "      <th>mean</th>\n",
       "      <th>std</th>\n",
       "      <th>min</th>\n",
       "      <th>25%</th>\n",
       "      <th>50%</th>\n",
       "      <th>75%</th>\n",
       "      <th>max</th>\n",
       "    </tr>\n",
       "  </thead>\n",
       "  <tbody>\n",
       "    <tr>\n",
       "      <th>Year</th>\n",
       "      <td>12846.0</td>\n",
       "      <td>2008.000000</td>\n",
       "      <td>0.000000</td>\n",
       "      <td>2008.0</td>\n",
       "      <td>2008.0</td>\n",
       "      <td>2008.0</td>\n",
       "      <td>2008.0</td>\n",
       "      <td>2008.0</td>\n",
       "    </tr>\n",
       "    <tr>\n",
       "      <th>Month</th>\n",
       "      <td>12846.0</td>\n",
       "      <td>6.093103</td>\n",
       "      <td>3.353317</td>\n",
       "      <td>1.0</td>\n",
       "      <td>3.0</td>\n",
       "      <td>6.0</td>\n",
       "      <td>8.0</td>\n",
       "      <td>12.0</td>\n",
       "    </tr>\n",
       "    <tr>\n",
       "      <th>DayofMonth</th>\n",
       "      <td>12846.0</td>\n",
       "      <td>15.761871</td>\n",
       "      <td>8.715228</td>\n",
       "      <td>1.0</td>\n",
       "      <td>8.0</td>\n",
       "      <td>16.0</td>\n",
       "      <td>23.0</td>\n",
       "      <td>31.0</td>\n",
       "    </tr>\n",
       "    <tr>\n",
       "      <th>DayOfWeek</th>\n",
       "      <td>12846.0</td>\n",
       "      <td>3.984275</td>\n",
       "      <td>1.997640</td>\n",
       "      <td>1.0</td>\n",
       "      <td>2.0</td>\n",
       "      <td>4.0</td>\n",
       "      <td>6.0</td>\n",
       "      <td>7.0</td>\n",
       "    </tr>\n",
       "    <tr>\n",
       "      <th>CRSDepTime</th>\n",
       "      <td>12846.0</td>\n",
       "      <td>1452.256578</td>\n",
       "      <td>448.941803</td>\n",
       "      <td>10.0</td>\n",
       "      <td>1122.0</td>\n",
       "      <td>1455.0</td>\n",
       "      <td>1815.0</td>\n",
       "      <td>2355.0</td>\n",
       "    </tr>\n",
       "    <tr>\n",
       "      <th>CRSArrTime</th>\n",
       "      <td>12846.0</td>\n",
       "      <td>1659.090067</td>\n",
       "      <td>465.738592</td>\n",
       "      <td>5.0</td>\n",
       "      <td>1344.0</td>\n",
       "      <td>1730.0</td>\n",
       "      <td>2022.0</td>\n",
       "      <td>2359.0</td>\n",
       "    </tr>\n",
       "    <tr>\n",
       "      <th>CRSElapsedTime</th>\n",
       "      <td>12846.0</td>\n",
       "      <td>164.664721</td>\n",
       "      <td>49.138792</td>\n",
       "      <td>105.0</td>\n",
       "      <td>127.0</td>\n",
       "      <td>145.0</td>\n",
       "      <td>190.0</td>\n",
       "      <td>317.0</td>\n",
       "    </tr>\n",
       "    <tr>\n",
       "      <th>AirTime</th>\n",
       "      <td>12846.0</td>\n",
       "      <td>138.423322</td>\n",
       "      <td>49.251560</td>\n",
       "      <td>63.0</td>\n",
       "      <td>102.0</td>\n",
       "      <td>120.0</td>\n",
       "      <td>163.0</td>\n",
       "      <td>316.0</td>\n",
       "    </tr>\n",
       "    <tr>\n",
       "      <th>ArrDelay</th>\n",
       "      <td>12846.0</td>\n",
       "      <td>56.954071</td>\n",
       "      <td>52.106563</td>\n",
       "      <td>15.0</td>\n",
       "      <td>24.0</td>\n",
       "      <td>39.0</td>\n",
       "      <td>70.0</td>\n",
       "      <td>1357.0</td>\n",
       "    </tr>\n",
       "    <tr>\n",
       "      <th>DepDelay</th>\n",
       "      <td>12846.0</td>\n",
       "      <td>53.583606</td>\n",
       "      <td>52.463383</td>\n",
       "      <td>6.0</td>\n",
       "      <td>21.0</td>\n",
       "      <td>37.0</td>\n",
       "      <td>68.0</td>\n",
       "      <td>1355.0</td>\n",
       "    </tr>\n",
       "    <tr>\n",
       "      <th>Distance</th>\n",
       "      <td>12846.0</td>\n",
       "      <td>1014.780087</td>\n",
       "      <td>400.230057</td>\n",
       "      <td>641.0</td>\n",
       "      <td>732.0</td>\n",
       "      <td>862.0</td>\n",
       "      <td>1235.0</td>\n",
       "      <td>1946.0</td>\n",
       "    </tr>\n",
       "    <tr>\n",
       "      <th>CarrierDelay</th>\n",
       "      <td>12846.0</td>\n",
       "      <td>21.081582</td>\n",
       "      <td>38.641358</td>\n",
       "      <td>0.0</td>\n",
       "      <td>0.0</td>\n",
       "      <td>9.0</td>\n",
       "      <td>24.0</td>\n",
       "      <td>859.0</td>\n",
       "    </tr>\n",
       "    <tr>\n",
       "      <th>WeatherDelay</th>\n",
       "      <td>12846.0</td>\n",
       "      <td>2.207847</td>\n",
       "      <td>13.420142</td>\n",
       "      <td>0.0</td>\n",
       "      <td>0.0</td>\n",
       "      <td>0.0</td>\n",
       "      <td>0.0</td>\n",
       "      <td>410.0</td>\n",
       "    </tr>\n",
       "    <tr>\n",
       "      <th>NASDelay</th>\n",
       "      <td>12846.0</td>\n",
       "      <td>9.874669</td>\n",
       "      <td>23.880799</td>\n",
       "      <td>0.0</td>\n",
       "      <td>0.0</td>\n",
       "      <td>2.0</td>\n",
       "      <td>12.0</td>\n",
       "      <td>1357.0</td>\n",
       "    </tr>\n",
       "    <tr>\n",
       "      <th>SecurityDelay</th>\n",
       "      <td>12846.0</td>\n",
       "      <td>0.045072</td>\n",
       "      <td>1.398350</td>\n",
       "      <td>0.0</td>\n",
       "      <td>0.0</td>\n",
       "      <td>0.0</td>\n",
       "      <td>0.0</td>\n",
       "      <td>74.0</td>\n",
       "    </tr>\n",
       "    <tr>\n",
       "      <th>LateAircraftDelay</th>\n",
       "      <td>12846.0</td>\n",
       "      <td>23.744901</td>\n",
       "      <td>38.619072</td>\n",
       "      <td>0.0</td>\n",
       "      <td>0.0</td>\n",
       "      <td>9.0</td>\n",
       "      <td>31.0</td>\n",
       "      <td>507.0</td>\n",
       "    </tr>\n",
       "    <tr>\n",
       "      <th>Delayed_Status</th>\n",
       "      <td>12846.0</td>\n",
       "      <td>1.411101</td>\n",
       "      <td>0.794687</td>\n",
       "      <td>0.0</td>\n",
       "      <td>1.0</td>\n",
       "      <td>1.0</td>\n",
       "      <td>2.0</td>\n",
       "      <td>4.0</td>\n",
       "    </tr>\n",
       "    <tr>\n",
       "      <th>Delayed</th>\n",
       "      <td>12846.0</td>\n",
       "      <td>0.967694</td>\n",
       "      <td>0.176818</td>\n",
       "      <td>0.0</td>\n",
       "      <td>1.0</td>\n",
       "      <td>1.0</td>\n",
       "      <td>1.0</td>\n",
       "      <td>1.0</td>\n",
       "    </tr>\n",
       "    <tr>\n",
       "      <th>UniqueCarrier_DL</th>\n",
       "      <td>12846.0</td>\n",
       "      <td>0.275650</td>\n",
       "      <td>0.446859</td>\n",
       "      <td>0.0</td>\n",
       "      <td>0.0</td>\n",
       "      <td>0.0</td>\n",
       "      <td>1.0</td>\n",
       "      <td>1.0</td>\n",
       "    </tr>\n",
       "    <tr>\n",
       "      <th>UniqueCarrier_OO</th>\n",
       "      <td>12846.0</td>\n",
       "      <td>0.017904</td>\n",
       "      <td>0.132609</td>\n",
       "      <td>0.0</td>\n",
       "      <td>0.0</td>\n",
       "      <td>0.0</td>\n",
       "      <td>0.0</td>\n",
       "      <td>1.0</td>\n",
       "    </tr>\n",
       "    <tr>\n",
       "      <th>UniqueCarrier_UA</th>\n",
       "      <td>12846.0</td>\n",
       "      <td>0.187062</td>\n",
       "      <td>0.389977</td>\n",
       "      <td>0.0</td>\n",
       "      <td>0.0</td>\n",
       "      <td>0.0</td>\n",
       "      <td>0.0</td>\n",
       "      <td>1.0</td>\n",
       "    </tr>\n",
       "    <tr>\n",
       "      <th>UniqueCarrier_WN</th>\n",
       "      <td>12846.0</td>\n",
       "      <td>0.039701</td>\n",
       "      <td>0.195264</td>\n",
       "      <td>0.0</td>\n",
       "      <td>0.0</td>\n",
       "      <td>0.0</td>\n",
       "      <td>0.0</td>\n",
       "      <td>1.0</td>\n",
       "    </tr>\n",
       "  </tbody>\n",
       "</table>\n",
       "</div>"
      ],
      "text/plain": [
       "                     count         mean         std     min     25%     50%  \\\n",
       "Year               12846.0  2008.000000    0.000000  2008.0  2008.0  2008.0   \n",
       "Month              12846.0     6.093103    3.353317     1.0     3.0     6.0   \n",
       "DayofMonth         12846.0    15.761871    8.715228     1.0     8.0    16.0   \n",
       "DayOfWeek          12846.0     3.984275    1.997640     1.0     2.0     4.0   \n",
       "CRSDepTime         12846.0  1452.256578  448.941803    10.0  1122.0  1455.0   \n",
       "CRSArrTime         12846.0  1659.090067  465.738592     5.0  1344.0  1730.0   \n",
       "CRSElapsedTime     12846.0   164.664721   49.138792   105.0   127.0   145.0   \n",
       "AirTime            12846.0   138.423322   49.251560    63.0   102.0   120.0   \n",
       "ArrDelay           12846.0    56.954071   52.106563    15.0    24.0    39.0   \n",
       "DepDelay           12846.0    53.583606   52.463383     6.0    21.0    37.0   \n",
       "Distance           12846.0  1014.780087  400.230057   641.0   732.0   862.0   \n",
       "CarrierDelay       12846.0    21.081582   38.641358     0.0     0.0     9.0   \n",
       "WeatherDelay       12846.0     2.207847   13.420142     0.0     0.0     0.0   \n",
       "NASDelay           12846.0     9.874669   23.880799     0.0     0.0     2.0   \n",
       "SecurityDelay      12846.0     0.045072    1.398350     0.0     0.0     0.0   \n",
       "LateAircraftDelay  12846.0    23.744901   38.619072     0.0     0.0     9.0   \n",
       "Delayed_Status     12846.0     1.411101    0.794687     0.0     1.0     1.0   \n",
       "Delayed            12846.0     0.967694    0.176818     0.0     1.0     1.0   \n",
       "UniqueCarrier_DL   12846.0     0.275650    0.446859     0.0     0.0     0.0   \n",
       "UniqueCarrier_OO   12846.0     0.017904    0.132609     0.0     0.0     0.0   \n",
       "UniqueCarrier_UA   12846.0     0.187062    0.389977     0.0     0.0     0.0   \n",
       "UniqueCarrier_WN   12846.0     0.039701    0.195264     0.0     0.0     0.0   \n",
       "\n",
       "                      75%     max  \n",
       "Year               2008.0  2008.0  \n",
       "Month                 8.0    12.0  \n",
       "DayofMonth           23.0    31.0  \n",
       "DayOfWeek             6.0     7.0  \n",
       "CRSDepTime         1815.0  2355.0  \n",
       "CRSArrTime         2022.0  2359.0  \n",
       "CRSElapsedTime      190.0   317.0  \n",
       "AirTime             163.0   316.0  \n",
       "ArrDelay             70.0  1357.0  \n",
       "DepDelay             68.0  1355.0  \n",
       "Distance           1235.0  1946.0  \n",
       "CarrierDelay         24.0   859.0  \n",
       "WeatherDelay          0.0   410.0  \n",
       "NASDelay             12.0  1357.0  \n",
       "SecurityDelay         0.0    74.0  \n",
       "LateAircraftDelay    31.0   507.0  \n",
       "Delayed_Status        2.0     4.0  \n",
       "Delayed               1.0     1.0  \n",
       "UniqueCarrier_DL      1.0     1.0  \n",
       "UniqueCarrier_OO      0.0     1.0  \n",
       "UniqueCarrier_UA      0.0     1.0  \n",
       "UniqueCarrier_WN      0.0     1.0  "
      ]
     },
     "execution_count": 5,
     "metadata": {},
     "output_type": "execute_result"
    }
   ],
   "source": [
    "df.describe().T"
   ]
  },
  {
   "cell_type": "markdown",
   "id": "8cd15ea3",
   "metadata": {},
   "source": [
    "### Train, validate, test split"
   ]
  },
  {
   "cell_type": "code",
   "execution_count": 6,
   "id": "3c09f1bd",
   "metadata": {},
   "outputs": [],
   "source": [
    "def split_flight_data(df):\n",
    "    ''' This function splits the cleaned dataframe into train, validate, and test \n",
    "    datasets.'''\n",
    "\n",
    "    train_validate, test = train_test_split(df, test_size=.2, \n",
    "                                        random_state=123)\n",
    "    train, validate = train_test_split(train_validate, test_size=.3, \n",
    "                                   random_state=123) \n",
    "    return train, validate, test"
   ]
  },
  {
   "cell_type": "code",
   "execution_count": 7,
   "id": "7b2afeb5",
   "metadata": {},
   "outputs": [],
   "source": [
    "train, validate, test = split_flight_data(df)"
   ]
  },
  {
   "cell_type": "code",
   "execution_count": 8,
   "id": "d7a99d8f",
   "metadata": {},
   "outputs": [
    {
     "data": {
      "text/plain": [
       "((7193, 26), (3083, 26), (2570, 26))"
      ]
     },
     "execution_count": 8,
     "metadata": {},
     "output_type": "execute_result"
    }
   ],
   "source": [
    "train.shape, validate.shape, test.shape"
   ]
  },
  {
   "cell_type": "markdown",
   "id": "86bd6855",
   "metadata": {},
   "source": [
    "### Explore\n",
    "\n",
    "**Questions to ask**\n",
    "- Does the airline impact flight delays?\n",
    "- Does the airport impact flight delays?\n",
    "     - Departure and Arrival\n",
    "- Does the day of the week impact flight delays?\n",
    "- Does the month impact flight delays?\n",
    "- Are specific types of delays more likely to occur during a specified time?"
   ]
  },
  {
   "cell_type": "code",
   "execution_count": 9,
   "id": "cf687cea",
   "metadata": {},
   "outputs": [
    {
     "data": {
      "text/plain": [
       "1    4698\n",
       "2    1547\n",
       "3     464\n",
       "0     250\n",
       "4     234\n",
       "Name: Delayed_Status, dtype: int64"
      ]
     },
     "execution_count": 9,
     "metadata": {},
     "output_type": "execute_result"
    }
   ],
   "source": [
    "train.Delayed_Status.value_counts()"
   ]
  },
  {
   "cell_type": "code",
   "execution_count": 10,
   "id": "64b49095",
   "metadata": {},
   "outputs": [
    {
     "data": {
      "text/plain": [
       "15      250\n",
       "19      192\n",
       "16      183\n",
       "18      179\n",
       "20      178\n",
       "       ... \n",
       "313       1\n",
       "318       1\n",
       "219       1\n",
       "1357      1\n",
       "236       1\n",
       "Name: ArrDelay, Length: 288, dtype: int64"
      ]
     },
     "execution_count": 10,
     "metadata": {},
     "output_type": "execute_result"
    }
   ],
   "source": [
    "train.ArrDelay.value_counts()"
   ]
  },
  {
   "cell_type": "code",
   "execution_count": 11,
   "id": "4a188821",
   "metadata": {},
   "outputs": [
    {
     "name": "stdout",
     "output_type": "stream",
     "text": [
      "2008    12846\n",
      "Name: Year, dtype: int64\n",
      "6     1450\n",
      "3     1326\n",
      "7     1323\n",
      "12    1261\n",
      "5     1217\n",
      "8     1183\n",
      "1     1132\n",
      "4     1091\n",
      "2     1064\n",
      "10     627\n",
      "11     605\n",
      "9      567\n",
      "Name: Month, dtype: int64\n",
      "8     494\n",
      "22    485\n",
      "16    476\n",
      "17    465\n",
      "4     456\n",
      "21    443\n",
      "14    440\n",
      "9     440\n",
      "10    439\n",
      "27    438\n",
      "19    437\n",
      "23    435\n",
      "15    435\n",
      "20    428\n",
      "7     428\n",
      "6     427\n",
      "5     411\n",
      "29    410\n",
      "18    410\n",
      "13    405\n",
      "3     395\n",
      "2     394\n",
      "24    390\n",
      "26    383\n",
      "11    373\n",
      "28    369\n",
      "1     366\n",
      "30    362\n",
      "12    360\n",
      "25    359\n",
      "31    293\n",
      "Name: DayofMonth, dtype: int64\n",
      "5    2105\n",
      "4    1957\n",
      "1    1952\n",
      "7    1880\n",
      "2    1714\n",
      "3    1713\n",
      "6    1525\n",
      "Name: DayOfWeek, dtype: int64\n",
      "1505    192\n",
      "1600    187\n",
      "1610    169\n",
      "1210    158\n",
      "1440    157\n",
      "       ... \n",
      "1414      1\n",
      "1756      1\n",
      "603       1\n",
      "1037      1\n",
      "1609      1\n",
      "Name: CRSDepTime, Length: 520, dtype: int64\n",
      "2215    228\n",
      "1730    177\n",
      "1845    149\n",
      "1720    140\n",
      "1940    130\n",
      "       ... \n",
      "1134      1\n",
      "1308      1\n",
      "2009      1\n",
      "1909      1\n",
      "1107      1\n",
      "Name: CRSArrTime, Length: 746, dtype: int64\n",
      "AA    6162\n",
      "DL    3541\n",
      "UA    2403\n",
      "WN     510\n",
      "OO     230\n",
      "Name: UniqueCarrier, dtype: int64\n",
      "N1402A    54\n",
      "N143DA    45\n",
      "N131DN    43\n",
      "N144DA    38\n",
      "N573AA    34\n",
      "          ..\n",
      "N713SW     1\n",
      "N221UA     1\n",
      "N682SW     1\n",
      "N700GS     1\n",
      "N922WN     1\n",
      "Name: TailNum, Length: 1683, dtype: int64\n",
      "120    826\n",
      "115    686\n",
      "125    609\n",
      "140    605\n",
      "135    599\n",
      "      ... \n",
      "279      2\n",
      "278      2\n",
      "218      1\n",
      "307      1\n",
      "171      1\n",
      "Name: CRSElapsedTime, Length: 171, dtype: int64\n",
      "112    205\n",
      "100    204\n",
      "101    198\n",
      "99     195\n",
      "102    188\n",
      "      ... \n",
      "316      1\n",
      "309      1\n",
      "305      1\n",
      "63       1\n",
      "304      1\n",
      "Name: AirTime, Length: 238, dtype: int64\n",
      "15     415\n",
      "16     349\n",
      "18     341\n",
      "19     335\n",
      "20     330\n",
      "      ... \n",
      "292      1\n",
      "345      1\n",
      "432      1\n",
      "497      1\n",
      "402      1\n",
      "Name: ArrDelay, Length: 322, dtype: int64\n",
      "24     229\n",
      "20     229\n",
      "25     228\n",
      "26     216\n",
      "14     213\n",
      "      ... \n",
      "345      1\n",
      "286      1\n",
      "291      1\n",
      "511      1\n",
      "421      1\n",
      "Name: DepDelay, Length: 330, dtype: int64\n",
      "DFW    4369\n",
      "ATL    2891\n",
      "DEN    2815\n",
      "LAX    2771\n",
      "Name: Origin, dtype: int64\n",
      "DFW    3794\n",
      "LAX    3709\n",
      "DEN    2971\n",
      "ATL    2372\n",
      "Name: Dest, dtype: int64\n",
      "732     2883\n",
      "1235    2732\n",
      "641     2548\n",
      "862     2303\n",
      "1946    1445\n",
      "1199     935\n",
      "Name: Distance, dtype: int64\n",
      "0      4416\n",
      "6       380\n",
      "8       323\n",
      "9       318\n",
      "7       311\n",
      "       ... \n",
      "326       1\n",
      "233       1\n",
      "161       1\n",
      "345       1\n",
      "139       1\n",
      "Name: CarrierDelay, Length: 275, dtype: int64\n",
      "0      11898\n",
      "10        44\n",
      "15        41\n",
      "6         39\n",
      "13        36\n",
      "       ...  \n",
      "212        1\n",
      "131        1\n",
      "146        1\n",
      "263        1\n",
      "73         1\n",
      "Name: WeatherDelay, Length: 134, dtype: int64\n",
      "0      5960\n",
      "3       405\n",
      "1       393\n",
      "5       383\n",
      "4       366\n",
      "       ... \n",
      "281       1\n",
      "114       1\n",
      "169       1\n",
      "156       1\n",
      "138       1\n",
      "Name: NASDelay, Length: 176, dtype: int64\n",
      "0     12827\n",
      "15        3\n",
      "61        2\n",
      "44        2\n",
      "5         1\n",
      "22        1\n",
      "41        1\n",
      "19        1\n",
      "14        1\n",
      "12        1\n",
      "24        1\n",
      "16        1\n",
      "45        1\n",
      "74        1\n",
      "43        1\n",
      "9         1\n",
      "Name: SecurityDelay, dtype: int64\n",
      "0      5141\n",
      "15      240\n",
      "16      197\n",
      "18      192\n",
      "14      180\n",
      "       ... \n",
      "304       1\n",
      "246       1\n",
      "326       1\n",
      "216       1\n",
      "191       1\n",
      "Name: LateAircraftDelay, Length: 261, dtype: int64\n",
      "1    8405\n",
      "2    2772\n",
      "3     838\n",
      "4     416\n",
      "0     415\n",
      "Name: Delayed_Status, dtype: int64\n",
      "1    12431\n",
      "0      415\n",
      "Name: Delayed, dtype: int64\n",
      "0    9305\n",
      "1    3541\n",
      "Name: UniqueCarrier_DL, dtype: int64\n",
      "0    12616\n",
      "1      230\n",
      "Name: UniqueCarrier_OO, dtype: int64\n",
      "0    10443\n",
      "1     2403\n",
      "Name: UniqueCarrier_UA, dtype: int64\n",
      "0    12336\n",
      "1      510\n",
      "Name: UniqueCarrier_WN, dtype: int64\n"
     ]
    }
   ],
   "source": [
    "for col in df.columns:\n",
    "    print(df[col].value_counts())"
   ]
  },
  {
   "cell_type": "code",
   "execution_count": 12,
   "id": "1043a808",
   "metadata": {},
   "outputs": [
    {
     "data": {
      "image/png": "[encoded data removed]",
      "text/plain": [
       "<Figure size 576x288 with 1 Axes>"
      ]
     },
     "metadata": {
      "needs_background": "light"
     },
     "output_type": "display_data"
    },
    {
     "data": {
      "image/png": "[encoded data removed]",
      "text/plain": [
       "<Figure size 576x288 with 1 Axes>"
      ]
     },
     "metadata": {
      "needs_background": "light"
     },
     "output_type": "display_data"
    },
    {
     "data": {
      "image/png": "[encoded data removed]",
      "text/plain": [
       "<Figure size 576x288 with 1 Axes>"
      ]
     },
     "metadata": {
      "needs_background": "light"
     },
     "output_type": "display_data"
    },
    {
     "data": {
      "image/png": "[encoded data removed]",
      "text/plain": [
       "<Figure size 576x288 with 1 Axes>"
      ]
     },
     "metadata": {
      "needs_background": "light"
     },
     "output_type": "display_data"
    },
    {
     "data": {
      "image/png": "[encoded data removed]",
      "text/plain": [
       "<Figure size 576x288 with 1 Axes>"
      ]
     },
     "metadata": {
      "needs_background": "light"
     },
     "output_type": "display_data"
    },
    {
     "data": {
      "image/png": "[encoded data removed]",
      "text/plain": [
       "<Figure size 576x288 with 1 Axes>"
      ]
     },
     "metadata": {
      "needs_background": "light"
     },
     "output_type": "display_data"
    },
    {
     "data": {
      "image/png": "[encoded data removed]",
      "text/plain": [
       "<Figure size 576x288 with 1 Axes>"
      ]
     },
     "metadata": {
      "needs_background": "light"
     },
     "output_type": "display_data"
    },
    {
     "data": {
      "image/png": "[encoded data removed]",
      "text/plain": [
       "<Figure size 576x288 with 1 Axes>"
      ]
     },
     "metadata": {
      "needs_background": "light"
     },
     "output_type": "display_data"
    },
    {
     "data": {
      "image/png": "[encoded data removed]",
      "text/plain": [
       "<Figure size 576x288 with 1 Axes>"
      ]
     },
     "metadata": {
      "needs_background": "light"
     },
     "output_type": "display_data"
    },
    {
     "data": {
      "image/png": "[encoded data removed]",
      "text/plain": [
       "<Figure size 576x288 with 1 Axes>"
      ]
     },
     "metadata": {
      "needs_background": "light"
     },
     "output_type": "display_data"
    },
    {
     "data": {
      "image/png": "[encoded data removed]",
      "text/plain": [
       "<Figure size 576x288 with 1 Axes>"
      ]
     },
     "metadata": {
      "needs_background": "light"
     },
     "output_type": "display_data"
    },
    {
     "data": {
      "image/png": "[encoded data removed]",
      "text/plain": [
       "<Figure size 576x288 with 1 Axes>"
      ]
     },
     "metadata": {
      "needs_background": "light"
     },
     "output_type": "display_data"
    },
    {
     "data": {
      "image/png": "[encoded data removed]",
      "text/plain": [
       "<Figure size 576x288 with 1 Axes>"
      ]
     },
     "metadata": {
      "needs_background": "light"
     },
     "output_type": "display_data"
    },
    {
     "data": {
      "image/png": "[encoded data removed]",
      "text/plain": [
       "<Figure size 576x288 with 1 Axes>"
      ]
     },
     "metadata": {
      "needs_background": "light"
     },
     "output_type": "display_data"
    },
    {
     "data": {
      "image/png": "[encoded data removed]",
      "text/plain": [
       "<Figure size 576x288 with 1 Axes>"
      ]
     },
     "metadata": {
      "needs_background": "light"
     },
     "output_type": "display_data"
    },
    {
     "data": {
      "image/png": "[encoded data removed]",
      "text/plain": [
       "<Figure size 576x288 with 1 Axes>"
      ]
     },
     "metadata": {
      "needs_background": "light"
     },
     "output_type": "display_data"
    },
    {
     "data": {
      "image/png": "[encoded data removed]",
      "text/plain": [
       "<Figure size 576x288 with 1 Axes>"
      ]
     },
     "metadata": {
      "needs_background": "light"
     },
     "output_type": "display_data"
    },
    {
     "data": {
      "image/png": "[encoded data removed]",
      "text/plain": [
       "<Figure size 576x288 with 1 Axes>"
      ]
     },
     "metadata": {
      "needs_background": "light"
     },
     "output_type": "display_data"
    },
    {
     "data": {
      "image/png": "[encoded data removed]",
      "text/plain": [
       "<Figure size 576x288 with 1 Axes>"
      ]
     },
     "metadata": {
      "needs_background": "light"
     },
     "output_type": "display_data"
    },
    {
     "data": {
      "image/png": "[encoded data removed]",
      "text/plain": [
       "<Figure size 576x288 with 1 Axes>"
      ]
     },
     "metadata": {
      "needs_background": "light"
     },
     "output_type": "display_data"
    },
    {
     "data": {
      "image/png": "[encoded data removed]",
      "text/plain": [
       "<Figure size 576x288 with 1 Axes>"
      ]
     },
     "metadata": {
      "needs_background": "light"
     },
     "output_type": "display_data"
    },
    {
     "data": {
      "image/png": "[encoded data removed]",
      "text/plain": [
       "<Figure size 576x288 with 1 Axes>"
      ]
     },
     "metadata": {
      "needs_background": "light"
     },
     "output_type": "display_data"
    },
    {
     "data": {
      "image/png": "[encoded data removed]",
      "text/plain": [
       "<Figure size 576x288 with 1 Axes>"
      ]
     },
     "metadata": {
      "needs_background": "light"
     },
     "output_type": "display_data"
    },
    {
     "data": {
      "image/png": "[encoded data removed]",
      "text/plain": [
       "<Figure size 576x288 with 1 Axes>"
      ]
     },
     "metadata": {
      "needs_background": "light"
     },
     "output_type": "display_data"
    },
    {
     "data": {
      "image/png": "[encoded data removed]",
      "text/plain": [
       "<Figure size 576x288 with 1 Axes>"
      ]
     },
     "metadata": {
      "needs_background": "light"
     },
     "output_type": "display_data"
    },
    {
     "data": {
      "image/png": "[encoded data removed]",
      "text/plain": [
       "<Figure size 576x288 with 1 Axes>"
      ]
     },
     "metadata": {
      "needs_background": "light"
     },
     "output_type": "display_data"
    }
   ],
   "source": [
    "for col in train.columns:\n",
    "    plt.figure(figsize=(8,4))\n",
    "    plt.hist(df[col])\n",
    "    plt.title(col)\n",
    "    plt.show()"
   ]
  },
  {
   "cell_type": "code",
   "execution_count": 13,
   "id": "8c8b3cd0",
   "metadata": {},
   "outputs": [
    {
     "data": {
      "text/plain": [
       "<AxesSubplot:>"
      ]
     },
     "execution_count": 13,
     "metadata": {},
     "output_type": "execute_result"
    },
    {
     "data": {
      "image/png": "[encoded data removed]",
      "text/plain": [
       "<Figure size 864x576 with 1 Axes>"
      ]
     },
     "metadata": {
      "needs_background": "light"
     },
     "output_type": "display_data"
    }
   ],
   "source": [
    "train.Delayed.hist()"
   ]
  },
  {
   "cell_type": "code",
   "execution_count": 14,
   "id": "021cf80f",
   "metadata": {
    "scrolled": true
   },
   "outputs": [
    {
     "data": {
      "image/png": "[encoded data removed]",
      "text/plain": [
       "<Figure size 864x576 with 1 Axes>"
      ]
     },
     "metadata": {
      "needs_background": "light"
     },
     "output_type": "display_data"
    }
   ],
   "source": [
    "sns.countplot(train.Delayed_Status)\n",
    "plt.title('Delayed Status')\n",
    "plt.show()"
   ]
  },
  {
   "cell_type": "markdown",
   "id": "b2e851c1",
   "metadata": {},
   "source": [
    "The majority of delays are greater than 15 minutes but less than 60."
   ]
  },
  {
   "cell_type": "markdown",
   "id": "34b080e5",
   "metadata": {},
   "source": [
    "### Airline"
   ]
  },
  {
   "cell_type": "code",
   "execution_count": 15,
   "id": "0566170e",
   "metadata": {},
   "outputs": [
    {
     "data": {
      "text/plain": [
       "<AxesSubplot:xlabel='UniqueCarrier', ylabel='Delayed'>"
      ]
     },
     "execution_count": 15,
     "metadata": {},
     "output_type": "execute_result"
    },
    {
     "data": {
      "image/png": "[encoded data removed]",
      "text/plain": [
       "<Figure size 864x576 with 1 Axes>"
      ]
     },
     "metadata": {
      "needs_background": "light"
     },
     "output_type": "display_data"
    }
   ],
   "source": [
    "sns.barplot(data=train, x = 'UniqueCarrier', y = 'Delayed')"
   ]
  },
  {
   "cell_type": "code",
   "execution_count": 16,
   "id": "508bcc6e",
   "metadata": {
    "scrolled": true
   },
   "outputs": [
    {
     "data": {
      "text/plain": [
       "<AxesSubplot:xlabel='UniqueCarrier', ylabel='Delayed_Status'>"
      ]
     },
     "execution_count": 16,
     "metadata": {},
     "output_type": "execute_result"
    },
    {
     "data": {
      "image/png": "[encoded data removed]",
      "text/plain": [
       "<Figure size 864x576 with 1 Axes>"
      ]
     },
     "metadata": {
      "needs_background": "light"
     },
     "output_type": "display_data"
    }
   ],
   "source": [
    "sns.barplot(data=train, x = 'UniqueCarrier', y = 'Delayed_Status')"
   ]
  },
  {
   "cell_type": "code",
   "execution_count": 17,
   "id": "350091b8",
   "metadata": {
    "scrolled": true
   },
   "outputs": [
    {
     "data": {
      "text/plain": [
       "<AxesSubplot:xlabel='UniqueCarrier', ylabel='count'>"
      ]
     },
     "execution_count": 17,
     "metadata": {},
     "output_type": "execute_result"
    },
    {
     "data": {
      "image/png": "[encoded data removed]",
      "text/plain": [
       "<Figure size 864x576 with 1 Axes>"
      ]
     },
     "metadata": {
      "needs_background": "light"
     },
     "output_type": "display_data"
    }
   ],
   "source": [
    "sns.countplot(data=train, x='UniqueCarrier', hue='Delayed_Status')"
   ]
  },
  {
   "cell_type": "code",
   "execution_count": 18,
   "id": "25bfbd8a",
   "metadata": {},
   "outputs": [
    {
     "data": {
      "text/plain": [
       "<AxesSubplot:xlabel='Delayed_Status', ylabel='count'>"
      ]
     },
     "execution_count": 18,
     "metadata": {},
     "output_type": "execute_result"
    },
    {
     "data": {
      "image/png": "[encoded data removed]",
      "text/plain": [
       "<Figure size 864x576 with 1 Axes>"
      ]
     },
     "metadata": {
      "needs_background": "light"
     },
     "output_type": "display_data"
    }
   ],
   "source": [
    "sns.countplot(data=train, x=train.Delayed_Status, hue=train.UniqueCarrier)"
   ]
  },
  {
   "cell_type": "code",
   "execution_count": 19,
   "id": "020aa06c",
   "metadata": {},
   "outputs": [
    {
     "data": {
      "text/plain": [
       "<AxesSubplot:xlabel='Delayed_Status', ylabel='ArrDelay'>"
      ]
     },
     "execution_count": 19,
     "metadata": {},
     "output_type": "execute_result"
    },
    {
     "data": {
      "image/png": "[encoded data removed]",
      "text/plain": [
       "<Figure size 864x576 with 1 Axes>"
      ]
     },
     "metadata": {
      "needs_background": "light"
     },
     "output_type": "display_data"
    }
   ],
   "source": [
    "sns.barplot(data=train, y=train.ArrDelay, x=train.Delayed_Status, hue=train.UniqueCarrier)"
   ]
  },
  {
   "cell_type": "markdown",
   "id": "55e4c817",
   "metadata": {},
   "source": [
    "Notes: Boxplot isn't very helpful. Countplot shows the variability the best between delayed status and airline, however each airline is not equally represented in the data and this could be misleading. \n",
    "The barplot with airline as the hue shows similarities in delayed status in group 0-2 but shows some variability between the airlines in groups 3-4 with AA, DL, and UA being most likely to have a delay greater than 5 hours."
   ]
  },
  {
   "cell_type": "code",
   "execution_count": 20,
   "id": "25d86780",
   "metadata": {},
   "outputs": [],
   "source": [
    "AA = train[train.UniqueCarrier =='AA']\n",
    "DL = train[train.UniqueCarrier =='DL']\n",
    "UA = train[train.UniqueCarrier =='UA']\n",
    "OO = train[train.UniqueCarrier =='OO']\n",
    "WN = train[train.UniqueCarrier =='WN']"
   ]
  },
  {
   "cell_type": "code",
   "execution_count": 21,
   "id": "4752b427",
   "metadata": {},
   "outputs": [
    {
     "data": {
      "text/plain": [
       "Text(0.5, 1.0, 'Southwest Airlines Delayed Status')"
      ]
     },
     "execution_count": 21,
     "metadata": {},
     "output_type": "execute_result"
    },
    {
     "data": {
      "image/png": "[encoded data removed]",
      "text/plain": [
       "<Figure size 1296x360 with 5 Axes>"
      ]
     },
     "metadata": {
      "needs_background": "light"
     },
     "output_type": "display_data"
    }
   ],
   "source": [
    "plt.figure(figsize=(18,5))\n",
    "plt.subplot(151)\n",
    "sns.countplot(data=AA, x='Delayed_Status')\n",
    "plt.title('American Airlines Delayed Status')\n",
    "\n",
    "plt.subplot(152)\n",
    "sns.countplot(data=DL, x='Delayed_Status')\n",
    "plt.title('Delta Airlines Delayed Status')\n",
    "\n",
    "plt.subplot(153)\n",
    "sns.countplot(data=UA, x='Delayed_Status')\n",
    "plt.title('United Airlines Delayed Status')\n",
    "\n",
    "plt.subplot(154)\n",
    "sns.countplot(data=OO, x='Delayed_Status')\n",
    "plt.title('SkyWest Airlines Delayed Status')\n",
    "\n",
    "plt.subplot(155)\n",
    "sns.countplot(data=WN, x='Delayed_Status')\n",
    "plt.title('Southwest Airlines Delayed Status')"
   ]
  },
  {
   "cell_type": "markdown",
   "id": "699de41b",
   "metadata": {},
   "source": [
    "**Next Steps: perform chi squared testing**\n",
    "\n",
    "- Null Hypothesis: Delayed status and Airline are independent.\n",
    "- Alternative Hypothesis: Delayed status and Airline are dependent.\n"
   ]
  },
  {
   "cell_type": "code",
   "execution_count": 22,
   "id": "bc81da72",
   "metadata": {},
   "outputs": [],
   "source": [
    "observed = pd.crosstab(train.Delayed_Status, train.UniqueCarrier)"
   ]
  },
  {
   "cell_type": "code",
   "execution_count": 23,
   "id": "ff9aa3b5",
   "metadata": {},
   "outputs": [
    {
     "data": {
      "text/plain": [
       "1.7969244654332686e-08"
      ]
     },
     "execution_count": 23,
     "metadata": {},
     "output_type": "execute_result"
    }
   ],
   "source": [
    "chi2, p, degf, expected = stats.chi2_contingency(observed)\n",
    "p"
   ]
  },
  {
   "cell_type": "code",
   "execution_count": 24,
   "id": "92c7128a",
   "metadata": {},
   "outputs": [
    {
     "name": "stdout",
     "output_type": "stream",
     "text": [
      "Reject the null\n"
     ]
    }
   ],
   "source": [
    "if p < alpha:\n",
    "    print(\"Reject the null\")\n",
    "else:\n",
    "    print('Fail to reject the null')"
   ]
  },
  {
   "cell_type": "markdown",
   "id": "96d68f54",
   "metadata": {},
   "source": [
    "### Airport"
   ]
  },
  {
   "cell_type": "code",
   "execution_count": 25,
   "id": "462d2abc",
   "metadata": {
    "scrolled": true
   },
   "outputs": [
    {
     "data": {
      "text/plain": [
       "<AxesSubplot:xlabel='Delayed_Status', ylabel='ArrDelay'>"
      ]
     },
     "execution_count": 25,
     "metadata": {},
     "output_type": "execute_result"
    },
    {
     "data": {
      "image/png": "[encoded data removed]",
      "text/plain": [
       "<Figure size 864x576 with 1 Axes>"
      ]
     },
     "metadata": {
      "needs_background": "light"
     },
     "output_type": "display_data"
    }
   ],
   "source": [
    "sns.barplot(data=train, x=train.Delayed_Status, y=train.ArrDelay, hue=train.Origin)"
   ]
  },
  {
   "cell_type": "code",
   "execution_count": 26,
   "id": "9ba1363a",
   "metadata": {},
   "outputs": [],
   "source": [
    "DFW = train[train.Origin =='DFW']\n",
    "LAX = train[train.Origin =='LAX']\n",
    "ATL = train[train.Origin =='ATL']\n",
    "DEN = train[train.Origin =='DEN']"
   ]
  },
  {
   "cell_type": "code",
   "execution_count": 27,
   "id": "a065eef5",
   "metadata": {},
   "outputs": [
    {
     "data": {
      "text/plain": [
       "Text(0.5, 1.0, 'DEN Departure Delayed Status')"
      ]
     },
     "execution_count": 27,
     "metadata": {},
     "output_type": "execute_result"
    },
    {
     "data": {
      "image/png": "[encoded data removed]",
      "text/plain": [
       "<Figure size 1296x360 with 4 Axes>"
      ]
     },
     "metadata": {
      "needs_background": "light"
     },
     "output_type": "display_data"
    }
   ],
   "source": [
    "plt.figure(figsize=(18,5))\n",
    "plt.subplot(141)\n",
    "sns.countplot(data=DFW, x='Delayed_Status')\n",
    "plt.title('DFW Departure Delayed Status')\n",
    "\n",
    "plt.subplot(142)\n",
    "sns.countplot(data=LAX, x='Delayed_Status')\n",
    "plt.title('LAX Departure Delayed Status')\n",
    "\n",
    "plt.subplot(143)\n",
    "sns.countplot(data=ATL, x='Delayed_Status')\n",
    "plt.title('ATL Departure Delayed Status')\n",
    "\n",
    "plt.subplot(144)\n",
    "sns.countplot(data=DEN, x='Delayed_Status')\n",
    "plt.title('DEN Departure Delayed Status')\n"
   ]
  },
  {
   "cell_type": "markdown",
   "id": "c298a859",
   "metadata": {},
   "source": [
    "The greatest variability between a flight's takeoff location is in delayed status 4 with Denver being the most likely to have a delay status of greater than 5 hours and Atlanta with the "
   ]
  },
  {
   "cell_type": "markdown",
   "id": "60b9ec7a",
   "metadata": {},
   "source": [
    "**Next Steps: perform chi squared testing**\n",
    "\n",
    "- Null Hypothesis: Delayed status and takeoff location are independent.\n",
    "- Alternative Hypothesis: Delayed status and takeoff location are dependent.\n"
   ]
  },
  {
   "cell_type": "code",
   "execution_count": 28,
   "id": "398ac8e1",
   "metadata": {},
   "outputs": [],
   "source": [
    "observed = pd.crosstab(train.Delayed_Status, train.Origin)"
   ]
  },
  {
   "cell_type": "code",
   "execution_count": 29,
   "id": "d2cd50ee",
   "metadata": {},
   "outputs": [
    {
     "data": {
      "text/plain": [
       "0.10732864876528733"
      ]
     },
     "execution_count": 29,
     "metadata": {},
     "output_type": "execute_result"
    }
   ],
   "source": [
    "chi2, p, degf, expected = stats.chi2_contingency(observed)\n",
    "p"
   ]
  },
  {
   "cell_type": "code",
   "execution_count": 30,
   "id": "8c9a802a",
   "metadata": {},
   "outputs": [
    {
     "name": "stdout",
     "output_type": "stream",
     "text": [
      "Fail to reject the null\n"
     ]
    }
   ],
   "source": [
    "if p < alpha:\n",
    "    print(\"Reject the null\")\n",
    "else:\n",
    "    print('Fail to reject the null')"
   ]
  },
  {
   "cell_type": "markdown",
   "id": "59913b7d",
   "metadata": {},
   "source": [
    "### Arival Airport"
   ]
  },
  {
   "cell_type": "code",
   "execution_count": 31,
   "id": "d524b035",
   "metadata": {
    "scrolled": true
   },
   "outputs": [
    {
     "data": {
      "text/plain": [
       "<AxesSubplot:xlabel='Delayed_Status', ylabel='ArrDelay'>"
      ]
     },
     "execution_count": 31,
     "metadata": {},
     "output_type": "execute_result"
    },
    {
     "data": {
      "image/png": "[encoded data removed]",
      "text/plain": [
       "<Figure size 864x576 with 1 Axes>"
      ]
     },
     "metadata": {
      "needs_background": "light"
     },
     "output_type": "display_data"
    }
   ],
   "source": [
    "sns.barplot(data=train, x=train.Delayed_Status, y=train.ArrDelay, hue=train.Dest)"
   ]
  },
  {
   "cell_type": "code",
   "execution_count": 32,
   "id": "0db14f7b",
   "metadata": {},
   "outputs": [],
   "source": [
    "DFW_d = train[train.Dest =='DFW']\n",
    "LAX_d = train[train.Dest =='LAX']\n",
    "ATL_d = train[train.Dest =='ATL']\n",
    "DEN_d = train[train.Dest =='DEN']"
   ]
  },
  {
   "cell_type": "code",
   "execution_count": 33,
   "id": "2e6dc5d4",
   "metadata": {},
   "outputs": [
    {
     "data": {
      "image/png": "[encoded data removed]",
      "text/plain": [
       "<Figure size 1296x360 with 4 Axes>"
      ]
     },
     "metadata": {
      "needs_background": "light"
     },
     "output_type": "display_data"
    }
   ],
   "source": [
    "plt.figure(figsize=(18,5))\n",
    "plt.subplot(141)\n",
    "sns.countplot(data=DFW_d, x='Delayed_Status')\n",
    "plt.title('DFW Arrival Delayed Status')\n",
    "\n",
    "plt.subplot(142)\n",
    "sns.countplot(data=LAX_d, x='Delayed_Status')\n",
    "plt.title('LAX Arrival Delayed Status')\n",
    "\n",
    "plt.subplot(143)\n",
    "sns.countplot(data=ATL_d, x='Delayed_Status')\n",
    "plt.title('ATL Arrival Delayed Status')\n",
    "\n",
    "plt.subplot(144)\n",
    "sns.countplot(data=DEN_d, x='Delayed_Status')\n",
    "plt.title('DEN Arrival Delayed Status')\n",
    "plt.show()"
   ]
  },
  {
   "cell_type": "markdown",
   "id": "3aa097a4",
   "metadata": {},
   "source": [
    "**Next Steps: perform chi squared testing**\n",
    "\n",
    "- Null Hypothesis: Delayed status and arrival location are independent.\n",
    "- Alternative Hypothesis: Delayed status and arrival location are dependent."
   ]
  },
  {
   "cell_type": "code",
   "execution_count": 34,
   "id": "58b635b9",
   "metadata": {},
   "outputs": [],
   "source": [
    "observed = pd.crosstab(train.Delayed_Status, train.Dest)"
   ]
  },
  {
   "cell_type": "code",
   "execution_count": 35,
   "id": "7e637177",
   "metadata": {},
   "outputs": [
    {
     "data": {
      "text/plain": [
       "0.10829858413351334"
      ]
     },
     "execution_count": 35,
     "metadata": {},
     "output_type": "execute_result"
    }
   ],
   "source": [
    "chi2, p, degf, expected = stats.chi2_contingency(observed)\n",
    "p"
   ]
  },
  {
   "cell_type": "code",
   "execution_count": 36,
   "id": "219230a8",
   "metadata": {},
   "outputs": [
    {
     "name": "stdout",
     "output_type": "stream",
     "text": [
      "Fail to reject the null\n"
     ]
    }
   ],
   "source": [
    "if p < alpha:\n",
    "    print(\"Reject the null\")\n",
    "else:\n",
    "    print('Fail to reject the null')"
   ]
  },
  {
   "cell_type": "markdown",
   "id": "294a21f2",
   "metadata": {},
   "source": [
    "### Day of the week"
   ]
  },
  {
   "cell_type": "code",
   "execution_count": 37,
   "id": "01cffb28",
   "metadata": {},
   "outputs": [
    {
     "data": {
      "text/plain": [
       "<AxesSubplot:xlabel='Delayed_Status', ylabel='count'>"
      ]
     },
     "execution_count": 37,
     "metadata": {},
     "output_type": "execute_result"
    },
    {
     "data": {
      "image/png": "[encoded data removed]",
      "text/plain": [
       "<Figure size 864x576 with 1 Axes>"
      ]
     },
     "metadata": {
      "needs_background": "light"
     },
     "output_type": "display_data"
    }
   ],
   "source": [
    "sns.countplot(data=train, hue='DayOfWeek', x='Delayed_Status')"
   ]
  },
  {
   "cell_type": "markdown",
   "id": "5ef2445d",
   "metadata": {},
   "source": [
    "Monday and Friday show the most delays in 15-59 minutes, Friday and Sunday in 60-119 minutes, Tuesday and Friday in 120-179 minutes, and Thursday and Sunday have the highest frequency of delays over 3 hours."
   ]
  },
  {
   "cell_type": "code",
   "execution_count": 38,
   "id": "14fe71bd",
   "metadata": {},
   "outputs": [],
   "source": [
    "mon=train[train.DayOfWeek==1]\n",
    "tue=train[train.DayOfWeek==2]\n",
    "wed=train[train.DayOfWeek==3]\n",
    "thur=train[train.DayOfWeek==4]\n",
    "fri=train[train.DayOfWeek==5]\n",
    "sat=train[train.DayOfWeek==6]\n",
    "sun=train[train.DayOfWeek==7]"
   ]
  },
  {
   "cell_type": "code",
   "execution_count": 39,
   "id": "9fb8e446",
   "metadata": {},
   "outputs": [
    {
     "data": {
      "image/png": "[encoded data removed]",
      "text/plain": [
       "<Figure size 1296x360 with 7 Axes>"
      ]
     },
     "metadata": {
      "needs_background": "light"
     },
     "output_type": "display_data"
    }
   ],
   "source": [
    "plt.figure(figsize=(18,5))\n",
    "plt.subplot(241)\n",
    "sns.countplot(data=mon, x='Delayed_Status')\n",
    "plt.title('Monday Delayed Status')\n",
    "\n",
    "plt.subplot(242)\n",
    "sns.countplot(data=tue, x='Delayed_Status')\n",
    "plt.title('Tuesday Delayed Status')\n",
    "\n",
    "plt.subplot(243)\n",
    "sns.countplot(data=wed, x='Delayed_Status')\n",
    "plt.title('Wednesday Delayed Status')\n",
    "\n",
    "plt.subplot(244)\n",
    "sns.countplot(data=thur, x='Delayed_Status')\n",
    "plt.title('Thursday Delayed Status')\n",
    "\n",
    "plt.subplot(245)\n",
    "sns.countplot(data=fri, x='Delayed_Status')\n",
    "plt.title('Friday Delayed Status')\n",
    "\n",
    "plt.subplot(246)\n",
    "sns.countplot(data=sat, x='Delayed_Status')\n",
    "plt.title('Saturday Delayed Status')\n",
    "\n",
    "plt.subplot(247)\n",
    "sns.countplot(data=sun, x='Delayed_Status')\n",
    "plt.title('Sunday Delayed Status')\n",
    "plt.show()\n",
    "\n"
   ]
  },
  {
   "cell_type": "markdown",
   "id": "728cb37d",
   "metadata": {},
   "source": [
    "This visualization doesn't show too much variability other than Tuesday's Delay status 3.\n"
   ]
  },
  {
   "cell_type": "markdown",
   "id": "8313eb93",
   "metadata": {},
   "source": [
    "**Next Steps: perform chi squared testing**\n",
    "\n",
    "- Null Hypothesis: Delayed status and day of the week are independent.\n",
    "- Alternative Hypothesis: Delayed status and day of the week are dependent."
   ]
  },
  {
   "cell_type": "code",
   "execution_count": 40,
   "id": "9145eaea",
   "metadata": {},
   "outputs": [],
   "source": [
    "observed = pd.crosstab(train.Delayed_Status, train.DayOfWeek)"
   ]
  },
  {
   "cell_type": "code",
   "execution_count": 41,
   "id": "dda6de60",
   "metadata": {},
   "outputs": [
    {
     "data": {
      "text/plain": [
       "0.02563956820010972"
      ]
     },
     "execution_count": 41,
     "metadata": {},
     "output_type": "execute_result"
    }
   ],
   "source": [
    "chi2, p, degf, expected = stats.chi2_contingency(observed)\n",
    "p"
   ]
  },
  {
   "cell_type": "code",
   "execution_count": 42,
   "id": "8a8b55d5",
   "metadata": {},
   "outputs": [
    {
     "name": "stdout",
     "output_type": "stream",
     "text": [
      "Reject the null\n"
     ]
    }
   ],
   "source": [
    "if p < alpha:\n",
    "    print(\"Reject the null\")\n",
    "else:\n",
    "    print('Fail to reject the null')"
   ]
  },
  {
   "cell_type": "markdown",
   "id": "08a3b87d",
   "metadata": {},
   "source": [
    "### Month of the year"
   ]
  },
  {
   "cell_type": "code",
   "execution_count": 43,
   "id": "57aab719",
   "metadata": {},
   "outputs": [
    {
     "data": {
      "text/plain": [
       "<AxesSubplot:xlabel='Month', ylabel='Delayed_Status'>"
      ]
     },
     "execution_count": 43,
     "metadata": {},
     "output_type": "execute_result"
    },
    {
     "data": {
      "image/png": "[encoded data removed]",
      "text/plain": [
       "<Figure size 864x576 with 1 Axes>"
      ]
     },
     "metadata": {
      "needs_background": "light"
     },
     "output_type": "display_data"
    }
   ],
   "source": [
    "sns.barplot(data=train, x=train.Month, y=train.Delayed_Status)"
   ]
  },
  {
   "cell_type": "markdown",
   "id": "b19ac1b8",
   "metadata": {},
   "source": [
    "Visually, variabity betweens months and delayed status is evident."
   ]
  },
  {
   "cell_type": "markdown",
   "id": "daf701bf",
   "metadata": {},
   "source": [
    "**Next Steps: perform chi squared testing**\n",
    "\n",
    "- Null Hypothesis: Delayed status and month are independent.\n",
    "- Alternative Hypothesis: Delayed status and month are dependent."
   ]
  },
  {
   "cell_type": "code",
   "execution_count": 44,
   "id": "ae3d393e",
   "metadata": {},
   "outputs": [],
   "source": [
    "observed = pd.crosstab(train.Delayed_Status, train.Month)"
   ]
  },
  {
   "cell_type": "code",
   "execution_count": 45,
   "id": "a2df3779",
   "metadata": {},
   "outputs": [
    {
     "data": {
      "text/plain": [
       "8.145267866834006e-05"
      ]
     },
     "execution_count": 45,
     "metadata": {},
     "output_type": "execute_result"
    }
   ],
   "source": [
    "chi2, p, degf, expected = stats.chi2_contingency(observed)\n",
    "p"
   ]
  },
  {
   "cell_type": "code",
   "execution_count": 46,
   "id": "de14ef6a",
   "metadata": {},
   "outputs": [
    {
     "name": "stdout",
     "output_type": "stream",
     "text": [
      "Reject the null\n"
     ]
    }
   ],
   "source": [
    "if p < alpha:\n",
    "    print(\"Reject the null\")\n",
    "else:\n",
    "    print('Fail to reject the null')"
   ]
  },
  {
   "cell_type": "markdown",
   "id": "f9263794",
   "metadata": {},
   "source": [
    "**Answers to questions**\n",
    "- Does the airline impact flight delays? **Yes, airlines and delayed status are dependent.**\n",
    "- Does the airport impact flight delays? **No, airport departure and arrival location are independent with delayed status.**\n",
    "     - Departure and Arrival\n",
    "- Does the day of the week impact flight delays? **Yes, the day of the week and delayed status are dependent.**\n",
    "- Does the month impact flight delays? **Yes, delayed status is dependent on the month in which a flight occurs.** \n",
    "- Are specific types of delays more likely to occur during a specified time?"
   ]
  },
  {
   "cell_type": "markdown",
   "id": "e79793c0",
   "metadata": {},
   "source": [
    "### Clustering"
   ]
  },
  {
   "cell_type": "code",
   "execution_count": 77,
   "id": "8f0bdb17",
   "metadata": {},
   "outputs": [],
   "source": [
    "train_scaled, validate_scaled, test_scaled = wrangle.scale_data(train,test,validate)"
   ]
  },
  {
   "cell_type": "code",
   "execution_count": 102,
   "id": "89216e76",
   "metadata": {},
   "outputs": [],
   "source": [
    "X_train = train_scaled[['DayOfWeek', 'Month', 'UniqueCarrier_DL', 'UniqueCarrier_OO', \n",
    "                 'UniqueCarrier_UA', 'UniqueCarrier_WN']]\n",
    "y_train = train_scaled.Delayed_Status\n",
    "\n",
    "X_validate = validate_scaled[['DayOfWeek', 'Month', 'UniqueCarrier_DL', 'UniqueCarrier_OO', \n",
    "                 'UniqueCarrier_UA', 'UniqueCarrier_WN']]\n",
    "y_validate = validate_scaled.Delayed_Status\n",
    "\n",
    "X_test = test_scaled[['DayOfWeek', 'Month', 'UniqueCarrier_DL', 'UniqueCarrier_OO', \n",
    "                 'UniqueCarrier_UA', 'UniqueCarrier_WN']]\n",
    "y_test = test_scaled.Delayed_Status"
   ]
  },
  {
   "cell_type": "code",
   "execution_count": 103,
   "id": "45e15501",
   "metadata": {},
   "outputs": [
    {
     "data": {
      "text/plain": [
       "array([3, 2, 2, ..., 0, 3, 0], dtype=int32)"
      ]
     },
     "execution_count": 103,
     "metadata": {},
     "output_type": "execute_result"
    }
   ],
   "source": [
    "kmeans = KMeans(n_clusters=5)\n",
    "kmeans.fit(X_train)\n",
    "\n",
    "kmeans.predict(X_train)\n",
    "kmeans.predict(X_validate)\n",
    "kmeans.predict(X_test)"
   ]
  },
  {
   "cell_type": "code",
   "execution_count": 104,
   "id": "61262151",
   "metadata": {},
   "outputs": [],
   "source": [
    "train_scaled['cluster'] = kmeans.predict(X_train)\n",
    "validate_scaled['cluster'] = kmeans.predict(X_validate)\n",
    "test_scaled['cluster'] = kmeans.predict(X_test)"
   ]
  },
  {
   "cell_type": "code",
   "execution_count": 141,
   "id": "d1bbdab8",
   "metadata": {},
   "outputs": [
    {
     "data": {
      "text/plain": [
       "Text(0.5, 1.0, 'K-Means Clusters')"
      ]
     },
     "execution_count": 141,
     "metadata": {},
     "output_type": "execute_result"
    },
    {
     "data": {
      "image/png": "[encoded data removed]",
      "text/plain": [
       "<Figure size 1296x360 with 2 Axes>"
      ]
     },
     "metadata": {
      "needs_background": "light"
     },
     "output_type": "display_data"
    }
   ],
   "source": [
    "plt.figure(figsize=(18,5))\n",
    "plt.subplot(131)\n",
    "sns.scatterplot(data = train_scaled, x=\"Month\", y=\"Delayed\")\n",
    "plt.title('Original Data')\n",
    "\n",
    "\n",
    "\n",
    "plt.subplot(132)\n",
    "sns.scatterplot(data = train_scaled, x=\"Month\", y=\"Delayed\", hue = 'cluster', palette = ('tab10'))\n",
    "plt.title('K-Means Clusters')"
   ]
  },
  {
   "cell_type": "markdown",
   "id": "29319888",
   "metadata": {},
   "source": [
    "### Modeling"
   ]
  },
  {
   "cell_type": "markdown",
   "id": "386c7c4e",
   "metadata": {},
   "source": [
    "Baseline Prediction"
   ]
  },
  {
   "cell_type": "code",
   "execution_count": 173,
   "id": "c9565198",
   "metadata": {},
   "outputs": [],
   "source": [
    "X_train = train[['DayOfWeek', 'Month', 'UniqueCarrier_DL', 'UniqueCarrier_OO', \n",
    "                 'UniqueCarrier_UA', 'UniqueCarrier_WN']]\n",
    "y_train = train.Delayed_Status\n",
    "\n",
    "X_validate = validate[['DayOfWeek', 'Month', 'UniqueCarrier_DL', 'UniqueCarrier_OO', \n",
    "                 'UniqueCarrier_UA', 'UniqueCarrier_WN']]\n",
    "y_validate = validate.Delayed_Status\n",
    "\n",
    "X_test = test[['DayOfWeek', 'Month', 'UniqueCarrier_DL', 'UniqueCarrier_OO', \n",
    "                 'UniqueCarrier_UA', 'UniqueCarrier_WN']]\n",
    "y_test = test.Delayed_Status"
   ]
  },
  {
   "cell_type": "code",
   "execution_count": 174,
   "id": "33ca20d1",
   "metadata": {},
   "outputs": [
    {
     "data": {
      "text/plain": [
       "0    1\n",
       "dtype: int64"
      ]
     },
     "execution_count": 174,
     "metadata": {},
     "output_type": "execute_result"
    }
   ],
   "source": [
    "train.Delayed_Status.mode()"
   ]
  },
  {
   "cell_type": "code",
   "execution_count": 175,
   "id": "7cc79da0",
   "metadata": {},
   "outputs": [
    {
     "data": {
      "text/plain": [
       "1    6943\n",
       "0     250\n",
       "Name: Delayed, dtype: int64"
      ]
     },
     "execution_count": 175,
     "metadata": {},
     "output_type": "execute_result"
    }
   ],
   "source": [
    "train.Delayed.value_counts()"
   ]
  },
  {
   "cell_type": "code",
   "execution_count": 176,
   "id": "15a625e9",
   "metadata": {},
   "outputs": [
    {
     "name": "stdout",
     "output_type": "stream",
     "text": [
      "Baseline accuracy: 0.65\n"
     ]
    }
   ],
   "source": [
    "baseline_prediction = (y_train == 1)\n",
    "\n",
    "baseline_accuracy = baseline_prediction.mean()\n",
    "print(f\"Baseline accuracy: {round(baseline_accuracy, 2)}\")"
   ]
  },
  {
   "cell_type": "markdown",
   "id": "67b2a84c",
   "metadata": {},
   "source": [
    "### Decision Tree"
   ]
  },
  {
   "cell_type": "code",
   "execution_count": 177,
   "id": "2790cd2b",
   "metadata": {},
   "outputs": [],
   "source": [
    "# create the model\n",
    "clf = DecisionTreeClassifier(max_depth=7, random_state=123)"
   ]
  },
  {
   "cell_type": "code",
   "execution_count": 178,
   "id": "2e7f48aa",
   "metadata": {},
   "outputs": [],
   "source": [
    "# fit the model\n",
    "clf = clf.fit(X_train, y_train)"
   ]
  },
  {
   "cell_type": "code",
   "execution_count": 179,
   "id": "3a6cbf1b",
   "metadata": {},
   "outputs": [],
   "source": [
    "# make prediction on train obeservations\n",
    "y_pred = clf.predict(X_train)"
   ]
  },
  {
   "cell_type": "code",
   "execution_count": 180,
   "id": "7b3f3c27",
   "metadata": {},
   "outputs": [],
   "source": [
    "# plot_tree(clf, feature_names=X_train.columns, class_names = clf.classes_.astype(str), rounded=True)"
   ]
  },
  {
   "cell_type": "code",
   "execution_count": 181,
   "id": "28dacd29",
   "metadata": {},
   "outputs": [],
   "source": [
    "y_pred_proba = clf.predict_proba(X_train)"
   ]
  },
  {
   "cell_type": "code",
   "execution_count": 182,
   "id": "0351c49e",
   "metadata": {},
   "outputs": [
    {
     "name": "stdout",
     "output_type": "stream",
     "text": [
      "Accuracy on training set: 0.66\n"
     ]
    }
   ],
   "source": [
    "print('Accuracy on training set: {:.2f}'\n",
    "      .format(clf.score(X_train, y_train)))"
   ]
  },
  {
   "cell_type": "code",
   "execution_count": 183,
   "id": "704d6908",
   "metadata": {},
   "outputs": [
    {
     "name": "stdout",
     "output_type": "stream",
     "text": [
      "              precision    recall  f1-score   support\n",
      "\n",
      "           0       0.00      0.00      0.00       250\n",
      "           1       0.66      1.00      0.79      4698\n",
      "           2       0.48      0.02      0.05      1547\n",
      "           3       0.00      0.00      0.00       464\n",
      "           4       0.00      0.00      0.00       234\n",
      "\n",
      "    accuracy                           0.66      7193\n",
      "   macro avg       0.23      0.20      0.17      7193\n",
      "weighted avg       0.53      0.66      0.53      7193\n",
      "\n"
     ]
    }
   ],
   "source": [
    "print(classification_report(y_train, y_pred))"
   ]
  },
  {
   "cell_type": "code",
   "execution_count": 184,
   "id": "255349cb",
   "metadata": {},
   "outputs": [
    {
     "name": "stdout",
     "output_type": "stream",
     "text": [
      "              precision    recall  f1-score   support\n",
      "\n",
      "           0       0.00      0.00      0.00        88\n",
      "           1       0.65      0.99      0.79      2006\n",
      "           2       0.28      0.01      0.03       669\n",
      "           3       0.00      0.00      0.00       219\n",
      "           4       0.00      0.00      0.00       101\n",
      "\n",
      "    accuracy                           0.65      3083\n",
      "   macro avg       0.19      0.20      0.16      3083\n",
      "weighted avg       0.48      0.65      0.52      3083\n",
      "\n"
     ]
    }
   ],
   "source": [
    "# Produce y_predictions that come from the X_validate\n",
    "y_pred = clf.predict(X_validate)\n",
    "\n",
    "# Compare actual y values (from validate) to predicted y_values from the model run on X_validate\n",
    "print(classification_report(y_validate, y_pred))"
   ]
  },
  {
   "cell_type": "markdown",
   "id": "d41f72d2",
   "metadata": {},
   "source": [
    "### Random Forrests"
   ]
  },
  {
   "cell_type": "code",
   "execution_count": 185,
   "id": "e25ad78f",
   "metadata": {},
   "outputs": [],
   "source": [
    "# create the model\n",
    "rf = RandomForestClassifier(max_depth=7, \n",
    "                            random_state=123)"
   ]
  },
  {
   "cell_type": "code",
   "execution_count": 186,
   "id": "c6e12b30",
   "metadata": {},
   "outputs": [
    {
     "data": {
      "text/plain": [
       "RandomForestClassifier(max_depth=7, random_state=123)"
      ]
     },
     "execution_count": 186,
     "metadata": {},
     "output_type": "execute_result"
    }
   ],
   "source": [
    "# fit the model\n",
    "rf.fit(X_train, y_train)"
   ]
  },
  {
   "cell_type": "code",
   "execution_count": 187,
   "id": "c581ea68",
   "metadata": {},
   "outputs": [
    {
     "name": "stdout",
     "output_type": "stream",
     "text": [
      "[0.33173643 0.48279153 0.05488784 0.02211097 0.0805742  0.02789903]\n"
     ]
    }
   ],
   "source": [
    "print(rf.feature_importances_)"
   ]
  },
  {
   "cell_type": "code",
   "execution_count": 188,
   "id": "094e56cb",
   "metadata": {},
   "outputs": [],
   "source": [
    "y_pred = rf.predict(X_train)"
   ]
  },
  {
   "cell_type": "code",
   "execution_count": 189,
   "id": "46e507c6",
   "metadata": {},
   "outputs": [],
   "source": [
    "y_pred_proba = rf.predict_proba(X_train)"
   ]
  },
  {
   "cell_type": "code",
   "execution_count": 190,
   "id": "a60721a6",
   "metadata": {},
   "outputs": [
    {
     "name": "stdout",
     "output_type": "stream",
     "text": [
      "Accuracy of random forest classifier on training set: 0.65\n"
     ]
    }
   ],
   "source": [
    "print('Accuracy of random forest classifier on training set: {:.2f}'\n",
    "     .format(rf.score(X_train, y_train)))"
   ]
  },
  {
   "cell_type": "markdown",
   "id": "a6507ff5",
   "metadata": {},
   "source": [
    "KNN"
   ]
  },
  {
   "cell_type": "code",
   "execution_count": 191,
   "id": "7328d327",
   "metadata": {},
   "outputs": [],
   "source": [
    "knn = KNeighborsClassifier(n_neighbors=30, weights='distance')"
   ]
  },
  {
   "cell_type": "code",
   "execution_count": 192,
   "id": "3d7f45f7",
   "metadata": {},
   "outputs": [
    {
     "data": {
      "text/plain": [
       "KNeighborsClassifier(n_neighbors=30, weights='distance')"
      ]
     },
     "execution_count": 192,
     "metadata": {},
     "output_type": "execute_result"
    }
   ],
   "source": [
    "knn.fit(X_train, y_train)"
   ]
  },
  {
   "cell_type": "code",
   "execution_count": 193,
   "id": "7de4a1c5",
   "metadata": {},
   "outputs": [],
   "source": [
    "y_pred = knn.predict(X_train)"
   ]
  },
  {
   "cell_type": "code",
   "execution_count": 196,
   "id": "c702ea2e",
   "metadata": {},
   "outputs": [],
   "source": [
    "y_pred_proba = knn.predict_proba(X_train)"
   ]
  },
  {
   "cell_type": "code",
   "execution_count": 197,
   "id": "2e7b9705",
   "metadata": {},
   "outputs": [
    {
     "name": "stdout",
     "output_type": "stream",
     "text": [
      "Accuracy of KNN classifier on training set: 0.66\n"
     ]
    }
   ],
   "source": [
    "print('Accuracy of KNN classifier on training set: {:.2f}'\n",
    "     .format(knn.score(X_train, y_train)))"
   ]
  },
  {
   "cell_type": "code",
   "execution_count": 198,
   "id": "7291a04b",
   "metadata": {},
   "outputs": [
    {
     "name": "stdout",
     "output_type": "stream",
     "text": [
      "              precision    recall  f1-score   support\n",
      "\n",
      "           0       0.71      0.02      0.04       250\n",
      "           1       0.66      0.99      0.79      4698\n",
      "           2       0.49      0.06      0.11      1547\n",
      "           3       0.75      0.01      0.01       464\n",
      "           4       0.00      0.00      0.00       234\n",
      "\n",
      "    accuracy                           0.66      7193\n",
      "   macro avg       0.52      0.22      0.19      7193\n",
      "weighted avg       0.61      0.66      0.54      7193\n",
      "\n"
     ]
    }
   ],
   "source": [
    "print(classification_report(y_train, y_pred))"
   ]
  },
  {
   "cell_type": "code",
   "execution_count": 199,
   "id": "eba77de5",
   "metadata": {},
   "outputs": [],
   "source": [
    "y_pred = knn.predict(X_validate)"
   ]
  },
  {
   "cell_type": "code",
   "execution_count": 200,
   "id": "3f1f0e4f",
   "metadata": {},
   "outputs": [],
   "source": [
    "y_pred_proba = knn.predict_proba(X_validate)"
   ]
  },
  {
   "cell_type": "code",
   "execution_count": 201,
   "id": "b475ec15",
   "metadata": {},
   "outputs": [
    {
     "name": "stdout",
     "output_type": "stream",
     "text": [
      "Accuracy of KNN classifier on test set: 0.64\n"
     ]
    }
   ],
   "source": [
    "print('Accuracy of KNN classifier on test set: {:.2f}'\n",
    "     .format(knn.score(X_validate, y_validate)))"
   ]
  },
  {
   "cell_type": "code",
   "execution_count": 202,
   "id": "4c8399e6",
   "metadata": {},
   "outputs": [
    {
     "name": "stdout",
     "output_type": "stream",
     "text": [
      "              precision    recall  f1-score   support\n",
      "\n",
      "           0       0.00      0.00      0.00        88\n",
      "           1       0.66      0.97      0.78      2006\n",
      "           2       0.33      0.05      0.09       669\n",
      "           3       1.00      0.00      0.01       219\n",
      "           4       0.00      0.00      0.00       101\n",
      "\n",
      "    accuracy                           0.64      3083\n",
      "   macro avg       0.40      0.21      0.18      3083\n",
      "weighted avg       0.57      0.64      0.53      3083\n",
      "\n"
     ]
    }
   ],
   "source": [
    "print(classification_report(y_validate, y_pred))"
   ]
  },
  {
   "cell_type": "markdown",
   "id": "c068d2f4",
   "metadata": {},
   "source": [
    "Regression"
   ]
  },
  {
   "cell_type": "code",
   "execution_count": 203,
   "id": "9c9400b0",
   "metadata": {},
   "outputs": [],
   "source": [
    "logit = LogisticRegression(solver='newton-cg')"
   ]
  },
  {
   "cell_type": "code",
   "execution_count": 204,
   "id": "1b4c92f3",
   "metadata": {},
   "outputs": [
    {
     "data": {
      "text/plain": [
       "LogisticRegression(solver='newton-cg')"
      ]
     },
     "execution_count": 204,
     "metadata": {},
     "output_type": "execute_result"
    }
   ],
   "source": [
    "logit.fit(X_train, y_train)"
   ]
  },
  {
   "cell_type": "code",
   "execution_count": 205,
   "id": "fdb5b16b",
   "metadata": {},
   "outputs": [],
   "source": [
    "y_pred = logit.predict(X_train)"
   ]
  },
  {
   "cell_type": "code",
   "execution_count": 206,
   "id": "02e2ba29",
   "metadata": {},
   "outputs": [],
   "source": [
    "y_pred_proba = logit.predict_proba(X_train)"
   ]
  },
  {
   "cell_type": "code",
   "execution_count": 207,
   "id": "6e262849",
   "metadata": {},
   "outputs": [
    {
     "name": "stdout",
     "output_type": "stream",
     "text": [
      "Accuracy of Logistic Regression classifier on training set: 0.65\n"
     ]
    }
   ],
   "source": [
    "print('Accuracy of Logistic Regression classifier on training set: {:.2f}'\n",
    "     .format(logit.score(X_train, y_train)))"
   ]
  },
  {
   "cell_type": "code",
   "execution_count": 208,
   "id": "b87d1d0e",
   "metadata": {},
   "outputs": [
    {
     "name": "stdout",
     "output_type": "stream",
     "text": [
      "              precision    recall  f1-score   support\n",
      "\n",
      "           0       0.00      0.00      0.00       250\n",
      "           1       0.65      1.00      0.79      4698\n",
      "           2       0.00      0.00      0.00      1547\n",
      "           3       0.00      0.00      0.00       464\n",
      "           4       0.00      0.00      0.00       234\n",
      "\n",
      "    accuracy                           0.65      7193\n",
      "   macro avg       0.13      0.20      0.16      7193\n",
      "weighted avg       0.43      0.65      0.52      7193\n",
      "\n"
     ]
    }
   ],
   "source": [
    "print(classification_report(y_train, y_pred))"
   ]
  },
  {
   "cell_type": "code",
   "execution_count": null,
   "id": "cd1dabc9",
   "metadata": {},
   "outputs": [],
   "source": []
  },
  {
   "cell_type": "code",
   "execution_count": null,
   "id": "e26348cf",
   "metadata": {},
   "outputs": [],
   "source": []
  },
  {
   "cell_type": "code",
   "execution_count": null,
   "id": "9da32623",
   "metadata": {},
   "outputs": [],
   "source": []
  },
  {
   "cell_type": "code",
   "execution_count": null,
   "id": "c5a766b7",
   "metadata": {},
   "outputs": [],
   "source": []
  },
  {
   "cell_type": "code",
   "execution_count": null,
   "id": "19620d95",
   "metadata": {},
   "outputs": [],
   "source": []
  },
  {
   "cell_type": "code",
   "execution_count": null,
   "id": "52bda595",
   "metadata": {},
   "outputs": [],
   "source": []
  },
  {
   "cell_type": "code",
   "execution_count": null,
   "id": "dd801b94",
   "metadata": {},
   "outputs": [],
   "source": []
  },
  {
   "cell_type": "code",
   "execution_count": null,
   "id": "30cb4160",
   "metadata": {},
   "outputs": [],
   "source": []
  }
 ],
 "metadata": {
  "kernelspec": {
   "display_name": "Python 3 (ipykernel)",
   "language": "python",
   "name": "python3"
  },
  "language_info": {
   "codemirror_mode": {
    "name": "ipython",
    "version": 3
   },
   "file_extension": ".py",
   "mimetype": "text/x-python",
   "name": "python",
   "nbconvert_exporter": "python",
   "pygments_lexer": "ipython3",
   "version": "3.9.7"
  }
 },
 "nbformat": 4,
 "nbformat_minor": 5
}
