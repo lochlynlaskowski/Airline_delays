{
 "cells": [
  {
   "cell_type": "code",
   "execution_count": 1,
   "id": "e2137753",
   "metadata": {},
   "outputs": [],
   "source": [
    "# ignore warnings\n",
    "import warnings\n",
    "warnings.filterwarnings(\"ignore\")\n",
    "import pandas as pd\n",
    "import matplotlib.pyplot as plt\n",
    "import seaborn as sns\n",
    "import numpy as np\n",
    "import wrangle\n",
    "from sklearn.model_selection import train_test_split\n",
    "from scipy import stats\n",
    "\n",
    "plt.rcParams['figure.figsize'] = [12,8]\n",
    "alpha = .05\n",
    "\n",
    "from sklearn.tree import DecisionTreeClassifier, plot_tree\n",
    "from sklearn.metrics import classification_report, confusion_matrix\n",
    "from sklearn.metrics import confusion_matrix\n",
    "from sklearn.neighbors import KNeighborsClassifier\n",
    "from sklearn.linear_model import LogisticRegression\n",
    "from sklearn.ensemble import RandomForestClassifier\n",
    "from sklearn.ensemble import GradientBoostingClassifier\n",
    "\n",
    "import sklearn.preprocessing"
   ]
  },
  {
   "cell_type": "markdown",
   "id": "9dc71293",
   "metadata": {},
   "source": [
    "### Project Planning\n",
    "- Audience: potential consumers planning airline travel.\n",
    "- Utilize classification modeling to determine how long a flight will be delayed by categories.\n",
    "- Find key features that drive flight delays.\n",
    "\n",
    "**Initial Hypothesis**\n",
    "- Ariline carriers will impact the amount of time delayed.\n",
    "- Departure and arrival airports will impact the amount of time delayed.\n",
    "- Day of the week will impact the amount of time delayed.\n",
    "- The time of the year(month) will impact the amount of time delayed.\n",
    "- The time of the scheduled flight will impact the amount of time delayed.\n"
   ]
  },
  {
   "cell_type": "markdown",
   "id": "6064fee0",
   "metadata": {},
   "source": [
    "### Executive Summary\n",
    "- Key drivers of flight delays are:\n",
    "    - Month, DayOfWeek, DayofMonth, CRSElapsedTime, AirTime, departure_hour\n",
    "- Best performing classification model:\n",
    "    - Gradient Boosting\n",
    "    - Test was in-line with baseline, but did not out perform.\n",
    "    - Predictions can be found in prediction.csv.\n",
    "- The category with the highest occurence is category one: 15-59 minutes delayed.\n",
    "    "
   ]
  },
  {
   "cell_type": "markdown",
   "id": "b3751cc6",
   "metadata": {},
   "source": [
    "### Acquire\n",
    "\n",
    "- Data was acquired from [kaggle](https://www.kaggle.com/datasets/giovamata/airlinedelaycauses?select=DelayedFlights.csv), with the original datset coming from the U.S. Department of Transportation - Bureau of Transportation Satistics.\n",
    "\n",
    "- Comprised of airline data from January to December 2008.\n",
    "\n",
    "#### What's in the data?\n",
    "- **Delayed_Status:**(Target Variable) categorical groups depedning on length of delay. \n",
    "    - 0: No delay\n",
    "    - 1: Delay from 16-59 minutes\n",
    "    - 2: Delay from 60-119 minuutes\n",
    "    - 3: Delay from 120- 179 minutes\n",
    "    - 4: Delay greater than 180 minutes\n",
    "- **Year:** 2008\n",
    "- **Month:** 1-12\n",
    "- **DayofMonth:** 1-31\n",
    "- **DayOfWeek:** 1 (Monday) - 7 (Sunday)\n",
    "- **CRSDepTime:** scheduled departure time (local, hhmm)\n",
    "- **CRSArrTime:** scheduled arrival time (local, hhmm)\n",
    "- **UniqueCarrier:** unique carrier code\n",
    "- **TailNum:** plane tail number: aircraft registration, unique aircraft identifier\n",
    "- **CRSElapsedTime:** in minutes\n",
    "- **AirTime:** in minutes\n",
    "- **ArrDelay:** arrival delay, in minutes: A flight is counted as \"on time\" if it arrived less than 15 minutes before the carriers' scheduled Computerized Reservations Systems (CRS) time.\n",
    "- **Origin:** origin IATA airport code\n",
    "- **Dest:** destination IATA airport code\n",
    "- **Distance** in miles\n",
    "- **CarrierDelay in minutes:** The cause of the cancellation or delay was due to circumstances within the airline's control (e.g. maintenance or crew problems, aircraft cleaning, baggage loading, fueling, etc.).\n",
    "- **WeatherDelay in minutes:** Significant meteorological conditions (actual or forecasted) that, in the judgment of the carrier, delays or prevents the operation of a flight such as tornado, blizzard or hurricane.\n",
    "- **NASDelay in minutes:** Delays and cancellations attributable to the national aviation system that refer to a broad set of conditions, such as non-extreme weather conditions, airport operations, heavy traffic volume, and air traffic control.\n",
    "- **LateAircraftDelay in minutes:** A previous flight with same aircraft arrived late, causing the present flight to depart late.\n",
    "- **SecurityDelay in minutes:** Delays or cancellations caused by evacuation of a terminal or concourse, re-boarding of aircraft because of security breach, inoperative screening equipment and/or long lines in excess of 29 minutes at screening areas.\n",
    "- **Delayed:** If a flight has been delayed or not.\n",
    "- **departure_hour:** The 24 hour that the flight was scheduled to depart.\n"
   ]
  },
  {
   "cell_type": "code",
   "execution_count": 2,
   "id": "099639f7",
   "metadata": {},
   "outputs": [
    {
     "data": {
      "text/html": [
       "<div>\n",
       "<style scoped>\n",
       "    .dataframe tbody tr th:only-of-type {\n",
       "        vertical-align: middle;\n",
       "    }\n",
       "\n",
       "    .dataframe tbody tr th {\n",
       "        vertical-align: top;\n",
       "    }\n",
       "\n",
       "    .dataframe thead th {\n",
       "        text-align: right;\n",
       "    }\n",
       "</style>\n",
       "<table border=\"1\" class=\"dataframe\">\n",
       "  <thead>\n",
       "    <tr style=\"text-align: right;\">\n",
       "      <th></th>\n",
       "      <th>Unnamed: 0</th>\n",
       "      <th>Year</th>\n",
       "      <th>Month</th>\n",
       "      <th>DayofMonth</th>\n",
       "      <th>DayOfWeek</th>\n",
       "      <th>DepTime</th>\n",
       "      <th>CRSDepTime</th>\n",
       "      <th>ArrTime</th>\n",
       "      <th>CRSArrTime</th>\n",
       "      <th>UniqueCarrier</th>\n",
       "      <th>...</th>\n",
       "      <th>TaxiIn</th>\n",
       "      <th>TaxiOut</th>\n",
       "      <th>Cancelled</th>\n",
       "      <th>CancellationCode</th>\n",
       "      <th>Diverted</th>\n",
       "      <th>CarrierDelay</th>\n",
       "      <th>WeatherDelay</th>\n",
       "      <th>NASDelay</th>\n",
       "      <th>SecurityDelay</th>\n",
       "      <th>LateAircraftDelay</th>\n",
       "    </tr>\n",
       "  </thead>\n",
       "  <tbody>\n",
       "    <tr>\n",
       "      <th>0</th>\n",
       "      <td>0</td>\n",
       "      <td>2008</td>\n",
       "      <td>1</td>\n",
       "      <td>3</td>\n",
       "      <td>4</td>\n",
       "      <td>2003.0</td>\n",
       "      <td>1955</td>\n",
       "      <td>2211.0</td>\n",
       "      <td>2225</td>\n",
       "      <td>WN</td>\n",
       "      <td>...</td>\n",
       "      <td>4.0</td>\n",
       "      <td>8.0</td>\n",
       "      <td>0</td>\n",
       "      <td>N</td>\n",
       "      <td>0</td>\n",
       "      <td>NaN</td>\n",
       "      <td>NaN</td>\n",
       "      <td>NaN</td>\n",
       "      <td>NaN</td>\n",
       "      <td>NaN</td>\n",
       "    </tr>\n",
       "  </tbody>\n",
       "</table>\n",
       "<p>1 rows × 30 columns</p>\n",
       "</div>"
      ],
      "text/plain": [
       "   Unnamed: 0  Year  Month  DayofMonth  DayOfWeek  DepTime  CRSDepTime  \\\n",
       "0           0  2008      1           3          4   2003.0        1955   \n",
       "\n",
       "   ArrTime  CRSArrTime UniqueCarrier  ...  TaxiIn TaxiOut  Cancelled  \\\n",
       "0   2211.0        2225            WN  ...     4.0     8.0          0   \n",
       "\n",
       "   CancellationCode  Diverted  CarrierDelay  WeatherDelay NASDelay  \\\n",
       "0                 N         0           NaN           NaN      NaN   \n",
       "\n",
       "  SecurityDelay  LateAircraftDelay  \n",
       "0           NaN                NaN  \n",
       "\n",
       "[1 rows x 30 columns]"
      ]
     },
     "execution_count": 2,
     "metadata": {},
     "output_type": "execute_result"
    }
   ],
   "source": [
    "df = wrangle.get_flight_data()\n",
    "df.head(1)"
   ]
  },
  {
   "cell_type": "markdown",
   "id": "a5d7f537",
   "metadata": {},
   "source": [
    "### Prepare\n",
    "\n",
    "- Original data comprised of 1,936,758 rows and 30 columns.\n",
    "- Data preparation included:\n",
    "    - Dropping nulls.\n",
    "    - Dropping duplicate columns(example:CRSArrTime vs ArrTime).\n",
    "    - Converts floats to integers.\n",
    "    - Created Delayed, Delayed_Status, and departure_hour.\n",
    "    - One-hot encoded UniqueCarrier.\n",
    "    - Converted CRSDepTime to 24 hour datetime.time.\n",
    "    - Limited airlines to: WN|AA|MQ|UA|OO|DL\n",
    "    - Limited airports to: ATL|DFW|DEN|LAX\n",
    "    \n",
    "- Dataframe now consists of 12,846 rows and 27 columns."
   ]
  },
  {
   "cell_type": "code",
   "execution_count": 3,
   "id": "5d7bf422",
   "metadata": {},
   "outputs": [
    {
     "data": {
      "text/html": [
       "<div>\n",
       "<style scoped>\n",
       "    .dataframe tbody tr th:only-of-type {\n",
       "        vertical-align: middle;\n",
       "    }\n",
       "\n",
       "    .dataframe tbody tr th {\n",
       "        vertical-align: top;\n",
       "    }\n",
       "\n",
       "    .dataframe thead th {\n",
       "        text-align: right;\n",
       "    }\n",
       "</style>\n",
       "<table border=\"1\" class=\"dataframe\">\n",
       "  <thead>\n",
       "    <tr style=\"text-align: right;\">\n",
       "      <th></th>\n",
       "      <th>Year</th>\n",
       "      <th>Month</th>\n",
       "      <th>DayofMonth</th>\n",
       "      <th>DayOfWeek</th>\n",
       "      <th>CRSDepTime</th>\n",
       "      <th>CRSArrTime</th>\n",
       "      <th>UniqueCarrier</th>\n",
       "      <th>TailNum</th>\n",
       "      <th>CRSElapsedTime</th>\n",
       "      <th>AirTime</th>\n",
       "      <th>...</th>\n",
       "      <th>NASDelay</th>\n",
       "      <th>SecurityDelay</th>\n",
       "      <th>LateAircraftDelay</th>\n",
       "      <th>Delayed_Status</th>\n",
       "      <th>Delayed</th>\n",
       "      <th>UniqueCarrier_DL</th>\n",
       "      <th>UniqueCarrier_OO</th>\n",
       "      <th>UniqueCarrier_UA</th>\n",
       "      <th>UniqueCarrier_WN</th>\n",
       "      <th>departure_hour</th>\n",
       "    </tr>\n",
       "  </thead>\n",
       "  <tbody>\n",
       "    <tr>\n",
       "      <th>51640</th>\n",
       "      <td>2008</td>\n",
       "      <td>1</td>\n",
       "      <td>1</td>\n",
       "      <td>2</td>\n",
       "      <td>14:29:00</td>\n",
       "      <td>1922</td>\n",
       "      <td>OO</td>\n",
       "      <td>N772SK</td>\n",
       "      <td>173</td>\n",
       "      <td>153</td>\n",
       "      <td>...</td>\n",
       "      <td>0</td>\n",
       "      <td>0</td>\n",
       "      <td>0</td>\n",
       "      <td>0</td>\n",
       "      <td>0</td>\n",
       "      <td>0</td>\n",
       "      <td>1</td>\n",
       "      <td>0</td>\n",
       "      <td>0</td>\n",
       "      <td>14</td>\n",
       "    </tr>\n",
       "  </tbody>\n",
       "</table>\n",
       "<p>1 rows × 27 columns</p>\n",
       "</div>"
      ],
      "text/plain": [
       "       Year  Month  DayofMonth  DayOfWeek CRSDepTime  CRSArrTime  \\\n",
       "51640  2008      1           1          2   14:29:00        1922   \n",
       "\n",
       "      UniqueCarrier TailNum  CRSElapsedTime  AirTime  ...  NASDelay  \\\n",
       "51640            OO  N772SK             173      153  ...         0   \n",
       "\n",
       "       SecurityDelay LateAircraftDelay Delayed_Status  Delayed  \\\n",
       "51640              0                 0              0        0   \n",
       "\n",
       "       UniqueCarrier_DL  UniqueCarrier_OO  UniqueCarrier_UA  UniqueCarrier_WN  \\\n",
       "51640                 0                 1                 0                 0   \n",
       "\n",
       "       departure_hour  \n",
       "51640              14  \n",
       "\n",
       "[1 rows x 27 columns]"
      ]
     },
     "execution_count": 3,
     "metadata": {},
     "output_type": "execute_result"
    }
   ],
   "source": [
    "df = wrangle.prepare_flight_data(df)\n",
    "df.head(1)"
   ]
  },
  {
   "cell_type": "markdown",
   "id": "0b6dc606",
   "metadata": {},
   "source": [
    "#### Train, validate, test split"
   ]
  },
  {
   "cell_type": "code",
   "execution_count": 4,
   "id": "a0f3460c",
   "metadata": {},
   "outputs": [],
   "source": [
    "train, validate, test = wrangle.split_flight_data(df)"
   ]
  },
  {
   "cell_type": "code",
   "execution_count": 5,
   "id": "9a305660",
   "metadata": {},
   "outputs": [
    {
     "data": {
      "text/plain": [
       "((7193, 27), (3083, 27), (2570, 27))"
      ]
     },
     "execution_count": 5,
     "metadata": {},
     "output_type": "execute_result"
    }
   ],
   "source": [
    "train.shape, validate.shape, test.shape"
   ]
  },
  {
   "cell_type": "markdown",
   "id": "24047c08",
   "metadata": {},
   "source": [
    "### Explore\n",
    "\n",
    "**Questions to ask**\n",
    "- Does the airline impact flight delays?\n",
    "- Does the airport impact flight delays?\n",
    "     - Departure and Arrival\n",
    "- Does the day of the week impact flight delays?\n",
    "- Does the month impact flight delays?\n",
    "- Does the time the flight was schedule to depart impact flight delays?"
   ]
  },
  {
   "cell_type": "code",
   "execution_count": 6,
   "id": "e0b872ba",
   "metadata": {
    "scrolled": true
   },
   "outputs": [
    {
     "data": {
      "image/png": "[encoded data removed]",
      "text/plain": [
       "<Figure size 864x576 with 1 Axes>"
      ]
     },
     "metadata": {
      "needs_background": "light"
     },
     "output_type": "display_data"
    }
   ],
   "source": [
    "sns.countplot(train.Delayed_Status)\n",
    "plt.title('Delayed Status')\n",
    "plt.show()"
   ]
  },
  {
   "cell_type": "markdown",
   "id": "ce5aaa04",
   "metadata": {},
   "source": [
    "View distribution of the target variable.\n",
    "- The majority of delays are greater than 15 minutes but less than 59 minutes.\n"
   ]
  },
  {
   "cell_type": "markdown",
   "id": "8057d4b8",
   "metadata": {},
   "source": [
    "### Does the Airline impact flight delays?"
   ]
  },
  {
   "cell_type": "code",
   "execution_count": 7,
   "id": "13d425dd",
   "metadata": {},
   "outputs": [
    {
     "data": {
      "image/png": "[encoded data removed]",
      "text/plain": [
       "<Figure size 864x576 with 1 Axes>"
      ]
     },
     "metadata": {
      "needs_background": "light"
     },
     "output_type": "display_data"
    }
   ],
   "source": [
    "sns.barplot(data=train, x = 'UniqueCarrier', y = 'Delayed_Status')\n",
    "plt.show()"
   ]
  },
  {
   "cell_type": "markdown",
   "id": "6d2dcd0f",
   "metadata": {},
   "source": [
    "**Notes:** There is a visual indication that there is variability in the mean delayed status per airline, with United having the highest mean delayed status."
   ]
  },
  {
   "cell_type": "code",
   "execution_count": 8,
   "id": "57bbb3c6",
   "metadata": {},
   "outputs": [],
   "source": [
    "# create dataframes for each unique airline\n",
    "AA = train[train.UniqueCarrier =='AA']\n",
    "DL = train[train.UniqueCarrier =='DL']\n",
    "UA = train[train.UniqueCarrier =='UA']\n",
    "OO = train[train.UniqueCarrier =='OO']\n",
    "WN = train[train.UniqueCarrier =='WN']"
   ]
  },
  {
   "cell_type": "code",
   "execution_count": 9,
   "id": "aad36779",
   "metadata": {},
   "outputs": [
    {
     "data": {
      "image/png": "[encoded data removed]",
      "text/plain": [
       "<Figure size 1296x360 with 5 Axes>"
      ]
     },
     "metadata": {
      "needs_background": "light"
     },
     "output_type": "display_data"
    }
   ],
   "source": [
    "# visualuze the unique airlines with their specific delayed statuses\n",
    "plt.figure(figsize=(18,5))\n",
    "plt.subplot(151)\n",
    "sns.countplot(data=AA, x='Delayed_Status')\n",
    "plt.title('American Airlines Delayed Status')\n",
    "\n",
    "plt.subplot(152)\n",
    "sns.countplot(data=DL, x='Delayed_Status')\n",
    "plt.title('Delta Airlines Delayed Status')\n",
    "\n",
    "plt.subplot(153)\n",
    "sns.countplot(data=UA, x='Delayed_Status')\n",
    "plt.title('United Airlines Delayed Status')\n",
    "\n",
    "plt.subplot(154)\n",
    "sns.countplot(data=OO, x='Delayed_Status')\n",
    "plt.title('SkyWest Airlines Delayed Status')\n",
    "\n",
    "plt.subplot(155)\n",
    "sns.countplot(data=WN, x='Delayed_Status')\n",
    "plt.title('Southwest Airlines Delayed Status')\n",
    "plt.show()"
   ]
  },
  {
   "cell_type": "markdown",
   "id": "2542d37d",
   "metadata": {},
   "source": [
    "**Notes:** Delayed status 1 looks uniform throughout the airlines, while status 2 (60-179 minite delay shows variability and United Airlines shows a greater distribution of flights within the delayed status 3 category.\n",
    "\n",
    "**Next Steps: perform chi squared testing**\n",
    "\n",
    "- Null Hypothesis: Delayed status and Airline are independent.\n",
    "- Alternative Hypothesis: Delayed status and Airline are dependent.\n"
   ]
  },
  {
   "cell_type": "code",
   "execution_count": 10,
   "id": "568b3a71",
   "metadata": {},
   "outputs": [],
   "source": [
    "observed = pd.crosstab(train.Delayed_Status, train.UniqueCarrier)"
   ]
  },
  {
   "cell_type": "code",
   "execution_count": 11,
   "id": "d4d84567",
   "metadata": {},
   "outputs": [
    {
     "data": {
      "text/plain": [
       "1.7969244654332686e-08"
      ]
     },
     "execution_count": 11,
     "metadata": {},
     "output_type": "execute_result"
    }
   ],
   "source": [
    "chi2, p, degf, expected = stats.chi2_contingency(observed)\n",
    "p"
   ]
  },
  {
   "cell_type": "code",
   "execution_count": 12,
   "id": "df626cc0",
   "metadata": {},
   "outputs": [
    {
     "name": "stdout",
     "output_type": "stream",
     "text": [
      "Reject the null\n"
     ]
    }
   ],
   "source": [
    "if p < alpha:\n",
    "    print(\"Reject the null\")\n",
    "else:\n",
    "    print('Fail to reject the null')"
   ]
  },
  {
   "cell_type": "markdown",
   "id": "95f9bba3",
   "metadata": {},
   "source": [
    "**Answer to question:** There is a relationship between airlines and flight delays."
   ]
  },
  {
   "cell_type": "markdown",
   "id": "f74efcf4",
   "metadata": {},
   "source": [
    "### Does the airport impact flight delays?"
   ]
  },
  {
   "cell_type": "markdown",
   "id": "4ce101da",
   "metadata": {},
   "source": [
    "#### Departing airport (Origin)"
   ]
  },
  {
   "cell_type": "code",
   "execution_count": 13,
   "id": "e260832b",
   "metadata": {
    "scrolled": true
   },
   "outputs": [
    {
     "data": {
      "image/png": "[encoded data removed]",
      "text/plain": [
       "<Figure size 864x576 with 1 Axes>"
      ]
     },
     "metadata": {
      "needs_background": "light"
     },
     "output_type": "display_data"
    }
   ],
   "source": [
    "sns.barplot(data=train, y=train.Delayed_Status, x=train.Origin, hue=train.Origin)\n",
    "plt.show()"
   ]
  },
  {
   "cell_type": "code",
   "execution_count": 14,
   "id": "03dcaf4e",
   "metadata": {},
   "outputs": [],
   "source": [
    "DFW = train[train.Origin =='DFW']\n",
    "LAX = train[train.Origin =='LAX']\n",
    "ATL = train[train.Origin =='ATL']\n",
    "DEN = train[train.Origin =='DEN']"
   ]
  },
  {
   "cell_type": "code",
   "execution_count": 15,
   "id": "ef61d11b",
   "metadata": {},
   "outputs": [
    {
     "data": {
      "image/png": "[encoded data removed]",
      "text/plain": [
       "<Figure size 1296x360 with 4 Axes>"
      ]
     },
     "metadata": {
      "needs_background": "light"
     },
     "output_type": "display_data"
    }
   ],
   "source": [
    "plt.figure(figsize=(18,5))\n",
    "plt.subplot(141)\n",
    "sns.countplot(data=DFW, x='Delayed_Status')\n",
    "plt.title('DFW Departure Delayed Status')\n",
    "\n",
    "plt.subplot(142)\n",
    "sns.countplot(data=LAX, x='Delayed_Status')\n",
    "plt.title('LAX Departure Delayed Status')\n",
    "\n",
    "plt.subplot(143)\n",
    "sns.countplot(data=ATL, x='Delayed_Status')\n",
    "plt.title('ATL Departure Delayed Status')\n",
    "\n",
    "plt.subplot(144)\n",
    "sns.countplot(data=DEN, x='Delayed_Status')\n",
    "plt.title('DEN Departure Delayed Status')\n",
    "plt.show()"
   ]
  },
  {
   "cell_type": "markdown",
   "id": "8fcaca84",
   "metadata": {},
   "source": [
    "**Notes:** Departure airports don't seem to have too much variability between them, possibly in delayed status 3 and 4. DFW has more flights departing than the other airports."
   ]
  },
  {
   "cell_type": "markdown",
   "id": "7222ebc4",
   "metadata": {},
   "source": [
    "**Next Steps: perform chi squared testing**\n",
    "\n",
    "- Null Hypothesis: Delayed status and takeoff location are independent.\n",
    "- Alternative Hypothesis: Delayed status and takeoff location are dependent.\n"
   ]
  },
  {
   "cell_type": "code",
   "execution_count": 16,
   "id": "92c521d0",
   "metadata": {},
   "outputs": [],
   "source": [
    "observed = pd.crosstab(train.Delayed_Status, train.Origin)"
   ]
  },
  {
   "cell_type": "code",
   "execution_count": 17,
   "id": "37608457",
   "metadata": {},
   "outputs": [
    {
     "data": {
      "text/plain": [
       "0.10732864876528733"
      ]
     },
     "execution_count": 17,
     "metadata": {},
     "output_type": "execute_result"
    }
   ],
   "source": [
    "chi2, p, degf, expected = stats.chi2_contingency(observed)\n",
    "p"
   ]
  },
  {
   "cell_type": "code",
   "execution_count": 18,
   "id": "08bbc67e",
   "metadata": {},
   "outputs": [
    {
     "name": "stdout",
     "output_type": "stream",
     "text": [
      "Fail to reject the null\n"
     ]
    }
   ],
   "source": [
    "if p < alpha:\n",
    "    print(\"Reject the null\")\n",
    "else:\n",
    "    print('Fail to reject the null')"
   ]
  },
  {
   "cell_type": "markdown",
   "id": "594af9b2",
   "metadata": {},
   "source": [
    "#### Arrival airport (Dest)"
   ]
  },
  {
   "cell_type": "code",
   "execution_count": 19,
   "id": "f014c664",
   "metadata": {},
   "outputs": [],
   "source": [
    "DFW_d = train[train.Dest =='DFW']\n",
    "LAX_d = train[train.Dest =='LAX']\n",
    "ATL_d = train[train.Dest =='ATL']\n",
    "DEN_d = train[train.Dest =='DEN']"
   ]
  },
  {
   "cell_type": "code",
   "execution_count": 20,
   "id": "7926ee50",
   "metadata": {},
   "outputs": [
    {
     "data": {
      "image/png": "[encoded data removed]",
      "text/plain": [
       "<Figure size 1296x360 with 4 Axes>"
      ]
     },
     "metadata": {
      "needs_background": "light"
     },
     "output_type": "display_data"
    }
   ],
   "source": [
    "plt.figure(figsize=(18,5))\n",
    "plt.subplot(141)\n",
    "sns.countplot(data=DFW_d, x='Delayed_Status')\n",
    "plt.title('DFW Arrival Delayed Status')\n",
    "\n",
    "plt.subplot(142)\n",
    "sns.countplot(data=LAX_d, x='Delayed_Status')\n",
    "plt.title('LAX Arrival Delayed Status')\n",
    "\n",
    "plt.subplot(143)\n",
    "sns.countplot(data=ATL_d, x='Delayed_Status')\n",
    "plt.title('ATL Arrival Delayed Status')\n",
    "\n",
    "plt.subplot(144)\n",
    "sns.countplot(data=DEN_d, x='Delayed_Status')\n",
    "plt.title('DEN Arrival Delayed Status')\n",
    "plt.show()"
   ]
  },
  {
   "cell_type": "markdown",
   "id": "92cc34da",
   "metadata": {},
   "source": [
    "**Notes:** The arrival airports are visualy showing similar distibutions through all four airports."
   ]
  },
  {
   "cell_type": "markdown",
   "id": "9508d8be",
   "metadata": {},
   "source": [
    "**Next Steps: perform chi squared testing**\n",
    "\n",
    "- Null Hypothesis: Delayed status and arrival location are independent.\n",
    "- Alternative Hypothesis: Delayed status and arrival location are dependent."
   ]
  },
  {
   "cell_type": "code",
   "execution_count": 21,
   "id": "a5a84a7f",
   "metadata": {},
   "outputs": [],
   "source": [
    "observed = pd.crosstab(train.Delayed_Status, train.Dest)"
   ]
  },
  {
   "cell_type": "code",
   "execution_count": 22,
   "id": "1c4f6c3c",
   "metadata": {},
   "outputs": [
    {
     "data": {
      "text/plain": [
       "0.10829858413351334"
      ]
     },
     "execution_count": 22,
     "metadata": {},
     "output_type": "execute_result"
    }
   ],
   "source": [
    "chi2, p, degf, expected = stats.chi2_contingency(observed)\n",
    "p"
   ]
  },
  {
   "cell_type": "code",
   "execution_count": 23,
   "id": "96cfa323",
   "metadata": {},
   "outputs": [
    {
     "name": "stdout",
     "output_type": "stream",
     "text": [
      "Fail to reject the null\n"
     ]
    }
   ],
   "source": [
    "if p < alpha:\n",
    "    print(\"Reject the null\")\n",
    "else:\n",
    "    print('Fail to reject the null')"
   ]
  },
  {
   "cell_type": "markdown",
   "id": "97dfdca8",
   "metadata": {},
   "source": [
    "**Answer to question:** Delayed status and airport arrival/departure locations are independent."
   ]
  },
  {
   "cell_type": "markdown",
   "id": "16e0d46a",
   "metadata": {},
   "source": [
    "### Does the day of the week impact flight delays?"
   ]
  },
  {
   "cell_type": "code",
   "execution_count": 24,
   "id": "f9026b1a",
   "metadata": {},
   "outputs": [
    {
     "data": {
      "image/png": "[encoded data removed]",
      "text/plain": [
       "<Figure size 864x576 with 1 Axes>"
      ]
     },
     "metadata": {
      "needs_background": "light"
     },
     "output_type": "display_data"
    }
   ],
   "source": [
    "sns.barplot(data=train, x=train.DayOfWeek, y=train.Delayed_Status)\n",
    "plt.show()"
   ]
  },
  {
   "cell_type": "markdown",
   "id": "4c1b1514",
   "metadata": {},
   "source": [
    "**Notes:** Tuesday and Sunday show the highest mean delayed status, with Monday and Wednesday being the lowest. Thursday, Friday, and Saturday seem to be in line with each other."
   ]
  },
  {
   "cell_type": "code",
   "execution_count": 25,
   "id": "df75bdf5",
   "metadata": {},
   "outputs": [],
   "source": [
    "mon=train[train.DayOfWeek==1]\n",
    "tue=train[train.DayOfWeek==2]\n",
    "wed=train[train.DayOfWeek==3]\n",
    "thur=train[train.DayOfWeek==4]\n",
    "fri=train[train.DayOfWeek==5]\n",
    "sat=train[train.DayOfWeek==6]\n",
    "sun=train[train.DayOfWeek==7]"
   ]
  },
  {
   "cell_type": "code",
   "execution_count": 26,
   "id": "70d51507",
   "metadata": {},
   "outputs": [
    {
     "data": {
      "image/png": "[encoded data removed]",
      "text/plain": [
       "<Figure size 1296x360 with 7 Axes>"
      ]
     },
     "metadata": {
      "needs_background": "light"
     },
     "output_type": "display_data"
    }
   ],
   "source": [
    "# plot delayed status per day of the week\n",
    "plt.figure(figsize=(18,5))\n",
    "plt.subplot(241)\n",
    "sns.countplot(data=mon, x='Delayed_Status')\n",
    "plt.title('Monday Delayed Status')\n",
    "\n",
    "plt.subplot(242)\n",
    "sns.countplot(data=tue, x='Delayed_Status')\n",
    "plt.title('Tuesday Delayed Status')\n",
    "\n",
    "plt.subplot(243)\n",
    "sns.countplot(data=wed, x='Delayed_Status')\n",
    "plt.title('Wednesday Delayed Status')\n",
    "\n",
    "plt.subplot(244)\n",
    "sns.countplot(data=thur, x='Delayed_Status')\n",
    "plt.title('Thursday Delayed Status')\n",
    "\n",
    "plt.subplot(245)\n",
    "sns.countplot(data=fri, x='Delayed_Status')\n",
    "plt.title('Friday Delayed Status')\n",
    "\n",
    "plt.subplot(246)\n",
    "sns.countplot(data=sat, x='Delayed_Status')\n",
    "plt.title('Saturday Delayed Status')\n",
    "\n",
    "plt.subplot(247)\n",
    "sns.countplot(data=sun, x='Delayed_Status')\n",
    "plt.title('Sunday Delayed Status')\n",
    "plt.show()\n",
    "\n"
   ]
  },
  {
   "cell_type": "markdown",
   "id": "89793c04",
   "metadata": {},
   "source": [
    "**Notes:** This visualization doesn't show too much variability other than Tuesday's Delay status 3. Saturday has less flights than the other days, and Friday has the most, as indicated by the axis.\n"
   ]
  },
  {
   "cell_type": "markdown",
   "id": "8000cf88",
   "metadata": {},
   "source": [
    "**Next Steps: perform chi squared testing**\n",
    "\n",
    "- Null Hypothesis: Delayed status and day of the week are independent.\n",
    "- Alternative Hypothesis: Delayed status and day of the week are dependent."
   ]
  },
  {
   "cell_type": "code",
   "execution_count": 27,
   "id": "0a881b9f",
   "metadata": {},
   "outputs": [],
   "source": [
    "observed = pd.crosstab(train.Delayed_Status, train.DayOfWeek)"
   ]
  },
  {
   "cell_type": "code",
   "execution_count": 28,
   "id": "86945401",
   "metadata": {},
   "outputs": [
    {
     "data": {
      "text/plain": [
       "0.02563956820010972"
      ]
     },
     "execution_count": 28,
     "metadata": {},
     "output_type": "execute_result"
    }
   ],
   "source": [
    "chi2, p, degf, expected = stats.chi2_contingency(observed)\n",
    "p"
   ]
  },
  {
   "cell_type": "code",
   "execution_count": 29,
   "id": "b81604ee",
   "metadata": {},
   "outputs": [
    {
     "name": "stdout",
     "output_type": "stream",
     "text": [
      "Reject the null\n"
     ]
    }
   ],
   "source": [
    "if p < alpha:\n",
    "    print(\"Reject the null\")\n",
    "else:\n",
    "    print('Fail to reject the null')"
   ]
  },
  {
   "cell_type": "markdown",
   "id": "3face5a0",
   "metadata": {},
   "source": [
    "**Answer to question:** There is a relationship between day of the week and delayed status."
   ]
  },
  {
   "cell_type": "markdown",
   "id": "455a7261",
   "metadata": {},
   "source": [
    "### Does the time of the year impact flight delays? (month)"
   ]
  },
  {
   "cell_type": "code",
   "execution_count": 30,
   "id": "b39627ea",
   "metadata": {},
   "outputs": [
    {
     "data": {
      "image/png": "[encoded data removed]",
      "text/plain": [
       "<Figure size 864x576 with 1 Axes>"
      ]
     },
     "metadata": {
      "needs_background": "light"
     },
     "output_type": "display_data"
    }
   ],
   "source": [
    "sns.barplot(data=train, x=train.Month, y=train.Delayed_Status)\n",
    "plt.show()"
   ]
  },
  {
   "cell_type": "markdown",
   "id": "2a676d51",
   "metadata": {},
   "source": [
    "**Notes:** Visually, variabity between months and delayed status is evident with July having the highest average delayed status."
   ]
  },
  {
   "cell_type": "markdown",
   "id": "424664ed",
   "metadata": {},
   "source": [
    "**Next Steps: perform chi squared testing**\n",
    "\n",
    "- Null Hypothesis: Delayed status and month are independent.\n",
    "- Alternative Hypothesis: Delayed status and month are dependent."
   ]
  },
  {
   "cell_type": "code",
   "execution_count": 31,
   "id": "acad4346",
   "metadata": {},
   "outputs": [],
   "source": [
    "observed = pd.crosstab(train.Delayed_Status, train.Month)"
   ]
  },
  {
   "cell_type": "code",
   "execution_count": 32,
   "id": "b95e8ce0",
   "metadata": {},
   "outputs": [
    {
     "data": {
      "text/plain": [
       "8.145267866834006e-05"
      ]
     },
     "execution_count": 32,
     "metadata": {},
     "output_type": "execute_result"
    }
   ],
   "source": [
    "chi2, p, degf, expected = stats.chi2_contingency(observed)\n",
    "p"
   ]
  },
  {
   "cell_type": "code",
   "execution_count": 33,
   "id": "f4427da5",
   "metadata": {},
   "outputs": [
    {
     "name": "stdout",
     "output_type": "stream",
     "text": [
      "Reject the null\n"
     ]
    }
   ],
   "source": [
    "if p < alpha:\n",
    "    print(\"Reject the null\")\n",
    "else:\n",
    "    print('Fail to reject the null')"
   ]
  },
  {
   "cell_type": "markdown",
   "id": "418e18f6",
   "metadata": {},
   "source": [
    "**Answer to question:** There is a relationship between the month and delayed status."
   ]
  },
  {
   "cell_type": "markdown",
   "id": "e04dd0f1",
   "metadata": {},
   "source": [
    "### Does the day of the month impact flight delays?"
   ]
  },
  {
   "cell_type": "code",
   "execution_count": 34,
   "id": "00f72c6a",
   "metadata": {},
   "outputs": [
    {
     "data": {
      "image/png": "[encoded data removed]",
      "text/plain": [
       "<Figure size 864x576 with 1 Axes>"
      ]
     },
     "metadata": {
      "needs_background": "light"
     },
     "output_type": "display_data"
    }
   ],
   "source": [
    "sns.barplot(data=train, x=train.DayofMonth, y=train.Delayed_Status)\n",
    "plt.show()"
   ]
  },
  {
   "cell_type": "markdown",
   "id": "1d876a53",
   "metadata": {},
   "source": [
    "**Notes:** Visually, variability is evident over the days of the month."
   ]
  },
  {
   "cell_type": "markdown",
   "id": "cc89a46b",
   "metadata": {},
   "source": [
    "**Next Steps: perform chi squared testing**\n",
    "\n",
    "- Null Hypothesis: Delayed status and day of the month are independent.\n",
    "- Alternative Hypothesis: Delayed status and day of the month are dependent."
   ]
  },
  {
   "cell_type": "code",
   "execution_count": 35,
   "id": "e77fd235",
   "metadata": {},
   "outputs": [],
   "source": [
    "observed = pd.crosstab(train.Delayed_Status, train.DayofMonth)"
   ]
  },
  {
   "cell_type": "code",
   "execution_count": 36,
   "id": "6e29a01f",
   "metadata": {},
   "outputs": [
    {
     "data": {
      "text/plain": [
       "4.3358342374987734e-07"
      ]
     },
     "execution_count": 36,
     "metadata": {},
     "output_type": "execute_result"
    }
   ],
   "source": [
    "chi2, p, degf, expected = stats.chi2_contingency(observed)\n",
    "p"
   ]
  },
  {
   "cell_type": "code",
   "execution_count": 37,
   "id": "c1b7e4a6",
   "metadata": {},
   "outputs": [
    {
     "name": "stdout",
     "output_type": "stream",
     "text": [
      "Reject the null\n"
     ]
    }
   ],
   "source": [
    "if p < alpha:\n",
    "    print(\"Reject the null\")\n",
    "else:\n",
    "    print('Fail to reject the null')"
   ]
  },
  {
   "cell_type": "markdown",
   "id": "259b33f6",
   "metadata": {},
   "source": [
    "**Answer to question:** There is a relationship between day of the month and delayed status."
   ]
  },
  {
   "cell_type": "markdown",
   "id": "66ffbb80",
   "metadata": {},
   "source": [
    "### Does the scheduled departure time impact flight delays?"
   ]
  },
  {
   "cell_type": "code",
   "execution_count": 38,
   "id": "8e0152e5",
   "metadata": {},
   "outputs": [
    {
     "data": {
      "image/png": "[encoded data removed]",
      "text/plain": [
       "<Figure size 864x576 with 1 Axes>"
      ]
     },
     "metadata": {
      "needs_background": "light"
     },
     "output_type": "display_data"
    }
   ],
   "source": [
    "sns.barplot(data=train, y= 'Delayed_Status', x='departure_hour')\n",
    "plt.show()"
   ]
  },
  {
   "cell_type": "markdown",
   "id": "6487a3a5",
   "metadata": {},
   "source": [
    "**Notes:** Visualization shows variability between the average delayed status and the scheduled hour of the departure. With 2AM being a problematic area."
   ]
  },
  {
   "cell_type": "markdown",
   "id": "a3b9dbe6",
   "metadata": {},
   "source": [
    "**Next Steps: perform chi squared testing**\n",
    "\n",
    "- Null Hypothesis: Delayed status and the scheduled departure hour are independent.\n",
    "- Alternative Hypothesis: Delayed status and the scheduled departure hour are dependent."
   ]
  },
  {
   "cell_type": "code",
   "execution_count": 39,
   "id": "9c09d129",
   "metadata": {},
   "outputs": [],
   "source": [
    "observed = pd.crosstab(train.Delayed_Status, train.departure_hour)"
   ]
  },
  {
   "cell_type": "code",
   "execution_count": 40,
   "id": "9b596b27",
   "metadata": {},
   "outputs": [
    {
     "data": {
      "text/plain": [
       "1.1750329775978126e-06"
      ]
     },
     "execution_count": 40,
     "metadata": {},
     "output_type": "execute_result"
    }
   ],
   "source": [
    "chi2, p, degf, expected = stats.chi2_contingency(observed)\n",
    "p"
   ]
  },
  {
   "cell_type": "code",
   "execution_count": 41,
   "id": "4d4e30e3",
   "metadata": {},
   "outputs": [
    {
     "name": "stdout",
     "output_type": "stream",
     "text": [
      "Reject the null\n"
     ]
    }
   ],
   "source": [
    "if p < alpha:\n",
    "    print(\"Reject the null\")\n",
    "else:\n",
    "    print('Fail to reject the null')"
   ]
  },
  {
   "cell_type": "markdown",
   "id": "d620de42",
   "metadata": {},
   "source": [
    "**Answer to question:** There is a relationship between the scheduled departure time and delayed status."
   ]
  },
  {
   "cell_type": "markdown",
   "id": "cef73854",
   "metadata": {},
   "source": [
    "**Review of exploration:**\n",
    "Of the features chosen, all have a relationship with delayed status outside of the airport location."
   ]
  },
  {
   "cell_type": "markdown",
   "id": "50c24267",
   "metadata": {},
   "source": [
    "#### Scale the train, validate, test datasets"
   ]
  },
  {
   "cell_type": "code",
   "execution_count": 42,
   "id": "1b84c736",
   "metadata": {},
   "outputs": [],
   "source": [
    "train_scaled, validate_scaled, test_scaled = wrangle.scale_data(train,test,validate)"
   ]
  },
  {
   "cell_type": "markdown",
   "id": "67baadca",
   "metadata": {},
   "source": [
    "### Modeling\n",
    "\n",
    "- Initial features include all in the datframe except for the following:\n",
    "    - CRSDepTime - accounted for as departure_hour\n",
    "    - CRSArrTime\n",
    "    - UniqueCarrier - one-hot encoded\n",
    "    - TailNum \n",
    "    - ArrDelay, DepDelay, CarrierDelayWeatherDelay, NASDelay, SecurityDelay, LateAircraftDelay,\n",
    "      Delayed_Status, Delayed (due to data leakage)"
   ]
  },
  {
   "cell_type": "code",
   "execution_count": 43,
   "id": "01e12111",
   "metadata": {},
   "outputs": [],
   "source": [
    "X_train = train_scaled.drop(columns=['CRSDepTime', 'CRSArrTime',\n",
    "       'UniqueCarrier', 'TailNum','ArrDelay',\n",
    "       'DepDelay', 'Origin', 'Dest', 'CarrierDelay',\n",
    "       'WeatherDelay', 'NASDelay', 'SecurityDelay', 'LateAircraftDelay',\n",
    "       'Delayed_Status','Delayed'])\n",
    "y_train = train_scaled.Delayed_Status\n",
    "\n",
    "X_validate = validate_scaled.drop(columns=['CRSDepTime', 'CRSArrTime',\n",
    "       'UniqueCarrier', 'TailNum','ArrDelay',\n",
    "       'DepDelay', 'Origin', 'Dest', 'CarrierDelay',\n",
    "       'WeatherDelay', 'NASDelay', 'SecurityDelay', 'LateAircraftDelay',\n",
    "       'Delayed_Status','Delayed'])\n",
    "y_validate = validate_scaled.Delayed_Status\n",
    "\n",
    "X_test = test_scaled.drop(columns=['CRSDepTime', 'CRSArrTime',\n",
    "       'UniqueCarrier', 'TailNum','ArrDelay',\n",
    "       'DepDelay', 'Origin', 'Dest', 'CarrierDelay',\n",
    "       'WeatherDelay', 'NASDelay', 'SecurityDelay', 'LateAircraftDelay',\n",
    "       'Delayed_Status','Delayed'])\n",
    "y_test = test_scaled.Delayed_Status"
   ]
  },
  {
   "cell_type": "markdown",
   "id": "4b235923",
   "metadata": {},
   "source": [
    "### Baseline Prediction"
   ]
  },
  {
   "cell_type": "code",
   "execution_count": 44,
   "id": "f496c8ad",
   "metadata": {},
   "outputs": [
    {
     "data": {
      "text/plain": [
       "0    1\n",
       "dtype: int64"
      ]
     },
     "execution_count": 44,
     "metadata": {},
     "output_type": "execute_result"
    }
   ],
   "source": [
    "# determine the baseline\n",
    "train.Delayed_Status.mode()"
   ]
  },
  {
   "cell_type": "code",
   "execution_count": 45,
   "id": "78ae75cd",
   "metadata": {},
   "outputs": [
    {
     "name": "stdout",
     "output_type": "stream",
     "text": [
      "Baseline accuracy: 0.65\n"
     ]
    }
   ],
   "source": [
    "baseline_prediction = (y_train == 1)\n",
    "\n",
    "baseline_accuracy = baseline_prediction.mean()\n",
    "print(f\"Baseline accuracy: {round(baseline_accuracy, 2)}\")"
   ]
  },
  {
   "cell_type": "markdown",
   "id": "a5395e06",
   "metadata": {},
   "source": [
    "**With the assumption that every flight will be delayed from 15 to 59 minutes, the baseline is 65% accurate.**"
   ]
  },
  {
   "cell_type": "markdown",
   "id": "0d4cd18e",
   "metadata": {},
   "source": [
    "### Decision Tree"
   ]
  },
  {
   "cell_type": "code",
   "execution_count": 46,
   "id": "5c37e539",
   "metadata": {},
   "outputs": [
    {
     "data": {
      "text/html": [
       "<div>\n",
       "<style scoped>\n",
       "    .dataframe tbody tr th:only-of-type {\n",
       "        vertical-align: middle;\n",
       "    }\n",
       "\n",
       "    .dataframe tbody tr th {\n",
       "        vertical-align: top;\n",
       "    }\n",
       "\n",
       "    .dataframe thead th {\n",
       "        text-align: right;\n",
       "    }\n",
       "</style>\n",
       "<table border=\"1\" class=\"dataframe\">\n",
       "  <thead>\n",
       "    <tr style=\"text-align: right;\">\n",
       "      <th></th>\n",
       "      <th>max_depth</th>\n",
       "      <th>train_accuracy</th>\n",
       "      <th>validate_accuracy</th>\n",
       "      <th>difference</th>\n",
       "    </tr>\n",
       "  </thead>\n",
       "  <tbody>\n",
       "    <tr>\n",
       "      <th>0</th>\n",
       "      <td>2</td>\n",
       "      <td>0.653135</td>\n",
       "      <td>0.661868</td>\n",
       "      <td>-0.008733</td>\n",
       "    </tr>\n",
       "    <tr>\n",
       "      <th>1</th>\n",
       "      <td>3</td>\n",
       "      <td>0.653135</td>\n",
       "      <td>0.661868</td>\n",
       "      <td>-0.008733</td>\n",
       "    </tr>\n",
       "    <tr>\n",
       "      <th>2</th>\n",
       "      <td>4</td>\n",
       "      <td>0.653691</td>\n",
       "      <td>0.661868</td>\n",
       "      <td>-0.008177</td>\n",
       "    </tr>\n",
       "    <tr>\n",
       "      <th>3</th>\n",
       "      <td>5</td>\n",
       "      <td>0.658279</td>\n",
       "      <td>0.659922</td>\n",
       "      <td>-0.001643</td>\n",
       "    </tr>\n",
       "    <tr>\n",
       "      <th>4</th>\n",
       "      <td>6</td>\n",
       "      <td>0.663979</td>\n",
       "      <td>0.657198</td>\n",
       "      <td>0.006780</td>\n",
       "    </tr>\n",
       "    <tr>\n",
       "      <th>5</th>\n",
       "      <td>7</td>\n",
       "      <td>0.671069</td>\n",
       "      <td>0.651751</td>\n",
       "      <td>0.019318</td>\n",
       "    </tr>\n",
       "    <tr>\n",
       "      <th>6</th>\n",
       "      <td>8</td>\n",
       "      <td>0.681079</td>\n",
       "      <td>0.641245</td>\n",
       "      <td>0.039834</td>\n",
       "    </tr>\n",
       "    <tr>\n",
       "      <th>7</th>\n",
       "      <td>9</td>\n",
       "      <td>0.696093</td>\n",
       "      <td>0.635019</td>\n",
       "      <td>0.061074</td>\n",
       "    </tr>\n",
       "    <tr>\n",
       "      <th>8</th>\n",
       "      <td>10</td>\n",
       "      <td>0.711803</td>\n",
       "      <td>0.629961</td>\n",
       "      <td>0.081842</td>\n",
       "    </tr>\n",
       "    <tr>\n",
       "      <th>9</th>\n",
       "      <td>11</td>\n",
       "      <td>0.732796</td>\n",
       "      <td>0.613619</td>\n",
       "      <td>0.119177</td>\n",
       "    </tr>\n",
       "    <tr>\n",
       "      <th>10</th>\n",
       "      <td>12</td>\n",
       "      <td>0.757264</td>\n",
       "      <td>0.600000</td>\n",
       "      <td>0.157264</td>\n",
       "    </tr>\n",
       "    <tr>\n",
       "      <th>11</th>\n",
       "      <td>13</td>\n",
       "      <td>0.781454</td>\n",
       "      <td>0.593385</td>\n",
       "      <td>0.188069</td>\n",
       "    </tr>\n",
       "    <tr>\n",
       "      <th>12</th>\n",
       "      <td>14</td>\n",
       "      <td>0.809676</td>\n",
       "      <td>0.577432</td>\n",
       "      <td>0.232244</td>\n",
       "    </tr>\n",
       "    <tr>\n",
       "      <th>13</th>\n",
       "      <td>15</td>\n",
       "      <td>0.836369</td>\n",
       "      <td>0.565759</td>\n",
       "      <td>0.270610</td>\n",
       "    </tr>\n",
       "    <tr>\n",
       "      <th>14</th>\n",
       "      <td>16</td>\n",
       "      <td>0.864313</td>\n",
       "      <td>0.540856</td>\n",
       "      <td>0.323456</td>\n",
       "    </tr>\n",
       "    <tr>\n",
       "      <th>15</th>\n",
       "      <td>17</td>\n",
       "      <td>0.891561</td>\n",
       "      <td>0.544358</td>\n",
       "      <td>0.347203</td>\n",
       "    </tr>\n",
       "    <tr>\n",
       "      <th>16</th>\n",
       "      <td>18</td>\n",
       "      <td>0.915473</td>\n",
       "      <td>0.524903</td>\n",
       "      <td>0.390571</td>\n",
       "    </tr>\n",
       "    <tr>\n",
       "      <th>17</th>\n",
       "      <td>19</td>\n",
       "      <td>0.937300</td>\n",
       "      <td>0.524514</td>\n",
       "      <td>0.412787</td>\n",
       "    </tr>\n",
       "    <tr>\n",
       "      <th>18</th>\n",
       "      <td>20</td>\n",
       "      <td>0.955095</td>\n",
       "      <td>0.521790</td>\n",
       "      <td>0.433305</td>\n",
       "    </tr>\n",
       "    <tr>\n",
       "      <th>19</th>\n",
       "      <td>21</td>\n",
       "      <td>0.966773</td>\n",
       "      <td>0.508171</td>\n",
       "      <td>0.458602</td>\n",
       "    </tr>\n",
       "    <tr>\n",
       "      <th>20</th>\n",
       "      <td>22</td>\n",
       "      <td>0.979007</td>\n",
       "      <td>0.502335</td>\n",
       "      <td>0.476673</td>\n",
       "    </tr>\n",
       "    <tr>\n",
       "      <th>21</th>\n",
       "      <td>23</td>\n",
       "      <td>0.986237</td>\n",
       "      <td>0.506226</td>\n",
       "      <td>0.480011</td>\n",
       "    </tr>\n",
       "    <tr>\n",
       "      <th>22</th>\n",
       "      <td>24</td>\n",
       "      <td>0.992493</td>\n",
       "      <td>0.496109</td>\n",
       "      <td>0.496384</td>\n",
       "    </tr>\n",
       "  </tbody>\n",
       "</table>\n",
       "</div>"
      ],
      "text/plain": [
       "    max_depth  train_accuracy  validate_accuracy  difference\n",
       "0           2        0.653135           0.661868   -0.008733\n",
       "1           3        0.653135           0.661868   -0.008733\n",
       "2           4        0.653691           0.661868   -0.008177\n",
       "3           5        0.658279           0.659922   -0.001643\n",
       "4           6        0.663979           0.657198    0.006780\n",
       "5           7        0.671069           0.651751    0.019318\n",
       "6           8        0.681079           0.641245    0.039834\n",
       "7           9        0.696093           0.635019    0.061074\n",
       "8          10        0.711803           0.629961    0.081842\n",
       "9          11        0.732796           0.613619    0.119177\n",
       "10         12        0.757264           0.600000    0.157264\n",
       "11         13        0.781454           0.593385    0.188069\n",
       "12         14        0.809676           0.577432    0.232244\n",
       "13         15        0.836369           0.565759    0.270610\n",
       "14         16        0.864313           0.540856    0.323456\n",
       "15         17        0.891561           0.544358    0.347203\n",
       "16         18        0.915473           0.524903    0.390571\n",
       "17         19        0.937300           0.524514    0.412787\n",
       "18         20        0.955095           0.521790    0.433305\n",
       "19         21        0.966773           0.508171    0.458602\n",
       "20         22        0.979007           0.502335    0.476673\n",
       "21         23        0.986237           0.506226    0.480011\n",
       "22         24        0.992493           0.496109    0.496384"
      ]
     },
     "execution_count": 46,
     "metadata": {},
     "output_type": "execute_result"
    }
   ],
   "source": [
    "metrics = []\n",
    "\n",
    "for i in range(2, 25):\n",
    "    # Make the model\n",
    "    tree = DecisionTreeClassifier(max_depth=i, random_state=123)\n",
    "\n",
    "    # Fit the model (on train and only train)\n",
    "    tree = tree.fit(X_train, y_train)\n",
    "\n",
    "    # Use the model\n",
    "    # We'll evaluate the model's performance on train, first\n",
    "    in_sample_accuracy = tree.score(X_train, y_train)\n",
    "    \n",
    "    out_of_sample_accuracy = tree.score(X_validate, y_validate)\n",
    "\n",
    "    output = {\n",
    "        \"max_depth\": i,\n",
    "        \"train_accuracy\": in_sample_accuracy,\n",
    "        \"validate_accuracy\": out_of_sample_accuracy\n",
    "    }\n",
    "    \n",
    "    metrics.append(output)\n",
    "    \n",
    "df = pd.DataFrame(metrics)\n",
    "df[\"difference\"] = df.train_accuracy - df.validate_accuracy\n",
    "df"
   ]
  },
  {
   "cell_type": "code",
   "execution_count": 47,
   "id": "4f5d9b04",
   "metadata": {},
   "outputs": [],
   "source": [
    "# create the model\n",
    "clf = DecisionTreeClassifier(max_depth=5, random_state=123)"
   ]
  },
  {
   "cell_type": "code",
   "execution_count": 48,
   "id": "454c2bfc",
   "metadata": {},
   "outputs": [],
   "source": [
    "# fit the model\n",
    "clf = clf.fit(X_train, y_train)"
   ]
  },
  {
   "cell_type": "code",
   "execution_count": 49,
   "id": "a83b45c4",
   "metadata": {},
   "outputs": [],
   "source": [
    "# make prediction on train obeservations\n",
    "y_pred = clf.predict(X_train)"
   ]
  },
  {
   "cell_type": "code",
   "execution_count": 50,
   "id": "9a27b59e",
   "metadata": {},
   "outputs": [],
   "source": [
    "# plot_tree(clf, feature_names=X_train.columns, class_names = clf.classes_.astype(str), rounded=True)"
   ]
  },
  {
   "cell_type": "code",
   "execution_count": 51,
   "id": "e287606a",
   "metadata": {},
   "outputs": [],
   "source": [
    "y_pred_proba = clf.predict_proba(X_train)"
   ]
  },
  {
   "cell_type": "code",
   "execution_count": 52,
   "id": "2e306280",
   "metadata": {},
   "outputs": [
    {
     "name": "stdout",
     "output_type": "stream",
     "text": [
      "Accuracy on training set: 0.66\n"
     ]
    }
   ],
   "source": [
    "print('Accuracy on training set: {:.2f}'\n",
    "      .format(clf.score(X_train, y_train)))"
   ]
  },
  {
   "cell_type": "code",
   "execution_count": 53,
   "id": "9d0c970d",
   "metadata": {},
   "outputs": [
    {
     "name": "stdout",
     "output_type": "stream",
     "text": [
      "              precision    recall  f1-score   support\n",
      "\n",
      "           0       0.00      0.00      0.00       250\n",
      "           1       0.66      0.99      0.79      4698\n",
      "           2       0.53      0.06      0.12      1547\n",
      "           3       1.00      0.00      0.00       464\n",
      "           4       0.00      0.00      0.00       234\n",
      "\n",
      "    accuracy                           0.66      7193\n",
      "   macro avg       0.44      0.21      0.18      7193\n",
      "weighted avg       0.61      0.66      0.54      7193\n",
      "\n"
     ]
    }
   ],
   "source": [
    "print(classification_report(y_train, y_pred))"
   ]
  },
  {
   "cell_type": "code",
   "execution_count": 54,
   "id": "e67e3257",
   "metadata": {},
   "outputs": [
    {
     "name": "stdout",
     "output_type": "stream",
     "text": [
      "Accuracy on training set: 0.66\n"
     ]
    }
   ],
   "source": [
    "print('Accuracy on training set: {:.2f}'\n",
    "      .format(clf.score(X_validate, y_validate)))"
   ]
  },
  {
   "cell_type": "code",
   "execution_count": 55,
   "id": "690ddbce",
   "metadata": {},
   "outputs": [
    {
     "name": "stdout",
     "output_type": "stream",
     "text": [
      "              precision    recall  f1-score   support\n",
      "\n",
      "           0       0.00      0.00      0.00        77\n",
      "           1       0.67      0.98      0.79      1701\n",
      "           2       0.40      0.04      0.07       556\n",
      "           3       0.00      0.00      0.00       155\n",
      "           4       0.00      0.00      0.00        81\n",
      "\n",
      "    accuracy                           0.66      2570\n",
      "   macro avg       0.21      0.20      0.17      2570\n",
      "weighted avg       0.53      0.66      0.54      2570\n",
      "\n"
     ]
    }
   ],
   "source": [
    "# Produce y_predictions that come from the X_validate\n",
    "y_pred = clf.predict(X_validate)\n",
    "\n",
    "# Compare actual y values (from validate) to predicted y_values from the model run on X_validate\n",
    "print(classification_report(y_validate, y_pred))"
   ]
  },
  {
   "cell_type": "markdown",
   "id": "63e065c4",
   "metadata": {},
   "source": [
    "**Decision tree modeling is making predictions on three out of the five categories with in-sample data and then only predicts on two categories in the validation dataset.**"
   ]
  },
  {
   "cell_type": "markdown",
   "id": "77b99f7c",
   "metadata": {},
   "source": [
    "### Random Forrests"
   ]
  },
  {
   "cell_type": "code",
   "execution_count": 56,
   "id": "898ec678",
   "metadata": {
    "scrolled": true
   },
   "outputs": [
    {
     "data": {
      "text/html": [
       "<div>\n",
       "<style scoped>\n",
       "    .dataframe tbody tr th:only-of-type {\n",
       "        vertical-align: middle;\n",
       "    }\n",
       "\n",
       "    .dataframe tbody tr th {\n",
       "        vertical-align: top;\n",
       "    }\n",
       "\n",
       "    .dataframe thead th {\n",
       "        text-align: right;\n",
       "    }\n",
       "</style>\n",
       "<table border=\"1\" class=\"dataframe\">\n",
       "  <thead>\n",
       "    <tr style=\"text-align: right;\">\n",
       "      <th></th>\n",
       "      <th>max_depth</th>\n",
       "      <th>train_accuracy</th>\n",
       "      <th>validate_accuracy</th>\n",
       "      <th>difference</th>\n",
       "    </tr>\n",
       "  </thead>\n",
       "  <tbody>\n",
       "    <tr>\n",
       "      <th>0</th>\n",
       "      <td>2</td>\n",
       "      <td>0.653135</td>\n",
       "      <td>0.661868</td>\n",
       "      <td>-0.008733</td>\n",
       "    </tr>\n",
       "    <tr>\n",
       "      <th>1</th>\n",
       "      <td>3</td>\n",
       "      <td>0.653135</td>\n",
       "      <td>0.661868</td>\n",
       "      <td>-0.008733</td>\n",
       "    </tr>\n",
       "    <tr>\n",
       "      <th>2</th>\n",
       "      <td>4</td>\n",
       "      <td>0.653135</td>\n",
       "      <td>0.661868</td>\n",
       "      <td>-0.008733</td>\n",
       "    </tr>\n",
       "    <tr>\n",
       "      <th>3</th>\n",
       "      <td>5</td>\n",
       "      <td>0.653135</td>\n",
       "      <td>0.661868</td>\n",
       "      <td>-0.008733</td>\n",
       "    </tr>\n",
       "    <tr>\n",
       "      <th>4</th>\n",
       "      <td>6</td>\n",
       "      <td>0.653135</td>\n",
       "      <td>0.661868</td>\n",
       "      <td>-0.008733</td>\n",
       "    </tr>\n",
       "    <tr>\n",
       "      <th>5</th>\n",
       "      <td>7</td>\n",
       "      <td>0.653969</td>\n",
       "      <td>0.661868</td>\n",
       "      <td>-0.007899</td>\n",
       "    </tr>\n",
       "    <tr>\n",
       "      <th>6</th>\n",
       "      <td>8</td>\n",
       "      <td>0.657862</td>\n",
       "      <td>0.662646</td>\n",
       "      <td>-0.004784</td>\n",
       "    </tr>\n",
       "    <tr>\n",
       "      <th>7</th>\n",
       "      <td>9</td>\n",
       "      <td>0.663423</td>\n",
       "      <td>0.663035</td>\n",
       "      <td>0.000388</td>\n",
       "    </tr>\n",
       "    <tr>\n",
       "      <th>8</th>\n",
       "      <td>10</td>\n",
       "      <td>0.673989</td>\n",
       "      <td>0.665370</td>\n",
       "      <td>0.008619</td>\n",
       "    </tr>\n",
       "    <tr>\n",
       "      <th>9</th>\n",
       "      <td>11</td>\n",
       "      <td>0.693591</td>\n",
       "      <td>0.664981</td>\n",
       "      <td>0.028610</td>\n",
       "    </tr>\n",
       "    <tr>\n",
       "      <th>10</th>\n",
       "      <td>12</td>\n",
       "      <td>0.722647</td>\n",
       "      <td>0.663813</td>\n",
       "      <td>0.058834</td>\n",
       "    </tr>\n",
       "    <tr>\n",
       "      <th>11</th>\n",
       "      <td>13</td>\n",
       "      <td>0.765605</td>\n",
       "      <td>0.664981</td>\n",
       "      <td>0.100625</td>\n",
       "    </tr>\n",
       "    <tr>\n",
       "      <th>12</th>\n",
       "      <td>14</td>\n",
       "      <td>0.813847</td>\n",
       "      <td>0.663813</td>\n",
       "      <td>0.150034</td>\n",
       "    </tr>\n",
       "    <tr>\n",
       "      <th>13</th>\n",
       "      <td>15</td>\n",
       "      <td>0.863895</td>\n",
       "      <td>0.663035</td>\n",
       "      <td>0.200860</td>\n",
       "    </tr>\n",
       "    <tr>\n",
       "      <th>14</th>\n",
       "      <td>16</td>\n",
       "      <td>0.912693</td>\n",
       "      <td>0.662646</td>\n",
       "      <td>0.250047</td>\n",
       "    </tr>\n",
       "    <tr>\n",
       "      <th>15</th>\n",
       "      <td>17</td>\n",
       "      <td>0.943695</td>\n",
       "      <td>0.657977</td>\n",
       "      <td>0.285719</td>\n",
       "    </tr>\n",
       "    <tr>\n",
       "      <th>16</th>\n",
       "      <td>18</td>\n",
       "      <td>0.971500</td>\n",
       "      <td>0.660700</td>\n",
       "      <td>0.310800</td>\n",
       "    </tr>\n",
       "    <tr>\n",
       "      <th>17</th>\n",
       "      <td>19</td>\n",
       "      <td>0.985402</td>\n",
       "      <td>0.654475</td>\n",
       "      <td>0.330928</td>\n",
       "    </tr>\n",
       "    <tr>\n",
       "      <th>18</th>\n",
       "      <td>20</td>\n",
       "      <td>0.994717</td>\n",
       "      <td>0.652140</td>\n",
       "      <td>0.342577</td>\n",
       "    </tr>\n",
       "    <tr>\n",
       "      <th>19</th>\n",
       "      <td>21</td>\n",
       "      <td>0.999027</td>\n",
       "      <td>0.657198</td>\n",
       "      <td>0.341828</td>\n",
       "    </tr>\n",
       "    <tr>\n",
       "      <th>20</th>\n",
       "      <td>22</td>\n",
       "      <td>0.999305</td>\n",
       "      <td>0.652140</td>\n",
       "      <td>0.347165</td>\n",
       "    </tr>\n",
       "    <tr>\n",
       "      <th>21</th>\n",
       "      <td>23</td>\n",
       "      <td>0.999722</td>\n",
       "      <td>0.648638</td>\n",
       "      <td>0.351084</td>\n",
       "    </tr>\n",
       "    <tr>\n",
       "      <th>22</th>\n",
       "      <td>24</td>\n",
       "      <td>1.000000</td>\n",
       "      <td>0.647471</td>\n",
       "      <td>0.352529</td>\n",
       "    </tr>\n",
       "  </tbody>\n",
       "</table>\n",
       "</div>"
      ],
      "text/plain": [
       "    max_depth  train_accuracy  validate_accuracy  difference\n",
       "0           2        0.653135           0.661868   -0.008733\n",
       "1           3        0.653135           0.661868   -0.008733\n",
       "2           4        0.653135           0.661868   -0.008733\n",
       "3           5        0.653135           0.661868   -0.008733\n",
       "4           6        0.653135           0.661868   -0.008733\n",
       "5           7        0.653969           0.661868   -0.007899\n",
       "6           8        0.657862           0.662646   -0.004784\n",
       "7           9        0.663423           0.663035    0.000388\n",
       "8          10        0.673989           0.665370    0.008619\n",
       "9          11        0.693591           0.664981    0.028610\n",
       "10         12        0.722647           0.663813    0.058834\n",
       "11         13        0.765605           0.664981    0.100625\n",
       "12         14        0.813847           0.663813    0.150034\n",
       "13         15        0.863895           0.663035    0.200860\n",
       "14         16        0.912693           0.662646    0.250047\n",
       "15         17        0.943695           0.657977    0.285719\n",
       "16         18        0.971500           0.660700    0.310800\n",
       "17         19        0.985402           0.654475    0.330928\n",
       "18         20        0.994717           0.652140    0.342577\n",
       "19         21        0.999027           0.657198    0.341828\n",
       "20         22        0.999305           0.652140    0.347165\n",
       "21         23        0.999722           0.648638    0.351084\n",
       "22         24        1.000000           0.647471    0.352529"
      ]
     },
     "execution_count": 56,
     "metadata": {},
     "output_type": "execute_result"
    }
   ],
   "source": [
    "metrics = []\n",
    "\n",
    "for i in range(2, 25):\n",
    "    # Make the model\n",
    "    forest = RandomForestClassifier(max_depth=i, random_state=123)\n",
    "\n",
    "    # Fit the model (on train and only train)\n",
    "    forest = forest.fit(X_train, y_train)\n",
    "\n",
    "    # Use the model\n",
    "    # We'll evaluate the model's performance on train, first\n",
    "    in_sample_accuracy = forest.score(X_train, y_train)\n",
    "    \n",
    "    out_of_sample_accuracy = forest.score(X_validate, y_validate)\n",
    "\n",
    "    output = {\n",
    "        \"max_depth\": i,\n",
    "        \"train_accuracy\": in_sample_accuracy,\n",
    "        \"validate_accuracy\": out_of_sample_accuracy\n",
    "    }\n",
    "    \n",
    "    metrics.append(output)\n",
    "    \n",
    "df = pd.DataFrame(metrics)\n",
    "df[\"difference\"] = df.train_accuracy - df.validate_accuracy\n",
    "df"
   ]
  },
  {
   "cell_type": "markdown",
   "id": "5244c3a9",
   "metadata": {},
   "source": [
    "**A max-depth of 10 produces the best validation results with a minimal difference between in and out-of sample data."
   ]
  },
  {
   "cell_type": "code",
   "execution_count": 57,
   "id": "d3df58cd",
   "metadata": {},
   "outputs": [],
   "source": [
    "# create the model\n",
    "rf = RandomForestClassifier(max_depth=10, \n",
    "                            random_state=123)"
   ]
  },
  {
   "cell_type": "code",
   "execution_count": 58,
   "id": "f9d16a67",
   "metadata": {},
   "outputs": [
    {
     "data": {
      "text/plain": [
       "RandomForestClassifier(max_depth=10, random_state=123)"
      ]
     },
     "execution_count": 58,
     "metadata": {},
     "output_type": "execute_result"
    }
   ],
   "source": [
    "# fit the model\n",
    "rf.fit(X_train, y_train)"
   ]
  },
  {
   "cell_type": "code",
   "execution_count": 59,
   "id": "69057957",
   "metadata": {},
   "outputs": [],
   "source": [
    "y_pred = rf.predict(X_train)"
   ]
  },
  {
   "cell_type": "code",
   "execution_count": 60,
   "id": "1330d9fc",
   "metadata": {},
   "outputs": [],
   "source": [
    "y_pred_proba = rf.predict_proba(X_train)"
   ]
  },
  {
   "cell_type": "code",
   "execution_count": 61,
   "id": "9a2df047",
   "metadata": {
    "scrolled": true
   },
   "outputs": [
    {
     "name": "stdout",
     "output_type": "stream",
     "text": [
      "Accuracy of random forest classifier on training set: 0.67\n"
     ]
    }
   ],
   "source": [
    "print('Accuracy of random forest classifier on training set: {:.2f}'\n",
    "     .format(rf.score(X_train, y_train)))"
   ]
  },
  {
   "cell_type": "code",
   "execution_count": 62,
   "id": "8da778ab",
   "metadata": {},
   "outputs": [
    {
     "name": "stdout",
     "output_type": "stream",
     "text": [
      "              precision    recall  f1-score   support\n",
      "\n",
      "           0       1.00      0.01      0.02       250\n",
      "           1       0.67      1.00      0.80      4698\n",
      "           2       0.99      0.09      0.16      1547\n",
      "           3       0.91      0.02      0.04       464\n",
      "           4       1.00      0.01      0.03       234\n",
      "\n",
      "    accuracy                           0.67      7193\n",
      "   macro avg       0.91      0.23      0.21      7193\n",
      "weighted avg       0.78      0.67      0.56      7193\n",
      "\n"
     ]
    }
   ],
   "source": [
    "print(classification_report(y_train, y_pred))"
   ]
  },
  {
   "cell_type": "code",
   "execution_count": 63,
   "id": "79486765",
   "metadata": {},
   "outputs": [],
   "source": [
    "y_pred = rf.predict(X_validate)"
   ]
  },
  {
   "cell_type": "code",
   "execution_count": 64,
   "id": "d733283b",
   "metadata": {},
   "outputs": [],
   "source": [
    "y_pred_proba = rf.predict_proba(X_validate)"
   ]
  },
  {
   "cell_type": "code",
   "execution_count": 65,
   "id": "7d6e1687",
   "metadata": {},
   "outputs": [
    {
     "name": "stdout",
     "output_type": "stream",
     "text": [
      "              precision    recall  f1-score   support\n",
      "\n",
      "           0       0.00      0.00      0.00        77\n",
      "           1       0.66      1.00      0.80      1701\n",
      "           2       0.83      0.02      0.04       556\n",
      "           3       0.00      0.00      0.00       155\n",
      "           4       0.00      0.00      0.00        81\n",
      "\n",
      "    accuracy                           0.67      2570\n",
      "   macro avg       0.30      0.20      0.17      2570\n",
      "weighted avg       0.62      0.67      0.54      2570\n",
      "\n"
     ]
    }
   ],
   "source": [
    "print(classification_report(y_validate, y_pred))"
   ]
  },
  {
   "cell_type": "code",
   "execution_count": 66,
   "id": "d7c91274",
   "metadata": {},
   "outputs": [
    {
     "name": "stdout",
     "output_type": "stream",
     "text": [
      "[0.         0.1207261  0.17735338 0.10401699 0.15658427 0.21644088\n",
      " 0.03723673 0.01476801 0.0087198  0.01918702 0.00605355 0.13891327]\n"
     ]
    }
   ],
   "source": [
    "print(rf.feature_importances_)"
   ]
  },
  {
   "cell_type": "code",
   "execution_count": 67,
   "id": "b4455810",
   "metadata": {},
   "outputs": [
    {
     "data": {
      "text/plain": [
       "Index(['Year', 'Month', 'DayofMonth', 'DayOfWeek', 'CRSElapsedTime', 'AirTime',\n",
       "       'Distance', 'UniqueCarrier_DL', 'UniqueCarrier_OO', 'UniqueCarrier_UA',\n",
       "       'UniqueCarrier_WN', 'departure_hour'],\n",
       "      dtype='object')"
      ]
     },
     "execution_count": 67,
     "metadata": {},
     "output_type": "execute_result"
    }
   ],
   "source": [
    "X_train.columns"
   ]
  },
  {
   "cell_type": "markdown",
   "id": "73ed8fab",
   "metadata": {},
   "source": [
    "**Random forrests modeling is making predictions on all five categories with in-sample data and then only predicts on two categories in the validation dataset. Precision is higher on category 2 than category 1, which is the only category the baseline model is predicting on.**\n",
    "- Based on feature importance, I need to look into tweaking which features to model on."
   ]
  },
  {
   "cell_type": "markdown",
   "id": "b23f326b",
   "metadata": {},
   "source": [
    "### K-Nearest Neighbors"
   ]
  },
  {
   "cell_type": "code",
   "execution_count": 68,
   "id": "333752eb",
   "metadata": {
    "scrolled": true
   },
   "outputs": [
    {
     "data": {
      "image/png": "[encoded data removed]",
      "text/plain": [
       "<Figure size 1152x648 with 1 Axes>"
      ]
     },
     "metadata": {
      "needs_background": "light"
     },
     "output_type": "display_data"
    }
   ],
   "source": [
    "metrics = []\n",
    "\n",
    "# loop through different values of k\n",
    "for k in range(1, 30):\n",
    "            \n",
    "    # define the thing\n",
    "    knn = KNeighborsClassifier(n_neighbors=k)\n",
    "    \n",
    "    # fit the thing (remmeber only fit on training data)\n",
    "    knn.fit(X_train, y_train)\n",
    "    \n",
    "    # use the thing (calculate accuracy)\n",
    "    train_accuracy = knn.score(X_train, y_train)\n",
    "    validate_accuracy = knn.score(X_validate, y_validate)\n",
    "    \n",
    "    output = {\n",
    "        \"k\": k,\n",
    "        \"train_accuracy\": train_accuracy,\n",
    "        \"validate_accuracy\": validate_accuracy\n",
    "    }\n",
    "    \n",
    "    metrics.append(output)\n",
    "\n",
    "# make a dataframe\n",
    "results = pd.DataFrame(metrics)\n",
    "\n",
    "# plot the data\n",
    "results.set_index('k').plot(figsize = (16,9))\n",
    "plt.ylabel('Accuracy')\n",
    "plt.xticks(np.arange(0,30,1))\n",
    "plt.grid()"
   ]
  },
  {
   "cell_type": "markdown",
   "id": "8b903d41",
   "metadata": {},
   "source": [
    "**Validate accuracy is highest at neighbors 21, with a small increase in accuracy from in-sample to out-of-sample data.**"
   ]
  },
  {
   "cell_type": "code",
   "execution_count": 69,
   "id": "31fa80a1",
   "metadata": {},
   "outputs": [],
   "source": [
    "knn = KNeighborsClassifier(n_neighbors=21)"
   ]
  },
  {
   "cell_type": "code",
   "execution_count": 70,
   "id": "f362be43",
   "metadata": {},
   "outputs": [
    {
     "data": {
      "text/plain": [
       "KNeighborsClassifier(n_neighbors=21)"
      ]
     },
     "execution_count": 70,
     "metadata": {},
     "output_type": "execute_result"
    }
   ],
   "source": [
    "knn.fit(X_train, y_train)"
   ]
  },
  {
   "cell_type": "code",
   "execution_count": 71,
   "id": "e79b5ed7",
   "metadata": {},
   "outputs": [],
   "source": [
    "y_pred = knn.predict(X_train)"
   ]
  },
  {
   "cell_type": "code",
   "execution_count": 72,
   "id": "69090fb3",
   "metadata": {},
   "outputs": [],
   "source": [
    "y_pred_proba = knn.predict_proba(X_train)"
   ]
  },
  {
   "cell_type": "code",
   "execution_count": 73,
   "id": "7553b180",
   "metadata": {},
   "outputs": [
    {
     "name": "stdout",
     "output_type": "stream",
     "text": [
      "Accuracy of KNN classifier on training set: 0.65\n"
     ]
    }
   ],
   "source": [
    "print('Accuracy of KNN classifier on training set: {:.2f}'\n",
    "     .format(knn.score(X_train, y_train)))"
   ]
  },
  {
   "cell_type": "code",
   "execution_count": 74,
   "id": "6d447629",
   "metadata": {},
   "outputs": [
    {
     "name": "stdout",
     "output_type": "stream",
     "text": [
      "              precision    recall  f1-score   support\n",
      "\n",
      "           0       0.00      0.00      0.00       250\n",
      "           1       0.66      1.00      0.79      4698\n",
      "           2       0.43      0.02      0.04      1547\n",
      "           3       0.00      0.00      0.00       464\n",
      "           4       0.00      0.00      0.00       234\n",
      "\n",
      "    accuracy                           0.65      7193\n",
      "   macro avg       0.22      0.20      0.17      7193\n",
      "weighted avg       0.52      0.65      0.52      7193\n",
      "\n"
     ]
    }
   ],
   "source": [
    "print(classification_report(y_train, y_pred))"
   ]
  },
  {
   "cell_type": "code",
   "execution_count": 75,
   "id": "4cef3fa5",
   "metadata": {},
   "outputs": [],
   "source": [
    "y_pred = knn.predict(X_validate)"
   ]
  },
  {
   "cell_type": "code",
   "execution_count": 76,
   "id": "35550756",
   "metadata": {},
   "outputs": [],
   "source": [
    "y_pred_proba = knn.predict_proba(X_validate)"
   ]
  },
  {
   "cell_type": "code",
   "execution_count": 77,
   "id": "54fa937c",
   "metadata": {},
   "outputs": [
    {
     "name": "stdout",
     "output_type": "stream",
     "text": [
      "Accuracy of KNN classifier on validate set: 0.66\n"
     ]
    }
   ],
   "source": [
    "print('Accuracy of KNN classifier on validate set: {:.2f}'\n",
    "     .format(knn.score(X_validate, y_validate)))"
   ]
  },
  {
   "cell_type": "code",
   "execution_count": 78,
   "id": "6e66db89",
   "metadata": {},
   "outputs": [
    {
     "name": "stdout",
     "output_type": "stream",
     "text": [
      "              precision    recall  f1-score   support\n",
      "\n",
      "           0       0.00      0.00      0.00        77\n",
      "           1       0.66      0.99      0.80      1701\n",
      "           2       0.48      0.02      0.04       556\n",
      "           3       0.00      0.00      0.00       155\n",
      "           4       0.00      0.00      0.00        81\n",
      "\n",
      "    accuracy                           0.66      2570\n",
      "   macro avg       0.23      0.20      0.17      2570\n",
      "weighted avg       0.54      0.66      0.54      2570\n",
      "\n"
     ]
    }
   ],
   "source": [
    "print(classification_report(y_validate, y_pred))"
   ]
  },
  {
   "cell_type": "markdown",
   "id": "727f4241",
   "metadata": {},
   "source": [
    "**KNN modeling is making predictions on two out of the five categories with in-sample and out-of-sample data.**"
   ]
  },
  {
   "cell_type": "markdown",
   "id": "c4be5373",
   "metadata": {},
   "source": [
    "### Regression"
   ]
  },
  {
   "cell_type": "code",
   "execution_count": 79,
   "id": "be113ed4",
   "metadata": {
    "scrolled": true
   },
   "outputs": [
    {
     "data": {
      "text/html": [
       "<style type=\"text/css\">\n",
       "</style>\n",
       "<table id=\"T_d4c33_\">\n",
       "  <caption>Effect of different C values on accuracy (t=.5) and the resulting coefficients.</caption>\n",
       "  <thead>\n",
       "    <tr>\n",
       "      <th class=\"blank\" >&nbsp;</th>\n",
       "      <th class=\"blank level0\" >&nbsp;</th>\n",
       "      <th class=\"col_heading level0 col0\" >Year</th>\n",
       "      <th class=\"col_heading level0 col1\" >Month</th>\n",
       "      <th class=\"col_heading level0 col2\" >DayofMonth</th>\n",
       "      <th class=\"col_heading level0 col3\" >DayOfWeek</th>\n",
       "      <th class=\"col_heading level0 col4\" >CRSElapsedTime</th>\n",
       "      <th class=\"col_heading level0 col5\" >AirTime</th>\n",
       "      <th class=\"col_heading level0 col6\" >Distance</th>\n",
       "      <th class=\"col_heading level0 col7\" >UniqueCarrier_DL</th>\n",
       "      <th class=\"col_heading level0 col8\" >UniqueCarrier_OO</th>\n",
       "      <th class=\"col_heading level0 col9\" >UniqueCarrier_UA</th>\n",
       "      <th class=\"col_heading level0 col10\" >UniqueCarrier_WN</th>\n",
       "      <th class=\"col_heading level0 col11\" >departure_hour</th>\n",
       "    </tr>\n",
       "    <tr>\n",
       "      <th class=\"index_name level0\" >C</th>\n",
       "      <th class=\"index_name level1\" >accuracy</th>\n",
       "      <th class=\"blank col0\" >&nbsp;</th>\n",
       "      <th class=\"blank col1\" >&nbsp;</th>\n",
       "      <th class=\"blank col2\" >&nbsp;</th>\n",
       "      <th class=\"blank col3\" >&nbsp;</th>\n",
       "      <th class=\"blank col4\" >&nbsp;</th>\n",
       "      <th class=\"blank col5\" >&nbsp;</th>\n",
       "      <th class=\"blank col6\" >&nbsp;</th>\n",
       "      <th class=\"blank col7\" >&nbsp;</th>\n",
       "      <th class=\"blank col8\" >&nbsp;</th>\n",
       "      <th class=\"blank col9\" >&nbsp;</th>\n",
       "      <th class=\"blank col10\" >&nbsp;</th>\n",
       "      <th class=\"blank col11\" >&nbsp;</th>\n",
       "    </tr>\n",
       "  </thead>\n",
       "  <tbody>\n",
       "    <tr>\n",
       "      <th id=\"T_d4c33_level0_row0\" class=\"row_heading level0 row0\" >0.001</th>\n",
       "      <th id=\"T_d4c33_level1_row0\" class=\"row_heading level1 row0\" >0.662</th>\n",
       "      <td id=\"T_d4c33_row0_col0\" class=\"data row0 col0\" >0.000</td>\n",
       "      <td id=\"T_d4c33_row0_col1\" class=\"data row0 col1\" >-0.024</td>\n",
       "      <td id=\"T_d4c33_row0_col2\" class=\"data row0 col2\" >-0.019</td>\n",
       "      <td id=\"T_d4c33_row0_col3\" class=\"data row0 col3\" >-0.039</td>\n",
       "      <td id=\"T_d4c33_row0_col4\" class=\"data row0 col4\" >-0.005</td>\n",
       "      <td id=\"T_d4c33_row0_col5\" class=\"data row0 col5\" >0.000</td>\n",
       "      <td id=\"T_d4c33_row0_col6\" class=\"data row0 col6\" >0.040</td>\n",
       "      <td id=\"T_d4c33_row0_col7\" class=\"data row0 col7\" >0.023</td>\n",
       "      <td id=\"T_d4c33_row0_col8\" class=\"data row0 col8\" >0.007</td>\n",
       "      <td id=\"T_d4c33_row0_col9\" class=\"data row0 col9\" >-0.034</td>\n",
       "      <td id=\"T_d4c33_row0_col10\" class=\"data row0 col10\" >-0.006</td>\n",
       "      <td id=\"T_d4c33_row0_col11\" class=\"data row0 col11\" >-0.042</td>\n",
       "    </tr>\n",
       "    <tr>\n",
       "      <th id=\"T_d4c33_level0_row1\" class=\"row_heading level0 row1\" >0.01</th>\n",
       "      <th id=\"T_d4c33_level1_row1\" class=\"row_heading level1 row1\" >0.662</th>\n",
       "      <td id=\"T_d4c33_row1_col0\" class=\"data row1 col0\" >0.000</td>\n",
       "      <td id=\"T_d4c33_row1_col1\" class=\"data row1 col1\" >-0.068</td>\n",
       "      <td id=\"T_d4c33_row1_col2\" class=\"data row1 col2\" >-0.057</td>\n",
       "      <td id=\"T_d4c33_row1_col3\" class=\"data row1 col3\" >-0.107</td>\n",
       "      <td id=\"T_d4c33_row1_col4\" class=\"data row1 col4\" >-0.005</td>\n",
       "      <td id=\"T_d4c33_row1_col5\" class=\"data row1 col5\" >0.000</td>\n",
       "      <td id=\"T_d4c33_row1_col6\" class=\"data row1 col6\" >0.110</td>\n",
       "      <td id=\"T_d4c33_row1_col7\" class=\"data row1 col7\" >0.066</td>\n",
       "      <td id=\"T_d4c33_row1_col8\" class=\"data row1 col8\" >0.018</td>\n",
       "      <td id=\"T_d4c33_row1_col9\" class=\"data row1 col9\" >-0.096</td>\n",
       "      <td id=\"T_d4c33_row1_col10\" class=\"data row1 col10\" >-0.016</td>\n",
       "      <td id=\"T_d4c33_row1_col11\" class=\"data row1 col11\" >-0.115</td>\n",
       "    </tr>\n",
       "    <tr>\n",
       "      <th id=\"T_d4c33_level0_row2\" class=\"row_heading level0 row2\" >0.1</th>\n",
       "      <th id=\"T_d4c33_level1_row2\" class=\"row_heading level1 row2\" >0.662</th>\n",
       "      <td id=\"T_d4c33_row2_col0\" class=\"data row2 col0\" >0.000</td>\n",
       "      <td id=\"T_d4c33_row2_col1\" class=\"data row2 col1\" >-0.085</td>\n",
       "      <td id=\"T_d4c33_row2_col2\" class=\"data row2 col2\" >-0.072</td>\n",
       "      <td id=\"T_d4c33_row2_col3\" class=\"data row2 col3\" >-0.135</td>\n",
       "      <td id=\"T_d4c33_row2_col4\" class=\"data row2 col4\" >-0.003</td>\n",
       "      <td id=\"T_d4c33_row2_col5\" class=\"data row2 col5\" >-0.001</td>\n",
       "      <td id=\"T_d4c33_row2_col6\" class=\"data row2 col6\" >0.138</td>\n",
       "      <td id=\"T_d4c33_row2_col7\" class=\"data row2 col7\" >0.083</td>\n",
       "      <td id=\"T_d4c33_row2_col8\" class=\"data row2 col8\" >0.023</td>\n",
       "      <td id=\"T_d4c33_row2_col9\" class=\"data row2 col9\" >-0.120</td>\n",
       "      <td id=\"T_d4c33_row2_col10\" class=\"data row2 col10\" >-0.021</td>\n",
       "      <td id=\"T_d4c33_row2_col11\" class=\"data row2 col11\" >-0.144</td>\n",
       "    </tr>\n",
       "    <tr>\n",
       "      <th id=\"T_d4c33_level0_row3\" class=\"row_heading level0 row3\" >1.0</th>\n",
       "      <th id=\"T_d4c33_level1_row3\" class=\"row_heading level1 row3\" >0.662</th>\n",
       "      <td id=\"T_d4c33_row3_col0\" class=\"data row3 col0\" >0.000</td>\n",
       "      <td id=\"T_d4c33_row3_col1\" class=\"data row3 col1\" >-0.084</td>\n",
       "      <td id=\"T_d4c33_row3_col2\" class=\"data row3 col2\" >-0.071</td>\n",
       "      <td id=\"T_d4c33_row3_col3\" class=\"data row3 col3\" >-0.132</td>\n",
       "      <td id=\"T_d4c33_row3_col4\" class=\"data row3 col4\" >-0.003</td>\n",
       "      <td id=\"T_d4c33_row3_col5\" class=\"data row3 col5\" >-0.001</td>\n",
       "      <td id=\"T_d4c33_row3_col6\" class=\"data row3 col6\" >0.136</td>\n",
       "      <td id=\"T_d4c33_row3_col7\" class=\"data row3 col7\" >0.082</td>\n",
       "      <td id=\"T_d4c33_row3_col8\" class=\"data row3 col8\" >0.023</td>\n",
       "      <td id=\"T_d4c33_row3_col9\" class=\"data row3 col9\" >-0.119</td>\n",
       "      <td id=\"T_d4c33_row3_col10\" class=\"data row3 col10\" >-0.020</td>\n",
       "      <td id=\"T_d4c33_row3_col11\" class=\"data row3 col11\" >-0.142</td>\n",
       "    </tr>\n",
       "    <tr>\n",
       "      <th id=\"T_d4c33_level0_row4\" class=\"row_heading level0 row4\" >10.0</th>\n",
       "      <th id=\"T_d4c33_level1_row4\" class=\"row_heading level1 row4\" >0.662</th>\n",
       "      <td id=\"T_d4c33_row4_col0\" class=\"data row4 col0\" >0.000</td>\n",
       "      <td id=\"T_d4c33_row4_col1\" class=\"data row4 col1\" >-0.084</td>\n",
       "      <td id=\"T_d4c33_row4_col2\" class=\"data row4 col2\" >-0.071</td>\n",
       "      <td id=\"T_d4c33_row4_col3\" class=\"data row4 col3\" >-0.133</td>\n",
       "      <td id=\"T_d4c33_row4_col4\" class=\"data row4 col4\" >-0.003</td>\n",
       "      <td id=\"T_d4c33_row4_col5\" class=\"data row4 col5\" >-0.001</td>\n",
       "      <td id=\"T_d4c33_row4_col6\" class=\"data row4 col6\" >0.136</td>\n",
       "      <td id=\"T_d4c33_row4_col7\" class=\"data row4 col7\" >0.082</td>\n",
       "      <td id=\"T_d4c33_row4_col8\" class=\"data row4 col8\" >0.023</td>\n",
       "      <td id=\"T_d4c33_row4_col9\" class=\"data row4 col9\" >-0.119</td>\n",
       "      <td id=\"T_d4c33_row4_col10\" class=\"data row4 col10\" >-0.020</td>\n",
       "      <td id=\"T_d4c33_row4_col11\" class=\"data row4 col11\" >-0.142</td>\n",
       "    </tr>\n",
       "    <tr>\n",
       "      <th id=\"T_d4c33_level0_row5\" class=\"row_heading level0 row5\" >100.0</th>\n",
       "      <th id=\"T_d4c33_level1_row5\" class=\"row_heading level1 row5\" >0.662</th>\n",
       "      <td id=\"T_d4c33_row5_col0\" class=\"data row5 col0\" >0.000</td>\n",
       "      <td id=\"T_d4c33_row5_col1\" class=\"data row5 col1\" >-0.085</td>\n",
       "      <td id=\"T_d4c33_row5_col2\" class=\"data row5 col2\" >-0.072</td>\n",
       "      <td id=\"T_d4c33_row5_col3\" class=\"data row5 col3\" >-0.135</td>\n",
       "      <td id=\"T_d4c33_row5_col4\" class=\"data row5 col4\" >-0.003</td>\n",
       "      <td id=\"T_d4c33_row5_col5\" class=\"data row5 col5\" >-0.001</td>\n",
       "      <td id=\"T_d4c33_row5_col6\" class=\"data row5 col6\" >0.138</td>\n",
       "      <td id=\"T_d4c33_row5_col7\" class=\"data row5 col7\" >0.083</td>\n",
       "      <td id=\"T_d4c33_row5_col8\" class=\"data row5 col8\" >0.023</td>\n",
       "      <td id=\"T_d4c33_row5_col9\" class=\"data row5 col9\" >-0.121</td>\n",
       "      <td id=\"T_d4c33_row5_col10\" class=\"data row5 col10\" >-0.021</td>\n",
       "      <td id=\"T_d4c33_row5_col11\" class=\"data row5 col11\" >-0.145</td>\n",
       "    </tr>\n",
       "    <tr>\n",
       "      <th id=\"T_d4c33_level0_row6\" class=\"row_heading level0 row6\" >1000.0</th>\n",
       "      <th id=\"T_d4c33_level1_row6\" class=\"row_heading level1 row6\" >0.662</th>\n",
       "      <td id=\"T_d4c33_row6_col0\" class=\"data row6 col0\" >0.000</td>\n",
       "      <td id=\"T_d4c33_row6_col1\" class=\"data row6 col1\" >-0.086</td>\n",
       "      <td id=\"T_d4c33_row6_col2\" class=\"data row6 col2\" >-0.073</td>\n",
       "      <td id=\"T_d4c33_row6_col3\" class=\"data row6 col3\" >-0.137</td>\n",
       "      <td id=\"T_d4c33_row6_col4\" class=\"data row6 col4\" >-0.003</td>\n",
       "      <td id=\"T_d4c33_row6_col5\" class=\"data row6 col5\" >-0.001</td>\n",
       "      <td id=\"T_d4c33_row6_col6\" class=\"data row6 col6\" >0.140</td>\n",
       "      <td id=\"T_d4c33_row6_col7\" class=\"data row6 col7\" >0.084</td>\n",
       "      <td id=\"T_d4c33_row6_col8\" class=\"data row6 col8\" >0.023</td>\n",
       "      <td id=\"T_d4c33_row6_col9\" class=\"data row6 col9\" >-0.122</td>\n",
       "      <td id=\"T_d4c33_row6_col10\" class=\"data row6 col10\" >-0.021</td>\n",
       "      <td id=\"T_d4c33_row6_col11\" class=\"data row6 col11\" >-0.146</td>\n",
       "    </tr>\n",
       "  </tbody>\n",
       "</table>\n"
      ],
      "text/plain": [
       "<pandas.io.formats.style.Styler at 0x7fa580307610>"
      ]
     },
     "execution_count": 79,
     "metadata": {},
     "output_type": "execute_result"
    }
   ],
   "source": [
    "def evaluate_model(c):\n",
    "    model = sklearn.linear_model.LogisticRegression(C=c)\n",
    "    model.fit(X_train, y_train)\n",
    "    accuracy = model.score(X_validate, y_validate)\n",
    "    coefs = dict(zip(X_train.columns, model.coef_[0]))\n",
    "    return {'C': c, 'accuracy': accuracy, **coefs}\n",
    "\n",
    "models = [evaluate_model(c) for c in [.001, .01, .1, 1, 10, 100, 1000]]\n",
    "\n",
    "\n",
    "(pd.DataFrame(models).round(3)\n",
    " .set_index(['C', 'accuracy'])\n",
    " .style\n",
    " .set_caption('Effect of different C values on accuracy (t=.5) and the resulting coefficients.')\n",
    " .set_precision(3)\n",
    ")"
   ]
  },
  {
   "cell_type": "markdown",
   "id": "982c6c43",
   "metadata": {},
   "source": [
    "**The accuracy does not change based on the C value, however, more weight is given to features when c=100. I need to look into possibily chnaging the features to predict on.**"
   ]
  },
  {
   "cell_type": "code",
   "execution_count": 80,
   "id": "627ece62",
   "metadata": {},
   "outputs": [],
   "source": [
    "logit = LogisticRegression(C=100)"
   ]
  },
  {
   "cell_type": "code",
   "execution_count": 81,
   "id": "ea47374a",
   "metadata": {},
   "outputs": [
    {
     "data": {
      "text/plain": [
       "LogisticRegression(C=100)"
      ]
     },
     "execution_count": 81,
     "metadata": {},
     "output_type": "execute_result"
    }
   ],
   "source": [
    "logit.fit(X_train, y_train)"
   ]
  },
  {
   "cell_type": "code",
   "execution_count": 82,
   "id": "041f4f18",
   "metadata": {},
   "outputs": [],
   "source": [
    "y_pred = logit.predict(X_train)"
   ]
  },
  {
   "cell_type": "code",
   "execution_count": 83,
   "id": "fb9a6a17",
   "metadata": {},
   "outputs": [],
   "source": [
    "y_pred_proba = logit.predict_proba(X_train)"
   ]
  },
  {
   "cell_type": "code",
   "execution_count": 84,
   "id": "b2c93d21",
   "metadata": {},
   "outputs": [
    {
     "name": "stdout",
     "output_type": "stream",
     "text": [
      "Accuracy of Logistic Regression classifier on training set: 0.65\n"
     ]
    }
   ],
   "source": [
    "print('Accuracy of Logistic Regression classifier on training set: {:.2f}'\n",
    "     .format(logit.score(X_train, y_train)))"
   ]
  },
  {
   "cell_type": "code",
   "execution_count": 85,
   "id": "72c7b880",
   "metadata": {},
   "outputs": [
    {
     "name": "stdout",
     "output_type": "stream",
     "text": [
      "              precision    recall  f1-score   support\n",
      "\n",
      "           0       0.00      0.00      0.00       250\n",
      "           1       0.65      1.00      0.79      4698\n",
      "           2       0.00      0.00      0.00      1547\n",
      "           3       0.00      0.00      0.00       464\n",
      "           4       0.00      0.00      0.00       234\n",
      "\n",
      "    accuracy                           0.65      7193\n",
      "   macro avg       0.13      0.20      0.16      7193\n",
      "weighted avg       0.43      0.65      0.52      7193\n",
      "\n"
     ]
    }
   ],
   "source": [
    "print(classification_report(y_train, y_pred))"
   ]
  },
  {
   "cell_type": "code",
   "execution_count": 86,
   "id": "bb06626b",
   "metadata": {},
   "outputs": [],
   "source": [
    "y_pred = logit.predict(X_validate)"
   ]
  },
  {
   "cell_type": "code",
   "execution_count": 87,
   "id": "2379d1a8",
   "metadata": {},
   "outputs": [],
   "source": [
    "y_pred_proba = logit.predict_proba(X_validate)"
   ]
  },
  {
   "cell_type": "code",
   "execution_count": 88,
   "id": "4d5ca0c4",
   "metadata": {},
   "outputs": [
    {
     "name": "stdout",
     "output_type": "stream",
     "text": [
      "              precision    recall  f1-score   support\n",
      "\n",
      "           0       0.00      0.00      0.00        77\n",
      "           1       0.66      1.00      0.80      1701\n",
      "           2       0.00      0.00      0.00       556\n",
      "           3       0.00      0.00      0.00       155\n",
      "           4       0.00      0.00      0.00        81\n",
      "\n",
      "    accuracy                           0.66      2570\n",
      "   macro avg       0.13      0.20      0.16      2570\n",
      "weighted avg       0.44      0.66      0.53      2570\n",
      "\n"
     ]
    }
   ],
   "source": [
    "print(classification_report(y_validate, y_pred))"
   ]
  },
  {
   "cell_type": "markdown",
   "id": "891263e2",
   "metadata": {},
   "source": [
    "**Regression modeling is making predictions on only one category with in and out-of-sample data. This doesn't seem more benefical than the baseline model.**"
   ]
  },
  {
   "cell_type": "markdown",
   "id": "bad71754",
   "metadata": {},
   "source": [
    "### Gradient Boosting"
   ]
  },
  {
   "cell_type": "code",
   "execution_count": 89,
   "id": "fa94ea07",
   "metadata": {},
   "outputs": [
    {
     "data": {
      "text/plain": [
       "GradientBoostingClassifier()"
      ]
     },
     "execution_count": 89,
     "metadata": {},
     "output_type": "execute_result"
    }
   ],
   "source": [
    "gbc=GradientBoostingClassifier()\n",
    "gbc.fit(X_train, y_train)"
   ]
  },
  {
   "cell_type": "code",
   "execution_count": 90,
   "id": "784908fb",
   "metadata": {},
   "outputs": [],
   "source": [
    "y_pred = gbc.predict(X_train)"
   ]
  },
  {
   "cell_type": "code",
   "execution_count": 91,
   "id": "1a384804",
   "metadata": {},
   "outputs": [
    {
     "name": "stdout",
     "output_type": "stream",
     "text": [
      "Accuracy of Gradient Boosting classifier on training set: 0.67\n"
     ]
    }
   ],
   "source": [
    "print('Accuracy of Gradient Boosting classifier on training set: {:.2f}'\n",
    "     .format(gbc.score(X_train, y_train)))"
   ]
  },
  {
   "cell_type": "code",
   "execution_count": 92,
   "id": "7c87010f",
   "metadata": {},
   "outputs": [
    {
     "name": "stdout",
     "output_type": "stream",
     "text": [
      "              precision    recall  f1-score   support\n",
      "\n",
      "           0       1.00      0.05      0.10       250\n",
      "           1       0.67      1.00      0.80      4698\n",
      "           2       0.78      0.05      0.10      1547\n",
      "           3       1.00      0.03      0.05       464\n",
      "           4       1.00      0.04      0.07       234\n",
      "\n",
      "    accuracy                           0.67      7193\n",
      "   macro avg       0.89      0.23      0.23      7193\n",
      "weighted avg       0.73      0.67      0.55      7193\n",
      "\n"
     ]
    }
   ],
   "source": [
    "print(classification_report(y_train, y_pred))"
   ]
  },
  {
   "cell_type": "code",
   "execution_count": 93,
   "id": "50399d29",
   "metadata": {},
   "outputs": [],
   "source": [
    "y_pred = gbc.predict(X_validate)"
   ]
  },
  {
   "cell_type": "code",
   "execution_count": 94,
   "id": "d3fbf92f",
   "metadata": {},
   "outputs": [
    {
     "name": "stdout",
     "output_type": "stream",
     "text": [
      "Accuracy of Gradient Boosting classifier on validation set: 0.66\n"
     ]
    }
   ],
   "source": [
    "print('Accuracy of Gradient Boosting classifier on validation set: {:.2f}'\n",
    "     .format(gbc.score(X_validate, y_validate)))"
   ]
  },
  {
   "cell_type": "code",
   "execution_count": 95,
   "id": "b51061c0",
   "metadata": {},
   "outputs": [
    {
     "name": "stdout",
     "output_type": "stream",
     "text": [
      "              precision    recall  f1-score   support\n",
      "\n",
      "           0       0.00      0.00      0.00        77\n",
      "           1       0.66      0.98      0.79      1701\n",
      "           2       0.37      0.03      0.05       556\n",
      "           3       0.00      0.00      0.00       155\n",
      "           4       0.00      0.00      0.00        81\n",
      "\n",
      "    accuracy                           0.66      2570\n",
      "   macro avg       0.21      0.20      0.17      2570\n",
      "weighted avg       0.52      0.66      0.54      2570\n",
      "\n"
     ]
    }
   ],
   "source": [
    "print(classification_report(y_validate, y_pred))"
   ]
  },
  {
   "cell_type": "markdown",
   "id": "75a2ec7d",
   "metadata": {},
   "source": [
    "**Gradient Bossting modeling is making predictions on all five categories with in-sample but only on two categories with out-of-sample data.**"
   ]
  },
  {
   "cell_type": "markdown",
   "id": "c8e3d87c",
   "metadata": {},
   "source": [
    "### Feature Selection\n",
    "- Based off of feature importance in Random Forrests, I am going to model on Month, DayOfWeek, DayofMonth, CRSElapsedTime, AirTime, departure_hour.\n",
    "- Additional modeling to occur on Decison Trees, Random Forrests, and Gradient Boosting."
   ]
  },
  {
   "cell_type": "code",
   "execution_count": 142,
   "id": "00eed201",
   "metadata": {},
   "outputs": [],
   "source": [
    "X_train = train_scaled[['Month', 'DayOfWeek','DayofMonth', 'CRSElapsedTime', 'AirTime', 'departure_hour']]\n",
    "y_train = train_scaled.Delayed_Status\n",
    "\n",
    "X_validate = validate_scaled[['Month', 'DayOfWeek','DayofMonth', 'CRSElapsedTime', 'AirTime', 'departure_hour']]\n",
    "y_validate = validate_scaled.Delayed_Status\n",
    "\n",
    "X_test = test_scaled[['Month', 'DayOfWeek','DayofMonth', 'CRSElapsedTime', 'AirTime', 'departure_hour']]\n",
    "y_test = test_scaled.Delayed_Status"
   ]
  },
  {
   "cell_type": "markdown",
   "id": "b45d4efe",
   "metadata": {},
   "source": [
    "### Decision Tree"
   ]
  },
  {
   "cell_type": "code",
   "execution_count": 143,
   "id": "1b172080",
   "metadata": {},
   "outputs": [],
   "source": [
    "# create the model\n",
    "clf = DecisionTreeClassifier(max_depth=5, random_state=123)"
   ]
  },
  {
   "cell_type": "code",
   "execution_count": 144,
   "id": "37114941",
   "metadata": {},
   "outputs": [],
   "source": [
    "# fit the model\n",
    "clf = clf.fit(X_train, y_train)"
   ]
  },
  {
   "cell_type": "code",
   "execution_count": 145,
   "id": "dc81a637",
   "metadata": {},
   "outputs": [],
   "source": [
    "# make prediction on train obeservations\n",
    "y_pred = clf.predict(X_train)"
   ]
  },
  {
   "cell_type": "code",
   "execution_count": 146,
   "id": "671533c8",
   "metadata": {},
   "outputs": [
    {
     "name": "stdout",
     "output_type": "stream",
     "text": [
      "              precision    recall  f1-score   support\n",
      "\n",
      "           0       0.50      0.01      0.02       250\n",
      "           1       0.66      1.00      0.79      4698\n",
      "           2       0.85      0.01      0.01      1547\n",
      "           3       1.00      0.00      0.01       464\n",
      "           4       1.00      0.00      0.01       234\n",
      "\n",
      "    accuracy                           0.66      7193\n",
      "   macro avg       0.80      0.21      0.17      7193\n",
      "weighted avg       0.72      0.66      0.52      7193\n",
      "\n"
     ]
    }
   ],
   "source": [
    "print(classification_report(y_train, y_pred))"
   ]
  },
  {
   "cell_type": "code",
   "execution_count": 147,
   "id": "f4d9fe15",
   "metadata": {},
   "outputs": [],
   "source": [
    "# make prediction on validate obeservations\n",
    "y_pred = clf.predict(X_validate)"
   ]
  },
  {
   "cell_type": "code",
   "execution_count": 148,
   "id": "fe2fb48e",
   "metadata": {},
   "outputs": [
    {
     "name": "stdout",
     "output_type": "stream",
     "text": [
      "              precision    recall  f1-score   support\n",
      "\n",
      "           0       0.00      0.00      0.00        77\n",
      "           1       0.66      1.00      0.80      1701\n",
      "           2       0.40      0.00      0.01       556\n",
      "           3       0.00      0.00      0.00       155\n",
      "           4       0.00      0.00      0.00        81\n",
      "\n",
      "    accuracy                           0.66      2570\n",
      "   macro avg       0.21      0.20      0.16      2570\n",
      "weighted avg       0.53      0.66      0.53      2570\n",
      "\n"
     ]
    }
   ],
   "source": [
    "print(classification_report(y_validate, y_pred))"
   ]
  },
  {
   "cell_type": "markdown",
   "id": "f231c2fe",
   "metadata": {},
   "source": [
    "### Random Forrests"
   ]
  },
  {
   "cell_type": "code",
   "execution_count": 149,
   "id": "1e2fa697",
   "metadata": {},
   "outputs": [],
   "source": [
    "rf = RandomForestClassifier(max_depth=7, \n",
    "                            random_state=123)"
   ]
  },
  {
   "cell_type": "code",
   "execution_count": 150,
   "id": "0374ad1d",
   "metadata": {},
   "outputs": [],
   "source": [
    "# fit the model\n",
    "rf= rf.fit(X_train, y_train)"
   ]
  },
  {
   "cell_type": "code",
   "execution_count": 151,
   "id": "bd16a677",
   "metadata": {},
   "outputs": [],
   "source": [
    "# make prediction on train obeservations\n",
    "y_pred = rf.predict(X_train)"
   ]
  },
  {
   "cell_type": "code",
   "execution_count": 152,
   "id": "06c325ee",
   "metadata": {},
   "outputs": [
    {
     "name": "stdout",
     "output_type": "stream",
     "text": [
      "              precision    recall  f1-score   support\n",
      "\n",
      "           0       0.00      0.00      0.00       250\n",
      "           1       0.65      1.00      0.79      4698\n",
      "           2       1.00      0.01      0.01      1547\n",
      "           3       1.00      0.00      0.00       464\n",
      "           4       1.00      0.00      0.01       234\n",
      "\n",
      "    accuracy                           0.65      7193\n",
      "   macro avg       0.73      0.20      0.16      7193\n",
      "weighted avg       0.74      0.65      0.52      7193\n",
      "\n"
     ]
    }
   ],
   "source": [
    "print(classification_report(y_train, y_pred))"
   ]
  },
  {
   "cell_type": "code",
   "execution_count": 153,
   "id": "84bf3274",
   "metadata": {},
   "outputs": [],
   "source": [
    "# make prediction on validate obeservations\n",
    "y_pred = rf.predict(X_validate)"
   ]
  },
  {
   "cell_type": "code",
   "execution_count": 154,
   "id": "6f25486e",
   "metadata": {},
   "outputs": [
    {
     "name": "stdout",
     "output_type": "stream",
     "text": [
      "              precision    recall  f1-score   support\n",
      "\n",
      "           0       0.00      0.00      0.00        77\n",
      "           1       0.66      1.00      0.80      1701\n",
      "           2       1.00      0.00      0.00       556\n",
      "           3       0.00      0.00      0.00       155\n",
      "           4       0.00      0.00      0.00        81\n",
      "\n",
      "    accuracy                           0.66      2570\n",
      "   macro avg       0.33      0.20      0.16      2570\n",
      "weighted avg       0.65      0.66      0.53      2570\n",
      "\n"
     ]
    }
   ],
   "source": [
    "print(classification_report(y_validate, y_pred))"
   ]
  },
  {
   "cell_type": "markdown",
   "id": "658b10f9",
   "metadata": {},
   "source": [
    "### Gradient Boosting"
   ]
  },
  {
   "cell_type": "code",
   "execution_count": 155,
   "id": "8a58f8a6",
   "metadata": {},
   "outputs": [
    {
     "data": {
      "text/plain": [
       "GradientBoostingClassifier(random_state=123)"
      ]
     },
     "execution_count": 155,
     "metadata": {},
     "output_type": "execute_result"
    }
   ],
   "source": [
    "gbc=GradientBoostingClassifier(random_state=123)\n",
    "gbc.fit(X_train, y_train)"
   ]
  },
  {
   "cell_type": "code",
   "execution_count": 156,
   "id": "4aaa84d4",
   "metadata": {},
   "outputs": [],
   "source": [
    "y_pred = gbc.predict(X_train)"
   ]
  },
  {
   "cell_type": "code",
   "execution_count": 157,
   "id": "1f5835b6",
   "metadata": {},
   "outputs": [
    {
     "name": "stdout",
     "output_type": "stream",
     "text": [
      "              precision    recall  f1-score   support\n",
      "\n",
      "           0       1.00      0.04      0.08       250\n",
      "           1       0.66      1.00      0.80      4698\n",
      "           2       0.82      0.05      0.09      1547\n",
      "           3       1.00      0.04      0.07       464\n",
      "           4       1.00      0.04      0.07       234\n",
      "\n",
      "    accuracy                           0.67      7193\n",
      "   macro avg       0.90      0.23      0.22      7193\n",
      "weighted avg       0.74      0.67      0.55      7193\n",
      "\n"
     ]
    }
   ],
   "source": [
    "print(classification_report(y_train, y_pred))"
   ]
  },
  {
   "cell_type": "code",
   "execution_count": 158,
   "id": "c11189b7",
   "metadata": {},
   "outputs": [],
   "source": [
    "y_pred = gbc.predict(X_validate)"
   ]
  },
  {
   "cell_type": "code",
   "execution_count": 159,
   "id": "d61b1c83",
   "metadata": {},
   "outputs": [
    {
     "name": "stdout",
     "output_type": "stream",
     "text": [
      "              precision    recall  f1-score   support\n",
      "\n",
      "           0       0.00      0.00      0.00        77\n",
      "           1       0.66      0.99      0.79      1701\n",
      "           2       0.35      0.02      0.03       556\n",
      "           3       0.11      0.01      0.01       155\n",
      "           4       0.00      0.00      0.00        81\n",
      "\n",
      "    accuracy                           0.66      2570\n",
      "   macro avg       0.22      0.20      0.17      2570\n",
      "weighted avg       0.52      0.66      0.53      2570\n",
      "\n"
     ]
    }
   ],
   "source": [
    "print(classification_report(y_validate, y_pred))"
   ]
  },
  {
   "cell_type": "markdown",
   "id": "96e63da2",
   "metadata": {},
   "source": [
    "**While the accuracy of each model does not improve, based on feature selection, there is improvement in precision per category for random forrests and gradient boosting. Also, gradient boosting makes predictions on the most categories without losing overall acurracy in training and validation. Moving forward with gradient boosting for model testing.**"
   ]
  },
  {
   "cell_type": "markdown",
   "id": "4f0d1d1a",
   "metadata": {},
   "source": [
    "### Testing on best model"
   ]
  },
  {
   "cell_type": "code",
   "execution_count": 160,
   "id": "b0d494e2",
   "metadata": {},
   "outputs": [
    {
     "name": "stdout",
     "output_type": "stream",
     "text": [
      "              precision    recall  f1-score   support\n",
      "\n",
      "           0       0.00      0.00      0.00        88\n",
      "           1       0.65      0.99      0.79      2006\n",
      "           2       0.38      0.01      0.03       669\n",
      "           3       0.50      0.01      0.03       219\n",
      "           4       0.50      0.01      0.02       101\n",
      "\n",
      "    accuracy                           0.65      3083\n",
      "   macro avg       0.41      0.21      0.17      3083\n",
      "weighted avg       0.56      0.65      0.52      3083\n",
      "\n"
     ]
    }
   ],
   "source": [
    "# make predictions on test data\n",
    "y_pred = gbc.predict(X_test)\n",
    "\n",
    "# print classification report on test data\n",
    "print(classification_report(y_test, y_pred))"
   ]
  },
  {
   "cell_type": "markdown",
   "id": "d5852365",
   "metadata": {},
   "source": [
    "**Overall model accuracy does not beat baseline, but there is additional value on predictions on additional categories of flight delay status. Also, precision increased from validate to test in categories 2, 3, and 4.**"
   ]
  },
  {
   "cell_type": "markdown",
   "id": "96ad053a",
   "metadata": {},
   "source": [
    "### Conclusion\n",
    "\n",
    "- Via the exploration process, it was found that airline, the day of the week, the month, day of the month, and the scheduled departure time have a relationship with delayed status.\n",
    "- During random forest modeling, feature importance was utilized to update the features modeled on.\n",
    "    - Key features found: Month, DayOfWeek, DayofMonth, CRSElapsedTime, AirTime, departure_hour\n",
    "- Overall accuracy did not outperform baseline, but increased precision occurred within categories.\n",
    "- For 2008 flight data, a consumer can expect to be delayed 65% of the time up to 59 minutes past their scheduled arrival time. \n",
    "    - This information can allow for additional planning in terms of being on time for important life events, making connecting flights, or ensuring flights home are scheduled with an alloted hour of additional time to return to work on time.\n",
    "    \n",
    "- Things to do differently:\n",
    "    - I significantly reduced the dataset to limit flights that were flown by specific airlines and only departed or arrived at 5 different airports. In retrospect, I would maintain the majority of the data and look into clustering by specific departure times or airports and then attempt to model on the discovered clusters.\n",
    "    \n",
    "- With additional time:\n",
    "    - Explore hyperparameters for modeling to potentially increase model performance.\n",
    "    "
   ]
  },
  {
   "cell_type": "markdown",
   "id": "6082e51c",
   "metadata": {},
   "source": [
    "### Prediction CSV"
   ]
  },
  {
   "cell_type": "code",
   "execution_count": 138,
   "id": "8c5555fe",
   "metadata": {},
   "outputs": [],
   "source": [
    "# create prediction dataframe\n",
    "predictions = pd.DataFrame(np.round(gbc.predict_proba(X_test),2))\n",
    "predictions['prediction'] = gbc.predict(X_test)"
   ]
  },
  {
   "cell_type": "code",
   "execution_count": 139,
   "id": "d232add7",
   "metadata": {},
   "outputs": [],
   "source": [
    "predictions = predictions[:2570]"
   ]
  },
  {
   "cell_type": "code",
   "execution_count": 140,
   "id": "7ad9e143",
   "metadata": {},
   "outputs": [],
   "source": [
    "# set test index to prediction dataframe\n",
    "prediction = predictions.set_index(test.index)"
   ]
  },
  {
   "cell_type": "code",
   "execution_count": 141,
   "id": "41939a7f",
   "metadata": {},
   "outputs": [],
   "source": [
    "# save predictions df to csv file\n",
    "prediction.to_csv(\"predictions.csv\")"
   ]
  }
 ],
 "metadata": {
  "kernelspec": {
   "display_name": "Python 3 (ipykernel)",
   "language": "python",
   "name": "python3"
  },
  "language_info": {
   "codemirror_mode": {
    "name": "ipython",
    "version": 3
   },
   "file_extension": ".py",
   "mimetype": "text/x-python",
   "name": "python",
   "nbconvert_exporter": "python",
   "pygments_lexer": "ipython3",
   "version": "3.9.7"
  }
 },
 "nbformat": 4,
 "nbformat_minor": 5
}
